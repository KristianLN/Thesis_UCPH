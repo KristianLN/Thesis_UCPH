{
 "cells": [
  {
   "cell_type": "code",
   "execution_count": null,
   "metadata": {},
   "outputs": [],
   "source": []
  },
  {
   "cell_type": "code",
   "execution_count": null,
   "metadata": {},
   "outputs": [],
   "source": []
  },
  {
   "cell_type": "code",
   "execution_count": null,
   "metadata": {},
   "outputs": [],
   "source": [
    "def strList(ls):\n",
    "    return list(map(lambda x: x.decode('utf-8'),ls))"
   ]
  },
  {
   "cell_type": "code",
   "execution_count": null,
   "metadata": {},
   "outputs": [],
   "source": [
    "raw_file = h5py.File('../../../Desktop/'+'taqquote_20200501.h5','r')\n",
    "\n",
    "print([i for i in raw_file['QuoteIndex'] if 'AAPL' in str(i)[-100:]])\n",
    "\n",
    "temp = pd.DataFrame(raw_file['Quotes'])[2627943:2627943+3096434]#)#[698336075:698336075+44570]\n",
    "\n",
    "temp[['utcsec','ex','bid','bidsize','ofr','ofrsize']]\n",
    "temp['timestamp'] = pd.to_timedelta(temp.loc[:,'utcsec'])\n",
    "temp['dtts'] = pd.Timestamp('2020-05-01')+temp.timestamp\n",
    "temp.loc[:,'ex'] = strList(temp.ex)\n",
    "\n",
    "\n",
    "temp['dtts'] = pd.Timestamp('2020-05-01')+temp.timestamp"
   ]
  }
 ],
 "metadata": {
  "kernelspec": {
   "display_name": "Python 3",
   "language": "python",
   "name": "python3"
  },
  "language_info": {
   "codemirror_mode": {
    "name": "ipython",
    "version": 3
   },
   "file_extension": ".py",
   "mimetype": "text/x-python",
   "name": "python",
   "nbconvert_exporter": "python",
   "pygments_lexer": "ipython3",
   "version": "3.7.6"
  }
 },
 "nbformat": 4,
 "nbformat_minor": 4
}
