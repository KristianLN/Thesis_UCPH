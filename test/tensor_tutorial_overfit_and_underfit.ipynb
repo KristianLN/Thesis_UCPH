{
 "cells": [
  {
   "cell_type": "markdown",
   "metadata": {
    "colab_type": "text",
    "id": "fTFj8ft5dlbS"
   },
   "source": [
    "##### Copyright 2018 The TensorFlow Authors."
   ]
  },
  {
   "cell_type": "code",
   "execution_count": 1,
   "metadata": {
    "cellView": "form",
    "colab": {},
    "colab_type": "code",
    "id": "lzyBOpYMdp3F"
   },
   "outputs": [],
   "source": [
    "#@title Licensed under the Apache License, Version 2.0 (the \"License\");\n",
    "# you may not use this file except in compliance with the License.\n",
    "# You may obtain a copy of the License at\n",
    "#\n",
    "# https://www.apache.org/licenses/LICENSE-2.0\n",
    "#\n",
    "# Unless required by applicable law or agreed to in writing, software\n",
    "# distributed under the License is distributed on an \"AS IS\" BASIS,\n",
    "# WITHOUT WARRANTIES OR CONDITIONS OF ANY KIND, either express or implied.\n",
    "# See the License for the specific language governing permissions and\n",
    "# limitations under the License."
   ]
  },
  {
   "cell_type": "code",
   "execution_count": 2,
   "metadata": {
    "cellView": "form",
    "colab": {},
    "colab_type": "code",
    "id": "m_x4KfSJ7Vt7"
   },
   "outputs": [],
   "source": [
    "#@title MIT License\n",
    "#\n",
    "# Copyright (c) 2017 François Chollet\n",
    "#\n",
    "# Permission is hereby granted, free of charge, to any person obtaining a\n",
    "# copy of this software and associated documentation files (the \"Software\"),\n",
    "# to deal in the Software without restriction, including without limitation\n",
    "# the rights to use, copy, modify, merge, publish, distribute, sublicense,\n",
    "# and/or sell copies of the Software, and to permit persons to whom the\n",
    "# Software is furnished to do so, subject to the following conditions:\n",
    "#\n",
    "# The above copyright notice and this permission notice shall be included in\n",
    "# all copies or substantial portions of the Software.\n",
    "#\n",
    "# THE SOFTWARE IS PROVIDED \"AS IS\", WITHOUT WARRANTY OF ANY KIND, EXPRESS OR\n",
    "# IMPLIED, INCLUDING BUT NOT LIMITED TO THE WARRANTIES OF MERCHANTABILITY,\n",
    "# FITNESS FOR A PARTICULAR PURPOSE AND NONINFRINGEMENT. IN NO EVENT SHALL\n",
    "# THE AUTHORS OR COPYRIGHT HOLDERS BE LIABLE FOR ANY CLAIM, DAMAGES OR OTHER\n",
    "# LIABILITY, WHETHER IN AN ACTION OF CONTRACT, TORT OR OTHERWISE, ARISING\n",
    "# FROM, OUT OF OR IN CONNECTION WITH THE SOFTWARE OR THE USE OR OTHER\n",
    "# DEALINGS IN THE SOFTWARE."
   ]
  },
  {
   "cell_type": "markdown",
   "metadata": {
    "colab_type": "text",
    "id": "C9HmC2T4ld5B"
   },
   "source": [
    "# Overfit and underfit"
   ]
  },
  {
   "cell_type": "markdown",
   "metadata": {
    "colab_type": "text",
    "id": "kRTxFhXAlnl1"
   },
   "source": [
    "<table class=\"tfo-notebook-buttons\" align=\"left\">\n",
    "  <td>\n",
    "    <a target=\"_blank\" href=\"https://www.tensorflow.org/tutorials/keras/overfit_and_underfit\"><img src=\"https://www.tensorflow.org/images/tf_logo_32px.png\" />View on TensorFlow.org</a>\n",
    "  </td>\n",
    "  <td>\n",
    "    <a target=\"_blank\" href=\"https://colab.research.google.com/github/tensorflow/docs/blob/master/site/en/tutorials/keras/overfit_and_underfit.ipynb\"><img src=\"https://www.tensorflow.org/images/colab_logo_32px.png\" />Run in Google Colab</a>\n",
    "  </td>\n",
    "  <td>\n",
    "    <a target=\"_blank\" href=\"https://github.com/tensorflow/docs/blob/master/site/en/tutorials/keras/overfit_and_underfit.ipynb\"><img src=\"https://www.tensorflow.org/images/GitHub-Mark-32px.png\" />View source on GitHub</a>\n",
    "  </td>\n",
    "  <td>\n",
    "    <a href=\"https://storage.googleapis.com/tensorflow_docs/docs/site/en/tutorials/keras/overfit_and_underfit.ipynb\"><img src=\"https://www.tensorflow.org/images/download_logo_32px.png\" />Download notebook</a>\n",
    "  </td>\n",
    "</table>"
   ]
  },
  {
   "cell_type": "markdown",
   "metadata": {
    "colab_type": "text",
    "id": "19rPukKZsPG6"
   },
   "source": [
    "As always, the code in this example will use the `tf.keras` API, which you can learn more about in the TensorFlow [Keras guide](https://www.tensorflow.org/guide/keras).\n",
    "\n",
    "In both of the previous examples—[classifying text](https://www.tensorflow.org/tutorials/keras/text_classification_with_hub) and [predicting fuel efficiency](https://www.tensorflow.org/tutorials/keras/regression) — we saw that the accuracy of our model on the validation data would peak after training for a number of epochs, and would then stagnate or start decreasing.\n",
    "\n",
    "In other words, our model would *overfit* to the training data. Learning how to deal with overfitting is important. Although it's often possible to achieve high accuracy on the *training set*, what we really want is to develop models that generalize well to a *testing set* (or data they haven't seen before).\n",
    "\n",
    "The opposite of overfitting is *underfitting*. Underfitting occurs when there is still room for improvement on the test data. This can happen for a number of reasons: If the model is not powerful enough, is over-regularized, or has simply not been trained long enough. This means the network has not learned the relevant patterns in the training data.\n",
    "\n",
    "If you train for too long though, the model will start to overfit and learn patterns from the training data that don't generalize to the test data. We need to strike a balance. Understanding how to train for an appropriate number of epochs as we'll explore below is a useful skill.\n",
    "\n",
    "To prevent overfitting, the best solution is to use more complete training data. The dataset should cover the full range of inputs that the model is expected to handle. Additional data may only be useful if it covers new and interesting cases.\n",
    "\n",
    "A model trained on more complete data will naturally generalize better. When that is no longer possible, the next best solution is to use techniques like regularization. These place constraints on the quantity and type of information your model can store.  If a network can only afford to memorize a small number of patterns, the optimization process will force it to focus on the most prominent patterns, which have a better chance of generalizing well.\n",
    "\n",
    "In this notebook, we'll explore several common regularization techniques, and use them to improve on a classification model."
   ]
  },
  {
   "cell_type": "markdown",
   "metadata": {
    "colab_type": "text",
    "id": "WL8UoOTmGGsL"
   },
   "source": [
    "## Setup"
   ]
  },
  {
   "cell_type": "markdown",
   "metadata": {
    "colab_type": "text",
    "id": "9FklhSI0Gg9R"
   },
   "source": [
    "Before getting started, import the necessary packages:"
   ]
  },
  {
   "cell_type": "code",
   "execution_count": 3,
   "metadata": {},
   "outputs": [],
   "source": [
    "#!python -m pip install tensorflow"
   ]
  },
  {
   "cell_type": "code",
   "execution_count": 4,
   "metadata": {
    "colab": {},
    "colab_type": "code",
    "id": "5pZ8A2liqvgk"
   },
   "outputs": [
    {
     "name": "stdout",
     "output_type": "stream",
     "text": [
      "2.2.0\n"
     ]
    }
   ],
   "source": [
    "import tensorflow as tf\n",
    "\n",
    "from tensorflow.keras import layers\n",
    "from tensorflow.keras import regularizers\n",
    "\n",
    "print(tf.__version__)"
   ]
  },
  {
   "cell_type": "code",
   "execution_count": 177,
   "metadata": {
    "colab": {},
    "colab_type": "code",
    "id": "QnAtAjqRYVXe"
   },
   "outputs": [],
   "source": [
    "!pip install -q git+https://github.com/tensorflow/docs\n",
    "\n",
    "import tensorflow_docs as tfdocs\n",
    "import tensorflow_docs.modeling\n",
    "import tensorflow_docs.plots"
   ]
  },
  {
   "cell_type": "code",
   "execution_count": 6,
   "metadata": {
    "colab": {},
    "colab_type": "code",
    "id": "-pnOU-ctX27Q"
   },
   "outputs": [],
   "source": [
    "from  IPython import display\n",
    "from matplotlib import pyplot as plt\n",
    "\n",
    "import numpy as np\n",
    "\n",
    "import pathlib\n",
    "import shutil\n",
    "import tempfile\n"
   ]
  },
  {
   "cell_type": "code",
   "execution_count": 7,
   "metadata": {
    "colab": {},
    "colab_type": "code",
    "id": "jj6I4dvTtbUe"
   },
   "outputs": [],
   "source": [
    "logdir = pathlib.Path(tempfile.mkdtemp())/\"tensorboard_logs\"\n",
    "shutil.rmtree(logdir, ignore_errors=True)"
   ]
  },
  {
   "cell_type": "markdown",
   "metadata": {
    "colab_type": "text",
    "id": "1cweoTiruj8O"
   },
   "source": [
    "## The Higgs Dataset\n",
    "\n",
    "The goal of this tutorial is not to do particle physics, so don't dwell on the details of the dataset. It contains 11&#x202F;000&#x202F;000 examples, each with 28 features, and a binary class label."
   ]
  },
  {
   "cell_type": "code",
   "execution_count": 7,
   "metadata": {
    "colab": {},
    "colab_type": "code",
    "id": "YPjAvwb-6dFd"
   },
   "outputs": [
    {
     "name": "stdout",
     "output_type": "stream",
     "text": [
      "Downloading data from http://mlphysics.ics.uci.edu/data/higgs/HIGGS.csv.gz\n",
      "2816409600/2816407858 [==============================] - 259s 0us/step\n"
     ]
    }
   ],
   "source": [
    "gz = tf.keras.utils.get_file('HIGGS.csv.gz', 'http://mlphysics.ics.uci.edu/data/higgs/HIGGS.csv.gz')"
   ]
  },
  {
   "cell_type": "code",
   "execution_count": 8,
   "metadata": {
    "colab": {},
    "colab_type": "code",
    "id": "AkiyUdaWIrww"
   },
   "outputs": [],
   "source": [
    "FEATURES = 28"
   ]
  },
  {
   "cell_type": "markdown",
   "metadata": {
    "colab_type": "text",
    "id": "SFggl9gYKKRJ"
   },
   "source": [
    "The `tf.data.experimental.CsvDataset` class can be used to read csv records directly from a gzip file with no intermediate decompression step."
   ]
  },
  {
   "cell_type": "code",
   "execution_count": 9,
   "metadata": {
    "colab": {},
    "colab_type": "code",
    "id": "QHz4sLVQEVIU"
   },
   "outputs": [],
   "source": [
    "ds = tf.data.experimental.CsvDataset(gz,[float(),]*(FEATURES+1), compression_type=\"GZIP\")"
   ]
  },
  {
   "cell_type": "markdown",
   "metadata": {
    "colab_type": "text",
    "id": "HzahEELTKlSV"
   },
   "source": [
    "That csv reader class returns a list of scalars for each record. The following function repacks that list of scalars into a (feature_vector, label) pair."
   ]
  },
  {
   "cell_type": "code",
   "execution_count": 10,
   "metadata": {
    "colab": {},
    "colab_type": "code",
    "id": "zPD6ICDlF6Wf"
   },
   "outputs": [],
   "source": [
    "def pack_row(*row):\n",
    "  label = row[0]\n",
    "  features = tf.stack(row[1:],1)\n",
    "  return features, label"
   ]
  },
  {
   "cell_type": "markdown",
   "metadata": {
    "colab_type": "text",
    "id": "4oa8tLuwLsbO"
   },
   "source": [
    "TensorFlow is most efficient when operating on large batches of data.\n",
    "\n",
    "So instead of repacking each row individually make a new `Dataset` that takes batches of 10000-examples, applies the `pack_row` function to each batch, and then splits the batches back up into individual records:"
   ]
  },
  {
   "cell_type": "code",
   "execution_count": 11,
   "metadata": {
    "colab": {},
    "colab_type": "code",
    "id": "-w-VHTwwGVoZ"
   },
   "outputs": [],
   "source": [
    "packed_ds = ds.batch(10000).map(pack_row).unbatch()"
   ]
  },
  {
   "cell_type": "markdown",
   "metadata": {
    "colab_type": "text",
    "id": "lUbxc5bxNSXV"
   },
   "source": [
    "Have a look at some of the records from this new `packed_ds`.\n",
    "\n",
    "The features are not perfectly normalized, but this is sufficient for this tutorial."
   ]
  },
  {
   "cell_type": "code",
   "execution_count": 12,
   "metadata": {
    "colab": {},
    "colab_type": "code",
    "id": "TfcXuv33Fvka"
   },
   "outputs": [
    {
     "name": "stdout",
     "output_type": "stream",
     "text": [
      "tf.Tensor(\n",
      "[ 0.8692932  -0.6350818   0.22569026  0.32747006 -0.6899932   0.75420225\n",
      " -0.24857314 -1.0920639   0.          1.3749921  -0.6536742   0.9303491\n",
      "  1.1074361   1.1389043  -1.5781983  -1.0469854   0.          0.65792954\n",
      " -0.01045457 -0.04576717  3.1019614   1.35376     0.9795631   0.97807616\n",
      "  0.92000484  0.72165745  0.98875093  0.87667835], shape=(28,), dtype=float32)\n"
     ]
    },
    {
     "data": {
      "image/png": "[encoded data removed]",
      "text/plain": [
       "<Figure size 432x288 with 1 Axes>"
      ]
     },
     "metadata": {
      "needs_background": "light"
     },
     "output_type": "display_data"
    }
   ],
   "source": [
    "for features,label in packed_ds.batch(1000).take(1):\n",
    "  print(features[0])\n",
    "  plt.hist(features.numpy().flatten(), bins = 101)"
   ]
  },
  {
   "cell_type": "markdown",
   "metadata": {
    "colab_type": "text",
    "id": "ICKZRY7gN-QM"
   },
   "source": [
    "To keep this tutorial relatively short use just the first 1000 samples for validation, and the next 10 000 for training:"
   ]
  },
  {
   "cell_type": "code",
   "execution_count": 13,
   "metadata": {
    "colab": {},
    "colab_type": "code",
    "id": "hmk49OqZIFZP"
   },
   "outputs": [],
   "source": [
    "N_VALIDATION = int(1e3)\n",
    "N_TRAIN = int(1e4)\n",
    "BUFFER_SIZE = int(1e4)\n",
    "BATCH_SIZE = 500\n",
    "STEPS_PER_EPOCH = N_TRAIN//BATCH_SIZE"
   ]
  },
  {
   "cell_type": "markdown",
   "metadata": {
    "colab_type": "text",
    "id": "FP3M9DmvON32"
   },
   "source": [
    "The `Dataset.skip` and `Dataset.take` methods make this easy.\n",
    "\n",
    "At the same time, use the `Dataset.cache` method to ensure that the loader doesn't need to re-read the data from the file on each epoch:"
   ]
  },
  {
   "cell_type": "code",
   "execution_count": 14,
   "metadata": {
    "colab": {},
    "colab_type": "code",
    "id": "H8H_ZzpBOOk-"
   },
   "outputs": [],
   "source": [
    "validate_ds = packed_ds.take(N_VALIDATION).cache()\n",
    "train_ds = packed_ds.skip(N_VALIDATION).take(N_TRAIN).cache()"
   ]
  },
  {
   "cell_type": "code",
   "execution_count": 15,
   "metadata": {
    "colab": {},
    "colab_type": "code",
    "id": "9zAOqk2_Px7K"
   },
   "outputs": [
    {
     "data": {
      "text/plain": [
       "<CacheDataset shapes: ((28,), ()), types: (tf.float32, tf.float32)>"
      ]
     },
     "execution_count": 15,
     "metadata": {},
     "output_type": "execute_result"
    }
   ],
   "source": [
    "train_ds"
   ]
  },
  {
   "cell_type": "markdown",
   "metadata": {
    "colab_type": "text",
    "id": "6PMliHoVO3OL"
   },
   "source": [
    "These datasets return individual examples. Use the `.batch` method to create batches of an appropriate size for training. Before batching also remember to `.shuffle` and `.repeat` the training set."
   ]
  },
  {
   "cell_type": "code",
   "execution_count": 16,
   "metadata": {
    "colab": {},
    "colab_type": "code",
    "id": "Y7I4J355O223"
   },
   "outputs": [],
   "source": [
    "validate_ds = validate_ds.batch(BATCH_SIZE)\n",
    "train_ds = train_ds.shuffle(BUFFER_SIZE).repeat().batch(BATCH_SIZE)"
   ]
  },
  {
   "cell_type": "code",
   "execution_count": null,
   "metadata": {},
   "outputs": [],
   "source": []
  },
  {
   "cell_type": "markdown",
   "metadata": {},
   "source": [
    "# FMNS: Try our candles instead"
   ]
  },
  {
   "cell_type": "code",
   "execution_count": 8,
   "metadata": {},
   "outputs": [],
   "source": [
    "import numpy as np\n",
    "import pandas as pd\n",
    "import matplotlib.pyplot as plt\n",
    "import re\n",
    "import os\n",
    "import time\n",
    "import h5py\n",
    "import copy\n",
    "import datetime\n",
    "import ta\n",
    "#import yfinance as yf\n",
    "import tensorflow as tf\n",
    "import tensorflow.compat.v2.feature_column as fc\n",
    "from IPython.display import clear_output\n",
    "import pyodbc\n",
    "\n",
    "# Preprocessing\n",
    "from sklearn.model_selection import train_test_split\n",
    "from sklearn.preprocessing import StandardScaler\n",
    "from sklearn.preprocessing import MinMaxScaler\n",
    "from sklearn.preprocessing import Normalizer\n",
    "from sklearn.preprocessing import PowerTransformer\n",
    "from sklearn.preprocessing import QuantileTransformer\n",
    "from sklearn.preprocessing import RobustScaler\n",
    "from sklearn.model_selection import GridSearchCV\n",
    "from sklearn.metrics import roc_curve, roc_auc_score, f1_score, log_loss\n",
    "\n",
    "# Models\n",
    "from sklearn.linear_model import LogisticRegression\n",
    "from sklearn.model_selection import StratifiedKFold\n",
    "from sklearn.exceptions import ConvergenceWarning \n",
    "from sklearn import ensemble\n",
    "# ConvergenceWarning('ignore')\n",
    "# Do you wanna see?\n",
    "verbose = True\n",
    "\n",
    "import sys\n",
    "sys.path.append('../')\n",
    "#sys.path.append('...../')\n",
    "\n",
    "from utils.data_extraction import load_data_final,load_data_and_save\n",
    "from utils.data_cleaning import HFDataCleaning\n",
    "from utils.generate_features import candleCreateNP_vect_final,\\\n",
    "                                    generateFeatures_final\n",
    "from utils.preprocessing_features_and_labels import extract_labels,\\\n",
    "                                                    align_features_and_labels,\\\n",
    "                                                    pre_processing_initial,\\\n",
    "                                                    pre_processing_extended,\\\n",
    "                                                    pre_processing\n",
    "from utils.models import make_input_fn\n",
    "from utils.models import performanceTesting,scoreFunction"
   ]
  },
  {
   "cell_type": "code",
   "execution_count": 9,
   "metadata": {},
   "outputs": [
    {
     "name": "stdout",
     "output_type": "stream",
     "text": [
      "Which one do you want to load? \n",
      "\n",
      "0: aggregateTAQ_10sec.csv\n",
      "1: aggregateTAQ_30sec.csv\n",
      "2: aggregateTAQ_60sec.csv\n",
      "\n",
      "\n",
      "0\n"
     ]
    }
   ],
   "source": [
    "# Do we extract new data or read in?\n",
    "readIn = True\n",
    "# run load_data()\n",
    "if readIn:\n",
    "    \n",
    "    # Listing the data files \n",
    "    #path = '../../../Google Drev/Thesis/Data/TAQ/AggregatedTAQ'\n",
    "    path = 'F:/AggregatedTAQ/round3'\n",
    "    datafiles = os.listdir(path)\n",
    "    content = np.concatenate([['\\n\\n'],[str(j)+': '+i+'\\n' for j,i in enumerate(datafiles) if 'csv' in i],['\\n\\n']])\n",
    "    \n",
    "    # Asking for user input\n",
    "    file = input('Which one do you want to load? %s'%''.join(content))\n",
    "    data = pd.read_csv(path + '/' + datafiles[int(file)],\n",
    "                       header = None,\n",
    "                       names=['open','high','low','close','spread_open',\n",
    "                              'spread_high','spread_low','spread_close',\n",
    "                              'bidsize_open','bidsize_high','bidsize_low','bidsize_close',\n",
    "                              'ofrsize_open','ofrsize_high','ofrsize_low','ofrsize_close',\n",
    "                              'Ticker'])\n",
    "else:\n",
    "    \n",
    "    # print(os.listdir())\n",
    "    try:\n",
    "        path = 'a:/taqhdf5'  #'a:/taqhdf5'\n",
    "        os.listdir(path)\n",
    "    except:\n",
    "        path = 't:/taqhdf5'  #'a:/taqhdf5'\n",
    "        os.listdir(path)\n",
    "        \n",
    "    # Sample type\n",
    "    data_sample = 'full' # or 'stable'\n",
    "    # allFiles = os.listdir(path)\n",
    "    # print(len(allFiles), allFiles[:5], allFiles[-5:])\n",
    "    # print(allFiles[-10:])\n",
    "\n",
    "    #dates = np.array(['2020040' + str(i) if i < 10 else '202004' + str(i) for i in np.arange(1,16)]).astype(int)\n",
    "    dates = np.array(['20200501']).astype(int)#,'20200402','20200403','20200406','20200407'\n",
    "\n",
    "    # Provide a list of tickers of interest\n",
    "    \n",
    "    tickers = sorted(['TSLA','FB'])#'MSFT'\n",
    "    \n",
    "    # Do we need data on trades, quotes or both?\n",
    "    dataNeeded = 'quotes' # 'trades', 'quotes' or 'both'\n",
    "    \n",
    "    if dataNeeded == 'trades':\n",
    "        tradeData = load_data_final(dates, tickers, dataNeeded, path, verbose)\n",
    "    elif dataNeeded == 'quotes':\n",
    "        quoteData = load_data_final(dates,\n",
    "                                    tickers,\n",
    "                                    dataNeeded,\n",
    "                                    path,\n",
    "                                    verbose,\n",
    "                                    extract_candles = False,\n",
    "                                    aggHorizon = 1,\n",
    "                                    extra_features_from_quotes = None,\n",
    "                                    data_sample = data_sample)\n",
    "    elif dataNeeded == 'both':\n",
    "        tradeData, quoteData = load_data_final(dates, tickers, dataNeeded, path, verbose)"
   ]
  },
  {
   "cell_type": "code",
   "execution_count": null,
   "metadata": {},
   "outputs": [],
   "source": []
  },
  {
   "cell_type": "code",
   "execution_count": 10,
   "metadata": {},
   "outputs": [
    {
     "data": {
      "text/html": [
       "<div>\n",
       "<style scoped>\n",
       "    .dataframe tbody tr th:only-of-type {\n",
       "        vertical-align: middle;\n",
       "    }\n",
       "\n",
       "    .dataframe tbody tr th {\n",
       "        vertical-align: top;\n",
       "    }\n",
       "\n",
       "    .dataframe thead th {\n",
       "        text-align: right;\n",
       "    }\n",
       "</style>\n",
       "<table border=\"1\" class=\"dataframe\">\n",
       "  <thead>\n",
       "    <tr style=\"text-align: right;\">\n",
       "      <th></th>\n",
       "      <th></th>\n",
       "      <th>open</th>\n",
       "      <th>high</th>\n",
       "      <th>low</th>\n",
       "      <th>close</th>\n",
       "      <th>spread_open</th>\n",
       "      <th>spread_high</th>\n",
       "      <th>spread_low</th>\n",
       "      <th>spread_close</th>\n",
       "      <th>bidsize_open</th>\n",
       "      <th>bidsize_high</th>\n",
       "      <th>bidsize_low</th>\n",
       "      <th>bidsize_close</th>\n",
       "      <th>ofrsize_open</th>\n",
       "      <th>ofrsize_high</th>\n",
       "      <th>ofrsize_low</th>\n",
       "      <th>ofrsize_close</th>\n",
       "      <th>Ticker</th>\n",
       "    </tr>\n",
       "  </thead>\n",
       "  <tbody>\n",
       "    <tr>\n",
       "      <td rowspan=\"5\" valign=\"top\">20200501</td>\n",
       "      <td>0</td>\n",
       "      <td>755.140</td>\n",
       "      <td>757.625</td>\n",
       "      <td>753.500</td>\n",
       "      <td>757.625</td>\n",
       "      <td>1.72</td>\n",
       "      <td>2.69</td>\n",
       "      <td>0.02</td>\n",
       "      <td>0.75</td>\n",
       "      <td>1.0</td>\n",
       "      <td>7.0</td>\n",
       "      <td>1.0</td>\n",
       "      <td>2.0</td>\n",
       "      <td>5.0</td>\n",
       "      <td>10.0</td>\n",
       "      <td>1.0</td>\n",
       "      <td>4.0</td>\n",
       "      <td>TSLA</td>\n",
       "    </tr>\n",
       "    <tr>\n",
       "      <td>1</td>\n",
       "      <td>757.820</td>\n",
       "      <td>762.525</td>\n",
       "      <td>757.625</td>\n",
       "      <td>762.525</td>\n",
       "      <td>0.36</td>\n",
       "      <td>2.29</td>\n",
       "      <td>0.11</td>\n",
       "      <td>0.95</td>\n",
       "      <td>1.0</td>\n",
       "      <td>3.0</td>\n",
       "      <td>1.0</td>\n",
       "      <td>1.0</td>\n",
       "      <td>4.0</td>\n",
       "      <td>26.0</td>\n",
       "      <td>1.0</td>\n",
       "      <td>15.0</td>\n",
       "      <td>TSLA</td>\n",
       "    </tr>\n",
       "    <tr>\n",
       "      <td>2</td>\n",
       "      <td>762.525</td>\n",
       "      <td>762.530</td>\n",
       "      <td>760.400</td>\n",
       "      <td>760.945</td>\n",
       "      <td>0.95</td>\n",
       "      <td>4.42</td>\n",
       "      <td>0.58</td>\n",
       "      <td>3.33</td>\n",
       "      <td>1.0</td>\n",
       "      <td>2.0</td>\n",
       "      <td>1.0</td>\n",
       "      <td>1.0</td>\n",
       "      <td>14.0</td>\n",
       "      <td>14.0</td>\n",
       "      <td>1.0</td>\n",
       "      <td>2.0</td>\n",
       "      <td>TSLA</td>\n",
       "    </tr>\n",
       "    <tr>\n",
       "      <td>3</td>\n",
       "      <td>760.595</td>\n",
       "      <td>761.095</td>\n",
       "      <td>758.900</td>\n",
       "      <td>759.000</td>\n",
       "      <td>2.63</td>\n",
       "      <td>3.61</td>\n",
       "      <td>1.08</td>\n",
       "      <td>2.00</td>\n",
       "      <td>1.0</td>\n",
       "      <td>3.0</td>\n",
       "      <td>1.0</td>\n",
       "      <td>3.0</td>\n",
       "      <td>1.0</td>\n",
       "      <td>2.0</td>\n",
       "      <td>1.0</td>\n",
       "      <td>1.0</td>\n",
       "      <td>TSLA</td>\n",
       "    </tr>\n",
       "    <tr>\n",
       "      <td>4</td>\n",
       "      <td>759.000</td>\n",
       "      <td>760.750</td>\n",
       "      <td>759.000</td>\n",
       "      <td>759.230</td>\n",
       "      <td>2.00</td>\n",
       "      <td>3.62</td>\n",
       "      <td>0.78</td>\n",
       "      <td>2.46</td>\n",
       "      <td>4.0</td>\n",
       "      <td>7.0</td>\n",
       "      <td>1.0</td>\n",
       "      <td>6.0</td>\n",
       "      <td>1.0</td>\n",
       "      <td>1.0</td>\n",
       "      <td>1.0</td>\n",
       "      <td>1.0</td>\n",
       "      <td>TSLA</td>\n",
       "    </tr>\n",
       "    <tr>\n",
       "      <td>...</td>\n",
       "      <td>...</td>\n",
       "      <td>...</td>\n",
       "      <td>...</td>\n",
       "      <td>...</td>\n",
       "      <td>...</td>\n",
       "      <td>...</td>\n",
       "      <td>...</td>\n",
       "      <td>...</td>\n",
       "      <td>...</td>\n",
       "      <td>...</td>\n",
       "      <td>...</td>\n",
       "      <td>...</td>\n",
       "      <td>...</td>\n",
       "      <td>...</td>\n",
       "      <td>...</td>\n",
       "      <td>...</td>\n",
       "      <td>...</td>\n",
       "      <td>...</td>\n",
       "    </tr>\n",
       "    <tr>\n",
       "      <td rowspan=\"5\" valign=\"top\">20200529</td>\n",
       "      <td>2335</td>\n",
       "      <td>833.915</td>\n",
       "      <td>834.145</td>\n",
       "      <td>833.910</td>\n",
       "      <td>834.145</td>\n",
       "      <td>0.11</td>\n",
       "      <td>0.30</td>\n",
       "      <td>0.01</td>\n",
       "      <td>0.15</td>\n",
       "      <td>1.0</td>\n",
       "      <td>3.0</td>\n",
       "      <td>1.0</td>\n",
       "      <td>1.0</td>\n",
       "      <td>2.0</td>\n",
       "      <td>53.0</td>\n",
       "      <td>1.0</td>\n",
       "      <td>1.0</td>\n",
       "      <td>TSLA</td>\n",
       "    </tr>\n",
       "    <tr>\n",
       "      <td>2336</td>\n",
       "      <td>834.140</td>\n",
       "      <td>834.220</td>\n",
       "      <td>833.945</td>\n",
       "      <td>834.215</td>\n",
       "      <td>0.16</td>\n",
       "      <td>0.31</td>\n",
       "      <td>0.01</td>\n",
       "      <td>0.13</td>\n",
       "      <td>1.0</td>\n",
       "      <td>3.0</td>\n",
       "      <td>1.0</td>\n",
       "      <td>3.0</td>\n",
       "      <td>1.0</td>\n",
       "      <td>45.0</td>\n",
       "      <td>1.0</td>\n",
       "      <td>43.0</td>\n",
       "      <td>TSLA</td>\n",
       "    </tr>\n",
       "    <tr>\n",
       "      <td>2337</td>\n",
       "      <td>834.215</td>\n",
       "      <td>834.270</td>\n",
       "      <td>833.920</td>\n",
       "      <td>833.985</td>\n",
       "      <td>0.13</td>\n",
       "      <td>0.34</td>\n",
       "      <td>0.01</td>\n",
       "      <td>0.03</td>\n",
       "      <td>3.0</td>\n",
       "      <td>4.0</td>\n",
       "      <td>1.0</td>\n",
       "      <td>1.0</td>\n",
       "      <td>44.0</td>\n",
       "      <td>45.0</td>\n",
       "      <td>1.0</td>\n",
       "      <td>1.0</td>\n",
       "      <td>TSLA</td>\n",
       "    </tr>\n",
       "    <tr>\n",
       "      <td>2338</td>\n",
       "      <td>834.065</td>\n",
       "      <td>834.320</td>\n",
       "      <td>833.930</td>\n",
       "      <td>834.280</td>\n",
       "      <td>0.19</td>\n",
       "      <td>0.41</td>\n",
       "      <td>0.01</td>\n",
       "      <td>0.22</td>\n",
       "      <td>1.0</td>\n",
       "      <td>4.0</td>\n",
       "      <td>1.0</td>\n",
       "      <td>1.0</td>\n",
       "      <td>1.0</td>\n",
       "      <td>52.0</td>\n",
       "      <td>1.0</td>\n",
       "      <td>15.0</td>\n",
       "      <td>TSLA</td>\n",
       "    </tr>\n",
       "    <tr>\n",
       "      <td>2339</td>\n",
       "      <td>834.280</td>\n",
       "      <td>834.395</td>\n",
       "      <td>834.115</td>\n",
       "      <td>834.145</td>\n",
       "      <td>0.22</td>\n",
       "      <td>0.47</td>\n",
       "      <td>0.04</td>\n",
       "      <td>0.17</td>\n",
       "      <td>1.0</td>\n",
       "      <td>120.0</td>\n",
       "      <td>1.0</td>\n",
       "      <td>90.0</td>\n",
       "      <td>16.0</td>\n",
       "      <td>30.0</td>\n",
       "      <td>1.0</td>\n",
       "      <td>28.0</td>\n",
       "      <td>TSLA</td>\n",
       "    </tr>\n",
       "  </tbody>\n",
       "</table>\n",
       "<p>46800 rows × 17 columns</p>\n",
       "</div>"
      ],
      "text/plain": [
       "                  open     high      low    close  spread_open  spread_high  \\\n",
       "20200501 0     755.140  757.625  753.500  757.625         1.72         2.69   \n",
       "         1     757.820  762.525  757.625  762.525         0.36         2.29   \n",
       "         2     762.525  762.530  760.400  760.945         0.95         4.42   \n",
       "         3     760.595  761.095  758.900  759.000         2.63         3.61   \n",
       "         4     759.000  760.750  759.000  759.230         2.00         3.62   \n",
       "...                ...      ...      ...      ...          ...          ...   \n",
       "20200529 2335  833.915  834.145  833.910  834.145         0.11         0.30   \n",
       "         2336  834.140  834.220  833.945  834.215         0.16         0.31   \n",
       "         2337  834.215  834.270  833.920  833.985         0.13         0.34   \n",
       "         2338  834.065  834.320  833.930  834.280         0.19         0.41   \n",
       "         2339  834.280  834.395  834.115  834.145         0.22         0.47   \n",
       "\n",
       "               spread_low  spread_close  bidsize_open  bidsize_high  \\\n",
       "20200501 0           0.02          0.75           1.0           7.0   \n",
       "         1           0.11          0.95           1.0           3.0   \n",
       "         2           0.58          3.33           1.0           2.0   \n",
       "         3           1.08          2.00           1.0           3.0   \n",
       "         4           0.78          2.46           4.0           7.0   \n",
       "...                   ...           ...           ...           ...   \n",
       "20200529 2335        0.01          0.15           1.0           3.0   \n",
       "         2336        0.01          0.13           1.0           3.0   \n",
       "         2337        0.01          0.03           3.0           4.0   \n",
       "         2338        0.01          0.22           1.0           4.0   \n",
       "         2339        0.04          0.17           1.0         120.0   \n",
       "\n",
       "               bidsize_low  bidsize_close  ofrsize_open  ofrsize_high  \\\n",
       "20200501 0             1.0            2.0           5.0          10.0   \n",
       "         1             1.0            1.0           4.0          26.0   \n",
       "         2             1.0            1.0          14.0          14.0   \n",
       "         3             1.0            3.0           1.0           2.0   \n",
       "         4             1.0            6.0           1.0           1.0   \n",
       "...                    ...            ...           ...           ...   \n",
       "20200529 2335          1.0            1.0           2.0          53.0   \n",
       "         2336          1.0            3.0           1.0          45.0   \n",
       "         2337          1.0            1.0          44.0          45.0   \n",
       "         2338          1.0            1.0           1.0          52.0   \n",
       "         2339          1.0           90.0          16.0          30.0   \n",
       "\n",
       "               ofrsize_low  ofrsize_close Ticker  \n",
       "20200501 0             1.0            4.0   TSLA  \n",
       "         1             1.0           15.0   TSLA  \n",
       "         2             1.0            2.0   TSLA  \n",
       "         3             1.0            1.0   TSLA  \n",
       "         4             1.0            1.0   TSLA  \n",
       "...                    ...            ...    ...  \n",
       "20200529 2335          1.0            1.0   TSLA  \n",
       "         2336          1.0           43.0   TSLA  \n",
       "         2337          1.0            1.0   TSLA  \n",
       "         2338          1.0           15.0   TSLA  \n",
       "         2339          1.0           28.0   TSLA  \n",
       "\n",
       "[46800 rows x 17 columns]"
      ]
     },
     "execution_count": 10,
     "metadata": {},
     "output_type": "execute_result"
    }
   ],
   "source": [
    "data[data.Ticker=='TSLA']"
   ]
  },
  {
   "cell_type": "code",
   "execution_count": 11,
   "metadata": {},
   "outputs": [
    {
     "ename": "NameError",
     "evalue": "name 'candles' is not defined",
     "output_type": "error",
     "traceback": [
      "\u001b[1;31m---------------------------------------------------------------------------\u001b[0m",
      "\u001b[1;31mNameError\u001b[0m                                 Traceback (most recent call last)",
      "\u001b[1;32m<ipython-input-11-cb6fc4b3359d>\u001b[0m in \u001b[0;36m<module>\u001b[1;34m\u001b[0m\n\u001b[1;32m----> 1\u001b[1;33m \u001b[0mcandles\u001b[0m\u001b[1;33m[\u001b[0m\u001b[1;33m[\u001b[0m\u001b[1;34m'open'\u001b[0m\u001b[1;33m,\u001b[0m\u001b[1;34m'high'\u001b[0m\u001b[1;33m,\u001b[0m\u001b[1;34m'low'\u001b[0m\u001b[1;33m,\u001b[0m\u001b[1;34m'close'\u001b[0m\u001b[1;33m]\u001b[0m\u001b[1;33m]\u001b[0m\u001b[1;33m.\u001b[0m\u001b[0mvalues\u001b[0m\u001b[1;33m\u001b[0m\u001b[1;33m\u001b[0m\u001b[0m\n\u001b[0m",
      "\u001b[1;31mNameError\u001b[0m: name 'candles' is not defined"
     ]
    }
   ],
   "source": [
    "candles[['open','high','low','close']].values"
   ]
  },
  {
   "cell_type": "code",
   "execution_count": null,
   "metadata": {},
   "outputs": [],
   "source": []
  },
  {
   "cell_type": "code",
   "execution_count": 12,
   "metadata": {},
   "outputs": [
    {
     "ename": "NameError",
     "evalue": "name 'features' is not defined",
     "output_type": "error",
     "traceback": [
      "\u001b[1;31m---------------------------------------------------------------------------\u001b[0m",
      "\u001b[1;31mNameError\u001b[0m                                 Traceback (most recent call last)",
      "\u001b[1;32m<ipython-input-12-224628ecf868>\u001b[0m in \u001b[0;36m<module>\u001b[1;34m\u001b[0m\n\u001b[1;32m----> 1\u001b[1;33m \u001b[0mfeatures\u001b[0m\u001b[1;33m\u001b[0m\u001b[1;33m\u001b[0m\u001b[0m\n\u001b[0m",
      "\u001b[1;31mNameError\u001b[0m: name 'features' is not defined"
     ]
    }
   ],
   "source": []
  },
  {
   "cell_type": "code",
   "execution_count": 268,
   "metadata": {},
   "outputs": [
    {
     "name": "stdout",
     "output_type": "stream",
     "text": [
      "['open_lag0' 'open_lag1' 'open_lag2' 'open_lag3' 'open_lag4' 'open_lag5'\n",
      " 'high_lag0' 'high_lag1' 'high_lag2' 'high_lag3' 'high_lag4' 'high_lag5'\n",
      " 'low_lag0' 'low_lag1' 'low_lag2' 'low_lag3' 'low_lag4' 'low_lag5'\n",
      " 'close_lag0' 'close_lag1' 'close_lag2' 'close_lag3' 'close_lag4'\n",
      " 'close_lag5']\n"
     ]
    }
   ],
   "source": [
    "########### Generate Features ################\n",
    "\n",
    "ticker_to_model = 'TSLA'\n",
    "candles = data[data.Ticker==ticker_to_model]\n",
    "\n",
    "n_feature_lags = 5\n",
    "features = generateFeatures_final(data = candles, \n",
    "                                  listOfFeatures = [\n",
    "                                                    'pastobs',\n",
    "                                                    'spread',\n",
    "                                                    'bidsize',\n",
    "                                                    'ofrsize',\n",
    "                                                    'stok',\n",
    "                                                    'stod',\n",
    "                                                    'sstod',\n",
    "                                                    'wilr',\n",
    "                                                    'roc',\n",
    "                                                    'rsi',\n",
    "                                                    'atr',\n",
    "                                                    'cci',\n",
    "                                                    'dpo',\n",
    "                                                    'sma',\n",
    "                                                    'ema',\n",
    "                                                    'macd',\n",
    "                                                    'dis5',\n",
    "                                                    'dis10',\n",
    "                                                   ], \n",
    "                                   feature_lags = n_feature_lags)\n",
    "\n",
    "########### Generate Labels ################\n",
    "\n",
    "n_classes = 2\n",
    "# extract first 4 columns as the lag0 or raw OHLC prices (used for labelling)\n",
    "price_candles = candles.iloc[:, :4].values\n",
    "labels = extract_labels(data = price_candles, classes = n_classes, group_style = 'equal')\n",
    "\n",
    "########### Align Data ################\n",
    "\n",
    "# from imported function (see testing_preprocessing_features_and_labels.ipynb for thorough experimenting with all the cut-offs):    \n",
    "X, y = align_features_and_labels(candles = candles, \n",
    "                                 prediction_horizon = 1, \n",
    "                                 features = features, \n",
    "                                 n_feature_lags = n_feature_lags, \n",
    "                                 n_classes = n_classes, # 5,\n",
    "                                 safe_burn_in = False, \n",
    "                                 data_sample = 'full')"
   ]
  },
  {
   "cell_type": "code",
   "execution_count": 269,
   "metadata": {},
   "outputs": [
    {
     "data": {
      "text/html": [
       "<div>\n",
       "<style scoped>\n",
       "    .dataframe tbody tr th:only-of-type {\n",
       "        vertical-align: middle;\n",
       "    }\n",
       "\n",
       "    .dataframe tbody tr th {\n",
       "        vertical-align: top;\n",
       "    }\n",
       "\n",
       "    .dataframe thead th {\n",
       "        text-align: right;\n",
       "    }\n",
       "</style>\n",
       "<table border=\"1\" class=\"dataframe\">\n",
       "  <thead>\n",
       "    <tr style=\"text-align: right;\">\n",
       "      <th></th>\n",
       "      <th></th>\n",
       "      <th>open</th>\n",
       "      <th>high</th>\n",
       "      <th>low</th>\n",
       "      <th>close</th>\n",
       "    </tr>\n",
       "  </thead>\n",
       "  <tbody>\n",
       "    <tr>\n",
       "      <td rowspan=\"5\" valign=\"top\">20200501</td>\n",
       "      <td>0</td>\n",
       "      <td>755.140</td>\n",
       "      <td>757.625</td>\n",
       "      <td>753.500</td>\n",
       "      <td>757.625</td>\n",
       "    </tr>\n",
       "    <tr>\n",
       "      <td>1</td>\n",
       "      <td>757.820</td>\n",
       "      <td>762.525</td>\n",
       "      <td>757.625</td>\n",
       "      <td>762.525</td>\n",
       "    </tr>\n",
       "    <tr>\n",
       "      <td>2</td>\n",
       "      <td>762.525</td>\n",
       "      <td>762.530</td>\n",
       "      <td>760.400</td>\n",
       "      <td>760.945</td>\n",
       "    </tr>\n",
       "    <tr>\n",
       "      <td>3</td>\n",
       "      <td>760.595</td>\n",
       "      <td>761.095</td>\n",
       "      <td>758.900</td>\n",
       "      <td>759.000</td>\n",
       "    </tr>\n",
       "    <tr>\n",
       "      <td>4</td>\n",
       "      <td>759.000</td>\n",
       "      <td>760.750</td>\n",
       "      <td>759.000</td>\n",
       "      <td>759.230</td>\n",
       "    </tr>\n",
       "    <tr>\n",
       "      <td>...</td>\n",
       "      <td>...</td>\n",
       "      <td>...</td>\n",
       "      <td>...</td>\n",
       "      <td>...</td>\n",
       "      <td>...</td>\n",
       "    </tr>\n",
       "    <tr>\n",
       "      <td rowspan=\"5\" valign=\"top\">20200529</td>\n",
       "      <td>2335</td>\n",
       "      <td>833.915</td>\n",
       "      <td>834.145</td>\n",
       "      <td>833.910</td>\n",
       "      <td>834.145</td>\n",
       "    </tr>\n",
       "    <tr>\n",
       "      <td>2336</td>\n",
       "      <td>834.140</td>\n",
       "      <td>834.220</td>\n",
       "      <td>833.945</td>\n",
       "      <td>834.215</td>\n",
       "    </tr>\n",
       "    <tr>\n",
       "      <td>2337</td>\n",
       "      <td>834.215</td>\n",
       "      <td>834.270</td>\n",
       "      <td>833.920</td>\n",
       "      <td>833.985</td>\n",
       "    </tr>\n",
       "    <tr>\n",
       "      <td>2338</td>\n",
       "      <td>834.065</td>\n",
       "      <td>834.320</td>\n",
       "      <td>833.930</td>\n",
       "      <td>834.280</td>\n",
       "    </tr>\n",
       "    <tr>\n",
       "      <td>2339</td>\n",
       "      <td>834.280</td>\n",
       "      <td>834.395</td>\n",
       "      <td>834.115</td>\n",
       "      <td>834.145</td>\n",
       "    </tr>\n",
       "  </tbody>\n",
       "</table>\n",
       "<p>46800 rows × 4 columns</p>\n",
       "</div>"
      ],
      "text/plain": [
       "                  open     high      low    close\n",
       "20200501 0     755.140  757.625  753.500  757.625\n",
       "         1     757.820  762.525  757.625  762.525\n",
       "         2     762.525  762.530  760.400  760.945\n",
       "         3     760.595  761.095  758.900  759.000\n",
       "         4     759.000  760.750  759.000  759.230\n",
       "...                ...      ...      ...      ...\n",
       "20200529 2335  833.915  834.145  833.910  834.145\n",
       "         2336  834.140  834.220  833.945  834.215\n",
       "         2337  834.215  834.270  833.920  833.985\n",
       "         2338  834.065  834.320  833.930  834.280\n",
       "         2339  834.280  834.395  834.115  834.145\n",
       "\n",
       "[46800 rows x 4 columns]"
      ]
     },
     "execution_count": 269,
     "metadata": {},
     "output_type": "execute_result"
    }
   ],
   "source": [
    "candles.iloc[:, :4] #.values"
   ]
  },
  {
   "cell_type": "code",
   "execution_count": 270,
   "metadata": {},
   "outputs": [
    {
     "data": {
      "text/html": [
       "<div>\n",
       "<style scoped>\n",
       "    .dataframe tbody tr th:only-of-type {\n",
       "        vertical-align: middle;\n",
       "    }\n",
       "\n",
       "    .dataframe tbody tr th {\n",
       "        vertical-align: top;\n",
       "    }\n",
       "\n",
       "    .dataframe thead th {\n",
       "        text-align: right;\n",
       "    }\n",
       "</style>\n",
       "<table border=\"1\" class=\"dataframe\">\n",
       "  <thead>\n",
       "    <tr style=\"text-align: right;\">\n",
       "      <th></th>\n",
       "      <th></th>\n",
       "      <th>open_lag0</th>\n",
       "      <th>high_lag0</th>\n",
       "      <th>low_lag0</th>\n",
       "      <th>close_lag0</th>\n",
       "      <th>spread_open_lag0</th>\n",
       "      <th>spread_high_lag0</th>\n",
       "      <th>spread_low_lag0</th>\n",
       "      <th>spread_close_lag0</th>\n",
       "      <th>bidsize_open_lag0</th>\n",
       "      <th>bidsize_high_lag0</th>\n",
       "      <th>...</th>\n",
       "      <th>atr_lag5</th>\n",
       "      <th>cci_lag5</th>\n",
       "      <th>dpo_lag5</th>\n",
       "      <th>sma_lag5</th>\n",
       "      <th>ema_lag5</th>\n",
       "      <th>macd_lag5</th>\n",
       "      <th>macd_diff_lag5</th>\n",
       "      <th>macd_signal_lag5</th>\n",
       "      <th>dis5_lag5</th>\n",
       "      <th>dis10_lag5</th>\n",
       "    </tr>\n",
       "  </thead>\n",
       "  <tbody>\n",
       "    <tr>\n",
       "      <td rowspan=\"5\" valign=\"top\">20200501</td>\n",
       "      <td>0</td>\n",
       "      <td>-2.705</td>\n",
       "      <td>0.000</td>\n",
       "      <td>-2.705</td>\n",
       "      <td>762.215</td>\n",
       "      <td>1.90</td>\n",
       "      <td>3.01</td>\n",
       "      <td>0.80</td>\n",
       "      <td>1.37</td>\n",
       "      <td>1.0</td>\n",
       "      <td>3.0</td>\n",
       "      <td>...</td>\n",
       "      <td>0.000000</td>\n",
       "      <td>NaN</td>\n",
       "      <td>NaN</td>\n",
       "      <td>NaN</td>\n",
       "      <td>NaN</td>\n",
       "      <td>NaN</td>\n",
       "      <td>NaN</td>\n",
       "      <td>NaN</td>\n",
       "      <td>NaN</td>\n",
       "      <td>NaN</td>\n",
       "    </tr>\n",
       "    <tr>\n",
       "      <td>1</td>\n",
       "      <td>2.535</td>\n",
       "      <td>3.750</td>\n",
       "      <td>-0.275</td>\n",
       "      <td>759.730</td>\n",
       "      <td>1.47</td>\n",
       "      <td>4.25</td>\n",
       "      <td>0.13</td>\n",
       "      <td>2.16</td>\n",
       "      <td>1.0</td>\n",
       "      <td>5.0</td>\n",
       "      <td>...</td>\n",
       "      <td>0.000000</td>\n",
       "      <td>NaN</td>\n",
       "      <td>NaN</td>\n",
       "      <td>NaN</td>\n",
       "      <td>NaN</td>\n",
       "      <td>NaN</td>\n",
       "      <td>NaN</td>\n",
       "      <td>NaN</td>\n",
       "      <td>NaN</td>\n",
       "      <td>NaN</td>\n",
       "    </tr>\n",
       "    <tr>\n",
       "      <td>2</td>\n",
       "      <td>3.170</td>\n",
       "      <td>4.155</td>\n",
       "      <td>-1.605</td>\n",
       "      <td>756.670</td>\n",
       "      <td>2.38</td>\n",
       "      <td>5.91</td>\n",
       "      <td>1.41</td>\n",
       "      <td>2.52</td>\n",
       "      <td>5.0</td>\n",
       "      <td>7.0</td>\n",
       "      <td>...</td>\n",
       "      <td>0.000000</td>\n",
       "      <td>NaN</td>\n",
       "      <td>NaN</td>\n",
       "      <td>NaN</td>\n",
       "      <td>NaN</td>\n",
       "      <td>NaN</td>\n",
       "      <td>NaN</td>\n",
       "      <td>NaN</td>\n",
       "      <td>NaN</td>\n",
       "      <td>NaN</td>\n",
       "    </tr>\n",
       "    <tr>\n",
       "      <td>3</td>\n",
       "      <td>-2.405</td>\n",
       "      <td>0.000</td>\n",
       "      <td>-3.325</td>\n",
       "      <td>759.075</td>\n",
       "      <td>2.52</td>\n",
       "      <td>2.73</td>\n",
       "      <td>0.52</td>\n",
       "      <td>1.85</td>\n",
       "      <td>5.0</td>\n",
       "      <td>5.0</td>\n",
       "      <td>...</td>\n",
       "      <td>0.000000</td>\n",
       "      <td>NaN</td>\n",
       "      <td>NaN</td>\n",
       "      <td>NaN</td>\n",
       "      <td>NaN</td>\n",
       "      <td>NaN</td>\n",
       "      <td>NaN</td>\n",
       "      <td>NaN</td>\n",
       "      <td>NaN</td>\n",
       "      <td>NaN</td>\n",
       "    </tr>\n",
       "    <tr>\n",
       "      <td>4</td>\n",
       "      <td>1.795</td>\n",
       "      <td>1.795</td>\n",
       "      <td>-0.155</td>\n",
       "      <td>757.280</td>\n",
       "      <td>1.85</td>\n",
       "      <td>2.73</td>\n",
       "      <td>0.98</td>\n",
       "      <td>1.86</td>\n",
       "      <td>3.0</td>\n",
       "      <td>3.0</td>\n",
       "      <td>...</td>\n",
       "      <td>0.000000</td>\n",
       "      <td>NaN</td>\n",
       "      <td>NaN</td>\n",
       "      <td>NaN</td>\n",
       "      <td>NaN</td>\n",
       "      <td>NaN</td>\n",
       "      <td>NaN</td>\n",
       "      <td>NaN</td>\n",
       "      <td>99.916433</td>\n",
       "      <td>NaN</td>\n",
       "    </tr>\n",
       "    <tr>\n",
       "      <td>...</td>\n",
       "      <td>...</td>\n",
       "      <td>...</td>\n",
       "      <td>...</td>\n",
       "      <td>...</td>\n",
       "      <td>...</td>\n",
       "      <td>...</td>\n",
       "      <td>...</td>\n",
       "      <td>...</td>\n",
       "      <td>...</td>\n",
       "      <td>...</td>\n",
       "      <td>...</td>\n",
       "      <td>...</td>\n",
       "      <td>...</td>\n",
       "      <td>...</td>\n",
       "      <td>...</td>\n",
       "      <td>...</td>\n",
       "      <td>...</td>\n",
       "      <td>...</td>\n",
       "      <td>...</td>\n",
       "      <td>...</td>\n",
       "      <td>...</td>\n",
       "      <td>...</td>\n",
       "    </tr>\n",
       "    <tr>\n",
       "      <td rowspan=\"5\" valign=\"top\">20200529</td>\n",
       "      <td>2335</td>\n",
       "      <td>NaN</td>\n",
       "      <td>NaN</td>\n",
       "      <td>NaN</td>\n",
       "      <td>NaN</td>\n",
       "      <td>NaN</td>\n",
       "      <td>NaN</td>\n",
       "      <td>NaN</td>\n",
       "      <td>NaN</td>\n",
       "      <td>NaN</td>\n",
       "      <td>NaN</td>\n",
       "      <td>...</td>\n",
       "      <td>0.440918</td>\n",
       "      <td>39.241955</td>\n",
       "      <td>0.03525</td>\n",
       "      <td>833.457083</td>\n",
       "      <td>833.702465</td>\n",
       "      <td>0.257163</td>\n",
       "      <td>-0.038690</td>\n",
       "      <td>0.295853</td>\n",
       "      <td>100.035858</td>\n",
       "      <td>100.078525</td>\n",
       "    </tr>\n",
       "    <tr>\n",
       "      <td>2336</td>\n",
       "      <td>NaN</td>\n",
       "      <td>NaN</td>\n",
       "      <td>NaN</td>\n",
       "      <td>NaN</td>\n",
       "      <td>NaN</td>\n",
       "      <td>NaN</td>\n",
       "      <td>NaN</td>\n",
       "      <td>NaN</td>\n",
       "      <td>NaN</td>\n",
       "      <td>NaN</td>\n",
       "      <td>...</td>\n",
       "      <td>0.429067</td>\n",
       "      <td>56.428874</td>\n",
       "      <td>-0.99975</td>\n",
       "      <td>833.489583</td>\n",
       "      <td>833.781317</td>\n",
       "      <td>0.279000</td>\n",
       "      <td>-0.013482</td>\n",
       "      <td>0.292483</td>\n",
       "      <td>100.025659</td>\n",
       "      <td>100.071075</td>\n",
       "    </tr>\n",
       "    <tr>\n",
       "      <td>2337</td>\n",
       "      <td>NaN</td>\n",
       "      <td>NaN</td>\n",
       "      <td>NaN</td>\n",
       "      <td>NaN</td>\n",
       "      <td>NaN</td>\n",
       "      <td>NaN</td>\n",
       "      <td>NaN</td>\n",
       "      <td>NaN</td>\n",
       "      <td>NaN</td>\n",
       "      <td>NaN</td>\n",
       "      <td>...</td>\n",
       "      <td>0.423419</td>\n",
       "      <td>56.444558</td>\n",
       "      <td>-0.81525</td>\n",
       "      <td>833.592083</td>\n",
       "      <td>833.812653</td>\n",
       "      <td>0.274582</td>\n",
       "      <td>-0.014321</td>\n",
       "      <td>0.288902</td>\n",
       "      <td>99.994964</td>\n",
       "      <td>100.026986</td>\n",
       "    </tr>\n",
       "    <tr>\n",
       "      <td>2338</td>\n",
       "      <td>NaN</td>\n",
       "      <td>NaN</td>\n",
       "      <td>NaN</td>\n",
       "      <td>NaN</td>\n",
       "      <td>NaN</td>\n",
       "      <td>NaN</td>\n",
       "      <td>NaN</td>\n",
       "      <td>NaN</td>\n",
       "      <td>NaN</td>\n",
       "      <td>NaN</td>\n",
       "      <td>...</td>\n",
       "      <td>0.421032</td>\n",
       "      <td>82.112931</td>\n",
       "      <td>-1.09225</td>\n",
       "      <td>833.707500</td>\n",
       "      <td>833.884552</td>\n",
       "      <td>0.291524</td>\n",
       "      <td>0.002097</td>\n",
       "      <td>0.289427</td>\n",
       "      <td>100.021220</td>\n",
       "      <td>100.049948</td>\n",
       "    </tr>\n",
       "    <tr>\n",
       "      <td>2339</td>\n",
       "      <td>NaN</td>\n",
       "      <td>NaN</td>\n",
       "      <td>NaN</td>\n",
       "      <td>NaN</td>\n",
       "      <td>NaN</td>\n",
       "      <td>NaN</td>\n",
       "      <td>NaN</td>\n",
       "      <td>NaN</td>\n",
       "      <td>NaN</td>\n",
       "      <td>NaN</td>\n",
       "      <td>...</td>\n",
       "      <td>0.410958</td>\n",
       "      <td>92.055609</td>\n",
       "      <td>-0.43900</td>\n",
       "      <td>833.835417</td>\n",
       "      <td>833.924621</td>\n",
       "      <td>0.290706</td>\n",
       "      <td>0.001023</td>\n",
       "      <td>0.289683</td>\n",
       "      <td>99.998921</td>\n",
       "      <td>100.025722</td>\n",
       "    </tr>\n",
       "  </tbody>\n",
       "</table>\n",
       "<p>46800 rows × 192 columns</p>\n",
       "</div>"
      ],
      "text/plain": [
       "               open_lag0  high_lag0  low_lag0  close_lag0  spread_open_lag0  \\\n",
       "20200501 0        -2.705      0.000    -2.705     762.215              1.90   \n",
       "         1         2.535      3.750    -0.275     759.730              1.47   \n",
       "         2         3.170      4.155    -1.605     756.670              2.38   \n",
       "         3        -2.405      0.000    -3.325     759.075              2.52   \n",
       "         4         1.795      1.795    -0.155     757.280              1.85   \n",
       "...                  ...        ...       ...         ...               ...   \n",
       "20200529 2335        NaN        NaN       NaN         NaN               NaN   \n",
       "         2336        NaN        NaN       NaN         NaN               NaN   \n",
       "         2337        NaN        NaN       NaN         NaN               NaN   \n",
       "         2338        NaN        NaN       NaN         NaN               NaN   \n",
       "         2339        NaN        NaN       NaN         NaN               NaN   \n",
       "\n",
       "               spread_high_lag0  spread_low_lag0  spread_close_lag0  \\\n",
       "20200501 0                 3.01             0.80               1.37   \n",
       "         1                 4.25             0.13               2.16   \n",
       "         2                 5.91             1.41               2.52   \n",
       "         3                 2.73             0.52               1.85   \n",
       "         4                 2.73             0.98               1.86   \n",
       "...                         ...              ...                ...   \n",
       "20200529 2335               NaN              NaN                NaN   \n",
       "         2336               NaN              NaN                NaN   \n",
       "         2337               NaN              NaN                NaN   \n",
       "         2338               NaN              NaN                NaN   \n",
       "         2339               NaN              NaN                NaN   \n",
       "\n",
       "               bidsize_open_lag0  bidsize_high_lag0  ...  atr_lag5   cci_lag5  \\\n",
       "20200501 0                   1.0                3.0  ...  0.000000        NaN   \n",
       "         1                   1.0                5.0  ...  0.000000        NaN   \n",
       "         2                   5.0                7.0  ...  0.000000        NaN   \n",
       "         3                   5.0                5.0  ...  0.000000        NaN   \n",
       "         4                   3.0                3.0  ...  0.000000        NaN   \n",
       "...                          ...                ...  ...       ...        ...   \n",
       "20200529 2335                NaN                NaN  ...  0.440918  39.241955   \n",
       "         2336                NaN                NaN  ...  0.429067  56.428874   \n",
       "         2337                NaN                NaN  ...  0.423419  56.444558   \n",
       "         2338                NaN                NaN  ...  0.421032  82.112931   \n",
       "         2339                NaN                NaN  ...  0.410958  92.055609   \n",
       "\n",
       "               dpo_lag5    sma_lag5    ema_lag5  macd_lag5  macd_diff_lag5  \\\n",
       "20200501 0          NaN         NaN         NaN        NaN             NaN   \n",
       "         1          NaN         NaN         NaN        NaN             NaN   \n",
       "         2          NaN         NaN         NaN        NaN             NaN   \n",
       "         3          NaN         NaN         NaN        NaN             NaN   \n",
       "         4          NaN         NaN         NaN        NaN             NaN   \n",
       "...                 ...         ...         ...        ...             ...   \n",
       "20200529 2335   0.03525  833.457083  833.702465   0.257163       -0.038690   \n",
       "         2336  -0.99975  833.489583  833.781317   0.279000       -0.013482   \n",
       "         2337  -0.81525  833.592083  833.812653   0.274582       -0.014321   \n",
       "         2338  -1.09225  833.707500  833.884552   0.291524        0.002097   \n",
       "         2339  -0.43900  833.835417  833.924621   0.290706        0.001023   \n",
       "\n",
       "               macd_signal_lag5   dis5_lag5  dis10_lag5  \n",
       "20200501 0                  NaN         NaN         NaN  \n",
       "         1                  NaN         NaN         NaN  \n",
       "         2                  NaN         NaN         NaN  \n",
       "         3                  NaN         NaN         NaN  \n",
       "         4                  NaN   99.916433         NaN  \n",
       "...                         ...         ...         ...  \n",
       "20200529 2335          0.295853  100.035858  100.078525  \n",
       "         2336          0.292483  100.025659  100.071075  \n",
       "         2337          0.288902   99.994964  100.026986  \n",
       "         2338          0.289427  100.021220  100.049948  \n",
       "         2339          0.289683   99.998921  100.025722  \n",
       "\n",
       "[46800 rows x 192 columns]"
      ]
     },
     "execution_count": 270,
     "metadata": {},
     "output_type": "execute_result"
    }
   ],
   "source": [
    "features"
   ]
  },
  {
   "cell_type": "code",
   "execution_count": 271,
   "metadata": {},
   "outputs": [
    {
     "data": {
      "text/html": [
       "<div>\n",
       "<style scoped>\n",
       "    .dataframe tbody tr th:only-of-type {\n",
       "        vertical-align: middle;\n",
       "    }\n",
       "\n",
       "    .dataframe tbody tr th {\n",
       "        vertical-align: top;\n",
       "    }\n",
       "\n",
       "    .dataframe thead th {\n",
       "        text-align: right;\n",
       "    }\n",
       "</style>\n",
       "<table border=\"1\" class=\"dataframe\">\n",
       "  <thead>\n",
       "    <tr style=\"text-align: right;\">\n",
       "      <th></th>\n",
       "      <th>open_lag0</th>\n",
       "      <th>high_lag0</th>\n",
       "      <th>low_lag0</th>\n",
       "      <th>close_lag0</th>\n",
       "      <th>spread_open_lag0</th>\n",
       "      <th>spread_high_lag0</th>\n",
       "      <th>spread_low_lag0</th>\n",
       "      <th>spread_close_lag0</th>\n",
       "      <th>bidsize_open_lag0</th>\n",
       "      <th>bidsize_high_lag0</th>\n",
       "      <th>...</th>\n",
       "      <th>atr_lag5</th>\n",
       "      <th>cci_lag5</th>\n",
       "      <th>dpo_lag5</th>\n",
       "      <th>sma_lag5</th>\n",
       "      <th>ema_lag5</th>\n",
       "      <th>macd_lag5</th>\n",
       "      <th>macd_diff_lag5</th>\n",
       "      <th>macd_signal_lag5</th>\n",
       "      <th>dis5_lag5</th>\n",
       "      <th>dis10_lag5</th>\n",
       "    </tr>\n",
       "  </thead>\n",
       "  <tbody>\n",
       "    <tr>\n",
       "      <td>0</td>\n",
       "      <td>1.655</td>\n",
       "      <td>1.655</td>\n",
       "      <td>-0.040</td>\n",
       "      <td>767.760</td>\n",
       "      <td>1.69</td>\n",
       "      <td>2.07</td>\n",
       "      <td>0.44</td>\n",
       "      <td>1.36</td>\n",
       "      <td>1.0</td>\n",
       "      <td>4.0</td>\n",
       "      <td>...</td>\n",
       "      <td>2.277215</td>\n",
       "      <td>49.752409</td>\n",
       "      <td>-2.02475</td>\n",
       "      <td>767.945000</td>\n",
       "      <td>767.336312</td>\n",
       "      <td>2.759330</td>\n",
       "      <td>0.087870</td>\n",
       "      <td>2.671460</td>\n",
       "      <td>99.731883</td>\n",
       "      <td>99.760420</td>\n",
       "    </tr>\n",
       "    <tr>\n",
       "      <td>1</td>\n",
       "      <td>-0.970</td>\n",
       "      <td>0.305</td>\n",
       "      <td>-0.970</td>\n",
       "      <td>768.655</td>\n",
       "      <td>1.21</td>\n",
       "      <td>1.43</td>\n",
       "      <td>0.50</td>\n",
       "      <td>0.69</td>\n",
       "      <td>1.0</td>\n",
       "      <td>2.0</td>\n",
       "      <td>...</td>\n",
       "      <td>2.185628</td>\n",
       "      <td>42.465948</td>\n",
       "      <td>-0.42950</td>\n",
       "      <td>768.385417</td>\n",
       "      <td>767.389187</td>\n",
       "      <td>2.582352</td>\n",
       "      <td>-0.071287</td>\n",
       "      <td>2.653639</td>\n",
       "      <td>99.899408</td>\n",
       "      <td>99.814655</td>\n",
       "    </tr>\n",
       "    <tr>\n",
       "      <td>2</td>\n",
       "      <td>-0.745</td>\n",
       "      <td>0.050</td>\n",
       "      <td>-1.015</td>\n",
       "      <td>769.250</td>\n",
       "      <td>0.99</td>\n",
       "      <td>1.34</td>\n",
       "      <td>0.35</td>\n",
       "      <td>1.22</td>\n",
       "      <td>1.0</td>\n",
       "      <td>1.0</td>\n",
       "      <td>...</td>\n",
       "      <td>2.196298</td>\n",
       "      <td>59.194726</td>\n",
       "      <td>-0.31675</td>\n",
       "      <td>768.816667</td>\n",
       "      <td>767.737004</td>\n",
       "      <td>2.571416</td>\n",
       "      <td>-0.065778</td>\n",
       "      <td>2.637194</td>\n",
       "      <td>100.145342</td>\n",
       "      <td>100.036848</td>\n",
       "    </tr>\n",
       "    <tr>\n",
       "      <td>3</td>\n",
       "      <td>0.280</td>\n",
       "      <td>1.715</td>\n",
       "      <td>-0.375</td>\n",
       "      <td>768.900</td>\n",
       "      <td>1.08</td>\n",
       "      <td>2.10</td>\n",
       "      <td>0.57</td>\n",
       "      <td>0.80</td>\n",
       "      <td>1.0</td>\n",
       "      <td>1.0</td>\n",
       "      <td>...</td>\n",
       "      <td>2.188348</td>\n",
       "      <td>60.916684</td>\n",
       "      <td>1.09200</td>\n",
       "      <td>769.221667</td>\n",
       "      <td>768.078234</td>\n",
       "      <td>2.557875</td>\n",
       "      <td>-0.063455</td>\n",
       "      <td>2.621330</td>\n",
       "      <td>100.158963</td>\n",
       "      <td>100.058349</td>\n",
       "    </tr>\n",
       "    <tr>\n",
       "      <td>4</td>\n",
       "      <td>0.195</td>\n",
       "      <td>0.625</td>\n",
       "      <td>-0.130</td>\n",
       "      <td>768.625</td>\n",
       "      <td>0.64</td>\n",
       "      <td>1.69</td>\n",
       "      <td>0.33</td>\n",
       "      <td>1.23</td>\n",
       "      <td>1.0</td>\n",
       "      <td>3.0</td>\n",
       "      <td>...</td>\n",
       "      <td>2.121680</td>\n",
       "      <td>57.573206</td>\n",
       "      <td>2.10050</td>\n",
       "      <td>769.397083</td>\n",
       "      <td>768.242352</td>\n",
       "      <td>2.453501</td>\n",
       "      <td>-0.134263</td>\n",
       "      <td>2.587764</td>\n",
       "      <td>100.059582</td>\n",
       "      <td>99.979527</td>\n",
       "    </tr>\n",
       "    <tr>\n",
       "      <td>...</td>\n",
       "      <td>...</td>\n",
       "      <td>...</td>\n",
       "      <td>...</td>\n",
       "      <td>...</td>\n",
       "      <td>...</td>\n",
       "      <td>...</td>\n",
       "      <td>...</td>\n",
       "      <td>...</td>\n",
       "      <td>...</td>\n",
       "      <td>...</td>\n",
       "      <td>...</td>\n",
       "      <td>...</td>\n",
       "      <td>...</td>\n",
       "      <td>...</td>\n",
       "      <td>...</td>\n",
       "      <td>...</td>\n",
       "      <td>...</td>\n",
       "      <td>...</td>\n",
       "      <td>...</td>\n",
       "      <td>...</td>\n",
       "      <td>...</td>\n",
       "    </tr>\n",
       "    <tr>\n",
       "      <td>46756</td>\n",
       "      <td>0.005</td>\n",
       "      <td>0.050</td>\n",
       "      <td>-0.110</td>\n",
       "      <td>833.890</td>\n",
       "      <td>0.19</td>\n",
       "      <td>0.25</td>\n",
       "      <td>0.04</td>\n",
       "      <td>0.16</td>\n",
       "      <td>1.0</td>\n",
       "      <td>9.0</td>\n",
       "      <td>...</td>\n",
       "      <td>0.525469</td>\n",
       "      <td>-64.496530</td>\n",
       "      <td>0.47775</td>\n",
       "      <td>833.610417</td>\n",
       "      <td>833.454734</td>\n",
       "      <td>0.224050</td>\n",
       "      <td>-0.264101</td>\n",
       "      <td>0.488151</td>\n",
       "      <td>100.057503</td>\n",
       "      <td>100.004499</td>\n",
       "    </tr>\n",
       "    <tr>\n",
       "      <td>46757</td>\n",
       "      <td>-0.230</td>\n",
       "      <td>0.000</td>\n",
       "      <td>-0.235</td>\n",
       "      <td>834.145</td>\n",
       "      <td>0.11</td>\n",
       "      <td>0.30</td>\n",
       "      <td>0.01</td>\n",
       "      <td>0.15</td>\n",
       "      <td>1.0</td>\n",
       "      <td>3.0</td>\n",
       "      <td>...</td>\n",
       "      <td>0.512221</td>\n",
       "      <td>-58.165298</td>\n",
       "      <td>0.56725</td>\n",
       "      <td>833.527917</td>\n",
       "      <td>833.454006</td>\n",
       "      <td>0.207076</td>\n",
       "      <td>-0.224860</td>\n",
       "      <td>0.431936</td>\n",
       "      <td>100.037809</td>\n",
       "      <td>100.010860</td>\n",
       "    </tr>\n",
       "    <tr>\n",
       "      <td>46758</td>\n",
       "      <td>-0.075</td>\n",
       "      <td>0.005</td>\n",
       "      <td>-0.270</td>\n",
       "      <td>834.215</td>\n",
       "      <td>0.16</td>\n",
       "      <td>0.31</td>\n",
       "      <td>0.01</td>\n",
       "      <td>0.13</td>\n",
       "      <td>1.0</td>\n",
       "      <td>3.0</td>\n",
       "      <td>...</td>\n",
       "      <td>0.497420</td>\n",
       "      <td>-55.473789</td>\n",
       "      <td>0.32900</td>\n",
       "      <td>833.438750</td>\n",
       "      <td>833.451851</td>\n",
       "      <td>0.190620</td>\n",
       "      <td>-0.193053</td>\n",
       "      <td>0.383673</td>\n",
       "      <td>100.023523</td>\n",
       "      <td>100.018301</td>\n",
       "    </tr>\n",
       "    <tr>\n",
       "      <td>46759</td>\n",
       "      <td>0.230</td>\n",
       "      <td>0.285</td>\n",
       "      <td>-0.065</td>\n",
       "      <td>833.985</td>\n",
       "      <td>0.13</td>\n",
       "      <td>0.34</td>\n",
       "      <td>0.01</td>\n",
       "      <td>0.03</td>\n",
       "      <td>3.0</td>\n",
       "      <td>4.0</td>\n",
       "      <td>...</td>\n",
       "      <td>0.495461</td>\n",
       "      <td>-13.522275</td>\n",
       "      <td>0.27350</td>\n",
       "      <td>833.407500</td>\n",
       "      <td>833.513874</td>\n",
       "      <td>0.208660</td>\n",
       "      <td>-0.140010</td>\n",
       "      <td>0.348671</td>\n",
       "      <td>100.043432</td>\n",
       "      <td>100.062760</td>\n",
       "    </tr>\n",
       "    <tr>\n",
       "      <td>46760</td>\n",
       "      <td>-0.215</td>\n",
       "      <td>0.040</td>\n",
       "      <td>-0.350</td>\n",
       "      <td>834.280</td>\n",
       "      <td>0.19</td>\n",
       "      <td>0.41</td>\n",
       "      <td>0.01</td>\n",
       "      <td>0.22</td>\n",
       "      <td>1.0</td>\n",
       "      <td>4.0</td>\n",
       "      <td>...</td>\n",
       "      <td>0.477928</td>\n",
       "      <td>1.945158</td>\n",
       "      <td>-0.44900</td>\n",
       "      <td>833.385833</td>\n",
       "      <td>833.573278</td>\n",
       "      <td>0.224006</td>\n",
       "      <td>-0.099732</td>\n",
       "      <td>0.323738</td>\n",
       "      <td>100.033108</td>\n",
       "      <td>100.066599</td>\n",
       "    </tr>\n",
       "  </tbody>\n",
       "</table>\n",
       "<p>46761 rows × 192 columns</p>\n",
       "</div>"
      ],
      "text/plain": [
       "       open_lag0  high_lag0  low_lag0  close_lag0  spread_open_lag0  \\\n",
       "0          1.655      1.655    -0.040     767.760              1.69   \n",
       "1         -0.970      0.305    -0.970     768.655              1.21   \n",
       "2         -0.745      0.050    -1.015     769.250              0.99   \n",
       "3          0.280      1.715    -0.375     768.900              1.08   \n",
       "4          0.195      0.625    -0.130     768.625              0.64   \n",
       "...          ...        ...       ...         ...               ...   \n",
       "46756      0.005      0.050    -0.110     833.890              0.19   \n",
       "46757     -0.230      0.000    -0.235     834.145              0.11   \n",
       "46758     -0.075      0.005    -0.270     834.215              0.16   \n",
       "46759      0.230      0.285    -0.065     833.985              0.13   \n",
       "46760     -0.215      0.040    -0.350     834.280              0.19   \n",
       "\n",
       "       spread_high_lag0  spread_low_lag0  spread_close_lag0  \\\n",
       "0                  2.07             0.44               1.36   \n",
       "1                  1.43             0.50               0.69   \n",
       "2                  1.34             0.35               1.22   \n",
       "3                  2.10             0.57               0.80   \n",
       "4                  1.69             0.33               1.23   \n",
       "...                 ...              ...                ...   \n",
       "46756              0.25             0.04               0.16   \n",
       "46757              0.30             0.01               0.15   \n",
       "46758              0.31             0.01               0.13   \n",
       "46759              0.34             0.01               0.03   \n",
       "46760              0.41             0.01               0.22   \n",
       "\n",
       "       bidsize_open_lag0  bidsize_high_lag0  ...  atr_lag5   cci_lag5  \\\n",
       "0                    1.0                4.0  ...  2.277215  49.752409   \n",
       "1                    1.0                2.0  ...  2.185628  42.465948   \n",
       "2                    1.0                1.0  ...  2.196298  59.194726   \n",
       "3                    1.0                1.0  ...  2.188348  60.916684   \n",
       "4                    1.0                3.0  ...  2.121680  57.573206   \n",
       "...                  ...                ...  ...       ...        ...   \n",
       "46756                1.0                9.0  ...  0.525469 -64.496530   \n",
       "46757                1.0                3.0  ...  0.512221 -58.165298   \n",
       "46758                1.0                3.0  ...  0.497420 -55.473789   \n",
       "46759                3.0                4.0  ...  0.495461 -13.522275   \n",
       "46760                1.0                4.0  ...  0.477928   1.945158   \n",
       "\n",
       "       dpo_lag5    sma_lag5    ema_lag5  macd_lag5  macd_diff_lag5  \\\n",
       "0      -2.02475  767.945000  767.336312   2.759330        0.087870   \n",
       "1      -0.42950  768.385417  767.389187   2.582352       -0.071287   \n",
       "2      -0.31675  768.816667  767.737004   2.571416       -0.065778   \n",
       "3       1.09200  769.221667  768.078234   2.557875       -0.063455   \n",
       "4       2.10050  769.397083  768.242352   2.453501       -0.134263   \n",
       "...         ...         ...         ...        ...             ...   \n",
       "46756   0.47775  833.610417  833.454734   0.224050       -0.264101   \n",
       "46757   0.56725  833.527917  833.454006   0.207076       -0.224860   \n",
       "46758   0.32900  833.438750  833.451851   0.190620       -0.193053   \n",
       "46759   0.27350  833.407500  833.513874   0.208660       -0.140010   \n",
       "46760  -0.44900  833.385833  833.573278   0.224006       -0.099732   \n",
       "\n",
       "       macd_signal_lag5   dis5_lag5  dis10_lag5  \n",
       "0              2.671460   99.731883   99.760420  \n",
       "1              2.653639   99.899408   99.814655  \n",
       "2              2.637194  100.145342  100.036848  \n",
       "3              2.621330  100.158963  100.058349  \n",
       "4              2.587764  100.059582   99.979527  \n",
       "...                 ...         ...         ...  \n",
       "46756          0.488151  100.057503  100.004499  \n",
       "46757          0.431936  100.037809  100.010860  \n",
       "46758          0.383673  100.023523  100.018301  \n",
       "46759          0.348671  100.043432  100.062760  \n",
       "46760          0.323738  100.033108  100.066599  \n",
       "\n",
       "[46761 rows x 192 columns]"
      ]
     },
     "execution_count": 271,
     "metadata": {},
     "output_type": "execute_result"
    }
   ],
   "source": [
    "X"
   ]
  },
  {
   "cell_type": "code",
   "execution_count": null,
   "metadata": {},
   "outputs": [],
   "source": []
  },
  {
   "cell_type": "code",
   "execution_count": 85,
   "metadata": {},
   "outputs": [
    {
     "data": {
      "text/plain": [
       "'\\nWe need:\\n\\nvalidate_ds = val_data.cache()\\ntrain_ds = train_data.cache()\\n\\nvalidate_ds = validate_ds.batch(BATCH_SIZE)\\ntrain_ds = train_ds.batch(BATCH_SIZE)\\n\\n\\n'"
      ]
     },
     "execution_count": 85,
     "metadata": {},
     "output_type": "execute_result"
    }
   ],
   "source": [
    "'''\n",
    "We need:\n",
    "\n",
    "validate_ds = val_data.cache()\n",
    "train_ds = train_data.cache()\n",
    "\n",
    "validate_ds = validate_ds.batch(BATCH_SIZE)\n",
    "train_ds = train_ds.batch(BATCH_SIZE)\n",
    "\n",
    "\n",
    "'''"
   ]
  },
  {
   "cell_type": "code",
   "execution_count": 272,
   "metadata": {},
   "outputs": [],
   "source": [
    "val_cutoff = int(X.shape[0]*0.8)\n",
    "train_ds, train_y = X.iloc[:val_cutoff, :], y[:val_cutoff]\n",
    "validate_ds, val_y = X.iloc[val_cutoff:, :], y[val_cutoff:]\n"
   ]
  },
  {
   "cell_type": "code",
   "execution_count": 273,
   "metadata": {},
   "outputs": [
    {
     "data": {
      "text/plain": [
       "(37408, 9353, 146, 131, 73000)"
      ]
     },
     "execution_count": 273,
     "metadata": {},
     "output_type": "execute_result"
    }
   ],
   "source": [
    "N_VALIDATION = y[val_cutoff:].shape[0] #int(1e3)\n",
    "N_TRAIN = y[:val_cutoff].shape[0] #int(1e4)\n",
    "# BUFFER_SIZE = int(1e4)\n",
    "BATCH_SIZE = 256 #512 #32\n",
    "MAX_EPOCHS = 500\n",
    "\n",
    "STEPS_PER_EPOCH = N_TRAIN//BATCH_SIZE\n",
    "\n",
    "N_REPEAT = int(N_TRAIN / ((STEPS_PER_EPOCH * MAX_EPOCHS) / BATCH_SIZE))\n",
    "FEATURES = features.shape[1]\n",
    "\n",
    "N_TRAIN, N_VALIDATION, STEPS_PER_EPOCH, N_REPEAT, STEPS_PER_EPOCH * MAX_EPOCHS"
   ]
  },
  {
   "cell_type": "code",
   "execution_count": 274,
   "metadata": {},
   "outputs": [
    {
     "data": {
      "text/html": [
       "<div>\n",
       "<style scoped>\n",
       "    .dataframe tbody tr th:only-of-type {\n",
       "        vertical-align: middle;\n",
       "    }\n",
       "\n",
       "    .dataframe tbody tr th {\n",
       "        vertical-align: top;\n",
       "    }\n",
       "\n",
       "    .dataframe thead th {\n",
       "        text-align: right;\n",
       "    }\n",
       "</style>\n",
       "<table border=\"1\" class=\"dataframe\">\n",
       "  <thead>\n",
       "    <tr style=\"text-align: right;\">\n",
       "      <th></th>\n",
       "      <th>open_lag0</th>\n",
       "      <th>high_lag0</th>\n",
       "      <th>low_lag0</th>\n",
       "      <th>close_lag0</th>\n",
       "      <th>spread_open_lag0</th>\n",
       "      <th>spread_high_lag0</th>\n",
       "      <th>spread_low_lag0</th>\n",
       "      <th>spread_close_lag0</th>\n",
       "      <th>bidsize_open_lag0</th>\n",
       "      <th>bidsize_high_lag0</th>\n",
       "      <th>...</th>\n",
       "      <th>atr_lag5</th>\n",
       "      <th>cci_lag5</th>\n",
       "      <th>dpo_lag5</th>\n",
       "      <th>sma_lag5</th>\n",
       "      <th>ema_lag5</th>\n",
       "      <th>macd_lag5</th>\n",
       "      <th>macd_diff_lag5</th>\n",
       "      <th>macd_signal_lag5</th>\n",
       "      <th>dis5_lag5</th>\n",
       "      <th>dis10_lag5</th>\n",
       "    </tr>\n",
       "  </thead>\n",
       "  <tbody>\n",
       "    <tr>\n",
       "      <td>37408</td>\n",
       "      <td>0.615</td>\n",
       "      <td>0.765</td>\n",
       "      <td>-0.190</td>\n",
       "      <td>829.745</td>\n",
       "      <td>0.66</td>\n",
       "      <td>1.88</td>\n",
       "      <td>0.49</td>\n",
       "      <td>1.49</td>\n",
       "      <td>1.0</td>\n",
       "      <td>19.0</td>\n",
       "      <td>...</td>\n",
       "      <td>1.652706</td>\n",
       "      <td>325.673076</td>\n",
       "      <td>-1.78275</td>\n",
       "      <td>819.335417</td>\n",
       "      <td>821.006514</td>\n",
       "      <td>1.952296</td>\n",
       "      <td>1.417742</td>\n",
       "      <td>0.534554</td>\n",
       "      <td>101.052779</td>\n",
       "      <td>101.389456</td>\n",
       "    </tr>\n",
       "    <tr>\n",
       "      <td>37409</td>\n",
       "      <td>0.930</td>\n",
       "      <td>1.165</td>\n",
       "      <td>-0.950</td>\n",
       "      <td>828.770</td>\n",
       "      <td>1.40</td>\n",
       "      <td>2.55</td>\n",
       "      <td>0.48</td>\n",
       "      <td>1.60</td>\n",
       "      <td>19.0</td>\n",
       "      <td>20.0</td>\n",
       "      <td>...</td>\n",
       "      <td>1.571798</td>\n",
       "      <td>216.859739</td>\n",
       "      <td>-2.27175</td>\n",
       "      <td>820.557083</td>\n",
       "      <td>822.590896</td>\n",
       "      <td>2.629213</td>\n",
       "      <td>1.675727</td>\n",
       "      <td>0.953486</td>\n",
       "      <td>100.715533</td>\n",
       "      <td>101.219053</td>\n",
       "    </tr>\n",
       "    <tr>\n",
       "      <td>37410</td>\n",
       "      <td>0.115</td>\n",
       "      <td>0.600</td>\n",
       "      <td>-0.535</td>\n",
       "      <td>828.390</td>\n",
       "      <td>1.07</td>\n",
       "      <td>2.60</td>\n",
       "      <td>0.01</td>\n",
       "      <td>1.72</td>\n",
       "      <td>1.0</td>\n",
       "      <td>2.0</td>\n",
       "      <td>...</td>\n",
       "      <td>1.560241</td>\n",
       "      <td>166.433104</td>\n",
       "      <td>-2.89250</td>\n",
       "      <td>821.757500</td>\n",
       "      <td>823.923066</td>\n",
       "      <td>3.125212</td>\n",
       "      <td>1.737380</td>\n",
       "      <td>1.387831</td>\n",
       "      <td>100.359059</td>\n",
       "      <td>101.035822</td>\n",
       "    </tr>\n",
       "    <tr>\n",
       "      <td>37411</td>\n",
       "      <td>-0.675</td>\n",
       "      <td>0.460</td>\n",
       "      <td>-1.030</td>\n",
       "      <td>829.010</td>\n",
       "      <td>1.61</td>\n",
       "      <td>2.45</td>\n",
       "      <td>0.62</td>\n",
       "      <td>1.86</td>\n",
       "      <td>1.0</td>\n",
       "      <td>1.0</td>\n",
       "      <td>...</td>\n",
       "      <td>1.565581</td>\n",
       "      <td>124.914063</td>\n",
       "      <td>-3.56400</td>\n",
       "      <td>822.896250</td>\n",
       "      <td>824.946441</td>\n",
       "      <td>3.424353</td>\n",
       "      <td>1.629217</td>\n",
       "      <td>1.795136</td>\n",
       "      <td>99.941280</td>\n",
       "      <td>100.788335</td>\n",
       "    </tr>\n",
       "    <tr>\n",
       "      <td>37412</td>\n",
       "      <td>-0.070</td>\n",
       "      <td>0.520</td>\n",
       "      <td>-0.400</td>\n",
       "      <td>829.080</td>\n",
       "      <td>1.86</td>\n",
       "      <td>1.86</td>\n",
       "      <td>0.25</td>\n",
       "      <td>0.78</td>\n",
       "      <td>2.0</td>\n",
       "      <td>4.0</td>\n",
       "      <td>...</td>\n",
       "      <td>1.506254</td>\n",
       "      <td>103.420475</td>\n",
       "      <td>-4.04550</td>\n",
       "      <td>824.017917</td>\n",
       "      <td>825.779296</td>\n",
       "      <td>3.602548</td>\n",
       "      <td>1.445930</td>\n",
       "      <td>2.156618</td>\n",
       "      <td>99.929358</td>\n",
       "      <td>100.600555</td>\n",
       "    </tr>\n",
       "    <tr>\n",
       "      <td>...</td>\n",
       "      <td>...</td>\n",
       "      <td>...</td>\n",
       "      <td>...</td>\n",
       "      <td>...</td>\n",
       "      <td>...</td>\n",
       "      <td>...</td>\n",
       "      <td>...</td>\n",
       "      <td>...</td>\n",
       "      <td>...</td>\n",
       "      <td>...</td>\n",
       "      <td>...</td>\n",
       "      <td>...</td>\n",
       "      <td>...</td>\n",
       "      <td>...</td>\n",
       "      <td>...</td>\n",
       "      <td>...</td>\n",
       "      <td>...</td>\n",
       "      <td>...</td>\n",
       "      <td>...</td>\n",
       "      <td>...</td>\n",
       "      <td>...</td>\n",
       "    </tr>\n",
       "    <tr>\n",
       "      <td>46756</td>\n",
       "      <td>0.005</td>\n",
       "      <td>0.050</td>\n",
       "      <td>-0.110</td>\n",
       "      <td>833.890</td>\n",
       "      <td>0.19</td>\n",
       "      <td>0.25</td>\n",
       "      <td>0.04</td>\n",
       "      <td>0.16</td>\n",
       "      <td>1.0</td>\n",
       "      <td>9.0</td>\n",
       "      <td>...</td>\n",
       "      <td>0.525469</td>\n",
       "      <td>-64.496530</td>\n",
       "      <td>0.47775</td>\n",
       "      <td>833.610417</td>\n",
       "      <td>833.454734</td>\n",
       "      <td>0.224050</td>\n",
       "      <td>-0.264101</td>\n",
       "      <td>0.488151</td>\n",
       "      <td>100.057503</td>\n",
       "      <td>100.004499</td>\n",
       "    </tr>\n",
       "    <tr>\n",
       "      <td>46757</td>\n",
       "      <td>-0.230</td>\n",
       "      <td>0.000</td>\n",
       "      <td>-0.235</td>\n",
       "      <td>834.145</td>\n",
       "      <td>0.11</td>\n",
       "      <td>0.30</td>\n",
       "      <td>0.01</td>\n",
       "      <td>0.15</td>\n",
       "      <td>1.0</td>\n",
       "      <td>3.0</td>\n",
       "      <td>...</td>\n",
       "      <td>0.512221</td>\n",
       "      <td>-58.165298</td>\n",
       "      <td>0.56725</td>\n",
       "      <td>833.527917</td>\n",
       "      <td>833.454006</td>\n",
       "      <td>0.207076</td>\n",
       "      <td>-0.224860</td>\n",
       "      <td>0.431936</td>\n",
       "      <td>100.037809</td>\n",
       "      <td>100.010860</td>\n",
       "    </tr>\n",
       "    <tr>\n",
       "      <td>46758</td>\n",
       "      <td>-0.075</td>\n",
       "      <td>0.005</td>\n",
       "      <td>-0.270</td>\n",
       "      <td>834.215</td>\n",
       "      <td>0.16</td>\n",
       "      <td>0.31</td>\n",
       "      <td>0.01</td>\n",
       "      <td>0.13</td>\n",
       "      <td>1.0</td>\n",
       "      <td>3.0</td>\n",
       "      <td>...</td>\n",
       "      <td>0.497420</td>\n",
       "      <td>-55.473789</td>\n",
       "      <td>0.32900</td>\n",
       "      <td>833.438750</td>\n",
       "      <td>833.451851</td>\n",
       "      <td>0.190620</td>\n",
       "      <td>-0.193053</td>\n",
       "      <td>0.383673</td>\n",
       "      <td>100.023523</td>\n",
       "      <td>100.018301</td>\n",
       "    </tr>\n",
       "    <tr>\n",
       "      <td>46759</td>\n",
       "      <td>0.230</td>\n",
       "      <td>0.285</td>\n",
       "      <td>-0.065</td>\n",
       "      <td>833.985</td>\n",
       "      <td>0.13</td>\n",
       "      <td>0.34</td>\n",
       "      <td>0.01</td>\n",
       "      <td>0.03</td>\n",
       "      <td>3.0</td>\n",
       "      <td>4.0</td>\n",
       "      <td>...</td>\n",
       "      <td>0.495461</td>\n",
       "      <td>-13.522275</td>\n",
       "      <td>0.27350</td>\n",
       "      <td>833.407500</td>\n",
       "      <td>833.513874</td>\n",
       "      <td>0.208660</td>\n",
       "      <td>-0.140010</td>\n",
       "      <td>0.348671</td>\n",
       "      <td>100.043432</td>\n",
       "      <td>100.062760</td>\n",
       "    </tr>\n",
       "    <tr>\n",
       "      <td>46760</td>\n",
       "      <td>-0.215</td>\n",
       "      <td>0.040</td>\n",
       "      <td>-0.350</td>\n",
       "      <td>834.280</td>\n",
       "      <td>0.19</td>\n",
       "      <td>0.41</td>\n",
       "      <td>0.01</td>\n",
       "      <td>0.22</td>\n",
       "      <td>1.0</td>\n",
       "      <td>4.0</td>\n",
       "      <td>...</td>\n",
       "      <td>0.477928</td>\n",
       "      <td>1.945158</td>\n",
       "      <td>-0.44900</td>\n",
       "      <td>833.385833</td>\n",
       "      <td>833.573278</td>\n",
       "      <td>0.224006</td>\n",
       "      <td>-0.099732</td>\n",
       "      <td>0.323738</td>\n",
       "      <td>100.033108</td>\n",
       "      <td>100.066599</td>\n",
       "    </tr>\n",
       "  </tbody>\n",
       "</table>\n",
       "<p>9353 rows × 192 columns</p>\n",
       "</div>"
      ],
      "text/plain": [
       "       open_lag0  high_lag0  low_lag0  close_lag0  spread_open_lag0  \\\n",
       "37408      0.615      0.765    -0.190     829.745              0.66   \n",
       "37409      0.930      1.165    -0.950     828.770              1.40   \n",
       "37410      0.115      0.600    -0.535     828.390              1.07   \n",
       "37411     -0.675      0.460    -1.030     829.010              1.61   \n",
       "37412     -0.070      0.520    -0.400     829.080              1.86   \n",
       "...          ...        ...       ...         ...               ...   \n",
       "46756      0.005      0.050    -0.110     833.890              0.19   \n",
       "46757     -0.230      0.000    -0.235     834.145              0.11   \n",
       "46758     -0.075      0.005    -0.270     834.215              0.16   \n",
       "46759      0.230      0.285    -0.065     833.985              0.13   \n",
       "46760     -0.215      0.040    -0.350     834.280              0.19   \n",
       "\n",
       "       spread_high_lag0  spread_low_lag0  spread_close_lag0  \\\n",
       "37408              1.88             0.49               1.49   \n",
       "37409              2.55             0.48               1.60   \n",
       "37410              2.60             0.01               1.72   \n",
       "37411              2.45             0.62               1.86   \n",
       "37412              1.86             0.25               0.78   \n",
       "...                 ...              ...                ...   \n",
       "46756              0.25             0.04               0.16   \n",
       "46757              0.30             0.01               0.15   \n",
       "46758              0.31             0.01               0.13   \n",
       "46759              0.34             0.01               0.03   \n",
       "46760              0.41             0.01               0.22   \n",
       "\n",
       "       bidsize_open_lag0  bidsize_high_lag0  ...  atr_lag5    cci_lag5  \\\n",
       "37408                1.0               19.0  ...  1.652706  325.673076   \n",
       "37409               19.0               20.0  ...  1.571798  216.859739   \n",
       "37410                1.0                2.0  ...  1.560241  166.433104   \n",
       "37411                1.0                1.0  ...  1.565581  124.914063   \n",
       "37412                2.0                4.0  ...  1.506254  103.420475   \n",
       "...                  ...                ...  ...       ...         ...   \n",
       "46756                1.0                9.0  ...  0.525469  -64.496530   \n",
       "46757                1.0                3.0  ...  0.512221  -58.165298   \n",
       "46758                1.0                3.0  ...  0.497420  -55.473789   \n",
       "46759                3.0                4.0  ...  0.495461  -13.522275   \n",
       "46760                1.0                4.0  ...  0.477928    1.945158   \n",
       "\n",
       "       dpo_lag5    sma_lag5    ema_lag5  macd_lag5  macd_diff_lag5  \\\n",
       "37408  -1.78275  819.335417  821.006514   1.952296        1.417742   \n",
       "37409  -2.27175  820.557083  822.590896   2.629213        1.675727   \n",
       "37410  -2.89250  821.757500  823.923066   3.125212        1.737380   \n",
       "37411  -3.56400  822.896250  824.946441   3.424353        1.629217   \n",
       "37412  -4.04550  824.017917  825.779296   3.602548        1.445930   \n",
       "...         ...         ...         ...        ...             ...   \n",
       "46756   0.47775  833.610417  833.454734   0.224050       -0.264101   \n",
       "46757   0.56725  833.527917  833.454006   0.207076       -0.224860   \n",
       "46758   0.32900  833.438750  833.451851   0.190620       -0.193053   \n",
       "46759   0.27350  833.407500  833.513874   0.208660       -0.140010   \n",
       "46760  -0.44900  833.385833  833.573278   0.224006       -0.099732   \n",
       "\n",
       "       macd_signal_lag5   dis5_lag5  dis10_lag5  \n",
       "37408          0.534554  101.052779  101.389456  \n",
       "37409          0.953486  100.715533  101.219053  \n",
       "37410          1.387831  100.359059  101.035822  \n",
       "37411          1.795136   99.941280  100.788335  \n",
       "37412          2.156618   99.929358  100.600555  \n",
       "...                 ...         ...         ...  \n",
       "46756          0.488151  100.057503  100.004499  \n",
       "46757          0.431936  100.037809  100.010860  \n",
       "46758          0.383673  100.023523  100.018301  \n",
       "46759          0.348671  100.043432  100.062760  \n",
       "46760          0.323738  100.033108  100.066599  \n",
       "\n",
       "[9353 rows x 192 columns]"
      ]
     },
     "execution_count": 274,
     "metadata": {},
     "output_type": "execute_result"
    }
   ],
   "source": [
    "X.iloc[val_cutoff:end_cutoff, :]"
   ]
  },
  {
   "cell_type": "code",
   "execution_count": 275,
   "metadata": {},
   "outputs": [
    {
     "data": {
      "text/plain": [
       "((37408, 192), (37408,), (9353, 192), (9353,))"
      ]
     },
     "execution_count": 275,
     "metadata": {},
     "output_type": "execute_result"
    }
   ],
   "source": [
    "train_ds.shape, train_y.shape, validate_ds.shape, val_y.shape"
   ]
  },
  {
   "cell_type": "code",
   "execution_count": 276,
   "metadata": {},
   "outputs": [
    {
     "data": {
      "text/plain": [
       "<BatchDataset shapes: ((None, 192), (None,)), types: (tf.float64, tf.float64)>"
      ]
     },
     "execution_count": 276,
     "metadata": {},
     "output_type": "execute_result"
    }
   ],
   "source": [
    "train_ds = tf.data.Dataset.from_tensor_slices((X.iloc[:val_cutoff, :].values, y[:val_cutoff])).cache().repeat(N_REPEAT).batch(BATCH_SIZE)\n",
    "train_ds"
   ]
  },
  {
   "cell_type": "code",
   "execution_count": 277,
   "metadata": {},
   "outputs": [
    {
     "name": "stdout",
     "output_type": "stream",
     "text": [
      "Features: [[ 1.65500000e+00  1.65500000e+00 -4.00000000e-02 ...  2.67146029e+00\n",
      "   9.97318829e+01  9.97604205e+01]\n",
      " [-9.70000000e-01  3.05000000e-01 -9.70000000e-01 ...  2.65363860e+00\n",
      "   9.98994083e+01  9.98146548e+01]\n",
      " [-7.45000000e-01  5.00000000e-02 -1.01500000e+00 ...  2.63719415e+00\n",
      "   1.00145342e+02  1.00036848e+02]\n",
      " ...\n",
      " [-4.60000000e-01  0.00000000e+00 -9.05000000e-01 ...  5.49947794e-01\n",
      "   9.99404677e+01  9.98417581e+01]\n",
      " [ 1.30000000e-01  2.75000000e-01  0.00000000e+00 ...  4.35363449e-01\n",
      "   9.97900612e+01  9.97044912e+01]\n",
      " [-2.00000000e-02  1.75000000e-01 -5.45000000e-01 ...  3.20229782e-01\n",
      "   9.99221795e+01  9.98335985e+01]], Target: [1. 1. 0. 0. 0. 0. 0. 0. 0. 1. 0. 0. 0. 0. 1. 1. 0. 0. 1. 1. 0. 1. 1. 0.\n",
      " 1. 0. 0. 0. 1. 0. 1. 1. 0. 1. 1. 0. 1. 0. 0. 0. 1. 0. 0. 0. 0. 1. 0. 0.\n",
      " 1. 1. 1. 0. 0. 1. 0. 0. 0. 0. 0. 0. 0. 0. 1. 1. 1. 0. 1. 1. 0. 0. 1. 1.\n",
      " 1. 0. 1. 1. 0. 0. 1. 1. 1. 0. 0. 0. 0. 0. 0. 0. 0. 1. 0. 0. 0. 1. 1. 1.\n",
      " 1. 0. 0. 0. 0. 1. 1. 0. 1. 1. 0. 0. 0. 1. 0. 1. 1. 1. 0. 1. 1. 1. 1. 1.\n",
      " 1. 1. 1. 1. 1. 1. 1. 1. 0. 0. 0. 1. 1. 1. 1. 0. 1. 1. 1. 0. 0. 1. 0. 1.\n",
      " 1. 1. 1. 0. 1. 1. 1. 1. 0. 0. 1. 0. 0. 0. 1. 1. 0. 0. 0. 1. 0. 0. 0. 1.\n",
      " 0. 0. 1. 0. 1. 1. 1. 1. 1. 0. 1. 1. 1. 1. 1. 0. 1. 0. 0. 1. 0. 0. 0. 1.\n",
      " 0. 1. 0. 0. 1. 0. 0. 0. 0. 0. 0. 1. 1. 1. 0. 0. 0. 1. 1. 1. 1. 0. 0. 1.\n",
      " 1. 1. 1. 1. 1. 1. 0. 0. 0. 1. 1. 1. 1. 0. 1. 1. 0. 1. 1. 1. 1. 1. 1. 0.\n",
      " 0. 0. 1. 0. 1. 0. 1. 0. 0. 1. 0. 0. 1. 0. 0. 1.]\n",
      "Features: [[-2.45000000e-01  0.00000000e+00 -6.15000000e-01 ...  2.08781088e-01\n",
      "   9.99479677e+01  9.98600618e+01]\n",
      " [-6.00000000e-01  2.65000000e-01 -9.30000000e-01 ...  1.04928760e-01\n",
      "   9.99840251e+01  9.98808441e+01]\n",
      " [-2.00000000e-01  2.50000000e-02 -2.00000000e-01 ...  1.80625873e-02\n",
      "   1.00058184e+02  9.99603617e+01]\n",
      " ...\n",
      " [-5.85000000e-01  1.00000000e-01 -6.40000000e-01 ... -4.62179623e-01\n",
      "   9.98269129e+01  9.98022257e+01]\n",
      " [ 4.05000000e-01  4.05000000e-01 -2.15000000e-01 ... -5.29720450e-01\n",
      "   9.98606919e+01  9.98240584e+01]\n",
      " [ 1.25000000e-01  2.00000000e-01 -1.50000000e-02 ... -6.00454871e-01\n",
      "   9.98910929e+01  9.98259803e+01]], Target: [1. 1. 0. 1. 1. 0. 0. 0. 1. 1. 1. 1. 1. 0. 0. 1. 0. 0. 0. 0. 0. 1. 1. 1.\n",
      " 1. 1. 0. 1. 0. 0. 0. 0. 1. 1. 1. 1. 1. 1. 0. 1. 0. 1. 0. 1. 1. 1. 1. 0.\n",
      " 0. 1. 1. 0. 1. 0. 0. 0. 0. 0. 1. 1. 1. 0. 0. 0. 1. 1. 1. 0. 0. 0. 0. 1.\n",
      " 0. 0. 0. 1. 0. 1. 1. 0. 0. 0. 0. 0. 0. 1. 1. 0. 0. 0. 1. 1. 1. 1. 1. 1.\n",
      " 1. 1. 1. 1. 1. 0. 1. 1. 1. 0. 0. 0. 0. 1. 0. 1. 1. 1. 1. 0. 1. 0. 1. 0.\n",
      " 1. 1. 0. 1. 1. 0. 0. 1. 1. 0. 0. 1. 1. 1. 1. 1. 1. 0. 0. 1. 0. 1. 1. 0.\n",
      " 0. 1. 1. 0. 1. 0. 0. 0. 0. 1. 1. 1. 0. 0. 0. 1. 1. 1. 0. 0. 0. 0. 0. 0.\n",
      " 0. 1. 0. 1. 1. 1. 1. 1. 1. 1. 0. 1. 1. 0. 0. 0. 0. 1. 1. 0. 1. 1. 0. 0.\n",
      " 0. 1. 1. 0. 0. 0. 0. 0. 1. 1. 0. 1. 0. 1. 0. 0. 1. 1. 1. 0. 0. 1. 0. 1.\n",
      " 1. 1. 0. 1. 1. 0. 1. 0. 0. 1. 1. 1. 1. 1. 1. 0. 0. 0. 0. 0. 0. 1. 1. 0.\n",
      " 0. 0. 1. 1. 0. 0. 0. 0. 0. 0. 0. 0. 1. 0. 0. 1.]\n"
     ]
    }
   ],
   "source": [
    "for feat, targ in train_ds.take(2):\n",
    "  print ('Features: {}, Target: {}'.format(feat, targ))"
   ]
  },
  {
   "cell_type": "code",
   "execution_count": 278,
   "metadata": {},
   "outputs": [],
   "source": [
    "validate_ds = tf.data.Dataset.from_tensor_slices((X.iloc[val_cutoff:end_cutoff, :].values, \n",
    "                                                  y[val_cutoff:end_cutoff]))\\\n",
    "                                                    .cache().repeat(N_REPEAT).batch(BATCH_SIZE)"
   ]
  },
  {
   "cell_type": "code",
   "execution_count": 279,
   "metadata": {},
   "outputs": [
    {
     "data": {
      "text/plain": [
       "<BatchDataset shapes: ((None, 192), (None,)), types: (tf.float64, tf.float64)>"
      ]
     },
     "execution_count": 279,
     "metadata": {},
     "output_type": "execute_result"
    }
   ],
   "source": [
    "validate_ds"
   ]
  },
  {
   "cell_type": "code",
   "execution_count": 280,
   "metadata": {},
   "outputs": [
    {
     "name": "stdout",
     "output_type": "stream",
     "text": [
      "Features: [[ 6.15000000e-01  7.65000000e-01 -1.90000000e-01 ...  5.34554462e-01\n",
      "   1.01052779e+02  1.01389456e+02]\n",
      " [ 9.30000000e-01  1.16500000e+00 -9.50000000e-01 ...  9.53486257e-01\n",
      "   1.00715533e+02  1.01219053e+02]\n",
      " [ 1.15000000e-01  6.00000000e-01 -5.35000000e-01 ...  1.38783132e+00\n",
      "   1.00359059e+02  1.01035822e+02]\n",
      " ...\n",
      " [ 1.35000000e-01  2.00000000e-01 -1.70000000e-01 ... -4.66181892e-01\n",
      "   9.98247260e+01  9.97631859e+01]\n",
      " [-1.75000000e-01  1.10000000e-01 -1.80000000e-01 ... -5.22307076e-01\n",
      "   9.98658450e+01  9.97716776e+01]\n",
      " [ 3.70000000e-01  6.75000000e-01 -1.50000000e-02 ... -5.87850906e-01\n",
      "   9.98868255e+01  9.97748772e+01]], Target: [0. 0. 1. 1. 0. 0. 0. 0. 1. 0. 0. 1. 0. 0. 0. 1. 1. 1. 0. 1. 1. 1. 0. 1.\n",
      " 1. 1. 1. 0. 0. 1. 1. 0. 1. 1. 0. 1. 1. 1. 0. 0. 1. 0. 1. 1. 1. 0. 0. 1.\n",
      " 0. 1. 0. 1. 0. 0. 1. 1. 1. 0. 0. 1. 0. 1. 1. 1. 0. 1. 0. 0. 0. 1. 1. 1.\n",
      " 0. 1. 1. 1. 1. 0. 1. 1. 0. 1. 1. 1. 0. 0. 0. 0. 1. 0. 0. 0. 0. 0. 0. 0.\n",
      " 0. 0. 0. 1. 0. 0. 1. 1. 0. 0. 1. 0. 0. 0. 0. 0. 1. 1. 1. 0. 0. 1. 0. 1.\n",
      " 0. 1. 0. 1. 1. 1. 0. 0. 1. 0. 1. 0. 1. 1. 0. 1. 0. 1. 1. 1. 1. 0. 0. 1.\n",
      " 1. 0. 0. 0. 1. 1. 0. 1. 0. 1. 0. 1. 0. 0. 1. 1. 0. 1. 1. 1. 1. 0. 1. 1.\n",
      " 1. 1. 0. 1. 1. 1. 1. 0. 1. 0. 0. 1. 0. 1. 0. 1. 1. 1. 0. 0. 1. 1. 0. 0.\n",
      " 1. 0. 0. 0. 0. 1. 1. 1. 0. 1. 1. 1. 0. 1. 1. 0. 0. 1. 1. 0. 0. 1. 1. 1.\n",
      " 0. 0. 0. 1. 1. 0. 0. 0. 0. 1. 1. 0. 0. 0. 0. 1. 0. 1. 0. 0. 1. 1. 1. 1.\n",
      " 0. 1. 1. 0. 0. 0. 0. 0. 0. 0. 1. 1. 0. 1. 0. 0.]\n",
      "Features: [[ 1.60000000e-01  1.65000000e-01 -1.15000000e-01 ... -6.45268852e-01\n",
      "   9.99912351e+01  9.98730597e+01]\n",
      " [ 2.35000000e-01  2.35000000e-01 -9.50000000e-02 ... -6.87608737e-01\n",
      "   1.00058203e+02  9.99389470e+01]\n",
      " [-2.40000000e-01  1.70000000e-01 -2.40000000e-01 ... -7.19423509e-01\n",
      "   1.00030317e+02  9.99453781e+01]\n",
      " ...\n",
      " [ 1.15000000e-01  2.85000000e-01 -9.50000000e-02 ...  4.16167677e-01\n",
      "   1.00008020e+02  1.00047774e+02]\n",
      " [ 3.50000000e-01  3.50000000e-01  0.00000000e+00 ...  4.25761898e-01\n",
      "   9.99826226e+01  1.00004497e+02]\n",
      " [-7.50000000e-02  1.00000000e-01 -1.55000000e-01 ...  4.33734002e-01\n",
      "   1.00009964e+02  1.00026737e+02]], Target: [0. 1. 0. 1. 0. 1. 1. 0. 1. 1. 1. 1. 0. 0. 1. 1. 0. 0. 1. 0. 1. 0. 0. 1.\n",
      " 1. 0. 0. 0. 0. 1. 0. 1. 1. 1. 1. 0. 1. 0. 0. 0. 1. 0. 0. 1. 0. 0. 1. 1.\n",
      " 1. 1. 1. 0. 1. 1. 0. 1. 1. 1. 1. 0. 1. 1. 0. 0. 0. 0. 0. 0. 1. 1. 1. 0.\n",
      " 0. 1. 0. 0. 1. 1. 1. 0. 1. 0. 1. 1. 0. 1. 1. 0. 1. 0. 0. 0. 1. 1. 1. 0.\n",
      " 1. 0. 0. 1. 1. 0. 1. 0. 1. 0. 1. 0. 1. 0. 0. 0. 1. 1. 0. 1. 1. 0. 1. 1.\n",
      " 0. 1. 0. 0. 0. 0. 1. 1. 0. 0. 0. 0. 1. 1. 0. 1. 0. 1. 1. 1. 0. 0. 1. 0.\n",
      " 0. 0. 0. 1. 0. 1. 1. 0. 1. 1. 0. 0. 0. 1. 1. 1. 1. 0. 0. 0. 0. 0. 0. 0.\n",
      " 1. 1. 0. 1. 1. 1. 0. 1. 1. 0. 0. 1. 0. 0. 0. 0. 0. 0. 1. 1. 1. 1. 1. 1.\n",
      " 1. 1. 1. 1. 1. 0. 1. 0. 1. 0. 0. 0. 0. 1. 1. 1. 1. 1. 1. 0. 0. 1. 0. 1.\n",
      " 1. 0. 0. 0. 1. 1. 0. 0. 1. 1. 1. 1. 1. 1. 1. 0. 1. 0. 1. 1. 1. 1. 0. 1.\n",
      " 1. 1. 0. 1. 0. 1. 1. 1. 0. 1. 0. 0. 0. 0. 1. 1.]\n"
     ]
    }
   ],
   "source": [
    "for feat, targ in validate_ds.take(2):\n",
    "  print ('Features: {}, Target: {}'.format(feat, targ))"
   ]
  },
  {
   "cell_type": "markdown",
   "metadata": {
    "colab_type": "text",
    "id": "lglk41MwvU5o"
   },
   "source": [
    "## Demonstrate overfitting\n",
    "\n",
    "The simplest way to prevent overfitting is to start with a small model: A model with a small number of learnable parameters (which is determined by the number of layers and the number of units per layer). In deep learning, the number of learnable parameters in a model is often referred to as the model's \"capacity\".\n",
    "\n",
    "Intuitively, a model with more parameters will have more \"memorization capacity\" and therefore will be able to easily learn a perfect dictionary-like mapping between training samples and their targets, a mapping without any generalization power, but this would be useless when making predictions on previously unseen data.\n",
    "\n",
    "Always keep this in mind: deep learning models tend to be good at fitting to the training data, but the real challenge is generalization, not fitting.\n",
    "\n",
    "On the other hand, if the network has limited memorization resources, it will not be able to learn the mapping as easily. To minimize its loss, it will have to learn compressed representations that have more predictive power. At the same time, if you make your model too small, it will have difficulty fitting to the training data. There is a balance between \"too much capacity\" and \"not enough capacity\".\n",
    "\n",
    "Unfortunately, there is no magical formula to determine the right size or architecture of your model (in terms of the number of layers, or the right size for each layer). You will have to experiment using a series of different architectures.\n",
    "\n",
    "To find an appropriate model size, it's best to start with relatively few layers and parameters, then begin increasing the size of the layers or adding new layers until you see diminishing returns on the validation loss.\n",
    "\n",
    "Start with a simple model using only `layers.Dense` as a baseline, then create larger versions, and compare them."
   ]
  },
  {
   "cell_type": "markdown",
   "metadata": {
    "colab_type": "text",
    "id": "_ReKHdC2EgVu"
   },
   "source": [
    "### Training procedure"
   ]
  },
  {
   "cell_type": "markdown",
   "metadata": {
    "colab_type": "text",
    "id": "pNzkSkkXSP5l"
   },
   "source": [
    "Many models train better if you gradually reduce the learning rate during training. Use `optimizers.schedules` to reduce the learning rate over time:"
   ]
  },
  {
   "cell_type": "code",
   "execution_count": 281,
   "metadata": {
    "colab": {},
    "colab_type": "code",
    "id": "LwQp-ERhAD6F"
   },
   "outputs": [],
   "source": [
    "lr_schedule = tf.keras.optimizers.schedules.InverseTimeDecay(\n",
    "  0.001,\n",
    "  decay_steps=STEPS_PER_EPOCH*1000,\n",
    "  decay_rate=1,\n",
    "  staircase=False)\n",
    "\n",
    "def get_optimizer():\n",
    "    return tf.keras.optimizers.Adam(lr_schedule)"
   ]
  },
  {
   "cell_type": "markdown",
   "metadata": {
    "colab_type": "text",
    "id": "kANLx6OYTQ8B"
   },
   "source": [
    "The code above sets a `schedules.InverseTimeDecay` to hyperbolically decrease the learning rate to 1/2 of the base rate at 1000 epochs, 1/3 at 2000 epochs and so on."
   ]
  },
  {
   "cell_type": "code",
   "execution_count": 282,
   "metadata": {
    "colab": {},
    "colab_type": "code",
    "id": "HIo_yPjEAFgn"
   },
   "outputs": [
    {
     "data": {
      "image/png": "[encoded data removed]",
      "text/plain": [
       "<Figure size 576x432 with 1 Axes>"
      ]
     },
     "metadata": {
      "needs_background": "light"
     },
     "output_type": "display_data"
    }
   ],
   "source": [
    "step = np.linspace(0,100000)\n",
    "lr = lr_schedule(step)\n",
    "plt.figure(figsize = (8,6))\n",
    "plt.plot(step/STEPS_PER_EPOCH, lr)\n",
    "plt.ylim([0,max(plt.ylim())])\n",
    "plt.xlabel('Epoch')\n",
    "_ = plt.ylabel('Learning Rate')\n"
   ]
  },
  {
   "cell_type": "markdown",
   "metadata": {
    "colab_type": "text",
    "id": "ya7x7gr9UjU0"
   },
   "source": [
    "Each model in this tutorial will use the same training configuration. So set these up in a reusable way, starting with the list of callbacks.\n",
    "\n",
    "The training for this tutorial runs for many short epochs. To reduce the logging noise use the `tfdocs.EpochDots` which simply prints a `.` for each epoch, and a full set of metrics every 100 epochs.\n",
    "\n",
    "Next include `callbacks.EarlyStopping` to avoid long and unnecessary training times. Note that this callback is set to monitor the `val_binary_crossentropy`, not the `val_loss`. This difference will be important later.\n",
    "\n",
    "Use `callbacks.TensorBoard` to generate TensorBoard logs for the training.\n"
   ]
  },
  {
   "cell_type": "code",
   "execution_count": 283,
   "metadata": {
    "colab": {},
    "colab_type": "code",
    "id": "vSv8rfw_T85n"
   },
   "outputs": [],
   "source": [
    "def get_callbacks(name):\n",
    "    return [\n",
    "    tfdocs.modeling.EpochDots(),\n",
    "    tf.keras.callbacks.EarlyStopping(monitor='val_binary_crossentropy', patience=200),\n",
    "    tf.keras.callbacks.TensorBoard(logdir/name),\n",
    "    ]"
   ]
  },
  {
   "cell_type": "markdown",
   "metadata": {
    "colab_type": "text",
    "id": "VhctzKhBWVDD"
   },
   "source": [
    "Similarly each model will use the same `Model.compile` and `Model.fit` settings:"
   ]
  },
  {
   "cell_type": "code",
   "execution_count": 284,
   "metadata": {
    "colab": {},
    "colab_type": "code",
    "id": "xRCGwU3YH5sT"
   },
   "outputs": [],
   "source": [
    "def compile_and_fit(model, name, optimizer=None, max_epochs=10000, verbose=0):\n",
    "    if optimizer is None:\n",
    "    optimizer = get_optimizer()\n",
    "    model.compile(optimizer=optimizer,\n",
    "                loss=tf.keras.losses.BinaryCrossentropy(from_logits=True),\n",
    "                metrics=[\n",
    "                  tf.keras.losses.BinaryCrossentropy(\n",
    "                      from_logits=True, name='binary_crossentropy'),\n",
    "                  'accuracy'])\n",
    "\n",
    "    model.summary()\n",
    "\n",
    "    history = model.fit(\n",
    "    train_ds,\n",
    "    steps_per_epoch = STEPS_PER_EPOCH,\n",
    "    epochs=max_epochs,\n",
    "    validation_data=validate_ds,\n",
    "    callbacks=get_callbacks(name),\n",
    "    verbose=verbose)\n",
    "    return history"
   ]
  },
  {
   "cell_type": "markdown",
   "metadata": {
    "colab_type": "text",
    "id": "mxBeiLUiWHJV"
   },
   "source": [
    "### Tiny model"
   ]
  },
  {
   "cell_type": "markdown",
   "metadata": {
    "colab_type": "text",
    "id": "a6JDv12scLTI"
   },
   "source": [
    "Start by training a model:"
   ]
  },
  {
   "cell_type": "code",
   "execution_count": 285,
   "metadata": {
    "colab": {},
    "colab_type": "code",
    "id": "EZh-QFjKHb70"
   },
   "outputs": [],
   "source": [
    "tiny_model = tf.keras.Sequential([\n",
    "    layers.Dense(16, activation='elu', input_shape=(FEATURES,)),\n",
    "    layers.Dense(1)\n",
    "])"
   ]
  },
  {
   "cell_type": "code",
   "execution_count": 286,
   "metadata": {
    "colab": {},
    "colab_type": "code",
    "id": "X72IUdWYipIS"
   },
   "outputs": [],
   "source": [
    "size_histories = {}"
   ]
  },
  {
   "cell_type": "code",
   "execution_count": 287,
   "metadata": {
    "colab": {},
    "colab_type": "code",
    "id": "bdOcJtPGHhJ5",
    "scrolled": false
   },
   "outputs": [
    {
     "name": "stdout",
     "output_type": "stream",
     "text": [
      "Model: \"sequential_20\"\n",
      "_________________________________________________________________\n",
      "Layer (type)                 Output Shape              Param #   \n",
      "=================================================================\n",
      "dense_40 (Dense)             (None, 16)                3088      \n",
      "_________________________________________________________________\n",
      "dense_41 (Dense)             (None, 1)                 17        \n",
      "=================================================================\n",
      "Total params: 3,105\n",
      "Trainable params: 3,105\n",
      "Non-trainable params: 0\n",
      "_________________________________________________________________\n",
      "\n",
      "Epoch: 0, accuracy:0.4955,  binary_crossentropy:2.9205,  loss:2.9205,  val_accuracy:0.4975,  val_binary_crossentropy:1.3349,  val_loss:1.3349,  \n",
      "....................................................................................................\n",
      "Epoch: 100, accuracy:0.4933,  binary_crossentropy:0.8448,  loss:0.8448,  val_accuracy:0.4714,  val_binary_crossentropy:0.8758,  val_loss:0.8758,  \n",
      "...............................WARNING:tensorflow:Your input ran out of data; interrupting training. Make sure that your dataset or generator can generate at least `steps_per_epoch * epochs` batches (in this case, 73000 batches). You may need to use the repeat() function when building your dataset.\n",
      "."
     ]
    }
   ],
   "source": [
    "size_histories['Tiny'] = compile_and_fit(tiny_model, 'sizes/Tiny', max_epochs=MAX_EPOCHS, verbose=0)"
   ]
  },
  {
   "cell_type": "code",
   "execution_count": 207,
   "metadata": {},
   "outputs": [
    {
     "data": {
      "text/plain": [
       "[2.3771820068359375,\n",
       " 0.8997141718864441,\n",
       " 0.8829426169395447,\n",
       " 0.8948631882667542,\n",
       " 0.9026139974594116,\n",
       " 0.8684822916984558,\n",
       " 0.8804076313972473,\n",
       " 0.8592902421951294,\n",
       " 0.8631515502929688,\n",
       " 0.8395841717720032]"
      ]
     },
     "execution_count": 207,
     "metadata": {},
     "output_type": "execute_result"
    }
   ],
   "source": [
    "size_histories['Tiny'].history['binary_crossentropy']"
   ]
  },
  {
   "cell_type": "markdown",
   "metadata": {
    "colab_type": "text",
    "id": "rS_QGT6icwdI"
   },
   "source": [
    "Now check how the model did:"
   ]
  },
  {
   "cell_type": "code",
   "execution_count": 288,
   "metadata": {
    "colab": {},
    "colab_type": "code",
    "id": "dkEvb2x5XsjE"
   },
   "outputs": [
    {
     "data": {
      "text/plain": [
       "(0.5, 1)"
      ]
     },
     "execution_count": 288,
     "metadata": {},
     "output_type": "execute_result"
    },
    {
     "data": {
      "image/png": "[encoded data removed]",
      "text/plain": [
       "<Figure size 432x288 with 1 Axes>"
      ]
     },
     "metadata": {
      "needs_background": "light"
     },
     "output_type": "display_data"
    }
   ],
   "source": [
    "plotter = tfdocs.plots.HistoryPlotter(metric = 'binary_crossentropy', smoothing_std=10)\n",
    "plotter.plot(size_histories)\n",
    "plt.ylim([0.5, 1])"
   ]
  },
  {
   "cell_type": "markdown",
   "metadata": {
    "colab_type": "text",
    "id": "LGxGzh_FWOJ8"
   },
   "source": [
    "### Small model"
   ]
  },
  {
   "cell_type": "markdown",
   "metadata": {
    "colab_type": "text",
    "id": "YjMb6E72f2pN"
   },
   "source": [
    "To see if you can beat the performance of the small model, progressively train some larger models.\n",
    "\n",
    "Try two hidden layers with 16 units each:"
   ]
  },
  {
   "cell_type": "code",
   "execution_count": 289,
   "metadata": {
    "colab": {},
    "colab_type": "code",
    "id": "QKgdXPx9usBa"
   },
   "outputs": [],
   "source": [
    "small_model = tf.keras.Sequential([\n",
    "    # `input_shape` is only required here so that `.summary` works.\n",
    "    layers.Dense(16, activation='elu', input_shape=(FEATURES,)),\n",
    "    layers.Dense(16, activation='elu'),\n",
    "    layers.Dense(1)\n",
    "])"
   ]
  },
  {
   "cell_type": "code",
   "execution_count": 290,
   "metadata": {
    "colab": {},
    "colab_type": "code",
    "id": "LqG3MXF5xSjR"
   },
   "outputs": [
    {
     "name": "stdout",
     "output_type": "stream",
     "text": [
      "Model: \"sequential_21\"\n",
      "_________________________________________________________________\n",
      "Layer (type)                 Output Shape              Param #   \n",
      "=================================================================\n",
      "dense_42 (Dense)             (None, 16)                3088      \n",
      "_________________________________________________________________\n",
      "dense_43 (Dense)             (None, 16)                272       \n",
      "_________________________________________________________________\n",
      "dense_44 (Dense)             (None, 1)                 17        \n",
      "=================================================================\n",
      "Total params: 3,377\n",
      "Trainable params: 3,377\n",
      "Non-trainable params: 0\n",
      "_________________________________________________________________\n",
      "\n",
      "Epoch: 0, accuracy:0.5017,  binary_crossentropy:3.0077,  loss:3.0077,  val_accuracy:0.4903,  val_binary_crossentropy:1.2180,  val_loss:1.2180,  \n",
      "....................................................................................................\n",
      "Epoch: 100, accuracy:0.4952,  binary_crossentropy:0.7250,  loss:0.7250,  val_accuracy:0.4727,  val_binary_crossentropy:0.7768,  val_loss:0.7768,  \n",
      "...............................WARNING:tensorflow:Your input ran out of data; interrupting training. Make sure that your dataset or generator can generate at least `steps_per_epoch * epochs` batches (in this case, 73000 batches). You may need to use the repeat() function when building your dataset.\n",
      "."
     ]
    }
   ],
   "source": [
    "size_histories['Small'] = compile_and_fit(small_model, 'sizes/Small', max_epochs=MAX_EPOCHS, verbose=0)"
   ]
  },
  {
   "cell_type": "markdown",
   "metadata": {
    "colab_type": "text",
    "id": "L-DGRBbGxI6G"
   },
   "source": [
    "### Medium model"
   ]
  },
  {
   "cell_type": "markdown",
   "metadata": {
    "colab_type": "text",
    "id": "SrfoVQheYSO5"
   },
   "source": [
    "Now try 3 hidden layers with 64 units each:"
   ]
  },
  {
   "cell_type": "code",
   "execution_count": 291,
   "metadata": {
    "colab": {},
    "colab_type": "code",
    "id": "jksi-XtaxDAh"
   },
   "outputs": [],
   "source": [
    "medium_model = tf.keras.Sequential([\n",
    "    layers.Dense(64, activation='elu', input_shape=(FEATURES,)),\n",
    "    layers.Dense(64, activation='elu'),\n",
    "    layers.Dense(64, activation='elu'),\n",
    "    layers.Dense(1)\n",
    "])"
   ]
  },
  {
   "cell_type": "markdown",
   "metadata": {
    "colab_type": "text",
    "id": "jbngCZliYdma"
   },
   "source": [
    "And train the model using the same data:"
   ]
  },
  {
   "cell_type": "code",
   "execution_count": 292,
   "metadata": {
    "colab": {},
    "colab_type": "code",
    "id": "Ofn1AwDhx-Fe"
   },
   "outputs": [
    {
     "name": "stdout",
     "output_type": "stream",
     "text": [
      "Model: \"sequential_22\"\n",
      "_________________________________________________________________\n",
      "Layer (type)                 Output Shape              Param #   \n",
      "=================================================================\n",
      "dense_45 (Dense)             (None, 64)                12352     \n",
      "_________________________________________________________________\n",
      "dense_46 (Dense)             (None, 64)                4160      \n",
      "_________________________________________________________________\n",
      "dense_47 (Dense)             (None, 64)                4160      \n",
      "_________________________________________________________________\n",
      "dense_48 (Dense)             (None, 1)                 65        \n",
      "=================================================================\n",
      "Total params: 20,737\n",
      "Trainable params: 20,737\n",
      "Non-trainable params: 0\n",
      "_________________________________________________________________\n",
      "\n",
      "Epoch: 0, accuracy:0.4975,  binary_crossentropy:3.1182,  loss:3.1182,  val_accuracy:0.4716,  val_binary_crossentropy:6.2460,  val_loss:6.2459,  \n",
      "....................................................................................................\n",
      "Epoch: 100, accuracy:0.4819,  binary_crossentropy:0.6921,  loss:0.6921,  val_accuracy:0.4718,  val_binary_crossentropy:0.6950,  val_loss:0.6950,  \n",
      "...............................WARNING:tensorflow:Your input ran out of data; interrupting training. Make sure that your dataset or generator can generate at least `steps_per_epoch * epochs` batches (in this case, 1460000 batches). You may need to use the repeat() function when building your dataset.\n",
      "."
     ]
    }
   ],
   "source": [
    "size_histories['Medium']  = compile_and_fit(medium_model, \"sizes/Medium\")"
   ]
  },
  {
   "cell_type": "markdown",
   "metadata": {
    "colab_type": "text",
    "id": "vIPuf23FFaVn"
   },
   "source": [
    "### Large model\n",
    "\n",
    "As an exercise, you can create an even larger model, and see how quickly it begins overfitting.  Next, let's add to this benchmark a network that has much more capacity, far more than the problem would warrant:"
   ]
  },
  {
   "cell_type": "code",
   "execution_count": 293,
   "metadata": {
    "colab": {},
    "colab_type": "code",
    "id": "ghQwwqwqvQM9"
   },
   "outputs": [],
   "source": [
    "large_model = tf.keras.Sequential([\n",
    "    layers.Dense(512, activation='elu', input_shape=(FEATURES,)),\n",
    "    layers.Dense(512, activation='elu'),\n",
    "    layers.Dense(512, activation='elu'),\n",
    "    layers.Dense(512, activation='elu'),\n",
    "    layers.Dense(1)\n",
    "])"
   ]
  },
  {
   "cell_type": "markdown",
   "metadata": {
    "colab_type": "text",
    "id": "D-d-i5DaYmr7"
   },
   "source": [
    "And, again, train the model using the same data:"
   ]
  },
  {
   "cell_type": "code",
   "execution_count": 294,
   "metadata": {
    "colab": {},
    "colab_type": "code",
    "id": "U1A99dhqvepf"
   },
   "outputs": [
    {
     "name": "stdout",
     "output_type": "stream",
     "text": [
      "Model: \"sequential_23\"\n",
      "_________________________________________________________________\n",
      "Layer (type)                 Output Shape              Param #   \n",
      "=================================================================\n",
      "dense_49 (Dense)             (None, 512)               98816     \n",
      "_________________________________________________________________\n",
      "dense_50 (Dense)             (None, 512)               262656    \n",
      "_________________________________________________________________\n",
      "dense_51 (Dense)             (None, 512)               262656    \n",
      "_________________________________________________________________\n",
      "dense_52 (Dense)             (None, 512)               262656    \n",
      "_________________________________________________________________\n",
      "dense_53 (Dense)             (None, 1)                 513       \n",
      "=================================================================\n",
      "Total params: 887,297\n",
      "Trainable params: 887,297\n",
      "Non-trainable params: 0\n",
      "_________________________________________________________________\n",
      "\n",
      "Epoch: 0, accuracy:0.4933,  binary_crossentropy:5.5722,  loss:5.5722,  val_accuracy:0.4716,  val_binary_crossentropy:0.7775,  val_loss:0.7775,  \n",
      "....................................................................................................\n",
      "Epoch: 100, accuracy:0.4802,  binary_crossentropy:0.6947,  loss:0.6947,  val_accuracy:0.4715,  val_binary_crossentropy:0.6918,  val_loss:0.6918,  \n",
      "...............................WARNING:tensorflow:Your input ran out of data; interrupting training. Make sure that your dataset or generator can generate at least `steps_per_epoch * epochs` batches (in this case, 1460000 batches). You may need to use the repeat() function when building your dataset.\n",
      "."
     ]
    }
   ],
   "source": [
    "size_histories['large'] = compile_and_fit(large_model, \"sizes/large\")"
   ]
  },
  {
   "cell_type": "markdown",
   "metadata": {
    "colab_type": "text",
    "id": "Fy3CMUZpzH3d"
   },
   "source": [
    "### Plot the training and validation losses"
   ]
  },
  {
   "cell_type": "markdown",
   "metadata": {
    "colab_type": "text",
    "id": "HSlo1F4xHuuM"
   },
   "source": [
    "The solid lines show the training loss, and the dashed lines show the validation loss (remember: a lower validation loss indicates a better model)."
   ]
  },
  {
   "cell_type": "markdown",
   "metadata": {
    "colab_type": "text",
    "id": "OLhL1AszdLfM"
   },
   "source": [
    "While building a larger model gives it more power, if this power is not constrained somehow it can easily overfit to the training set.\n",
    "\n",
    "In this example, typically, only the `\"Tiny\"` model manages to avoid overfitting altogether, and each of the larger models overfit the data more quickly. This becomes so severe for the `\"large\"` model that you need to switch the plot to a log-scale to really see what's happening.\n",
    "\n",
    "This is apparent if you plot and compare the validation metrics to the training metrics.\n",
    "\n",
    "* It's normal for there to be a small difference.\n",
    "* If both metrics are moving in the same direction, everything is fine.\n",
    "* If the validation metric begins to stagnate while the training metric continues to improve, you are probably close to overfitting.\n",
    "* If the validation metric is going in the wrong direction, the model is clearly overfitting."
   ]
  },
  {
   "cell_type": "code",
   "execution_count": 295,
   "metadata": {
    "colab": {},
    "colab_type": "code",
    "id": "0XmKDtOWzOpk"
   },
   "outputs": [
    {
     "data": {
      "text/plain": [
       "Text(0.5, 0, 'Epochs [Log Scale]')"
      ]
     },
     "execution_count": 295,
     "metadata": {},
     "output_type": "execute_result"
    },
    {
     "data": {
      "image/png": "[encoded data removed]",
      "text/plain": [
       "<Figure size 432x288 with 1 Axes>"
      ]
     },
     "metadata": {
      "needs_background": "light"
     },
     "output_type": "display_data"
    }
   ],
   "source": [
    "plotter.plot(size_histories)\n",
    "a = plt.xscale('log')\n",
    "plt.xlim([5, max(plt.xlim())])\n",
    "plt.ylim([0.5, 1])\n",
    "plt.xlabel(\"Epochs [Log Scale]\")"
   ]
  },
  {
   "cell_type": "code",
   "execution_count": 301,
   "metadata": {},
   "outputs": [
    {
     "data": {
      "text/plain": [
       "Text(0.5, 0, 'Epochs [Log Scale]')"
      ]
     },
     "execution_count": 301,
     "metadata": {},
     "output_type": "execute_result"
    },
    {
     "data": {
      "image/png": "[encoded data removed]",
      "text/plain": [
       "<Figure size 432x288 with 1 Axes>"
      ]
     },
     "metadata": {
      "needs_background": "light"
     },
     "output_type": "display_data"
    }
   ],
   "source": [
    "plotter.plot(size_histories)\n",
    "a = plt.xscale('log')\n",
    "plt.xlim([5, max(plt.xlim())])\n",
    "plt.ylim([0.6, 0.75])\n",
    "plt.xlabel(\"Epochs [Log Scale]\")"
   ]
  },
  {
   "cell_type": "code",
   "execution_count": 328,
   "metadata": {},
   "outputs": [
    {
     "data": {
      "text/plain": [
       "Text(0.5, 0, 'Epochs [Log Scale]')"
      ]
     },
     "execution_count": 328,
     "metadata": {},
     "output_type": "execute_result"
    },
    {
     "data": {
      "image/png": "[encoded data removed]",
      "text/plain": [
       "<Figure size 432x288 with 1 Axes>"
      ]
     },
     "metadata": {
      "needs_background": "light"
     },
     "output_type": "display_data"
    }
   ],
   "source": [
    "plotter.plot(size_histories)\n",
    "a = plt.xscale('log')\n",
    "plt.xlim([5, max(plt.xlim())])\n",
    "plt.ylim([0.6, 2])\n",
    "plt.xlabel(\"Epochs [Log Scale]\")"
   ]
  },
  {
   "cell_type": "code",
   "execution_count": 305,
   "metadata": {},
   "outputs": [
    {
     "data": {
      "text/plain": [
       "Text(0.5, 0, 'Epochs [Log Scale]')"
      ]
     },
     "execution_count": 305,
     "metadata": {},
     "output_type": "execute_result"
    },
    {
     "data": {
      "image/png": "[encoded data removed]",
      "text/plain": [
       "<Figure size 432x288 with 1 Axes>"
      ]
     },
     "metadata": {
      "needs_background": "light"
     },
     "output_type": "display_data"
    }
   ],
   "source": [
    "plotter = tfdocs.plots.HistoryPlotter(metric = 'accuracy', smoothing_std=10)\n",
    "plotter.plot(size_histories)\n",
    "a = plt.xscale('log')\n",
    "plt.xlim([5, max(plt.xlim())])\n",
    "plt.ylim([0.45, 0.55])\n",
    "plt.xlabel(\"Epochs [Log Scale]\")"
   ]
  },
  {
   "cell_type": "markdown",
   "metadata": {
    "colab_type": "text",
    "id": "UekcaQdmZxnW"
   },
   "source": [
    "Note: All the above training runs used the `callbacks.EarlyStopping` to end the training once it was clear the model was not making progress."
   ]
  },
  {
   "cell_type": "markdown",
   "metadata": {
    "colab_type": "text",
    "id": "DEQNKadHA0M3"
   },
   "source": [
    "### View in TensorBoard\n",
    "\n",
    "These models all wrote TensorBoard logs during training.\n",
    "\n",
    "Open an embedded  TensorBoard viewer inside a notebook:"
   ]
  },
  {
   "cell_type": "code",
   "execution_count": null,
   "metadata": {
    "colab": {},
    "colab_type": "code",
    "id": "6oa1lkJddZ-m"
   },
   "outputs": [],
   "source": [
    "#docs_infra: no_execute\n",
    "\n",
    "# Load the TensorBoard notebook extension\n",
    "%load_ext tensorboard\n",
    "\n",
    "# Open an embedded TensorBoard viewer\n",
    "%tensorboard --logdir {logdir}/sizes"
   ]
  },
  {
   "cell_type": "markdown",
   "metadata": {
    "colab_type": "text",
    "id": "fjqx3bywDPjf"
   },
   "source": [
    "You can view the [results of a previous run](https://tensorboard.dev/experiment/vW7jmmF9TmKmy3rbheMQpw/#scalars&_smoothingWeight=0.97) of this notebook on [TensorBoard.dev](https://tensorboard.dev/).\n",
    "\n",
    "TensorBoard.dev is a managed experience for hosting, tracking, and sharing ML experiments with everyone.\n",
    "\n",
    "It's also included in an `<iframe>` for convenience:"
   ]
  },
  {
   "cell_type": "code",
   "execution_count": 32,
   "metadata": {
    "colab": {},
    "colab_type": "code",
    "id": "dX5fcgrADwym"
   },
   "outputs": [
    {
     "data": {
      "text/html": [
       "\n",
       "        <iframe\n",
       "            width=\"100%\"\n",
       "            height=\"800px\"\n",
       "            src=\"https://tensorboard.dev/experiment/vW7jmmF9TmKmy3rbheMQpw/#scalars&_smoothingWeight=0.97\"\n",
       "            frameborder=\"0\"\n",
       "            allowfullscreen\n",
       "        ></iframe>\n",
       "        "
      ],
      "text/plain": [
       "<IPython.lib.display.IFrame at 0x7fe43078a908>"
      ]
     },
     "execution_count": 32,
     "metadata": {},
     "output_type": "execute_result"
    }
   ],
   "source": [
    "display.IFrame(\n",
    "    src=\"https://tensorboard.dev/experiment/vW7jmmF9TmKmy3rbheMQpw/#scalars&_smoothingWeight=0.97\",\n",
    "    width=\"100%\", height=\"800px\")"
   ]
  },
  {
   "cell_type": "markdown",
   "metadata": {
    "colab_type": "text",
    "id": "RDQDBKYZBXF_"
   },
   "source": [
    "If you want to share TensorBoard results you can upload the logs to [TensorBoard.dev](https://tensorboard.dev/) by copying the following into a code-cell.\n",
    "\n",
    "Note: This step requires a Google account.\n",
    "\n",
    "```\n",
    "!tensorboard dev upload --logdir  {logdir}/sizes\n",
    "```\n",
    "\n",
    "Caution: This command does not terminate. It's designed to continuously upload the results of long-running experiments. Once your data is uploaded you need to stop it using the \"interrupt execution\" option in your notebook tool."
   ]
  },
  {
   "cell_type": "markdown",
   "metadata": {
    "colab_type": "text",
    "id": "ASdv7nsgEFhx"
   },
   "source": [
    "## Strategies to prevent overfitting"
   ]
  },
  {
   "cell_type": "markdown",
   "metadata": {
    "colab_type": "text",
    "id": "YN512ksslaxJ"
   },
   "source": [
    "Before getting into the content of this section copy the training logs from the `\"Tiny\"` model above, to use as a baseline for comparison."
   ]
  },
  {
   "cell_type": "code",
   "execution_count": 306,
   "metadata": {
    "colab": {},
    "colab_type": "code",
    "id": "40k1eBtnQzNo"
   },
   "outputs": [
    {
     "data": {
      "text/plain": [
       "WindowsPath('C:/Users/fstri/AppData/Local/Temp/tmpcqha_tac/tensorboard_logs/regularizers/Tiny')"
      ]
     },
     "execution_count": 306,
     "metadata": {},
     "output_type": "execute_result"
    }
   ],
   "source": [
    "shutil.rmtree(logdir/'regularizers/Tiny', ignore_errors=True)\n",
    "shutil.copytree(logdir/'sizes/Tiny', logdir/'regularizers/Tiny')"
   ]
  },
  {
   "cell_type": "code",
   "execution_count": 307,
   "metadata": {
    "colab": {},
    "colab_type": "code",
    "id": "vFWMeFo7jLpN"
   },
   "outputs": [],
   "source": [
    "regularizer_histories = {}\n",
    "regularizer_histories['Tiny'] = size_histories['Tiny']"
   ]
  },
  {
   "cell_type": "markdown",
   "metadata": {
    "colab_type": "text",
    "id": "4rHoVWcswFLa"
   },
   "source": [
    "### Add weight regularization\n"
   ]
  },
  {
   "cell_type": "markdown",
   "metadata": {
    "colab_type": "text",
    "id": "kRxWepNawbBK"
   },
   "source": [
    "You may be familiar with Occam's Razor principle: given two explanations for something, the explanation most likely to be correct is the \"simplest\" one, the one that makes the least amount of assumptions. This also applies to the models learned by neural networks: given some training data and a network architecture, there are multiple sets of weights values (multiple models) that could explain the data, and simpler models are less likely to overfit than complex ones.\n",
    "\n",
    "A \"simple model\" in this context is a model where the distribution of parameter values has less entropy (or a model with fewer parameters altogether, as we saw in the section above). Thus a common way to mitigate overfitting is to put constraints on the complexity of a network by forcing its weights only to take small values, which makes the distribution of weight values more \"regular\". This is called \"weight regularization\", and it is done by adding to the loss function of the network a cost associated with having large weights. This cost comes in two flavors:\n",
    "\n",
    "* [L1 regularization](https://developers.google.com/machine-learning/glossary/#L1_regularization), where the cost added is proportional to the absolute value of the weights coefficients (i.e. to what is called the \"L1 norm\" of the weights).\n",
    "\n",
    "* [L2 regularization](https://developers.google.com/machine-learning/glossary/#L2_regularization), where the cost added is proportional to the square of the value of the weights coefficients (i.e. to what is called the squared \"L2 norm\" of the weights). L2 regularization is also called weight decay in the context of neural networks. Don't let the different name confuse you: weight decay is mathematically the exact same as L2 regularization.\n",
    "\n",
    "L1 regularization pushes weights towards exactly zero encouraging a sparse model. L2 regularization will penalize the weights parameters without making them sparse since the penalty goes to zero for small weights. one reason why L2 is more common.\n",
    "\n",
    "In `tf.keras`, weight regularization is added by passing weight regularizer instances to layers as keyword arguments. Let's add L2 weight regularization now."
   ]
  },
  {
   "cell_type": "code",
   "execution_count": 309,
   "metadata": {
    "colab": {},
    "colab_type": "code",
    "id": "HFGmcwduwVyQ"
   },
   "outputs": [
    {
     "name": "stdout",
     "output_type": "stream",
     "text": [
      "Model: \"sequential_25\"\n",
      "_________________________________________________________________\n",
      "Layer (type)                 Output Shape              Param #   \n",
      "=================================================================\n",
      "dense_59 (Dense)             (None, 512)               98816     \n",
      "_________________________________________________________________\n",
      "dense_60 (Dense)             (None, 512)               262656    \n",
      "_________________________________________________________________\n",
      "dense_61 (Dense)             (None, 512)               262656    \n",
      "_________________________________________________________________\n",
      "dense_62 (Dense)             (None, 512)               262656    \n",
      "_________________________________________________________________\n",
      "dense_63 (Dense)             (None, 1)                 513       \n",
      "=================================================================\n",
      "Total params: 887,297\n",
      "Trainable params: 887,297\n",
      "Non-trainable params: 0\n",
      "_________________________________________________________________\n",
      "\n",
      "Epoch: 0, accuracy:0.4972,  binary_crossentropy:5.1431,  loss:6.4530,  val_accuracy:0.5274,  val_binary_crossentropy:0.7540,  val_loss:1.8959,  \n",
      "....................................................................................................\n",
      "Epoch: 100, accuracy:0.4802,  binary_crossentropy:0.6947,  loss:0.6958,  val_accuracy:0.4715,  val_binary_crossentropy:0.6915,  val_loss:0.6924,  \n",
      "...............................WARNING:tensorflow:Your input ran out of data; interrupting training. Make sure that your dataset or generator can generate at least `steps_per_epoch * epochs` batches (in this case, 1460000 batches). You may need to use the repeat() function when building your dataset.\n",
      "."
     ]
    }
   ],
   "source": [
    "l2_model = tf.keras.Sequential([\n",
    "    layers.Dense(512, activation='elu',\n",
    "                 kernel_regularizer=regularizers.l2(0.001),\n",
    "                 input_shape=(FEATURES,)),\n",
    "    layers.Dense(512, activation='elu',\n",
    "                 kernel_regularizer=regularizers.l2(0.001)),\n",
    "    layers.Dense(512, activation='elu',\n",
    "                 kernel_regularizer=regularizers.l2(0.001)),\n",
    "    layers.Dense(512, activation='elu',\n",
    "                 kernel_regularizer=regularizers.l2(0.001)),\n",
    "    layers.Dense(1)\n",
    "])\n",
    "\n",
    "regularizer_histories['l2'] = compile_and_fit(l2_model, \"regularizers/l2\")"
   ]
  },
  {
   "cell_type": "markdown",
   "metadata": {
    "colab_type": "text",
    "id": "bUUHoXb7w-_C"
   },
   "source": [
    "`l2(0.001)` means that every coefficient in the weight matrix of the layer will add `0.001 * weight_coefficient_value**2` to the total **loss** of the network.\n",
    "\n",
    "That is why we're monitoring the `binary_crossentropy` directly. Because it doesn't have this regularization component mixed in.\n",
    "\n",
    "So, that same `\"Large\"` model with an `L2` regularization penalty performs much better:\n"
   ]
  },
  {
   "cell_type": "code",
   "execution_count": 320,
   "metadata": {
    "colab": {},
    "colab_type": "code",
    "id": "7wkfLyxBZdh_"
   },
   "outputs": [
    {
     "data": {
      "text/plain": [
       "(0.45, 0.55)"
      ]
     },
     "execution_count": 320,
     "metadata": {},
     "output_type": "execute_result"
    },
    {
     "data": {
      "image/png": "[encoded data removed]",
      "text/plain": [
       "<Figure size 432x288 with 1 Axes>"
      ]
     },
     "metadata": {
      "needs_background": "light"
     },
     "output_type": "display_data"
    }
   ],
   "source": [
    "plotter.plot(regularizer_histories)\n",
    "plt.ylim([0.45, 0.55])"
   ]
  },
  {
   "cell_type": "markdown",
   "metadata": {
    "colab_type": "text",
    "id": "Kx1YHMsVxWjP"
   },
   "source": [
    "As you can see, the `\"L2\"` regularized model is now much more competitive with the the `\"Tiny\"` model. This `\"L2\"` model is also much more resistant to overfitting than the `\"Large\"` model it was based on despite having the same number of parameters."
   ]
  },
  {
   "cell_type": "markdown",
   "metadata": {
    "colab_type": "text",
    "id": "JheBk6f8jMQ7"
   },
   "source": [
    "#### More info\n",
    "\n",
    "There are two important things to note about this sort of regularization.\n",
    "\n",
    "**First:** if you are writing your own training loop, then you need to be sure to ask the model for its regularization losses."
   ]
  },
  {
   "cell_type": "code",
   "execution_count": 311,
   "metadata": {
    "colab": {},
    "colab_type": "code",
    "id": "apDHQNybjaML"
   },
   "outputs": [],
   "source": [
    "result = l2_model(features)\n",
    "regularization_loss=tf.add_n(l2_model.losses)"
   ]
  },
  {
   "cell_type": "markdown",
   "metadata": {
    "colab_type": "text",
    "id": "MLhG6fMSjE-J"
   },
   "source": [
    "**Second:** This implementation works by adding the weight penalties to the model's loss, and then applying a standard optimization procedure after that.\n",
    "\n",
    "There is a second approach that instead only runs the optimizer on the raw loss, and then while applying the calculated step the optimizer also applies some weight decay. This \"Decoupled Weight Decay\" is seen in optimizers like `optimizers.FTRL` and `optimizers.AdamW`."
   ]
  },
  {
   "cell_type": "markdown",
   "metadata": {
    "colab_type": "text",
    "id": "HmnBNOOVxiG8"
   },
   "source": [
    "### Add dropout\n",
    "\n",
    "Dropout is one of the most effective and most commonly used regularization techniques for neural networks, developed by Hinton and his students at the University of Toronto.\n",
    "\n",
    "The intuitive explanation for dropout is that because individual nodes in the network cannot rely on the output of the others, each node must output features that are useful on their own.\n",
    "\n",
    "Dropout, applied to a layer, consists of randomly \"dropping out\" (i.e. set to zero) a number of output features of the layer during training. Let's say a given layer would normally have returned a vector [0.2, 0.5, 1.3, 0.8, 1.1] for a given input sample during training; after applying dropout, this vector will have a few zero entries distributed at random, e.g. [0, 0.5,\n",
    "1.3, 0, 1.1].\n",
    "\n",
    "The \"dropout rate\" is the fraction of the features that are being zeroed-out; it is usually set between 0.2 and 0.5. At test time, no units are dropped out, and instead the layer's output values are scaled down by a factor equal to the dropout rate, so as to balance for the fact that more units are active than at training time.\n",
    "\n",
    "In `tf.keras` you can introduce dropout in a network via the Dropout layer, which gets applied to the output of layer right before.\n",
    "\n",
    "Let's add two Dropout layers in our network to see how well they do at reducing overfitting:"
   ]
  },
  {
   "cell_type": "code",
   "execution_count": 312,
   "metadata": {
    "colab": {},
    "colab_type": "code",
    "id": "OFEYvtrHxSWS"
   },
   "outputs": [
    {
     "name": "stdout",
     "output_type": "stream",
     "text": [
      "Model: \"sequential_26\"\n",
      "_________________________________________________________________\n",
      "Layer (type)                 Output Shape              Param #   \n",
      "=================================================================\n",
      "dense_64 (Dense)             (None, 512)               98816     \n",
      "_________________________________________________________________\n",
      "dropout (Dropout)            (None, 512)               0         \n",
      "_________________________________________________________________\n",
      "dense_65 (Dense)             (None, 512)               262656    \n",
      "_________________________________________________________________\n",
      "dropout_1 (Dropout)          (None, 512)               0         \n",
      "_________________________________________________________________\n",
      "dense_66 (Dense)             (None, 512)               262656    \n",
      "_________________________________________________________________\n",
      "dropout_2 (Dropout)          (None, 512)               0         \n",
      "_________________________________________________________________\n",
      "dense_67 (Dense)             (None, 512)               262656    \n",
      "_________________________________________________________________\n",
      "dropout_3 (Dropout)          (None, 512)               0         \n",
      "_________________________________________________________________\n",
      "dense_68 (Dense)             (None, 1)                 513       \n",
      "=================================================================\n",
      "Total params: 887,297\n",
      "Trainable params: 887,297\n",
      "Non-trainable params: 0\n",
      "_________________________________________________________________\n",
      "\n",
      "Epoch: 0, accuracy:0.4990,  binary_crossentropy:8.1292,  loss:8.1292,  val_accuracy:0.5280,  val_binary_crossentropy:0.7379,  val_loss:0.7379,  \n",
      "....................................................................................................\n",
      "Epoch: 100, accuracy:0.4811,  binary_crossentropy:0.6967,  loss:0.6967,  val_accuracy:0.4715,  val_binary_crossentropy:0.6918,  val_loss:0.6918,  \n",
      "...............................WARNING:tensorflow:Your input ran out of data; interrupting training. Make sure that your dataset or generator can generate at least `steps_per_epoch * epochs` batches (in this case, 1460000 batches). You may need to use the repeat() function when building your dataset.\n",
      "."
     ]
    }
   ],
   "source": [
    "dropout_model = tf.keras.Sequential([\n",
    "    layers.Dense(512, activation='elu', input_shape=(FEATURES,)),\n",
    "    layers.Dropout(0.5),\n",
    "    layers.Dense(512, activation='elu'),\n",
    "    layers.Dropout(0.5),\n",
    "    layers.Dense(512, activation='elu'),\n",
    "    layers.Dropout(0.5),\n",
    "    layers.Dense(512, activation='elu'),\n",
    "    layers.Dropout(0.5),\n",
    "    layers.Dense(1)\n",
    "])\n",
    "\n",
    "regularizer_histories['dropout'] = compile_and_fit(dropout_model, \"regularizers/dropout\")"
   ]
  },
  {
   "cell_type": "code",
   "execution_count": 319,
   "metadata": {
    "colab": {},
    "colab_type": "code",
    "id": "SPZqwVchx5xp"
   },
   "outputs": [
    {
     "data": {
      "text/plain": [
       "(0.45, 0.55)"
      ]
     },
     "execution_count": 319,
     "metadata": {},
     "output_type": "execute_result"
    },
    {
     "data": {
      "image/png": "[encoded data removed]",
      "text/plain": [
       "<Figure size 432x288 with 1 Axes>"
      ]
     },
     "metadata": {
      "needs_background": "light"
     },
     "output_type": "display_data"
    }
   ],
   "source": [
    "plotter.plot(regularizer_histories)\n",
    "plt.ylim([0.45, 0.55])"
   ]
  },
  {
   "cell_type": "markdown",
   "metadata": {
    "colab_type": "text",
    "id": "4zlHr4iaI1U6"
   },
   "source": [
    "It's clear from this plot that both of these regularization approaches improve the behavior of the `\"Large\"` model. But this still doesn't beat even the `\"Tiny\"` baseline.\n",
    "\n",
    "Next try them both, together, and see if that does better."
   ]
  },
  {
   "cell_type": "markdown",
   "metadata": {
    "colab_type": "text",
    "id": "u7qMg_7Nwy5t"
   },
   "source": [
    "### Combined L2 + dropout"
   ]
  },
  {
   "cell_type": "code",
   "execution_count": 314,
   "metadata": {
    "colab": {},
    "colab_type": "code",
    "id": "7zfs_qQIw1cz"
   },
   "outputs": [
    {
     "name": "stdout",
     "output_type": "stream",
     "text": [
      "Model: \"sequential_27\"\n",
      "_________________________________________________________________\n",
      "Layer (type)                 Output Shape              Param #   \n",
      "=================================================================\n",
      "dense_69 (Dense)             (None, 512)               98816     \n",
      "_________________________________________________________________\n",
      "dropout_4 (Dropout)          (None, 512)               0         \n",
      "_________________________________________________________________\n",
      "dense_70 (Dense)             (None, 512)               262656    \n",
      "_________________________________________________________________\n",
      "dropout_5 (Dropout)          (None, 512)               0         \n",
      "_________________________________________________________________\n",
      "dense_71 (Dense)             (None, 512)               262656    \n",
      "_________________________________________________________________\n",
      "dropout_6 (Dropout)          (None, 512)               0         \n",
      "_________________________________________________________________\n",
      "dense_72 (Dense)             (None, 512)               262656    \n",
      "_________________________________________________________________\n",
      "dropout_7 (Dropout)          (None, 512)               0         \n",
      "_________________________________________________________________\n",
      "dense_73 (Dense)             (None, 1)                 513       \n",
      "=================================================================\n",
      "Total params: 887,297\n",
      "Trainable params: 887,297\n",
      "Non-trainable params: 0\n",
      "_________________________________________________________________\n",
      "\n",
      "Epoch: 0, accuracy:0.4983,  binary_crossentropy:7.6751,  loss:7.8492,  val_accuracy:0.4726,  val_binary_crossentropy:0.7891,  val_loss:0.9610,  \n",
      "....................................................................................................\n",
      "Epoch: 100, accuracy:0.4802,  binary_crossentropy:0.6952,  loss:0.7066,  val_accuracy:0.4715,  val_binary_crossentropy:0.6919,  val_loss:0.7028,  \n",
      "...............................WARNING:tensorflow:Your input ran out of data; interrupting training. Make sure that your dataset or generator can generate at least `steps_per_epoch * epochs` batches (in this case, 1460000 batches). You may need to use the repeat() function when building your dataset.\n",
      "."
     ]
    }
   ],
   "source": [
    "combined_model = tf.keras.Sequential([\n",
    "    layers.Dense(512, kernel_regularizer=regularizers.l2(0.0001),\n",
    "                 activation='elu', input_shape=(FEATURES,)),\n",
    "    layers.Dropout(0.5),\n",
    "    layers.Dense(512, kernel_regularizer=regularizers.l2(0.0001),\n",
    "                 activation='elu'),\n",
    "    layers.Dropout(0.5),\n",
    "    layers.Dense(512, kernel_regularizer=regularizers.l2(0.0001),\n",
    "                 activation='elu'),\n",
    "    layers.Dropout(0.5),\n",
    "    layers.Dense(512, kernel_regularizer=regularizers.l2(0.0001),\n",
    "                 activation='elu'),\n",
    "    layers.Dropout(0.5),\n",
    "    layers.Dense(1)\n",
    "])\n",
    "\n",
    "regularizer_histories['combined'] = compile_and_fit(combined_model, \"regularizers/combined\")"
   ]
  },
  {
   "cell_type": "code",
   "execution_count": 324,
   "metadata": {
    "colab": {},
    "colab_type": "code",
    "id": "qDqBBxfI0Yd8"
   },
   "outputs": [
    {
     "data": {
      "text/plain": [
       "(0.45, 0.55)"
      ]
     },
     "execution_count": 324,
     "metadata": {},
     "output_type": "execute_result"
    },
    {
     "data": {
      "image/png": "[encoded data removed]",
      "text/plain": [
       "<Figure size 432x288 with 1 Axes>"
      ]
     },
     "metadata": {
      "needs_background": "light"
     },
     "output_type": "display_data"
    }
   ],
   "source": [
    "plotter = tfdocs.plots.HistoryPlotter(metric = 'accuracy', smoothing_std=10)\n",
    "plotter.plot(regularizer_histories)\n",
    "plt.ylim([0.45, 0.55])"
   ]
  },
  {
   "cell_type": "code",
   "execution_count": null,
   "metadata": {},
   "outputs": [],
   "source": []
  },
  {
   "cell_type": "code",
   "execution_count": 325,
   "metadata": {},
   "outputs": [
    {
     "data": {
      "text/plain": [
       "(0.6, 3)"
      ]
     },
     "execution_count": 325,
     "metadata": {},
     "output_type": "execute_result"
    },
    {
     "data": {
      "image/png": "[encoded data removed]",
      "text/plain": [
       "<Figure size 432x288 with 1 Axes>"
      ]
     },
     "metadata": {
      "needs_background": "light"
     },
     "output_type": "display_data"
    }
   ],
   "source": [
    "plotter = tfdocs.plots.HistoryPlotter(metric = 'binary_crossentropy', smoothing_std=10)\n",
    "plotter.plot(regularizer_histories)\n",
    "plt.ylim([0.6, 3])"
   ]
  },
  {
   "cell_type": "code",
   "execution_count": 326,
   "metadata": {},
   "outputs": [
    {
     "data": {
      "text/plain": [
       "(0.6, 0.95)"
      ]
     },
     "execution_count": 326,
     "metadata": {},
     "output_type": "execute_result"
    },
    {
     "data": {
      "image/png": "[encoded data removed]",
      "text/plain": [
       "<Figure size 432x288 with 1 Axes>"
      ]
     },
     "metadata": {
      "needs_background": "light"
     },
     "output_type": "display_data"
    }
   ],
   "source": [
    "plotter = tfdocs.plots.HistoryPlotter(metric = 'binary_crossentropy', smoothing_std=10)\n",
    "plotter.plot(regularizer_histories)\n",
    "plt.ylim([0.6, 0.95])"
   ]
  },
  {
   "cell_type": "markdown",
   "metadata": {
    "colab_type": "text",
    "id": "tE0OoNCQNTJv"
   },
   "source": [
    "This model with the `\"Combined\"` regularization is obviously the best one so far."
   ]
  },
  {
   "cell_type": "markdown",
   "metadata": {
    "colab_type": "text",
    "id": "-dw23T03FEO1"
   },
   "source": [
    "### View in TensorBoard\n",
    "\n",
    "These models also recorded TensorBoard logs.\n",
    "\n",
    "To open an embedded  tensorboard viewer inside a notebook, copy the following into a code-cell:\n",
    "\n",
    "```\n",
    "%tensorboard --logdir {logdir}/regularizers\n",
    "```"
   ]
  },
  {
   "cell_type": "markdown",
   "metadata": {
    "colab_type": "text",
    "id": "KX3Voac-FEO4"
   },
   "source": [
    "You can view the [results of a previous run](https://tensorboard.dev/experiment/fGInKDo8TXes1z7HQku9mw/#scalars&_smoothingWeight=0.97) of this notebook on [TensorDoard.dev](https://tensorboard.dev/).\n",
    "\n",
    "It's also included in an `<iframe>` for convenience:"
   ]
  },
  {
   "cell_type": "code",
   "execution_count": 42,
   "metadata": {
    "colab": {},
    "colab_type": "code",
    "id": "doMtyYoqFEO5"
   },
   "outputs": [
    {
     "data": {
      "text/html": [
       "\n",
       "        <iframe\n",
       "            width=\"100%\"\n",
       "            height=\"800px\"\n",
       "            src=\"https://tensorboard.dev/experiment/fGInKDo8TXes1z7HQku9mw/#scalars&_smoothingWeight=0.97\"\n",
       "            frameborder=\"0\"\n",
       "            allowfullscreen\n",
       "        ></iframe>\n",
       "        "
      ],
      "text/plain": [
       "<IPython.lib.display.IFrame at 0x7fe4300b7ef0>"
      ]
     },
     "execution_count": 42,
     "metadata": {},
     "output_type": "execute_result"
    }
   ],
   "source": [
    "display.IFrame(\n",
    "    src=\"https://tensorboard.dev/experiment/fGInKDo8TXes1z7HQku9mw/#scalars&_smoothingWeight=0.97\",\n",
    "    width = \"100%\",\n",
    "    height=\"800px\")\n"
   ]
  },
  {
   "cell_type": "markdown",
   "metadata": {
    "colab_type": "text",
    "id": "mds5RXGjIcSu"
   },
   "source": [
    "This was uploaded with:\n",
    "\n",
    "```\n",
    "!tensorboard dev upload --logdir  {logdir}/regularizers\n",
    "```"
   ]
  },
  {
   "cell_type": "markdown",
   "metadata": {
    "colab_type": "text",
    "id": "uXJxtwBWIhjG"
   },
   "source": [
    "## Conclusions"
   ]
  },
  {
   "cell_type": "markdown",
   "metadata": {
    "colab_type": "text",
    "id": "gjfnkEeQyAFG"
   },
   "source": [
    "To recap: here are the most common ways to prevent overfitting in neural networks:\n",
    "\n",
    "* Get more training data.\n",
    "* Reduce the capacity of the network.\n",
    "* Add weight regularization.\n",
    "* Add dropout.\n",
    "\n",
    "Two important approaches not covered in this guide are:\n",
    "\n",
    "* data-augmentation\n",
    "* batch normalization\n",
    "\n",
    "Remember that each method can help on its own, but often combining them can be even more effective."
   ]
  }
 ],
 "metadata": {
  "accelerator": "GPU",
  "colab": {
   "collapsed_sections": [],
   "machine_shape": "hm",
   "name": "overfit_and_underfit.ipynb",
   "private_outputs": true,
   "provenance": [],
   "toc_visible": true
  },
  "kernelspec": {
   "display_name": "Python 3",
   "language": "python",
   "name": "python3"
  },
  "language_info": {
   "codemirror_mode": {
    "name": "ipython",
    "version": 3
   },
   "file_extension": ".py",
   "mimetype": "text/x-python",
   "name": "python",
   "nbconvert_exporter": "python",
   "pygments_lexer": "ipython3",
   "version": "3.7.4"
  }
 },
 "nbformat": 4,
 "nbformat_minor": 1
}
