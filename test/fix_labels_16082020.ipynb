{
 "cells": [
  {
   "cell_type": "markdown",
   "metadata": {
    "colab_type": "text",
    "id": "WL8UoOTmGGsL"
   },
   "source": [
    "## Setup"
   ]
  },
  {
   "cell_type": "markdown",
   "metadata": {
    "colab_type": "text",
    "id": "9FklhSI0Gg9R"
   },
   "source": [
    "Before getting started, import the necessary packages:"
   ]
  },
  {
   "cell_type": "code",
   "execution_count": 7,
   "metadata": {},
   "outputs": [],
   "source": [
    "#!python -m pip install tensorflow"
   ]
  },
  {
   "cell_type": "code",
   "execution_count": 1,
   "metadata": {
    "colab": {},
    "colab_type": "code",
    "id": "5pZ8A2liqvgk"
   },
   "outputs": [
    {
     "name": "stdout",
     "output_type": "stream",
     "text": [
      "2.2.0\n"
     ]
    }
   ],
   "source": [
    "import tensorflow as tf\n",
    "from tensorflow import keras\n",
    "\n",
    "from tensorflow.keras import layers\n",
    "from tensorflow.keras import regularizers\n",
    "\n",
    "print(tf.__version__)"
   ]
  },
  {
   "cell_type": "code",
   "execution_count": 2,
   "metadata": {
    "colab": {},
    "colab_type": "code",
    "id": "QnAtAjqRYVXe"
   },
   "outputs": [],
   "source": [
    "#!pip install -q git+https://github.com/tensorflow/docs\n",
    "\n",
    "import tensorflow_docs as tfdocs\n",
    "import tensorflow_docs.modeling\n",
    "import tensorflow_docs.plots"
   ]
  },
  {
   "cell_type": "code",
   "execution_count": 3,
   "metadata": {
    "colab": {},
    "colab_type": "code",
    "id": "-pnOU-ctX27Q"
   },
   "outputs": [],
   "source": [
    "from  IPython import display\n",
    "from matplotlib import pyplot as plt\n",
    "\n",
    "import numpy as np\n",
    "\n",
    "import pathlib\n",
    "import shutil\n",
    "import tempfile\n"
   ]
  },
  {
   "cell_type": "code",
   "execution_count": 4,
   "metadata": {
    "colab": {},
    "colab_type": "code",
    "id": "jj6I4dvTtbUe"
   },
   "outputs": [
    {
     "name": "stdout",
     "output_type": "stream",
     "text": [
      "C:\\Users\\fstri\\AppData\\Local\\Temp\\tmpouf891ww\\tensorboard_logs\n"
     ]
    }
   ],
   "source": [
    "logdir = pathlib.Path(tempfile.mkdtemp())/\"tensorboard_logs\"\n",
    "shutil.rmtree(logdir, ignore_errors=True)\n",
    "print(logdir)"
   ]
  },
  {
   "cell_type": "markdown",
   "metadata": {},
   "source": [
    "# FMNS: Try modeling our candles"
   ]
  },
  {
   "cell_type": "code",
   "execution_count": 5,
   "metadata": {},
   "outputs": [],
   "source": [
    "import numpy as np\n",
    "import pandas as pd\n",
    "import matplotlib.pyplot as plt\n",
    "import re\n",
    "import os\n",
    "import time\n",
    "import h5py\n",
    "import copy\n",
    "import datetime\n",
    "import ta\n",
    "#import yfinance as yf\n",
    "import tensorflow as tf\n",
    "import tensorflow.compat.v2.feature_column as fc\n",
    "from IPython.display import clear_output\n",
    "import pyodbc\n",
    "\n",
    "# Preprocessing\n",
    "from sklearn.model_selection import train_test_split\n",
    "from sklearn.preprocessing import StandardScaler\n",
    "from sklearn.preprocessing import MinMaxScaler\n",
    "from sklearn.preprocessing import Normalizer\n",
    "from sklearn.preprocessing import PowerTransformer\n",
    "from sklearn.preprocessing import QuantileTransformer\n",
    "from sklearn.preprocessing import RobustScaler\n",
    "from sklearn.model_selection import GridSearchCV\n",
    "from sklearn.metrics import roc_curve, roc_auc_score, f1_score, log_loss\n",
    "\n",
    "\n",
    "# Models\n",
    "from sklearn.linear_model import LogisticRegression\n",
    "from sklearn.model_selection import StratifiedKFold\n",
    "from sklearn.exceptions import ConvergenceWarning \n",
    "from sklearn import ensemble\n",
    "# ConvergenceWarning('ignore')\n",
    "# Do you wanna see?\n",
    "verbose = True\n",
    "\n",
    "import sys\n",
    "sys.path.append('../')\n",
    "#sys.path.append('...../')\n",
    "\n",
    "from utils.data_extraction import load_data_final,load_data_and_save\n",
    "from utils.data_cleaning import HFDataCleaning\n",
    "from utils.generate_features import candleCreateNP_vect_final,\\\n",
    "                                    generateFeatures_final,\\\n",
    "                                    generateFeatures_multi_v1\n",
    "\n",
    "from utils.preprocessing_features_and_labels import extract_labels,\\\n",
    "                                                    align_features_and_labels,\\\n",
    "                                                    pre_processing_initial,\\\n",
    "                                                    pre_processing_extended,\\\n",
    "                                                    pre_processing,\\\n",
    "                                                    extract_labels_multi,\\\n",
    "                                                    align_features_and_labels_multi\n",
    "\n",
    "from utils.models import make_input_fn\n",
    "from utils.models import performanceTesting,scoreFunction\n",
    "from utils.plotting import plot_confusion_matrix"
   ]
  },
  {
   "cell_type": "code",
   "execution_count": 160,
   "metadata": {},
   "outputs": [
    {
     "name": "stdout",
     "output_type": "stream",
     "text": [
      "Which one do you want to load? \n",
      "\n",
      "0: aggregateTAQ_10sec.csv\n",
      "1: aggregateTAQ_30sec.csv\n",
      "2: aggregateTAQ_60sec.csv\n",
      "\n",
      "\n",
      "2\n"
     ]
    }
   ],
   "source": [
    "# Do we extract new data or read in?\n",
    "readIn = True\n",
    "# run load_data()\n",
    "if readIn:\n",
    "    \n",
    "    # Listing the data files \n",
    "#     path = '../../../Google Drev/Thesis/Data/TAQ/AggregatedTAQ'\n",
    "    path = 'F:/AggregatedTAQ/round3'\n",
    "    datafiles = os.listdir(path)\n",
    "    content = np.concatenate([['\\n\\n'],[str(j)+': '+i+'\\n' for j,i in enumerate(datafiles) if 'csv' in i],['\\n\\n']])\n",
    "    \n",
    "    # Asking for user input\n",
    "    file = input('Which one do you want to load? %s'%''.join(content))\n",
    "    data = pd.read_csv(path + '/' + datafiles[int(file)],\n",
    "                       header = None,\n",
    "                       names=['open','high','low','close',\n",
    "                              'spread_open','spread_high','spread_low','spread_close',\n",
    "                              'bidsize_open','bidsize_high','bidsize_low','bidsize_close',\n",
    "                              'ofrsize_open','ofrsize_high','ofrsize_low','ofrsize_close',\n",
    "                              'Ticker'])\n",
    "else:\n",
    "    \n",
    "    # print(os.listdir())\n",
    "    try:\n",
    "        path = 'a:/taqhdf5'  #'a:/taqhdf5'\n",
    "        os.listdir(path)\n",
    "    except:\n",
    "        path = 't:/taqhdf5'  #'a:/taqhdf5'\n",
    "        os.listdir(path)\n",
    "        \n",
    "    # Sample type\n",
    "    data_sample = 'full' # or 'stable'\n",
    "    # allFiles = os.listdir(path)\n",
    "    # print(len(allFiles), allFiles[:5], allFiles[-5:])\n",
    "    # print(allFiles[-10:])\n",
    "\n",
    "    #dates = np.array(['2020040' + str(i) if i < 10 else '202004' + str(i) for i in np.arange(1,16)]).astype(int)\n",
    "    dates = np.array(['20200501']).astype(int)#,'20200402','20200403','20200406','20200407'\n",
    "\n",
    "    # Provide a list of tickers of interest\n",
    "    \n",
    "    tickers = sorted(['TSLA','FB'])#'MSFT'\n",
    "    \n",
    "    # Do we need data on trades, quotes or both?\n",
    "    dataNeeded = 'quotes' # 'trades', 'quotes' or 'both'\n",
    "    \n",
    "    if dataNeeded == 'trades':\n",
    "        tradeData = load_data_final(dates, tickers, dataNeeded, path, verbose)\n",
    "    elif dataNeeded == 'quotes':\n",
    "        quoteData = load_data_final(dates,\n",
    "                                    tickers,\n",
    "                                    dataNeeded,\n",
    "                                    path,\n",
    "                                    verbose,\n",
    "                                    extract_candles = False,\n",
    "                                    aggHorizon = 1,\n",
    "                                    extra_features_from_quotes = None,\n",
    "                                    data_sample = data_sample)\n",
    "    elif dataNeeded == 'both':\n",
    "        tradeData, quoteData = load_data_final(dates, tickers, dataNeeded, path, verbose)"
   ]
  },
  {
   "cell_type": "code",
   "execution_count": 161,
   "metadata": {},
   "outputs": [
    {
     "data": {
      "text/html": [
       "<div>\n",
       "<style scoped>\n",
       "    .dataframe tbody tr th:only-of-type {\n",
       "        vertical-align: middle;\n",
       "    }\n",
       "\n",
       "    .dataframe tbody tr th {\n",
       "        vertical-align: top;\n",
       "    }\n",
       "\n",
       "    .dataframe thead th {\n",
       "        text-align: right;\n",
       "    }\n",
       "</style>\n",
       "<table border=\"1\" class=\"dataframe\">\n",
       "  <thead>\n",
       "    <tr style=\"text-align: right;\">\n",
       "      <th></th>\n",
       "      <th></th>\n",
       "      <th>open</th>\n",
       "      <th>high</th>\n",
       "      <th>low</th>\n",
       "      <th>close</th>\n",
       "      <th>spread_open</th>\n",
       "      <th>spread_high</th>\n",
       "      <th>spread_low</th>\n",
       "      <th>spread_close</th>\n",
       "      <th>bidsize_open</th>\n",
       "      <th>bidsize_high</th>\n",
       "      <th>bidsize_low</th>\n",
       "      <th>bidsize_close</th>\n",
       "      <th>ofrsize_open</th>\n",
       "      <th>ofrsize_high</th>\n",
       "      <th>ofrsize_low</th>\n",
       "      <th>ofrsize_close</th>\n",
       "      <th>Ticker</th>\n",
       "    </tr>\n",
       "  </thead>\n",
       "  <tbody>\n",
       "    <tr>\n",
       "      <td rowspan=\"5\" valign=\"top\">20200501</td>\n",
       "      <td>0</td>\n",
       "      <td>286.250</td>\n",
       "      <td>289.260</td>\n",
       "      <td>285.870</td>\n",
       "      <td>289.260</td>\n",
       "      <td>0.50</td>\n",
       "      <td>0.50</td>\n",
       "      <td>0.01</td>\n",
       "      <td>0.24</td>\n",
       "      <td>6.0</td>\n",
       "      <td>95.0</td>\n",
       "      <td>1.0</td>\n",
       "      <td>10.0</td>\n",
       "      <td>1.0</td>\n",
       "      <td>85.0</td>\n",
       "      <td>1.0</td>\n",
       "      <td>4.0</td>\n",
       "      <td>AAPL</td>\n",
       "    </tr>\n",
       "    <tr>\n",
       "      <td>1</td>\n",
       "      <td>289.260</td>\n",
       "      <td>289.350</td>\n",
       "      <td>288.365</td>\n",
       "      <td>289.020</td>\n",
       "      <td>0.24</td>\n",
       "      <td>0.45</td>\n",
       "      <td>0.01</td>\n",
       "      <td>0.10</td>\n",
       "      <td>9.0</td>\n",
       "      <td>20.0</td>\n",
       "      <td>1.0</td>\n",
       "      <td>1.0</td>\n",
       "      <td>4.0</td>\n",
       "      <td>56.0</td>\n",
       "      <td>1.0</td>\n",
       "      <td>1.0</td>\n",
       "      <td>AAPL</td>\n",
       "    </tr>\n",
       "    <tr>\n",
       "      <td>2</td>\n",
       "      <td>289.035</td>\n",
       "      <td>289.705</td>\n",
       "      <td>288.280</td>\n",
       "      <td>288.580</td>\n",
       "      <td>0.07</td>\n",
       "      <td>0.49</td>\n",
       "      <td>0.01</td>\n",
       "      <td>0.30</td>\n",
       "      <td>1.0</td>\n",
       "      <td>50.0</td>\n",
       "      <td>1.0</td>\n",
       "      <td>1.0</td>\n",
       "      <td>1.0</td>\n",
       "      <td>13.0</td>\n",
       "      <td>1.0</td>\n",
       "      <td>1.0</td>\n",
       "      <td>AAPL</td>\n",
       "    </tr>\n",
       "    <tr>\n",
       "      <td>3</td>\n",
       "      <td>288.485</td>\n",
       "      <td>289.315</td>\n",
       "      <td>288.280</td>\n",
       "      <td>289.095</td>\n",
       "      <td>0.49</td>\n",
       "      <td>0.49</td>\n",
       "      <td>0.01</td>\n",
       "      <td>0.17</td>\n",
       "      <td>1.0</td>\n",
       "      <td>25.0</td>\n",
       "      <td>1.0</td>\n",
       "      <td>16.0</td>\n",
       "      <td>1.0</td>\n",
       "      <td>8.0</td>\n",
       "      <td>1.0</td>\n",
       "      <td>1.0</td>\n",
       "      <td>AAPL</td>\n",
       "    </tr>\n",
       "    <tr>\n",
       "      <td>4</td>\n",
       "      <td>289.100</td>\n",
       "      <td>290.435</td>\n",
       "      <td>288.940</td>\n",
       "      <td>290.320</td>\n",
       "      <td>0.16</td>\n",
       "      <td>0.33</td>\n",
       "      <td>0.01</td>\n",
       "      <td>0.10</td>\n",
       "      <td>13.0</td>\n",
       "      <td>71.0</td>\n",
       "      <td>1.0</td>\n",
       "      <td>1.0</td>\n",
       "      <td>1.0</td>\n",
       "      <td>236.0</td>\n",
       "      <td>1.0</td>\n",
       "      <td>1.0</td>\n",
       "      <td>AAPL</td>\n",
       "    </tr>\n",
       "    <tr>\n",
       "      <td>...</td>\n",
       "      <td>...</td>\n",
       "      <td>...</td>\n",
       "      <td>...</td>\n",
       "      <td>...</td>\n",
       "      <td>...</td>\n",
       "      <td>...</td>\n",
       "      <td>...</td>\n",
       "      <td>...</td>\n",
       "      <td>...</td>\n",
       "      <td>...</td>\n",
       "      <td>...</td>\n",
       "      <td>...</td>\n",
       "      <td>...</td>\n",
       "      <td>...</td>\n",
       "      <td>...</td>\n",
       "      <td>...</td>\n",
       "      <td>...</td>\n",
       "      <td>...</td>\n",
       "    </tr>\n",
       "    <tr>\n",
       "      <td rowspan=\"5\" valign=\"top\">20200529</td>\n",
       "      <td>385</td>\n",
       "      <td>123.950</td>\n",
       "      <td>124.110</td>\n",
       "      <td>123.910</td>\n",
       "      <td>124.100</td>\n",
       "      <td>0.02</td>\n",
       "      <td>0.07</td>\n",
       "      <td>0.01</td>\n",
       "      <td>0.04</td>\n",
       "      <td>1.0</td>\n",
       "      <td>11.0</td>\n",
       "      <td>1.0</td>\n",
       "      <td>1.0</td>\n",
       "      <td>5.0</td>\n",
       "      <td>9.0</td>\n",
       "      <td>1.0</td>\n",
       "      <td>1.0</td>\n",
       "      <td>WMT</td>\n",
       "    </tr>\n",
       "    <tr>\n",
       "      <td>386</td>\n",
       "      <td>124.085</td>\n",
       "      <td>124.085</td>\n",
       "      <td>123.920</td>\n",
       "      <td>123.995</td>\n",
       "      <td>0.01</td>\n",
       "      <td>0.06</td>\n",
       "      <td>0.01</td>\n",
       "      <td>0.01</td>\n",
       "      <td>1.0</td>\n",
       "      <td>8.0</td>\n",
       "      <td>1.0</td>\n",
       "      <td>3.0</td>\n",
       "      <td>1.0</td>\n",
       "      <td>9.0</td>\n",
       "      <td>1.0</td>\n",
       "      <td>2.0</td>\n",
       "      <td>WMT</td>\n",
       "    </tr>\n",
       "    <tr>\n",
       "      <td>387</td>\n",
       "      <td>123.995</td>\n",
       "      <td>124.355</td>\n",
       "      <td>123.985</td>\n",
       "      <td>124.335</td>\n",
       "      <td>0.01</td>\n",
       "      <td>0.07</td>\n",
       "      <td>0.01</td>\n",
       "      <td>0.05</td>\n",
       "      <td>4.0</td>\n",
       "      <td>16.0</td>\n",
       "      <td>1.0</td>\n",
       "      <td>2.0</td>\n",
       "      <td>2.0</td>\n",
       "      <td>10.0</td>\n",
       "      <td>1.0</td>\n",
       "      <td>2.0</td>\n",
       "      <td>WMT</td>\n",
       "    </tr>\n",
       "    <tr>\n",
       "      <td>388</td>\n",
       "      <td>124.335</td>\n",
       "      <td>124.355</td>\n",
       "      <td>124.060</td>\n",
       "      <td>124.075</td>\n",
       "      <td>0.05</td>\n",
       "      <td>0.12</td>\n",
       "      <td>0.01</td>\n",
       "      <td>0.01</td>\n",
       "      <td>3.0</td>\n",
       "      <td>6.0</td>\n",
       "      <td>1.0</td>\n",
       "      <td>2.0</td>\n",
       "      <td>2.0</td>\n",
       "      <td>10.0</td>\n",
       "      <td>1.0</td>\n",
       "      <td>4.0</td>\n",
       "      <td>WMT</td>\n",
       "    </tr>\n",
       "    <tr>\n",
       "      <td>389</td>\n",
       "      <td>124.075</td>\n",
       "      <td>124.225</td>\n",
       "      <td>122.810</td>\n",
       "      <td>123.855</td>\n",
       "      <td>0.01</td>\n",
       "      <td>2.43</td>\n",
       "      <td>0.01</td>\n",
       "      <td>0.21</td>\n",
       "      <td>1.0</td>\n",
       "      <td>20.0</td>\n",
       "      <td>1.0</td>\n",
       "      <td>2.0</td>\n",
       "      <td>4.0</td>\n",
       "      <td>12.0</td>\n",
       "      <td>1.0</td>\n",
       "      <td>1.0</td>\n",
       "      <td>WMT</td>\n",
       "    </tr>\n",
       "  </tbody>\n",
       "</table>\n",
       "<p>514800 rows × 17 columns</p>\n",
       "</div>"
      ],
      "text/plain": [
       "                 open     high      low    close  spread_open  spread_high  \\\n",
       "20200501 0    286.250  289.260  285.870  289.260         0.50         0.50   \n",
       "         1    289.260  289.350  288.365  289.020         0.24         0.45   \n",
       "         2    289.035  289.705  288.280  288.580         0.07         0.49   \n",
       "         3    288.485  289.315  288.280  289.095         0.49         0.49   \n",
       "         4    289.100  290.435  288.940  290.320         0.16         0.33   \n",
       "...               ...      ...      ...      ...          ...          ...   \n",
       "20200529 385  123.950  124.110  123.910  124.100         0.02         0.07   \n",
       "         386  124.085  124.085  123.920  123.995         0.01         0.06   \n",
       "         387  123.995  124.355  123.985  124.335         0.01         0.07   \n",
       "         388  124.335  124.355  124.060  124.075         0.05         0.12   \n",
       "         389  124.075  124.225  122.810  123.855         0.01         2.43   \n",
       "\n",
       "              spread_low  spread_close  bidsize_open  bidsize_high  \\\n",
       "20200501 0          0.01          0.24           6.0          95.0   \n",
       "         1          0.01          0.10           9.0          20.0   \n",
       "         2          0.01          0.30           1.0          50.0   \n",
       "         3          0.01          0.17           1.0          25.0   \n",
       "         4          0.01          0.10          13.0          71.0   \n",
       "...                  ...           ...           ...           ...   \n",
       "20200529 385        0.01          0.04           1.0          11.0   \n",
       "         386        0.01          0.01           1.0           8.0   \n",
       "         387        0.01          0.05           4.0          16.0   \n",
       "         388        0.01          0.01           3.0           6.0   \n",
       "         389        0.01          0.21           1.0          20.0   \n",
       "\n",
       "              bidsize_low  bidsize_close  ofrsize_open  ofrsize_high  \\\n",
       "20200501 0            1.0           10.0           1.0          85.0   \n",
       "         1            1.0            1.0           4.0          56.0   \n",
       "         2            1.0            1.0           1.0          13.0   \n",
       "         3            1.0           16.0           1.0           8.0   \n",
       "         4            1.0            1.0           1.0         236.0   \n",
       "...                   ...            ...           ...           ...   \n",
       "20200529 385          1.0            1.0           5.0           9.0   \n",
       "         386          1.0            3.0           1.0           9.0   \n",
       "         387          1.0            2.0           2.0          10.0   \n",
       "         388          1.0            2.0           2.0          10.0   \n",
       "         389          1.0            2.0           4.0          12.0   \n",
       "\n",
       "              ofrsize_low  ofrsize_close Ticker  \n",
       "20200501 0            1.0            4.0   AAPL  \n",
       "         1            1.0            1.0   AAPL  \n",
       "         2            1.0            1.0   AAPL  \n",
       "         3            1.0            1.0   AAPL  \n",
       "         4            1.0            1.0   AAPL  \n",
       "...                   ...            ...    ...  \n",
       "20200529 385          1.0            1.0    WMT  \n",
       "         386          1.0            2.0    WMT  \n",
       "         387          1.0            2.0    WMT  \n",
       "         388          1.0            4.0    WMT  \n",
       "         389          1.0            1.0    WMT  \n",
       "\n",
       "[514800 rows x 17 columns]"
      ]
     },
     "execution_count": 161,
     "metadata": {},
     "output_type": "execute_result"
    }
   ],
   "source": [
    "# add ticker as a multiindex or just groupby directly on date & ticker\n",
    "data #.index"
   ]
  },
  {
   "cell_type": "code",
   "execution_count": 162,
   "metadata": {},
   "outputs": [
    {
     "name": "stdout",
     "output_type": "stream",
     "text": [
      "0 AAPL\n",
      "1 ABBV\n",
      "2 ABT\n",
      "3 AEP\n",
      "4 AMT\n",
      "5 APD\n",
      "6 BA\n",
      "7 BABA\n",
      "8 BAC\n",
      "9 BHP\n",
      "10 BP\n",
      "11 CCI\n",
      "12 CHL\n",
      "13 COST\n",
      "14 CSGP\n",
      "15 D\n",
      "16 DIS\n",
      "17 ECL\n",
      "18 ENB\n",
      "19 EXC\n",
      "20 FB\n",
      "21 FMX\n",
      "22 GOOG\n",
      "23 IDU\n",
      "24 INTC\n",
      "25 IYC\n",
      "26 IYE\n",
      "27 IYG\n",
      "28 IYH\n",
      "29 IYJ\n",
      "30 IYK\n",
      "31 IYM\n",
      "32 IYR\n",
      "33 IYW\n",
      "34 IYZ\n",
      "35 JNJ\n",
      "36 KO\n",
      "37 LFC\n",
      "38 LIN\n",
      "39 LMT\n",
      "40 MA\n",
      "41 MCD\n",
      "42 MSFT\n",
      "43 NKE\n",
      "44 NVDA\n",
      "45 NVS\n",
      "46 PBR\n",
      "47 PEP\n",
      "48 PFE\n",
      "49 PLD\n",
      "50 PSA\n",
      "51 PTR\n",
      "52 PYPL\n",
      "53 RTX\n",
      "54 SHW\n",
      "55 SNP\n",
      "56 SO\n",
      "57 SRE\n",
      "58 T\n",
      "59 TM\n",
      "60 TSLA\n",
      "61 TSM\n",
      "62 UNP\n",
      "63 UPS\n",
      "64 V\n",
      "65 WMT\n"
     ]
    }
   ],
   "source": [
    "for i, ticker in enumerate(data.Ticker.unique()):\n",
    "    print(i, ticker)"
   ]
  },
  {
   "cell_type": "code",
   "execution_count": 163,
   "metadata": {},
   "outputs": [
    {
     "data": {
      "text/html": [
       "<div>\n",
       "<style scoped>\n",
       "    .dataframe tbody tr th:only-of-type {\n",
       "        vertical-align: middle;\n",
       "    }\n",
       "\n",
       "    .dataframe tbody tr th {\n",
       "        vertical-align: top;\n",
       "    }\n",
       "\n",
       "    .dataframe thead th {\n",
       "        text-align: right;\n",
       "    }\n",
       "</style>\n",
       "<table border=\"1\" class=\"dataframe\">\n",
       "  <thead>\n",
       "    <tr style=\"text-align: right;\">\n",
       "      <th></th>\n",
       "      <th></th>\n",
       "      <th>open</th>\n",
       "      <th>high</th>\n",
       "      <th>low</th>\n",
       "      <th>close</th>\n",
       "      <th>spread_open</th>\n",
       "      <th>spread_high</th>\n",
       "      <th>spread_low</th>\n",
       "      <th>spread_close</th>\n",
       "      <th>bidsize_open</th>\n",
       "      <th>bidsize_high</th>\n",
       "      <th>bidsize_low</th>\n",
       "      <th>bidsize_close</th>\n",
       "      <th>ofrsize_open</th>\n",
       "      <th>ofrsize_high</th>\n",
       "      <th>ofrsize_low</th>\n",
       "      <th>ofrsize_close</th>\n",
       "      <th>Ticker</th>\n",
       "    </tr>\n",
       "  </thead>\n",
       "  <tbody>\n",
       "    <tr>\n",
       "      <td rowspan=\"5\" valign=\"top\">20200501</td>\n",
       "      <td>0</td>\n",
       "      <td>755.140</td>\n",
       "      <td>762.530</td>\n",
       "      <td>753.500</td>\n",
       "      <td>762.215</td>\n",
       "      <td>1.72</td>\n",
       "      <td>4.42</td>\n",
       "      <td>0.02</td>\n",
       "      <td>1.37</td>\n",
       "      <td>1.0</td>\n",
       "      <td>7.0</td>\n",
       "      <td>1.0</td>\n",
       "      <td>1.0</td>\n",
       "      <td>5.0</td>\n",
       "      <td>26.0</td>\n",
       "      <td>1.0</td>\n",
       "      <td>2.0</td>\n",
       "      <td>TSLA</td>\n",
       "    </tr>\n",
       "    <tr>\n",
       "      <td>1</td>\n",
       "      <td>762.265</td>\n",
       "      <td>763.480</td>\n",
       "      <td>755.065</td>\n",
       "      <td>757.875</td>\n",
       "      <td>1.47</td>\n",
       "      <td>5.91</td>\n",
       "      <td>0.13</td>\n",
       "      <td>1.33</td>\n",
       "      <td>1.0</td>\n",
       "      <td>7.0</td>\n",
       "      <td>1.0</td>\n",
       "      <td>2.0</td>\n",
       "      <td>15.0</td>\n",
       "      <td>15.0</td>\n",
       "      <td>1.0</td>\n",
       "      <td>1.0</td>\n",
       "      <td>TSLA</td>\n",
       "    </tr>\n",
       "    <tr>\n",
       "      <td>2</td>\n",
       "      <td>757.875</td>\n",
       "      <td>760.225</td>\n",
       "      <td>756.795</td>\n",
       "      <td>758.915</td>\n",
       "      <td>1.33</td>\n",
       "      <td>3.58</td>\n",
       "      <td>0.01</td>\n",
       "      <td>0.81</td>\n",
       "      <td>2.0</td>\n",
       "      <td>10.0</td>\n",
       "      <td>1.0</td>\n",
       "      <td>1.0</td>\n",
       "      <td>2.0</td>\n",
       "      <td>7.0</td>\n",
       "      <td>1.0</td>\n",
       "      <td>1.0</td>\n",
       "      <td>TSLA</td>\n",
       "    </tr>\n",
       "    <tr>\n",
       "      <td>3</td>\n",
       "      <td>758.920</td>\n",
       "      <td>764.795</td>\n",
       "      <td>755.985</td>\n",
       "      <td>764.475</td>\n",
       "      <td>0.82</td>\n",
       "      <td>3.20</td>\n",
       "      <td>0.01</td>\n",
       "      <td>1.05</td>\n",
       "      <td>1.0</td>\n",
       "      <td>10.0</td>\n",
       "      <td>1.0</td>\n",
       "      <td>1.0</td>\n",
       "      <td>4.0</td>\n",
       "      <td>30.0</td>\n",
       "      <td>1.0</td>\n",
       "      <td>30.0</td>\n",
       "      <td>TSLA</td>\n",
       "    </tr>\n",
       "    <tr>\n",
       "      <td>4</td>\n",
       "      <td>764.475</td>\n",
       "      <td>772.745</td>\n",
       "      <td>764.130</td>\n",
       "      <td>770.750</td>\n",
       "      <td>1.05</td>\n",
       "      <td>2.98</td>\n",
       "      <td>0.01</td>\n",
       "      <td>0.84</td>\n",
       "      <td>1.0</td>\n",
       "      <td>20.0</td>\n",
       "      <td>1.0</td>\n",
       "      <td>1.0</td>\n",
       "      <td>31.0</td>\n",
       "      <td>31.0</td>\n",
       "      <td>1.0</td>\n",
       "      <td>1.0</td>\n",
       "      <td>TSLA</td>\n",
       "    </tr>\n",
       "    <tr>\n",
       "      <td>...</td>\n",
       "      <td>...</td>\n",
       "      <td>...</td>\n",
       "      <td>...</td>\n",
       "      <td>...</td>\n",
       "      <td>...</td>\n",
       "      <td>...</td>\n",
       "      <td>...</td>\n",
       "      <td>...</td>\n",
       "      <td>...</td>\n",
       "      <td>...</td>\n",
       "      <td>...</td>\n",
       "      <td>...</td>\n",
       "      <td>...</td>\n",
       "      <td>...</td>\n",
       "      <td>...</td>\n",
       "      <td>...</td>\n",
       "      <td>...</td>\n",
       "      <td>...</td>\n",
       "    </tr>\n",
       "    <tr>\n",
       "      <td rowspan=\"5\" valign=\"top\">20200529</td>\n",
       "      <td>385</td>\n",
       "      <td>833.135</td>\n",
       "      <td>834.920</td>\n",
       "      <td>833.060</td>\n",
       "      <td>834.560</td>\n",
       "      <td>0.47</td>\n",
       "      <td>0.70</td>\n",
       "      <td>0.04</td>\n",
       "      <td>0.46</td>\n",
       "      <td>1.0</td>\n",
       "      <td>6.0</td>\n",
       "      <td>1.0</td>\n",
       "      <td>3.0</td>\n",
       "      <td>1.0</td>\n",
       "      <td>113.0</td>\n",
       "      <td>1.0</td>\n",
       "      <td>1.0</td>\n",
       "      <td>TSLA</td>\n",
       "    </tr>\n",
       "    <tr>\n",
       "      <td>386</td>\n",
       "      <td>834.635</td>\n",
       "      <td>834.970</td>\n",
       "      <td>834.060</td>\n",
       "      <td>834.160</td>\n",
       "      <td>0.31</td>\n",
       "      <td>0.54</td>\n",
       "      <td>0.02</td>\n",
       "      <td>0.24</td>\n",
       "      <td>1.0</td>\n",
       "      <td>6.0</td>\n",
       "      <td>1.0</td>\n",
       "      <td>3.0</td>\n",
       "      <td>1.0</td>\n",
       "      <td>87.0</td>\n",
       "      <td>1.0</td>\n",
       "      <td>1.0</td>\n",
       "      <td>TSLA</td>\n",
       "    </tr>\n",
       "    <tr>\n",
       "      <td>387</td>\n",
       "      <td>834.170</td>\n",
       "      <td>834.175</td>\n",
       "      <td>832.420</td>\n",
       "      <td>832.610</td>\n",
       "      <td>0.26</td>\n",
       "      <td>0.64</td>\n",
       "      <td>0.03</td>\n",
       "      <td>0.20</td>\n",
       "      <td>3.0</td>\n",
       "      <td>16.0</td>\n",
       "      <td>1.0</td>\n",
       "      <td>1.0</td>\n",
       "      <td>1.0</td>\n",
       "      <td>26.0</td>\n",
       "      <td>1.0</td>\n",
       "      <td>2.0</td>\n",
       "      <td>TSLA</td>\n",
       "    </tr>\n",
       "    <tr>\n",
       "      <td>388</td>\n",
       "      <td>832.615</td>\n",
       "      <td>833.965</td>\n",
       "      <td>832.615</td>\n",
       "      <td>833.900</td>\n",
       "      <td>0.19</td>\n",
       "      <td>0.76</td>\n",
       "      <td>0.04</td>\n",
       "      <td>0.20</td>\n",
       "      <td>1.0</td>\n",
       "      <td>10.0</td>\n",
       "      <td>1.0</td>\n",
       "      <td>1.0</td>\n",
       "      <td>2.0</td>\n",
       "      <td>31.0</td>\n",
       "      <td>1.0</td>\n",
       "      <td>29.0</td>\n",
       "      <td>TSLA</td>\n",
       "    </tr>\n",
       "    <tr>\n",
       "      <td>389</td>\n",
       "      <td>833.895</td>\n",
       "      <td>834.395</td>\n",
       "      <td>833.780</td>\n",
       "      <td>834.145</td>\n",
       "      <td>0.19</td>\n",
       "      <td>0.47</td>\n",
       "      <td>0.01</td>\n",
       "      <td>0.17</td>\n",
       "      <td>1.0</td>\n",
       "      <td>120.0</td>\n",
       "      <td>1.0</td>\n",
       "      <td>90.0</td>\n",
       "      <td>2.0</td>\n",
       "      <td>53.0</td>\n",
       "      <td>1.0</td>\n",
       "      <td>28.0</td>\n",
       "      <td>TSLA</td>\n",
       "    </tr>\n",
       "  </tbody>\n",
       "</table>\n",
       "<p>7800 rows × 17 columns</p>\n",
       "</div>"
      ],
      "text/plain": [
       "                 open     high      low    close  spread_open  spread_high  \\\n",
       "20200501 0    755.140  762.530  753.500  762.215         1.72         4.42   \n",
       "         1    762.265  763.480  755.065  757.875         1.47         5.91   \n",
       "         2    757.875  760.225  756.795  758.915         1.33         3.58   \n",
       "         3    758.920  764.795  755.985  764.475         0.82         3.20   \n",
       "         4    764.475  772.745  764.130  770.750         1.05         2.98   \n",
       "...               ...      ...      ...      ...          ...          ...   \n",
       "20200529 385  833.135  834.920  833.060  834.560         0.47         0.70   \n",
       "         386  834.635  834.970  834.060  834.160         0.31         0.54   \n",
       "         387  834.170  834.175  832.420  832.610         0.26         0.64   \n",
       "         388  832.615  833.965  832.615  833.900         0.19         0.76   \n",
       "         389  833.895  834.395  833.780  834.145         0.19         0.47   \n",
       "\n",
       "              spread_low  spread_close  bidsize_open  bidsize_high  \\\n",
       "20200501 0          0.02          1.37           1.0           7.0   \n",
       "         1          0.13          1.33           1.0           7.0   \n",
       "         2          0.01          0.81           2.0          10.0   \n",
       "         3          0.01          1.05           1.0          10.0   \n",
       "         4          0.01          0.84           1.0          20.0   \n",
       "...                  ...           ...           ...           ...   \n",
       "20200529 385        0.04          0.46           1.0           6.0   \n",
       "         386        0.02          0.24           1.0           6.0   \n",
       "         387        0.03          0.20           3.0          16.0   \n",
       "         388        0.04          0.20           1.0          10.0   \n",
       "         389        0.01          0.17           1.0         120.0   \n",
       "\n",
       "              bidsize_low  bidsize_close  ofrsize_open  ofrsize_high  \\\n",
       "20200501 0            1.0            1.0           5.0          26.0   \n",
       "         1            1.0            2.0          15.0          15.0   \n",
       "         2            1.0            1.0           2.0           7.0   \n",
       "         3            1.0            1.0           4.0          30.0   \n",
       "         4            1.0            1.0          31.0          31.0   \n",
       "...                   ...            ...           ...           ...   \n",
       "20200529 385          1.0            3.0           1.0         113.0   \n",
       "         386          1.0            3.0           1.0          87.0   \n",
       "         387          1.0            1.0           1.0          26.0   \n",
       "         388          1.0            1.0           2.0          31.0   \n",
       "         389          1.0           90.0           2.0          53.0   \n",
       "\n",
       "              ofrsize_low  ofrsize_close Ticker  \n",
       "20200501 0            1.0            2.0   TSLA  \n",
       "         1            1.0            1.0   TSLA  \n",
       "         2            1.0            1.0   TSLA  \n",
       "         3            1.0           30.0   TSLA  \n",
       "         4            1.0            1.0   TSLA  \n",
       "...                   ...            ...    ...  \n",
       "20200529 385          1.0            1.0   TSLA  \n",
       "         386          1.0            1.0   TSLA  \n",
       "         387          1.0            2.0   TSLA  \n",
       "         388          1.0           29.0   TSLA  \n",
       "         389          1.0           28.0   TSLA  \n",
       "\n",
       "[7800 rows x 17 columns]"
      ]
     },
     "execution_count": 163,
     "metadata": {},
     "output_type": "execute_result"
    }
   ],
   "source": [
    "data[data.Ticker=='TSLA']"
   ]
  },
  {
   "cell_type": "code",
   "execution_count": 272,
   "metadata": {},
   "outputs": [],
   "source": [
    "## Works only for two classes (by using median)\n",
    "def extract_labels_multi(data = None,\n",
    "                        classes = 5,\n",
    "                        group_style = 'equal',\n",
    "                        global_median=None):\n",
    "\n",
    "   # returns = ((data.T[-1][1:]/data.T[-1][0:-1])-1)\n",
    "    returns = ((data[1:] / data[:-1]) -1)\n",
    "    # If returns are exact zero, perhaps because there hasn't been any price updates over a candle, we add a little bit of noise, to ensure that the labels are evenly distributed.\n",
    "    # if noise:\n",
    "        # returns[returns==0] = np.random.normal(0,1,sum(returns==0))/1000000\n",
    "\n",
    "    labels = np.zeros(returns.shape[0])\n",
    "\n",
    "    if group_style == 'equal':\n",
    "        # if splits is None:\n",
    "            # splits = np.array_split(np.sort(returns),classes)\n",
    "\n",
    "        # for i in np.arange(classes):\n",
    "\n",
    "        labels[returns > global_median] = 1\n",
    "        labels[returns <= global_median] = 0\n",
    "\n",
    "    elif group_style != 'equal':\n",
    "        raise ValueError(f'group_style {group_style} not implemented')\n",
    "\n",
    "    return labels #, returns, [thresholdsMin, thresholdsMax]\n",
    "\n",
    "\n",
    "def align_features_and_labels_multi(price_candles,\n",
    "                                    all_features,\n",
    "                                    prediction_horizon,\n",
    "                                    n_feature_lags,\n",
    "                                    n_classes,\n",
    "                                    safe_burn_in = False,\n",
    "                                    data_sample = 'full',\n",
    "                                    splitType='global',\n",
    "                                    noise = True):\n",
    "\n",
    "    all_burned_in_features = pd.DataFrame()\n",
    "    all_labels = pd.DataFrame()\n",
    "    if splitType.lower() == 'global':\n",
    "        # Making the splits for the labels based on all tickers\n",
    "        # returns = ((price_candles['close'].values[1:] / price_candles['close'].values[:-1]) -1) * 100\n",
    "        returns = np.concatenate([((price_candles[price_candles.Ticker==ticker]['close'].values[1:]/\\\n",
    "                         price_candles[price_candles.Ticker==ticker]['close'].values[:-1])-1) for ticker\\\n",
    "                          in price_candles.Ticker.unique()])\n",
    "        if noise:\n",
    "            returns[returns==0] = np.random.normal(0,1,sum(returns==0))/1000000\n",
    "\n",
    "        # splits = np.array_split(np.sort(returns),n_classes)\n",
    "        global_median = np.median(returns)\n",
    "        \n",
    "    for ticker_iter, ticker_name in enumerate(all_features.ticker.unique()):\n",
    "        ticker_features = all_features[all_features.ticker==ticker_name].copy(deep=True)\n",
    "        # removing the \"ticker\" variable from ticker_features as np.isnan() does not like non-numericals\n",
    "        #ticker_features = ticker_features.iloc[:, ticker_features.columns != 'ticker']\n",
    "        ticker_features.drop('ticker', axis=1, inplace=True)\n",
    "        # extract first 4 columns as the lag0 or raw OHLC prices (used for labelling)\n",
    "        ticker_prices = price_candles[price_candles.Ticker==ticker_name]['close'].values # candles.iloc[:, :4].values\n",
    "\n",
    "        if not safe_burn_in:\n",
    "            assert data_sample == 'full'\n",
    "            # we assume data_sample is full and that we can continue features from yesterday's values.\n",
    "            # that we have a single burn-in at the beginning and that's it\n",
    "\n",
    "            # get first index that has no NaNs (the sum checks for True across columns, we look for sum == 0 and where that is first True)\n",
    "            burned_in_idx = np.where((np.sum(np.isnan(ticker_features.values), axis=1) == 0) == True)[0][0]\n",
    "\n",
    "            # calculate end-point cut-off to match with labels\n",
    "            end_point_cut = max(prediction_horizon, n_feature_lags + 1)\n",
    "\n",
    "            # slice away the observations used for burn-in (taking off 1 at the end to match with labels [slice off \"prediction_horizon\"])\n",
    "            burned_in_features = ticker_features.iloc[burned_in_idx : -end_point_cut, :] #.reset_index(drop=True) # features[burned_in_idx:] latter is sligthly faster but maybe not as precise\n",
    "\n",
    "            # slice away the burned-in indices from labels\n",
    "            labels = extract_labels_multi(data = ticker_prices[(burned_in_idx+n_feature_lags):],\n",
    "                                          classes = n_classes,\n",
    "                                          group_style = 'equal',\n",
    "                                          global_median = global_median)\n",
    "            # labels, returns, thresholds = extract_labels(data = candles[burned_in_idx + n_feature_lags : , :],\n",
    "            #                                             classes = n_classes, group_style = 'equal')\n",
    "\n",
    "            # check if there are remaining NaNs are burn-in (means error)\n",
    "            remaining_nans = np.where(np.isnan(burned_in_features.values))[0].size\n",
    "            if remaining_nans > 0:\n",
    "                raise ValueError('Had NaN in burned_in_features after burn-in')\n",
    "\n",
    "        burned_in_features['ticker'] = ticker_name\n",
    "        all_burned_in_features = pd.concat([all_burned_in_features, burned_in_features])\n",
    "        all_labels = pd.concat([all_labels, pd.Series(labels)])\n",
    "        print(ticker_name + \" done\")\n",
    "\n",
    "    return all_burned_in_features, all_labels.reset_index(drop=True) # call the function as X, y = align_features_and_labels(.) if you like"
   ]
  },
  {
   "cell_type": "markdown",
   "metadata": {},
   "source": [
    "### Exploratory look at all returns"
   ]
  },
  {
   "cell_type": "code",
   "execution_count": 273,
   "metadata": {},
   "outputs": [],
   "source": [
    "price_candles = data[['open','high','low','close','Ticker']]\n",
    "returns = np.concatenate([((price_candles[price_candles.Ticker==ticker]['close'].values[1:]/\\\n",
    "                 price_candles[price_candles.Ticker==ticker]['close'].values[:-1])-1) for ticker\\\n",
    "                  in price_candles.Ticker.unique()])"
   ]
  },
  {
   "cell_type": "code",
   "execution_count": 274,
   "metadata": {},
   "outputs": [
    {
     "data": {
      "text/plain": [
       "(514734,)"
      ]
     },
     "execution_count": 274,
     "metadata": {},
     "output_type": "execute_result"
    }
   ],
   "source": [
    "returns.shape"
   ]
  },
  {
   "cell_type": "code",
   "execution_count": 275,
   "metadata": {},
   "outputs": [
    {
     "data": {
      "text/plain": [
       "count    514734.000000\n",
       "mean          0.000008\n",
       "std           0.001247\n",
       "min          -0.053926\n",
       "25%          -0.000417\n",
       "50%           0.000000\n",
       "75%           0.000417\n",
       "max           0.090716\n",
       "dtype: float64"
      ]
     },
     "execution_count": 275,
     "metadata": {},
     "output_type": "execute_result"
    }
   ],
   "source": [
    "pd.Series(returns).describe()"
   ]
  },
  {
   "cell_type": "code",
   "execution_count": 276,
   "metadata": {},
   "outputs": [],
   "source": [
    "out, bins = pd.qcut(pd.Series(returns), q=20, retbins=True)"
   ]
  },
  {
   "cell_type": "code",
   "execution_count": 277,
   "metadata": {},
   "outputs": [
    {
     "data": {
      "text/plain": [
       "array([-5.39263482e-02, -1.43218329e-03, -9.74207188e-04, -7.19856361e-04,\n",
       "       -5.39459123e-04, -4.17257782e-04, -3.07385260e-04, -2.12154096e-04,\n",
       "       -1.18686473e-04, -2.31327798e-05,  0.00000000e+00,  2.74827958e-05,\n",
       "        1.22039856e-04,  2.14829405e-04,  3.08834080e-04,  4.16679688e-04,\n",
       "        5.35117057e-04,  7.13068796e-04,  9.66272267e-04,  1.42857143e-03,\n",
       "        9.07158044e-02])"
      ]
     },
     "execution_count": 277,
     "metadata": {},
     "output_type": "execute_result"
    }
   ],
   "source": [
    "bins"
   ]
  },
  {
   "cell_type": "code",
   "execution_count": 278,
   "metadata": {},
   "outputs": [
    {
     "data": {
      "text/plain": [
       "(-0.002, 0.002)"
      ]
     },
     "execution_count": 278,
     "metadata": {},
     "output_type": "execute_result"
    },
    {
     "data": {
      "image/png": "[encoded data removed]",
      "text/plain": [
       "<Figure size 432x288 with 1 Axes>"
      ]
     },
     "metadata": {
      "needs_background": "light"
     },
     "output_type": "display_data"
    }
   ],
   "source": [
    "plt.bar(range(21), bins)\n",
    "plt.ylim((-0.002, 0.002))"
   ]
  },
  {
   "cell_type": "code",
   "execution_count": 279,
   "metadata": {},
   "outputs": [
    {
     "data": {
      "image/png": "[encoded data removed]",
      "text/plain": [
       "<Figure size 1152x576 with 1 Axes>"
      ]
     },
     "metadata": {
      "needs_background": "light"
     },
     "output_type": "display_data"
    }
   ],
   "source": [
    "fig, ax = plt.subplots(1,1,figsize=(16,8))\n",
    "ax.hist(returns, bins=1000)\n",
    "plt.show()"
   ]
  },
  {
   "cell_type": "markdown",
   "metadata": {},
   "source": [
    "### Repeat with noise"
   ]
  },
  {
   "cell_type": "code",
   "execution_count": 280,
   "metadata": {},
   "outputs": [],
   "source": [
    "returns_noise = np.concatenate([((price_candles[price_candles.Ticker==ticker]['close'].values[1:]/\\\n",
    "                 price_candles[price_candles.Ticker==ticker]['close'].values[:-1])-1) for ticker\\\n",
    "                  in price_candles.Ticker.unique()])"
   ]
  },
  {
   "cell_type": "code",
   "execution_count": 281,
   "metadata": {},
   "outputs": [
    {
     "data": {
      "text/plain": [
       "count    4.661000e+04\n",
       "mean     2.888841e-09\n",
       "std      1.000296e-06\n",
       "min     -4.035643e-06\n",
       "25%     -6.716704e-07\n",
       "50%      4.901446e-09\n",
       "75%      6.756380e-07\n",
       "max      4.156107e-06\n",
       "dtype: float64"
      ]
     },
     "execution_count": 281,
     "metadata": {},
     "output_type": "execute_result"
    }
   ],
   "source": [
    "tt = (np.random.normal(0,1,sum(returns_noise==0))/1000000)\n",
    "pd.Series(tt).describe()"
   ]
  },
  {
   "cell_type": "code",
   "execution_count": 282,
   "metadata": {},
   "outputs": [
    {
     "data": {
      "text/plain": [
       "46610"
      ]
     },
     "execution_count": 282,
     "metadata": {},
     "output_type": "execute_result"
    }
   ],
   "source": [
    "sum(returns_noise==0)"
   ]
  },
  {
   "cell_type": "code",
   "execution_count": 283,
   "metadata": {},
   "outputs": [],
   "source": [
    "returns_noise[returns_noise==0] = np.random.normal(0,1,sum(returns_noise==0))/1000000"
   ]
  },
  {
   "cell_type": "code",
   "execution_count": 284,
   "metadata": {},
   "outputs": [
    {
     "data": {
      "text/plain": [
       "(514734,)"
      ]
     },
     "execution_count": 284,
     "metadata": {},
     "output_type": "execute_result"
    }
   ],
   "source": [
    "returns_noise.shape"
   ]
  },
  {
   "cell_type": "code",
   "execution_count": 285,
   "metadata": {},
   "outputs": [
    {
     "data": {
      "text/plain": [
       "count    5.147340e+05\n",
       "mean     8.465802e-06\n",
       "std      1.247118e-03\n",
       "min     -5.392635e-02\n",
       "25%     -4.172578e-04\n",
       "50%      3.461898e-08\n",
       "75%      4.166797e-04\n",
       "max      9.071580e-02\n",
       "dtype: float64"
      ]
     },
     "execution_count": 285,
     "metadata": {},
     "output_type": "execute_result"
    }
   ],
   "source": [
    "pd.Series(returns_noise).describe()"
   ]
  },
  {
   "cell_type": "code",
   "execution_count": 286,
   "metadata": {},
   "outputs": [
    {
     "data": {
      "text/plain": [
       "count    514734.000000\n",
       "mean          0.000008\n",
       "std           0.001247\n",
       "min          -0.053926\n",
       "25%          -0.000417\n",
       "50%           0.000000\n",
       "75%           0.000417\n",
       "max           0.090716\n",
       "dtype: float64"
      ]
     },
     "execution_count": 286,
     "metadata": {},
     "output_type": "execute_result"
    }
   ],
   "source": [
    "pd.Series(returns).describe()"
   ]
  },
  {
   "cell_type": "code",
   "execution_count": 287,
   "metadata": {},
   "outputs": [],
   "source": [
    "# Ok, so everything except median seems ok"
   ]
  },
  {
   "cell_type": "code",
   "execution_count": 288,
   "metadata": {},
   "outputs": [],
   "source": [
    "out, bins = pd.qcut(pd.Series(returns_noise), q=20, retbins=True)"
   ]
  },
  {
   "cell_type": "code",
   "execution_count": 289,
   "metadata": {},
   "outputs": [
    {
     "data": {
      "text/plain": [
       "array([-5.39263482e-02, -1.43218329e-03, -9.74207188e-04, -7.19856361e-04,\n",
       "       -5.39459123e-04, -4.17257782e-04, -3.07385260e-04, -2.12154096e-04,\n",
       "       -1.18686473e-04, -2.31327798e-05,  3.46189776e-08,  2.74827958e-05,\n",
       "        1.22039856e-04,  2.14829405e-04,  3.08834080e-04,  4.16679688e-04,\n",
       "        5.35117057e-04,  7.13068796e-04,  9.66272267e-04,  1.42857143e-03,\n",
       "        9.07158044e-02])"
      ]
     },
     "execution_count": 289,
     "metadata": {},
     "output_type": "execute_result"
    }
   ],
   "source": [
    "bins"
   ]
  },
  {
   "cell_type": "code",
   "execution_count": 290,
   "metadata": {},
   "outputs": [
    {
     "data": {
      "text/plain": [
       "(-0.002, 0.002)"
      ]
     },
     "execution_count": 290,
     "metadata": {},
     "output_type": "execute_result"
    },
    {
     "data": {
      "image/png": "[encoded data removed]",
      "text/plain": [
       "<Figure size 432x288 with 1 Axes>"
      ]
     },
     "metadata": {
      "needs_background": "light"
     },
     "output_type": "display_data"
    }
   ],
   "source": [
    "plt.bar(range(21), bins)\n",
    "plt.ylim((-0.002, 0.002))"
   ]
  },
  {
   "cell_type": "code",
   "execution_count": 291,
   "metadata": {},
   "outputs": [
    {
     "data": {
      "image/png": "[encoded data removed]",
      "text/plain": [
       "<Figure size 1152x576 with 1 Axes>"
      ]
     },
     "metadata": {
      "needs_background": "light"
     },
     "output_type": "display_data"
    }
   ],
   "source": [
    "fig, ax = plt.subplots(1,1,figsize=(16,8))\n",
    "ax.hist(returns_noise, bins=1000)\n",
    "plt.show()"
   ]
  },
  {
   "cell_type": "markdown",
   "metadata": {},
   "source": [
    "- Looks like no visual difference when adding noise, that is good (but also no need for it)"
   ]
  },
  {
   "cell_type": "markdown",
   "metadata": {},
   "source": [
    "### Let's split them up for binary classification"
   ]
  },
  {
   "cell_type": "code",
   "execution_count": 292,
   "metadata": {},
   "outputs": [
    {
     "data": {
      "text/plain": [
       "0         0\n",
       "1         0\n",
       "2         1\n",
       "3         1\n",
       "4         0\n",
       "         ..\n",
       "514729    1\n",
       "514730    0\n",
       "514731    1\n",
       "514732    0\n",
       "514733    0\n",
       "Length: 514734, dtype: int64"
      ]
     },
     "execution_count": 292,
     "metadata": {},
     "output_type": "execute_result"
    }
   ],
   "source": [
    "q_ret = pd.qcut(pd.Series(returns), q=2, labels=False, retbins=False)\n",
    "q_ret"
   ]
  },
  {
   "cell_type": "code",
   "execution_count": 293,
   "metadata": {},
   "outputs": [
    {
     "data": {
      "text/plain": [
       "0         0\n",
       "1         0\n",
       "2         1\n",
       "3         1\n",
       "4         0\n",
       "         ..\n",
       "514729    1\n",
       "514730    0\n",
       "514731    1\n",
       "514732    0\n",
       "514733    0\n",
       "Length: 514734, dtype: int64"
      ]
     },
     "execution_count": 293,
     "metadata": {},
     "output_type": "execute_result"
    }
   ],
   "source": [
    "q_ret_noise = pd.qcut(pd.Series(returns_noise), q=2, labels=False, retbins=False)\n",
    "q_ret_noise"
   ]
  },
  {
   "cell_type": "code",
   "execution_count": 294,
   "metadata": {},
   "outputs": [
    {
     "data": {
      "text/plain": [
       "(234754, 257367)"
      ]
     },
     "execution_count": 294,
     "metadata": {},
     "output_type": "execute_result"
    }
   ],
   "source": [
    "sum(q_ret), sum(q_ret_noise)"
   ]
  },
  {
   "cell_type": "code",
   "execution_count": 295,
   "metadata": {},
   "outputs": [
    {
     "data": {
      "text/plain": [
       "(279980, 234754, 257367, 257367)"
      ]
     },
     "execution_count": 295,
     "metadata": {},
     "output_type": "execute_result"
    }
   ],
   "source": [
    "sum(q_ret == 0), sum(q_ret == 1), sum(q_ret_noise == 0), sum(q_ret_noise == 1)"
   ]
  },
  {
   "cell_type": "code",
   "execution_count": 296,
   "metadata": {},
   "outputs": [
    {
     "data": {
      "text/plain": [
       "(234754, 279980)"
      ]
     },
     "execution_count": 296,
     "metadata": {},
     "output_type": "execute_result"
    }
   ],
   "source": [
    "# Compare that to the returns series with ge and leq median:\n",
    "sum(returns > pd.Series(returns).median()), sum(returns <= pd.Series(returns).median())"
   ]
  },
  {
   "cell_type": "code",
   "execution_count": 297,
   "metadata": {},
   "outputs": [
    {
     "data": {
      "text/plain": [
       "(257367, 257367)"
      ]
     },
     "execution_count": 297,
     "metadata": {},
     "output_type": "execute_result"
    }
   ],
   "source": [
    "sum(returns_noise > pd.Series(returns_noise).median()), sum(returns_noise <= pd.Series(returns_noise).median())"
   ]
  },
  {
   "cell_type": "markdown",
   "metadata": {},
   "source": [
    "- Using the noised returns and splitting either on (noised) median or using .qcut() seems good"
   ]
  },
  {
   "cell_type": "code",
   "execution_count": 298,
   "metadata": {},
   "outputs": [
    {
     "data": {
      "text/html": [
       "<div>\n",
       "<style scoped>\n",
       "    .dataframe tbody tr th:only-of-type {\n",
       "        vertical-align: middle;\n",
       "    }\n",
       "\n",
       "    .dataframe tbody tr th {\n",
       "        vertical-align: top;\n",
       "    }\n",
       "\n",
       "    .dataframe thead th {\n",
       "        text-align: right;\n",
       "    }\n",
       "</style>\n",
       "<table border=\"1\" class=\"dataframe\">\n",
       "  <thead>\n",
       "    <tr style=\"text-align: right;\">\n",
       "      <th></th>\n",
       "      <th></th>\n",
       "      <th>open</th>\n",
       "      <th>high</th>\n",
       "      <th>low</th>\n",
       "      <th>close</th>\n",
       "      <th>spread_open</th>\n",
       "      <th>spread_high</th>\n",
       "      <th>spread_low</th>\n",
       "      <th>spread_close</th>\n",
       "      <th>bidsize_open</th>\n",
       "      <th>bidsize_high</th>\n",
       "      <th>bidsize_low</th>\n",
       "      <th>bidsize_close</th>\n",
       "      <th>ofrsize_open</th>\n",
       "      <th>ofrsize_high</th>\n",
       "      <th>ofrsize_low</th>\n",
       "      <th>ofrsize_close</th>\n",
       "      <th>Ticker</th>\n",
       "    </tr>\n",
       "  </thead>\n",
       "  <tbody>\n",
       "    <tr>\n",
       "      <td rowspan=\"5\" valign=\"top\">20200501</td>\n",
       "      <td>0</td>\n",
       "      <td>286.250</td>\n",
       "      <td>289.260</td>\n",
       "      <td>285.870</td>\n",
       "      <td>289.260</td>\n",
       "      <td>0.50</td>\n",
       "      <td>0.50</td>\n",
       "      <td>0.01</td>\n",
       "      <td>0.24</td>\n",
       "      <td>6.0</td>\n",
       "      <td>95.0</td>\n",
       "      <td>1.0</td>\n",
       "      <td>10.0</td>\n",
       "      <td>1.0</td>\n",
       "      <td>85.0</td>\n",
       "      <td>1.0</td>\n",
       "      <td>4.0</td>\n",
       "      <td>AAPL</td>\n",
       "    </tr>\n",
       "    <tr>\n",
       "      <td>1</td>\n",
       "      <td>289.260</td>\n",
       "      <td>289.350</td>\n",
       "      <td>288.365</td>\n",
       "      <td>289.020</td>\n",
       "      <td>0.24</td>\n",
       "      <td>0.45</td>\n",
       "      <td>0.01</td>\n",
       "      <td>0.10</td>\n",
       "      <td>9.0</td>\n",
       "      <td>20.0</td>\n",
       "      <td>1.0</td>\n",
       "      <td>1.0</td>\n",
       "      <td>4.0</td>\n",
       "      <td>56.0</td>\n",
       "      <td>1.0</td>\n",
       "      <td>1.0</td>\n",
       "      <td>AAPL</td>\n",
       "    </tr>\n",
       "    <tr>\n",
       "      <td>2</td>\n",
       "      <td>289.035</td>\n",
       "      <td>289.705</td>\n",
       "      <td>288.280</td>\n",
       "      <td>288.580</td>\n",
       "      <td>0.07</td>\n",
       "      <td>0.49</td>\n",
       "      <td>0.01</td>\n",
       "      <td>0.30</td>\n",
       "      <td>1.0</td>\n",
       "      <td>50.0</td>\n",
       "      <td>1.0</td>\n",
       "      <td>1.0</td>\n",
       "      <td>1.0</td>\n",
       "      <td>13.0</td>\n",
       "      <td>1.0</td>\n",
       "      <td>1.0</td>\n",
       "      <td>AAPL</td>\n",
       "    </tr>\n",
       "    <tr>\n",
       "      <td>3</td>\n",
       "      <td>288.485</td>\n",
       "      <td>289.315</td>\n",
       "      <td>288.280</td>\n",
       "      <td>289.095</td>\n",
       "      <td>0.49</td>\n",
       "      <td>0.49</td>\n",
       "      <td>0.01</td>\n",
       "      <td>0.17</td>\n",
       "      <td>1.0</td>\n",
       "      <td>25.0</td>\n",
       "      <td>1.0</td>\n",
       "      <td>16.0</td>\n",
       "      <td>1.0</td>\n",
       "      <td>8.0</td>\n",
       "      <td>1.0</td>\n",
       "      <td>1.0</td>\n",
       "      <td>AAPL</td>\n",
       "    </tr>\n",
       "    <tr>\n",
       "      <td>4</td>\n",
       "      <td>289.100</td>\n",
       "      <td>290.435</td>\n",
       "      <td>288.940</td>\n",
       "      <td>290.320</td>\n",
       "      <td>0.16</td>\n",
       "      <td>0.33</td>\n",
       "      <td>0.01</td>\n",
       "      <td>0.10</td>\n",
       "      <td>13.0</td>\n",
       "      <td>71.0</td>\n",
       "      <td>1.0</td>\n",
       "      <td>1.0</td>\n",
       "      <td>1.0</td>\n",
       "      <td>236.0</td>\n",
       "      <td>1.0</td>\n",
       "      <td>1.0</td>\n",
       "      <td>AAPL</td>\n",
       "    </tr>\n",
       "    <tr>\n",
       "      <td>...</td>\n",
       "      <td>...</td>\n",
       "      <td>...</td>\n",
       "      <td>...</td>\n",
       "      <td>...</td>\n",
       "      <td>...</td>\n",
       "      <td>...</td>\n",
       "      <td>...</td>\n",
       "      <td>...</td>\n",
       "      <td>...</td>\n",
       "      <td>...</td>\n",
       "      <td>...</td>\n",
       "      <td>...</td>\n",
       "      <td>...</td>\n",
       "      <td>...</td>\n",
       "      <td>...</td>\n",
       "      <td>...</td>\n",
       "      <td>...</td>\n",
       "      <td>...</td>\n",
       "    </tr>\n",
       "    <tr>\n",
       "      <td rowspan=\"5\" valign=\"top\">20200529</td>\n",
       "      <td>385</td>\n",
       "      <td>123.950</td>\n",
       "      <td>124.110</td>\n",
       "      <td>123.910</td>\n",
       "      <td>124.100</td>\n",
       "      <td>0.02</td>\n",
       "      <td>0.07</td>\n",
       "      <td>0.01</td>\n",
       "      <td>0.04</td>\n",
       "      <td>1.0</td>\n",
       "      <td>11.0</td>\n",
       "      <td>1.0</td>\n",
       "      <td>1.0</td>\n",
       "      <td>5.0</td>\n",
       "      <td>9.0</td>\n",
       "      <td>1.0</td>\n",
       "      <td>1.0</td>\n",
       "      <td>WMT</td>\n",
       "    </tr>\n",
       "    <tr>\n",
       "      <td>386</td>\n",
       "      <td>124.085</td>\n",
       "      <td>124.085</td>\n",
       "      <td>123.920</td>\n",
       "      <td>123.995</td>\n",
       "      <td>0.01</td>\n",
       "      <td>0.06</td>\n",
       "      <td>0.01</td>\n",
       "      <td>0.01</td>\n",
       "      <td>1.0</td>\n",
       "      <td>8.0</td>\n",
       "      <td>1.0</td>\n",
       "      <td>3.0</td>\n",
       "      <td>1.0</td>\n",
       "      <td>9.0</td>\n",
       "      <td>1.0</td>\n",
       "      <td>2.0</td>\n",
       "      <td>WMT</td>\n",
       "    </tr>\n",
       "    <tr>\n",
       "      <td>387</td>\n",
       "      <td>123.995</td>\n",
       "      <td>124.355</td>\n",
       "      <td>123.985</td>\n",
       "      <td>124.335</td>\n",
       "      <td>0.01</td>\n",
       "      <td>0.07</td>\n",
       "      <td>0.01</td>\n",
       "      <td>0.05</td>\n",
       "      <td>4.0</td>\n",
       "      <td>16.0</td>\n",
       "      <td>1.0</td>\n",
       "      <td>2.0</td>\n",
       "      <td>2.0</td>\n",
       "      <td>10.0</td>\n",
       "      <td>1.0</td>\n",
       "      <td>2.0</td>\n",
       "      <td>WMT</td>\n",
       "    </tr>\n",
       "    <tr>\n",
       "      <td>388</td>\n",
       "      <td>124.335</td>\n",
       "      <td>124.355</td>\n",
       "      <td>124.060</td>\n",
       "      <td>124.075</td>\n",
       "      <td>0.05</td>\n",
       "      <td>0.12</td>\n",
       "      <td>0.01</td>\n",
       "      <td>0.01</td>\n",
       "      <td>3.0</td>\n",
       "      <td>6.0</td>\n",
       "      <td>1.0</td>\n",
       "      <td>2.0</td>\n",
       "      <td>2.0</td>\n",
       "      <td>10.0</td>\n",
       "      <td>1.0</td>\n",
       "      <td>4.0</td>\n",
       "      <td>WMT</td>\n",
       "    </tr>\n",
       "    <tr>\n",
       "      <td>389</td>\n",
       "      <td>124.075</td>\n",
       "      <td>124.225</td>\n",
       "      <td>122.810</td>\n",
       "      <td>123.855</td>\n",
       "      <td>0.01</td>\n",
       "      <td>2.43</td>\n",
       "      <td>0.01</td>\n",
       "      <td>0.21</td>\n",
       "      <td>1.0</td>\n",
       "      <td>20.0</td>\n",
       "      <td>1.0</td>\n",
       "      <td>2.0</td>\n",
       "      <td>4.0</td>\n",
       "      <td>12.0</td>\n",
       "      <td>1.0</td>\n",
       "      <td>1.0</td>\n",
       "      <td>WMT</td>\n",
       "    </tr>\n",
       "  </tbody>\n",
       "</table>\n",
       "<p>514800 rows × 17 columns</p>\n",
       "</div>"
      ],
      "text/plain": [
       "                 open     high      low    close  spread_open  spread_high  \\\n",
       "20200501 0    286.250  289.260  285.870  289.260         0.50         0.50   \n",
       "         1    289.260  289.350  288.365  289.020         0.24         0.45   \n",
       "         2    289.035  289.705  288.280  288.580         0.07         0.49   \n",
       "         3    288.485  289.315  288.280  289.095         0.49         0.49   \n",
       "         4    289.100  290.435  288.940  290.320         0.16         0.33   \n",
       "...               ...      ...      ...      ...          ...          ...   \n",
       "20200529 385  123.950  124.110  123.910  124.100         0.02         0.07   \n",
       "         386  124.085  124.085  123.920  123.995         0.01         0.06   \n",
       "         387  123.995  124.355  123.985  124.335         0.01         0.07   \n",
       "         388  124.335  124.355  124.060  124.075         0.05         0.12   \n",
       "         389  124.075  124.225  122.810  123.855         0.01         2.43   \n",
       "\n",
       "              spread_low  spread_close  bidsize_open  bidsize_high  \\\n",
       "20200501 0          0.01          0.24           6.0          95.0   \n",
       "         1          0.01          0.10           9.0          20.0   \n",
       "         2          0.01          0.30           1.0          50.0   \n",
       "         3          0.01          0.17           1.0          25.0   \n",
       "         4          0.01          0.10          13.0          71.0   \n",
       "...                  ...           ...           ...           ...   \n",
       "20200529 385        0.01          0.04           1.0          11.0   \n",
       "         386        0.01          0.01           1.0           8.0   \n",
       "         387        0.01          0.05           4.0          16.0   \n",
       "         388        0.01          0.01           3.0           6.0   \n",
       "         389        0.01          0.21           1.0          20.0   \n",
       "\n",
       "              bidsize_low  bidsize_close  ofrsize_open  ofrsize_high  \\\n",
       "20200501 0            1.0           10.0           1.0          85.0   \n",
       "         1            1.0            1.0           4.0          56.0   \n",
       "         2            1.0            1.0           1.0          13.0   \n",
       "         3            1.0           16.0           1.0           8.0   \n",
       "         4            1.0            1.0           1.0         236.0   \n",
       "...                   ...            ...           ...           ...   \n",
       "20200529 385          1.0            1.0           5.0           9.0   \n",
       "         386          1.0            3.0           1.0           9.0   \n",
       "         387          1.0            2.0           2.0          10.0   \n",
       "         388          1.0            2.0           2.0          10.0   \n",
       "         389          1.0            2.0           4.0          12.0   \n",
       "\n",
       "              ofrsize_low  ofrsize_close Ticker  \n",
       "20200501 0            1.0            4.0   AAPL  \n",
       "         1            1.0            1.0   AAPL  \n",
       "         2            1.0            1.0   AAPL  \n",
       "         3            1.0            1.0   AAPL  \n",
       "         4            1.0            1.0   AAPL  \n",
       "...                   ...            ...    ...  \n",
       "20200529 385          1.0            1.0    WMT  \n",
       "         386          1.0            2.0    WMT  \n",
       "         387          1.0            2.0    WMT  \n",
       "         388          1.0            4.0    WMT  \n",
       "         389          1.0            1.0    WMT  \n",
       "\n",
       "[514800 rows x 17 columns]"
      ]
     },
     "execution_count": 298,
     "metadata": {},
     "output_type": "execute_result"
    }
   ],
   "source": [
    "data"
   ]
  },
  {
   "cell_type": "code",
   "execution_count": 299,
   "metadata": {},
   "outputs": [
    {
     "name": "stdout",
     "output_type": "stream",
     "text": [
      "AAPL 7800 7799 3973 3826\n",
      "ABBV 7800 7799 3947 3852\n",
      "ABT 7800 7799 3917 3882\n",
      "AEP 7800 7799 3830 3969\n",
      "AMT 7800 7799 3923 3876\n",
      "APD 7800 7799 3878 3921\n",
      "BA 7800 7799 3922 3877\n",
      "BABA 7800 7799 3880 3919\n",
      "BAC 7800 7799 3881 3918\n",
      "BHP 7800 7799 3924 3875\n",
      "BP 7800 7799 3819 3980\n",
      "CCI 7800 7799 3935 3864\n",
      "CHL 7800 7799 3859 3940\n",
      "COST 7800 7799 3916 3883\n",
      "CSGP 7800 7799 3927 3872\n",
      "D 7800 7799 3870 3929\n",
      "DIS 7800 7799 3953 3846\n",
      "ECL 7800 7799 4014 3785\n",
      "ENB 7800 7799 3899 3900\n",
      "EXC 7800 7799 3902 3897\n",
      "FB 7800 7799 4001 3798\n",
      "FMX 7800 7799 3803 3996\n",
      "GOOG 7800 7799 4020 3779\n",
      "IDU 7800 7799 3789 4010\n",
      "INTC 7800 7799 3895 3904\n",
      "IYC 7800 7799 3951 3848\n",
      "IYE 7800 7799 3822 3977\n",
      "IYG 7800 7799 3961 3838\n",
      "IYH 7800 7799 3943 3856\n",
      "IYJ 7800 7799 3977 3822\n",
      "IYK 7800 7799 3892 3907\n",
      "IYM 7800 7799 3939 3860\n",
      "IYR 7800 7799 3858 3941\n",
      "IYW 7800 7799 4054 3745\n",
      "IYZ 7800 7799 3869 3930\n",
      "JNJ 7800 7799 3841 3958\n",
      "KO 7800 7799 3860 3939\n",
      "LFC 7800 7799 3754 4045\n",
      "LIN 7800 7799 3964 3835\n",
      "LMT 7800 7799 3909 3890\n",
      "MA 7800 7799 3947 3852\n",
      "MCD 7800 7799 3883 3916\n",
      "MSFT 7800 7799 3970 3829\n",
      "NKE 7800 7799 3948 3851\n",
      "NVDA 7800 7799 3932 3867\n",
      "NVS 7800 7799 3927 3872\n",
      "PBR 7800 7799 3813 3986\n",
      "PEP 7800 7799 3832 3967\n",
      "PFE 7800 7799 3899 3900\n",
      "PLD 7800 7799 3847 3952\n",
      "PSA 7800 7799 3846 3953\n",
      "PTR 7800 7799 3830 3969\n",
      "PYPL 7800 7799 3961 3838\n",
      "RTX 7800 7799 3884 3915\n",
      "SHW 7800 7799 3920 3879\n",
      "SNP 7800 7799 3882 3917\n",
      "SO 7800 7799 3809 3990\n",
      "SRE 7800 7799 3861 3938\n",
      "T 7800 7799 3759 4040\n",
      "TM 7800 7799 3857 3942\n",
      "TSLA 7800 7799 3982 3817\n",
      "TSM 7800 7799 3770 4029\n",
      "UNP 7800 7799 3901 3898\n",
      "UPS 7800 7799 3918 3881\n",
      "V 7800 7799 3940 3859\n",
      "WMT 7800 7799 3834 3965\n"
     ]
    },
    {
     "data": {
      "text/plain": [
       "[514800, 514734, 257223, 257511]"
      ]
     },
     "execution_count": 299,
     "metadata": {},
     "output_type": "execute_result"
    }
   ],
   "source": [
    "medi = pd.Series(returns_noise).median()\n",
    "res = [0, 0, 0, 0]\n",
    "for ticker in price_candles.Ticker.unique():\n",
    "    \n",
    "    data1 = price_candles[price_candles.Ticker==ticker]['close'].values\n",
    "    ret = data1[1:] / data1[:-1] - 1\n",
    "    \n",
    "    # the issue arises when the noise (below here) is missing inside the label-loop, \n",
    "    # and this could still be better, as the median was calculated outside the \n",
    "    # label-loop using different std. normal pushes\n",
    "    ret[ret==0] = np.random.normal(0,1,sum(ret==0))/1000000 \n",
    "    \n",
    "    print(ticker,  len(data1),  len(ret), sum(ret > medi), sum(ret <= medi))\n",
    "    res[0] += len(data1)\n",
    "    res[1] += len(ret)\n",
    "    res[2] += sum(ret > medi)\n",
    "    res[3] += sum(ret <= medi)\n",
    "res    "
   ]
  },
  {
   "cell_type": "markdown",
   "metadata": {},
   "source": [
    "# Concerns with the noise:\n",
    "- We are trying to split up a large bunch of zero returns, i.e. they actually have the same return in reality\n",
    "- By splitting them, we put one half as negative return labels, one half as positive labels\n",
    "- So we are contaminating (adding noise in the bad way) for our classifier - we are giving it feature vectors that actually lead to zero return but we tell it through the label that it leads to negative return\n",
    "\n",
    "# Conclusion: FRST thinks we should go with:\n",
    "- class 0: x < median (negative return)\n",
    "- class 1: x >= median (zero or positive return)\n",
    "- As zero return is arguably more related to positive than negative return\n",
    "\n",
    "# Alternative:\n",
    "- Remove all zero returns from the training data\n",
    "- This might be bad for backtesting though (at least in-sample backtesting, out-of-sample could be fine)"
   ]
  },
  {
   "cell_type": "markdown",
   "metadata": {},
   "source": [
    "### Try running labels separately"
   ]
  },
  {
   "cell_type": "code",
   "execution_count": 300,
   "metadata": {},
   "outputs": [
    {
     "name": "stdout",
     "output_type": "stream",
     "text": [
      "AAPL\n",
      "(7799,) 3868 3931\n",
      "ABBV\n",
      "(7799,) 3976 3823\n",
      "ABT\n",
      "(7799,) 4030 3769\n",
      "AEP\n",
      "(7799,) 4097 3702\n",
      "AMT\n",
      "(7799,) 3935 3864\n",
      "APD\n",
      "(7799,) 4027 3772\n",
      "BA\n",
      "(7799,) 3921 3878\n",
      "BABA\n",
      "(7799,) 3993 3806\n",
      "BAC\n",
      "(7799,) 4746 3053\n",
      "BHP\n",
      "(7799,) 4500 3299\n",
      "BP\n",
      "(7799,) 4958 2841\n",
      "CCI\n",
      "(7799,) 3941 3858\n",
      "CHL\n",
      "(7799,) 4964 2835\n",
      "COST\n",
      "(7799,) 3943 3856\n",
      "CSGP\n",
      "(7799,) 4162 3637\n",
      "D\n",
      "(7799,) 4064 3735\n",
      "DIS\n",
      "(7799,) 3935 3864\n",
      "ECL\n",
      "(7799,) 3862 3937\n",
      "ENB\n",
      "(7799,) 4561 3238\n",
      "EXC\n",
      "(7799,) 4385 3414\n",
      "FB\n",
      "(7799,) 3852 3947\n",
      "FMX\n",
      "(7799,) 4313 3486\n",
      "GOOG\n",
      "(7799,) 3807 3992\n",
      "IDU\n",
      "(7799,) 4090 3709\n",
      "INTC\n",
      "(7799,) 4242 3557\n",
      "IYC\n",
      "(7799,) 3943 3856\n",
      "IYE\n",
      "(7799,) 4818 2981\n",
      "IYG\n",
      "(7799,) 3964 3835\n",
      "IYH\n",
      "(7799,) 3957 3842\n",
      "IYJ\n",
      "(7799,) 3953 3846\n",
      "IYK\n",
      "(7799,) 4111 3688\n",
      "IYM\n",
      "(7799,) 4029 3770\n",
      "IYR\n",
      "(7799,) 4179 3620\n",
      "IYW\n",
      "(7799,) 3819 3980\n",
      "IYZ\n",
      "(7799,) 5150 2649\n",
      "JNJ\n",
      "(7799,) 4073 3726\n",
      "KO\n",
      "(7799,) 4557 3242\n",
      "LFC\n",
      "(7799,) 7059 740\n",
      "LIN\n",
      "(7799,) 3956 3843\n",
      "LMT\n",
      "(7799,) 3947 3852\n",
      "MA\n",
      "(7799,) 3907 3892\n",
      "MCD\n",
      "(7799,) 3991 3808\n",
      "MSFT\n",
      "(7799,) 3919 3880\n",
      "NKE\n",
      "(7799,) 3990 3809\n",
      "NVDA\n",
      "(7799,) 3895 3904\n",
      "NVS\n",
      "(7799,) 4191 3608\n",
      "PBR\n",
      "(7799,) 5794 2005\n",
      "PEP\n",
      "(7799,) 4064 3735\n",
      "PFE\n",
      "(7799,) 4831 2968\n",
      "PLD\n",
      "(7799,) 4061 3738\n",
      "PSA\n",
      "(7799,) 4078 3721\n",
      "PTR\n",
      "(7799,) 4930 2869\n",
      "PYPL\n",
      "(7799,) 3909 3890\n",
      "RTX\n",
      "(7799,) 4084 3715\n",
      "SHW\n",
      "(7799,) 4042 3757\n",
      "SNP\n",
      "(7799,) 4602 3197\n",
      "SO\n",
      "(7799,) 4168 3631\n",
      "SRE\n",
      "(7799,) 4037 3762\n",
      "T\n",
      "(7799,) 5061 2738\n",
      "TM\n",
      "(7799,) 4553 3246\n",
      "TSLA\n",
      "(7799,) 3824 3975\n",
      "TSM\n",
      "(7799,) 4567 3232\n",
      "UNP\n",
      "(7799,) 3982 3817\n",
      "UPS\n",
      "(7799,) 4033 3766\n",
      "V\n",
      "(7799,) 3935 3864\n",
      "WMT\n",
      "(7799,) 4078 3721\n"
     ]
    },
    {
     "data": {
      "text/plain": [
       "(514734, 280213, 234521)"
      ]
     },
     "execution_count": 300,
     "metadata": {},
     "output_type": "execute_result"
    }
   ],
   "source": [
    "# np.concatenate([((price_candles[price_candles.Ticker==ticker]['close'].values[1:]/\\\n",
    "#                  price_candles[price_candles.Ticker==ticker]['close'].values[:-1])-1) for ticker\\\n",
    "#                   in price_candles.Ticker.unique()])\n",
    "\n",
    "medi = pd.Series(returns_noise).median()\n",
    "y_sum, y_0, y_1 = 0, 0, 0\n",
    "\n",
    "for ticker in price_candles.Ticker.unique():\n",
    "\n",
    "    print(ticker)\n",
    "    y = extract_labels_multi(data = price_candles[price_candles.Ticker==ticker]['close'].values,\n",
    "                            classes = 2,\n",
    "                            group_style = 'equal',\n",
    "                            global_median=medi)\n",
    "    \n",
    "    print(y.shape, sum(y == 0), sum(y == 1))\n",
    "    y_sum += y.shape[0]\n",
    "    y_0 += sum(y == 0)\n",
    "    y_1 += sum(y == 1)\n",
    "    \n",
    "y_sum, y_0, y_1 # 514734, 280213, 234521"
   ]
  },
  {
   "cell_type": "markdown",
   "metadata": {},
   "source": [
    "# I doubt we will have this issue with uneven number of classes, try with 3:"
   ]
  },
  {
   "cell_type": "code",
   "execution_count": 318,
   "metadata": {},
   "outputs": [
    {
     "data": {
      "text/plain": [
       "0         0\n",
       "1         0\n",
       "2         2\n",
       "3         2\n",
       "4         0\n",
       "         ..\n",
       "514729    2\n",
       "514730    0\n",
       "514731    2\n",
       "514732    0\n",
       "514733    0\n",
       "Length: 514734, dtype: int64"
      ]
     },
     "execution_count": 318,
     "metadata": {},
     "output_type": "execute_result"
    }
   ],
   "source": [
    "n_classes = 3\n",
    "q_ret = pd.qcut(pd.Series(returns), q=n_classes, labels=False, retbins=False)\n",
    "q_ret"
   ]
  },
  {
   "cell_type": "code",
   "execution_count": 319,
   "metadata": {},
   "outputs": [
    {
     "data": {
      "text/plain": [
       "0         0\n",
       "1         0\n",
       "2         2\n",
       "3         2\n",
       "4         0\n",
       "         ..\n",
       "514729    2\n",
       "514730    0\n",
       "514731    2\n",
       "514732    0\n",
       "514733    0\n",
       "Length: 514734, dtype: int64"
      ]
     },
     "execution_count": 319,
     "metadata": {},
     "output_type": "execute_result"
    }
   ],
   "source": [
    "q_ret_noise = pd.qcut(pd.Series(returns_noise), q=n_classes, labels=False, retbins=False)\n",
    "q_ret_noise"
   ]
  },
  {
   "cell_type": "code",
   "execution_count": 320,
   "metadata": {},
   "outputs": [
    {
     "data": {
      "text/plain": [
       "([171578, 171578, 171578], [171578, 171578, 171578])"
      ]
     },
     "execution_count": 320,
     "metadata": {},
     "output_type": "execute_result"
    }
   ],
   "source": [
    "[sum(q_ret == class_i) for class_i in range(n_classes)], [sum(q_ret_noise == class_i) for class_i in range(n_classes)]"
   ]
  },
  {
   "cell_type": "markdown",
   "metadata": {},
   "source": [
    "- so no need for noise here, as all the zeros go into their own middle class ala \"low negative + zero + low positive returns\""
   ]
  },
  {
   "cell_type": "markdown",
   "metadata": {},
   "source": [
    "# 4 classes might be about as bad as binary"
   ]
  },
  {
   "cell_type": "code",
   "execution_count": 314,
   "metadata": {},
   "outputs": [
    {
     "data": {
      "text/plain": [
       "0         0\n",
       "1         0\n",
       "2         3\n",
       "3         3\n",
       "4         0\n",
       "         ..\n",
       "514729    3\n",
       "514730    0\n",
       "514731    3\n",
       "514732    0\n",
       "514733    0\n",
       "Length: 514734, dtype: int64"
      ]
     },
     "execution_count": 314,
     "metadata": {},
     "output_type": "execute_result"
    }
   ],
   "source": [
    "n_classes = 4\n",
    "q_ret = pd.qcut(pd.Series(returns), q=n_classes, labels=False, retbins=False)\n",
    "q_ret"
   ]
  },
  {
   "cell_type": "code",
   "execution_count": 315,
   "metadata": {},
   "outputs": [
    {
     "data": {
      "text/plain": [
       "0         0\n",
       "1         0\n",
       "2         3\n",
       "3         3\n",
       "4         0\n",
       "         ..\n",
       "514729    3\n",
       "514730    0\n",
       "514731    3\n",
       "514732    0\n",
       "514733    0\n",
       "Length: 514734, dtype: int64"
      ]
     },
     "execution_count": 315,
     "metadata": {},
     "output_type": "execute_result"
    }
   ],
   "source": [
    "q_ret_noise = pd.qcut(pd.Series(returns_noise), q=n_classes, labels=False, retbins=False)\n",
    "q_ret_noise"
   ]
  },
  {
   "cell_type": "code",
   "execution_count": 316,
   "metadata": {},
   "outputs": [
    {
     "data": {
      "text/plain": [
       "([128685, 151295, 106070, 128684], [128685, 128682, 128683, 128684])"
      ]
     },
     "execution_count": 316,
     "metadata": {},
     "output_type": "execute_result"
    }
   ],
   "source": [
    "[sum(q_ret == class_i) for class_i in range(n_classes)], [sum(q_ret_noise == class_i) for class_i in range(n_classes)]"
   ]
  },
  {
   "cell_type": "markdown",
   "metadata": {},
   "source": [
    "# Let's also check 5 classes"
   ]
  },
  {
   "cell_type": "code",
   "execution_count": 311,
   "metadata": {},
   "outputs": [
    {
     "data": {
      "text/plain": [
       "0         0\n",
       "1         0\n",
       "2         4\n",
       "3         4\n",
       "4         0\n",
       "         ..\n",
       "514729    4\n",
       "514730    0\n",
       "514731    4\n",
       "514732    0\n",
       "514733    0\n",
       "Length: 514734, dtype: int64"
      ]
     },
     "execution_count": 311,
     "metadata": {},
     "output_type": "execute_result"
    }
   ],
   "source": [
    "n_classes = 5\n",
    "q_ret = pd.qcut(pd.Series(returns), q=n_classes, labels=False, retbins=False)\n",
    "q_ret"
   ]
  },
  {
   "cell_type": "code",
   "execution_count": 312,
   "metadata": {},
   "outputs": [
    {
     "data": {
      "text/plain": [
       "0         0\n",
       "1         0\n",
       "2         4\n",
       "3         4\n",
       "4         0\n",
       "         ..\n",
       "514729    4\n",
       "514730    0\n",
       "514731    4\n",
       "514732    0\n",
       "514733    0\n",
       "Length: 514734, dtype: int64"
      ]
     },
     "execution_count": 312,
     "metadata": {},
     "output_type": "execute_result"
    }
   ],
   "source": [
    "q_ret_noise = pd.qcut(pd.Series(returns_noise), q=n_classes, labels=False, retbins=False)\n",
    "q_ret_noise"
   ]
  },
  {
   "cell_type": "code",
   "execution_count": 313,
   "metadata": {},
   "outputs": [
    {
     "data": {
      "text/plain": [
       "([102947, 102947, 102946, 102948, 102946],\n",
       " [102947, 102947, 102946, 102948, 102946])"
      ]
     },
     "execution_count": 313,
     "metadata": {},
     "output_type": "execute_result"
    }
   ],
   "source": [
    "[sum(q_ret == class_i) for class_i in range(n_classes)], [sum(q_ret_noise == class_i) for class_i in range(n_classes)]"
   ]
  },
  {
   "cell_type": "markdown",
   "metadata": {},
   "source": [
    "# Work more on the global returns df to add noise outside loop and pass on t"
   ]
  },
  {
   "cell_type": "code",
   "execution_count": 199,
   "metadata": {},
   "outputs": [],
   "source": [
    "returns = []\n",
    "tickers = []\n",
    "for ticker in price_candles.Ticker.unique():\n",
    "    \n",
    "    ticker_returns = (price_candles[price_candles.Ticker==ticker]['close'].values[1:]/\\\n",
    "                         price_candles[price_candles.Ticker==ticker]['close'].values[:-1]) - 1\n",
    "    ticker_names = [ticker for i in range(len(ticker_returns))]\n",
    "    \n",
    "    returns.append(ticker_returns)\n",
    "    tickers.append(ticker_names)\n",
    "\n",
    "# concatenate returns and add noise    \n",
    "returns = np.concatenate(returns)\n",
    "returns[returns==0] = np.random.normal(0,1,sum(returns==0))/1000000\n",
    "\n",
    "tickers = np.concatenate(tickers)\n"
   ]
  },
  {
   "cell_type": "code",
   "execution_count": 200,
   "metadata": {},
   "outputs": [
    {
     "data": {
      "text/html": [
       "<div>\n",
       "<style scoped>\n",
       "    .dataframe tbody tr th:only-of-type {\n",
       "        vertical-align: middle;\n",
       "    }\n",
       "\n",
       "    .dataframe tbody tr th {\n",
       "        vertical-align: top;\n",
       "    }\n",
       "\n",
       "    .dataframe thead th {\n",
       "        text-align: right;\n",
       "    }\n",
       "</style>\n",
       "<table border=\"1\" class=\"dataframe\">\n",
       "  <thead>\n",
       "    <tr style=\"text-align: right;\">\n",
       "      <th></th>\n",
       "      <th>returns</th>\n",
       "      <th>Ticker</th>\n",
       "    </tr>\n",
       "  </thead>\n",
       "  <tbody>\n",
       "    <tr>\n",
       "      <td>0</td>\n",
       "      <td>-0.000830</td>\n",
       "      <td>AAPL</td>\n",
       "    </tr>\n",
       "    <tr>\n",
       "      <td>1</td>\n",
       "      <td>-0.001522</td>\n",
       "      <td>AAPL</td>\n",
       "    </tr>\n",
       "    <tr>\n",
       "      <td>2</td>\n",
       "      <td>0.001785</td>\n",
       "      <td>AAPL</td>\n",
       "    </tr>\n",
       "    <tr>\n",
       "      <td>3</td>\n",
       "      <td>0.004237</td>\n",
       "      <td>AAPL</td>\n",
       "    </tr>\n",
       "    <tr>\n",
       "      <td>4</td>\n",
       "      <td>-0.000809</td>\n",
       "      <td>AAPL</td>\n",
       "    </tr>\n",
       "    <tr>\n",
       "      <td>...</td>\n",
       "      <td>...</td>\n",
       "      <td>...</td>\n",
       "    </tr>\n",
       "    <tr>\n",
       "      <td>514729</td>\n",
       "      <td>0.001210</td>\n",
       "      <td>WMT</td>\n",
       "    </tr>\n",
       "    <tr>\n",
       "      <td>514730</td>\n",
       "      <td>-0.000846</td>\n",
       "      <td>WMT</td>\n",
       "    </tr>\n",
       "    <tr>\n",
       "      <td>514731</td>\n",
       "      <td>0.002742</td>\n",
       "      <td>WMT</td>\n",
       "    </tr>\n",
       "    <tr>\n",
       "      <td>514732</td>\n",
       "      <td>-0.002091</td>\n",
       "      <td>WMT</td>\n",
       "    </tr>\n",
       "    <tr>\n",
       "      <td>514733</td>\n",
       "      <td>-0.001773</td>\n",
       "      <td>WMT</td>\n",
       "    </tr>\n",
       "  </tbody>\n",
       "</table>\n",
       "<p>514734 rows × 2 columns</p>\n",
       "</div>"
      ],
      "text/plain": [
       "         returns Ticker\n",
       "0      -0.000830   AAPL\n",
       "1      -0.001522   AAPL\n",
       "2       0.001785   AAPL\n",
       "3       0.004237   AAPL\n",
       "4      -0.000809   AAPL\n",
       "...          ...    ...\n",
       "514729  0.001210    WMT\n",
       "514730 -0.000846    WMT\n",
       "514731  0.002742    WMT\n",
       "514732 -0.002091    WMT\n",
       "514733 -0.001773    WMT\n",
       "\n",
       "[514734 rows x 2 columns]"
      ]
     },
     "execution_count": 200,
     "metadata": {},
     "output_type": "execute_result"
    }
   ],
   "source": [
    "returns = pd.DataFrame({'returns': returns, 'Ticker': tickers})\n",
    "returns"
   ]
  },
  {
   "cell_type": "code",
   "execution_count": 201,
   "metadata": {},
   "outputs": [
    {
     "data": {
      "text/plain": [
       "array([-0.0008297 , -0.00152239,  0.0017846 , ...,  0.00274205,\n",
       "       -0.00209112, -0.00177312])"
      ]
     },
     "execution_count": 201,
     "metadata": {},
     "output_type": "execute_result"
    }
   ],
   "source": [
    "returns_noise\n",
    "# looks consistent, great"
   ]
  },
  {
   "cell_type": "code",
   "execution_count": 202,
   "metadata": {},
   "outputs": [
    {
     "data": {
      "text/plain": [
       "array([-0.0008297 , -0.00152239,  0.0017846 , ...,  0.00192884,\n",
       "       -0.00245727, -0.00236918])"
      ]
     },
     "execution_count": 202,
     "metadata": {},
     "output_type": "execute_result"
    }
   ],
   "source": [
    "returns[returns.Ticker=='AAPL']['returns'].values"
   ]
  },
  {
   "cell_type": "code",
   "execution_count": null,
   "metadata": {},
   "outputs": [],
   "source": []
  },
  {
   "cell_type": "markdown",
   "metadata": {},
   "source": [
    "# Let's update the functions"
   ]
  },
  {
   "cell_type": "code",
   "execution_count": 203,
   "metadata": {},
   "outputs": [],
   "source": [
    "## Works only for two classes (by using median)\n",
    "def extract_labels_multi(data = None,\n",
    "                        classes = 5,\n",
    "                        group_style = 'equal',\n",
    "                        splits=None):\n",
    "    \n",
    "    # this version takes data in a direct returns for a specific ticker\n",
    "\n",
    "    if group_style == 'equal':\n",
    "        # if splits is None:\n",
    "            # splits = np.array_split(np.sort(returns),classes)\n",
    "\n",
    "        # for i in np.arange(classes):\n",
    "\n",
    "        #labels[returns > global_median] = 1\n",
    "        #labels[returns <= global_median] = 0\n",
    "        \n",
    "        labels = pd.cut(data, bins=splits, labels=False, right=False, include_lowest=True)\n",
    "        \n",
    "        # we need right=False (open right-handside in split interval) to get median into the positive class\n",
    "\n",
    "    elif group_style != 'equal':\n",
    "        raise ValueError(f'group_style {group_style} not implemented')\n",
    "\n",
    "    return labels #, returns, [thresholdsMin, thresholdsMax]\n",
    "\n",
    "\n",
    "def align_features_and_labels_multi(price_candles,\n",
    "                                    all_features,\n",
    "                                    prediction_horizon,\n",
    "                                    n_feature_lags,\n",
    "                                    n_classes,\n",
    "                                    safe_burn_in = False,\n",
    "                                    data_sample = 'full',\n",
    "                                    splitType='global',\n",
    "                                    noise = True):\n",
    "\n",
    "    all_burned_in_features = pd.DataFrame()\n",
    "    all_labels = pd.DataFrame()\n",
    "    \n",
    "    if splitType.lower() == 'global':\n",
    "        # Making the splits for the labels based on all tickers\n",
    "        # returns = ((price_candles['close'].values[1:] / price_candles['close'].values[:-1]) -1) * 100\n",
    "#         returns = np.concatenate([((price_candles[price_candles.Ticker==ticker]['close'].values[1:]/\\\n",
    "#                          price_candles[price_candles.Ticker==ticker]['close'].values[:-1])-1) for ticker\\\n",
    "#                           in price_candles.Ticker.unique()])\n",
    "\n",
    "        returns = []\n",
    "        tickers = []\n",
    "        for ticker in price_candles.Ticker.unique():\n",
    "\n",
    "            ticker_returns = (price_candles[price_candles.Ticker==ticker]['close'].values[1:]/\\\n",
    "                                 price_candles[price_candles.Ticker==ticker]['close'].values[:-1]) - 1\n",
    "            ticker_names = [ticker for i in range(len(ticker_returns))]\n",
    "\n",
    "            returns.append(ticker_returns)\n",
    "            tickers.append(ticker_names)\n",
    "\n",
    "        # concatenate returns and add noise    \n",
    "        returns = np.concatenate(returns)\n",
    "        if noise:\n",
    "            returns[returns==0] = np.random.normal(0,1,sum(returns==0))/1000000\n",
    "\n",
    "        tickers = np.concatenate(tickers)\n",
    "\n",
    "        _, splits = pd.qcut(returns, q=n_classes, labels=False, retbins=True)\n",
    "        print(splits)\n",
    "        \n",
    "        returns = pd.DataFrame({'returns': returns, 'Ticker': tickers})\n",
    "        \n",
    "        \n",
    "        \n",
    "    for ticker_iter, ticker_name in enumerate(all_features.ticker.unique()):\n",
    "        ticker_features = all_features[all_features.ticker==ticker_name].copy(deep=True)\n",
    "        # removing the \"ticker\" variable from ticker_features as np.isnan() does not like non-numericals\n",
    "        #ticker_features = ticker_features.iloc[:, ticker_features.columns != 'ticker']\n",
    "        ticker_features.drop('ticker', axis=1, inplace=True)\n",
    "        # extract first 4 columns as the lag0 or raw OHLC prices (used for labelling)\n",
    "        #ticker_prices = price_candles[price_candles.Ticker==ticker_name]['close'].values # candles.iloc[:, :4].values\n",
    "        ticker_returns = returns[returns.Ticker==ticker_name]['returns'].values\n",
    "\n",
    "        if not safe_burn_in:\n",
    "            assert data_sample == 'full'\n",
    "            # we assume data_sample is full and that we can continue features from yesterday's values.\n",
    "            # that we have a single burn-in at the beginning and that's it\n",
    "\n",
    "            # get first index that has no NaNs (the sum checks for True across columns, we look for sum == 0 and where that is first True)\n",
    "            burned_in_idx = np.where((np.sum(np.isnan(ticker_features.values), axis=1) == 0) == True)[0][0]\n",
    "\n",
    "            # calculate end-point cut-off to match with labels\n",
    "            end_point_cut = max(prediction_horizon, n_feature_lags + 1)\n",
    "\n",
    "            # slice away the observations used for burn-in (taking off 1 at the end to match with labels [slice off \"prediction_horizon\"])\n",
    "            burned_in_features = ticker_features.iloc[burned_in_idx : -end_point_cut, :] #.reset_index(drop=True) # features[burned_in_idx:] latter is sligthly faster but maybe not as precise\n",
    "\n",
    "            # slice away the burned-in indices from labels\n",
    "            labels = extract_labels_multi(data = ticker_returns[(burned_in_idx+n_feature_lags):],\n",
    "                                          classes = n_classes,\n",
    "                                          group_style = 'equal',\n",
    "                                          splits = splits)\n",
    "            # labels, returns, thresholds = extract_labels(data = candles[burned_in_idx + n_feature_lags : , :],\n",
    "            #                                             classes = n_classes, group_style = 'equal')\n",
    "\n",
    "            # check if there are remaining NaNs are burn-in (means error)\n",
    "            remaining_nans = np.where(np.isnan(burned_in_features.values))[0].size\n",
    "            if remaining_nans > 0:\n",
    "                raise ValueError('Had NaN in burned_in_features after burn-in')\n",
    "\n",
    "        burned_in_features['ticker'] = ticker_name\n",
    "        all_burned_in_features = pd.concat([all_burned_in_features, burned_in_features])\n",
    "        all_labels = pd.concat([all_labels, pd.Series(labels)])\n",
    "        print(ticker_name + \" done\")\n",
    "\n",
    "    return all_burned_in_features, all_labels.reset_index(drop=True) # call the function as X, y = align_features_and_labels(.) if you like"
   ]
  },
  {
   "cell_type": "code",
   "execution_count": 204,
   "metadata": {
    "scrolled": false
   },
   "outputs": [
    {
     "name": "stdout",
     "output_type": "stream",
     "text": [
      "[-5.39263482e-02  1.66689841e-08  9.07158044e-02]\n",
      "AAPL\n",
      "(7799,) 3829 3970\n",
      "ABBV\n",
      "(7799,) 3841 3958\n",
      "ABT\n",
      "(7799,) 3887 3912\n",
      "AEP\n",
      "(7799,) 3978 3821\n",
      "AMT\n",
      "(7799,) 3872 3927\n",
      "APD\n",
      "(7799,) 3929 3870\n",
      "BA\n",
      "(7799,) 3877 3922\n",
      "BABA\n",
      "(7799,) 3929 3870\n",
      "BAC\n",
      "(7799,) 3900 3899\n",
      "BHP\n",
      "(7799,) 3899 3900\n",
      "BP\n",
      "(7799,) 3986 3813\n",
      "CCI\n",
      "(7799,) 3876 3923\n",
      "CHL\n",
      "(7799,) 3944 3855\n",
      "COST\n",
      "(7799,) 3889 3910\n",
      "CSGP\n",
      "(7799,) 3852 3947\n",
      "D\n",
      "(7799,) 3918 3881\n",
      "DIS\n",
      "(7799,) 3831 3968\n",
      "ECL\n",
      "(7799,) 3779 4020\n",
      "ENB\n",
      "(7799,) 3922 3877\n",
      "EXC\n",
      "(7799,) 3921 3878\n",
      "FB\n",
      "(7799,) 3792 4007\n",
      "FMX\n",
      "(7799,) 3936 3863\n",
      "GOOG\n",
      "(7799,) 3776 4023\n",
      "IDU\n",
      "(7799,) 4011 3788\n",
      "INTC\n",
      "(7799,) 3910 3889\n",
      "IYC\n",
      "(7799,) 3849 3950\n",
      "IYE\n",
      "(7799,) 3941 3858\n",
      "IYG\n",
      "(7799,) 3837 3962\n",
      "IYH\n",
      "(7799,) 3852 3947\n",
      "IYJ\n",
      "(7799,) 3803 3996\n",
      "IYK\n",
      "(7799,) 3897 3902\n",
      "IYM\n",
      "(7799,) 3860 3939\n",
      "IYR\n",
      "(7799,) 3908 3891\n",
      "IYW\n",
      "(7799,) 3751 4048\n",
      "IYZ\n",
      "(7799,) 3963 3836\n",
      "JNJ\n",
      "(7799,) 3972 3827\n",
      "KO\n",
      "(7799,) 3925 3874\n",
      "LFC\n",
      "(7799,) 3974 3825\n",
      "LIN\n",
      "(7799,) 3839 3960\n",
      "LMT\n",
      "(7799,) 3889 3910\n",
      "MA\n",
      "(7799,) 3864 3935\n",
      "MCD\n",
      "(7799,) 3895 3904\n",
      "MSFT\n",
      "(7799,) 3827 3972\n",
      "NKE\n",
      "(7799,) 3843 3956\n",
      "NVDA\n",
      "(7799,) 3861 3938\n",
      "NVS\n",
      "(7799,) 3875 3924\n",
      "PBR\n",
      "(7799,) 3992 3806\n",
      "PEP\n",
      "(7799,) 3964 3835\n",
      "PFE\n",
      "(7799,) 3959 3840\n",
      "PLD\n",
      "(7799,) 3936 3863\n",
      "PSA\n",
      "(7799,) 3971 3828\n",
      "PTR\n",
      "(7799,) 3962 3837\n",
      "PYPL\n",
      "(7799,) 3849 3950\n",
      "RTX\n",
      "(7799,) 3931 3868\n",
      "SHW\n",
      "(7799,) 3871 3928\n",
      "SNP\n",
      "(7799,) 3926 3873\n",
      "SO\n",
      "(7799,) 3974 3825\n",
      "SRE\n",
      "(7799,) 3930 3869\n",
      "T\n",
      "(7799,) 4039 3760\n",
      "TM\n",
      "(7799,) 3935 3864\n",
      "TSLA\n",
      "(7799,) 3814 3985\n",
      "TSM\n",
      "(7799,) 4028 3771\n",
      "UNP\n",
      "(7799,) 3895 3904\n",
      "UPS\n",
      "(7799,) 3871 3928\n",
      "V\n",
      "(7799,) 3862 3937\n",
      "WMT\n",
      "(7799,) 3949 3850\n"
     ]
    },
    {
     "data": {
      "text/plain": [
       "(514734, 257367, 257366)"
      ]
     },
     "execution_count": 204,
     "metadata": {},
     "output_type": "execute_result"
    }
   ],
   "source": [
    "# Test functions:\n",
    "\n",
    "returns = []\n",
    "tickers = []\n",
    "noise = True\n",
    "n_classes = 2\n",
    "for ticker in price_candles.Ticker.unique():\n",
    "\n",
    "    ticker_returns = (price_candles[price_candles.Ticker==ticker]['close'].values[1:]/\\\n",
    "                         price_candles[price_candles.Ticker==ticker]['close'].values[:-1]) - 1\n",
    "    ticker_names = [ticker for i in range(len(ticker_returns))]\n",
    "\n",
    "    returns.append(ticker_returns)\n",
    "    tickers.append(ticker_names)\n",
    "\n",
    "# concatenate returns and add noise    \n",
    "returns = np.concatenate(returns)\n",
    "if noise:\n",
    "    returns[returns==0] = np.random.normal(0,1,sum(returns==0))/1000000\n",
    "\n",
    "tickers = np.concatenate(tickers)\n",
    "\n",
    "_, splits = pd.qcut(returns, q=n_classes, labels=False, retbins=True)\n",
    "print(splits)\n",
    "\n",
    "returns = pd.DataFrame({'returns': returns, 'Ticker': tickers})\n",
    "        \n",
    "# --------------\n",
    "\n",
    "\n",
    "    \n",
    "    \n",
    "#medi = pd.Series(returns_noise).median()\n",
    "y_sum, y_0, y_1 = 0, 0, 0\n",
    "yy = []\n",
    "\n",
    "for ticker in price_candles.Ticker.unique():\n",
    "    \n",
    "    ticker_returns = returns[returns.Ticker==ticker]['returns'].values\n",
    "\n",
    "    print(ticker)\n",
    "    y = extract_labels_multi(data = ticker_returns,\n",
    "                            classes = 2,\n",
    "                            group_style = 'equal',\n",
    "                            splits = splits)\n",
    "    \n",
    "    print(y.shape, sum(y == 0), sum(y == 1))\n",
    "    y_sum += y.shape[0]\n",
    "    y_0 += sum(y == 0)\n",
    "    y_1 += sum(y == 1)\n",
    "    yy.append(y)\n",
    "\n",
    "yy = np.concatenate(yy)\n",
    "y_sum, y_0, y_1 # 514734, 280213, 234521\n",
    "\n",
    "\n",
    "# with noise & right == True in pd.cut():\n",
    "# (514734, 257367, 257367)\n",
    "\n",
    "# without noise & right == True in pd.cut()\n",
    "# (514734, 279980, 234754)\n",
    "\n",
    "# with noise & right == False in pd.cut():\n",
    "# (514734, 257367, 257366)\n",
    "\n",
    "# without noise & right == False in pd.cut()\n",
    "# (514734, 233370, 281363)"
   ]
  },
  {
   "cell_type": "code",
   "execution_count": 205,
   "metadata": {},
   "outputs": [
    {
     "data": {
      "text/html": [
       "<div>\n",
       "<style scoped>\n",
       "    .dataframe tbody tr th:only-of-type {\n",
       "        vertical-align: middle;\n",
       "    }\n",
       "\n",
       "    .dataframe tbody tr th {\n",
       "        vertical-align: top;\n",
       "    }\n",
       "\n",
       "    .dataframe thead th {\n",
       "        text-align: right;\n",
       "    }\n",
       "</style>\n",
       "<table border=\"1\" class=\"dataframe\">\n",
       "  <thead>\n",
       "    <tr style=\"text-align: right;\">\n",
       "      <th></th>\n",
       "      <th>returns</th>\n",
       "      <th>Ticker</th>\n",
       "    </tr>\n",
       "  </thead>\n",
       "  <tbody>\n",
       "    <tr>\n",
       "      <td>47183</td>\n",
       "      <td>-0.053926</td>\n",
       "      <td>BA</td>\n",
       "    </tr>\n",
       "    <tr>\n",
       "      <td>434794</td>\n",
       "      <td>-0.049716</td>\n",
       "      <td>SNP</td>\n",
       "    </tr>\n",
       "    <tr>\n",
       "      <td>429334</td>\n",
       "      <td>-0.046512</td>\n",
       "      <td>SNP</td>\n",
       "    </tr>\n",
       "    <tr>\n",
       "      <td>114645</td>\n",
       "      <td>-0.043936</td>\n",
       "      <td>CSGP</td>\n",
       "    </tr>\n",
       "    <tr>\n",
       "      <td>294412</td>\n",
       "      <td>-0.043818</td>\n",
       "      <td>LFC</td>\n",
       "    </tr>\n",
       "    <tr>\n",
       "      <td>...</td>\n",
       "      <td>...</td>\n",
       "      <td>...</td>\n",
       "    </tr>\n",
       "    <tr>\n",
       "      <td>74480</td>\n",
       "      <td>0.068649</td>\n",
       "      <td>BHP</td>\n",
       "    </tr>\n",
       "    <tr>\n",
       "      <td>82279</td>\n",
       "      <td>0.069890</td>\n",
       "      <td>BP</td>\n",
       "    </tr>\n",
       "    <tr>\n",
       "      <td>363043</td>\n",
       "      <td>0.086672</td>\n",
       "      <td>PBR</td>\n",
       "    </tr>\n",
       "    <tr>\n",
       "      <td>407107</td>\n",
       "      <td>0.089332</td>\n",
       "      <td>PYPL</td>\n",
       "    </tr>\n",
       "    <tr>\n",
       "      <td>364993</td>\n",
       "      <td>0.090716</td>\n",
       "      <td>PBR</td>\n",
       "    </tr>\n",
       "  </tbody>\n",
       "</table>\n",
       "<p>514734 rows × 2 columns</p>\n",
       "</div>"
      ],
      "text/plain": [
       "         returns Ticker\n",
       "47183  -0.053926     BA\n",
       "434794 -0.049716    SNP\n",
       "429334 -0.046512    SNP\n",
       "114645 -0.043936   CSGP\n",
       "294412 -0.043818    LFC\n",
       "...          ...    ...\n",
       "74480   0.068649    BHP\n",
       "82279   0.069890     BP\n",
       "363043  0.086672    PBR\n",
       "407107  0.089332   PYPL\n",
       "364993  0.090716    PBR\n",
       "\n",
       "[514734 rows x 2 columns]"
      ]
     },
     "execution_count": 205,
     "metadata": {},
     "output_type": "execute_result"
    }
   ],
   "source": [
    "returns.sort_values('returns')"
   ]
  },
  {
   "cell_type": "code",
   "execution_count": 206,
   "metadata": {},
   "outputs": [
    {
     "data": {
      "text/plain": [
       "returns    0.0907158\n",
       "Ticker           PBR\n",
       "Name: 364993, dtype: object"
      ]
     },
     "execution_count": 206,
     "metadata": {},
     "output_type": "execute_result"
    }
   ],
   "source": [
    "returns.iloc[364993]"
   ]
  },
  {
   "cell_type": "code",
   "execution_count": 207,
   "metadata": {},
   "outputs": [
    {
     "data": {
      "text/plain": [
       "0"
      ]
     },
     "execution_count": 207,
     "metadata": {},
     "output_type": "execute_result"
    }
   ],
   "source": [
    "sum(returns.isnull()['returns'])"
   ]
  },
  {
   "cell_type": "code",
   "execution_count": 208,
   "metadata": {},
   "outputs": [
    {
     "data": {
      "text/plain": [
       "1"
      ]
     },
     "execution_count": 208,
     "metadata": {},
     "output_type": "execute_result"
    }
   ],
   "source": [
    "sum(np.isnan(yy))"
   ]
  },
  {
   "cell_type": "code",
   "execution_count": 209,
   "metadata": {},
   "outputs": [
    {
     "data": {
      "text/plain": [
       "nan"
      ]
     },
     "execution_count": 209,
     "metadata": {},
     "output_type": "execute_result"
    }
   ],
   "source": [
    "yy[364993]"
   ]
  },
  {
   "cell_type": "code",
   "execution_count": 210,
   "metadata": {},
   "outputs": [],
   "source": [
    "yy[np.where(np.isnan(yy))] = 1"
   ]
  },
  {
   "cell_type": "code",
   "execution_count": 211,
   "metadata": {},
   "outputs": [
    {
     "data": {
      "text/plain": [
       "0"
      ]
     },
     "execution_count": 211,
     "metadata": {},
     "output_type": "execute_result"
    }
   ],
   "source": [
    "sum(np.isnan(yy))"
   ]
  },
  {
   "cell_type": "code",
   "execution_count": 212,
   "metadata": {},
   "outputs": [
    {
     "data": {
      "text/plain": [
       "1.0"
      ]
     },
     "execution_count": 212,
     "metadata": {},
     "output_type": "execute_result"
    }
   ],
   "source": [
    "yy[364993]"
   ]
  },
  {
   "cell_type": "markdown",
   "metadata": {},
   "source": [
    "### fix and re-run"
   ]
  },
  {
   "cell_type": "code",
   "execution_count": 239,
   "metadata": {},
   "outputs": [],
   "source": [
    "## Works only for two classes (by using median)\n",
    "def extract_labels_multi(data = None,\n",
    "                        classes = 5,\n",
    "                        group_style = 'equal',\n",
    "                        splits=None):\n",
    "    \n",
    "    # this version takes data in a direct returns for a specific ticker\n",
    "\n",
    "    if group_style == 'equal':\n",
    "        # if splits is None:\n",
    "            # splits = np.array_split(np.sort(returns),classes)\n",
    "\n",
    "        # for i in np.arange(classes):\n",
    "\n",
    "        #labels[returns > global_median] = 1\n",
    "        #labels[returns <= global_median] = 0\n",
    "        \n",
    "        labels = pd.cut(data, bins=splits, labels=False, right=False, include_lowest=True)\n",
    "        \n",
    "        # we need right=False (open right-handside in split interval) to get median into the positive class\n",
    "        # this makes the last point nan, we fix it here\n",
    "        if sum(np.isnan(labels)) > 0:\n",
    "            print(f'Number of NaNs in label: {sum(np.isnan(labels))}. 1 is expected')\n",
    "            print(f'Returns that lead to NaNs in label: {data[np.where(np.isnan(labels))]}')\n",
    "            assert sum(np.isnan(labels)) <= 1, \"There should be max 1 NaN\"\n",
    "            if data[np.where(np.isnan(labels))] >= splits[-1]:\n",
    "                labels[np.where(np.isnan(labels))] = classes - 1 # assign last label id\n",
    "            else:\n",
    "                print(data[np.where(np.isnan(labels))], splits[-1])\n",
    "                raise ValueError('There is a label NaN where its underlying return is not max of dataset, which it should be')        \n",
    "\n",
    "    elif group_style != 'equal':\n",
    "        raise ValueError(f'group_style {group_style} not implemented')\n",
    "\n",
    "    return labels #, returns, [thresholdsMin, thresholdsMax]"
   ]
  },
  {
   "cell_type": "code",
   "execution_count": 214,
   "metadata": {},
   "outputs": [
    {
     "name": "stdout",
     "output_type": "stream",
     "text": [
      "[-0.05392635  0.          0.0907158 ]\n",
      "AAPL\n",
      "(7799,) 3777 4022\n",
      "ABBV\n",
      "(7799,) 3696 4103\n",
      "ABT\n",
      "(7799,) 3711 4088\n",
      "AEP\n",
      "(7799,) 3840 3959\n",
      "AMT\n",
      "(7799,) 3808 3991\n",
      "APD\n",
      "(7799,) 3820 3979\n",
      "BA\n",
      "(7799,) 3822 3977\n",
      "BABA\n",
      "(7799,) 3849 3950\n",
      "BAC\n",
      "(7799,) 3049 4750\n",
      "BHP\n",
      "(7799,) 3258 4541\n",
      "BP\n",
      "(7799,) 2967 4832\n",
      "CCI\n",
      "(7799,) 3799 4000\n",
      "CHL\n",
      "(7799,) 2950 4849\n",
      "COST\n",
      "(7799,) 3810 3989\n",
      "CSGP\n",
      "(7799,) 3567 4232\n",
      "D\n",
      "(7799,) 3767 4032\n",
      "DIS\n",
      "(7799,) 3746 4053\n",
      "ECL\n",
      "(7799,) 3689 4110\n",
      "ENB\n",
      "(7799,) 3208 4591\n",
      "EXC\n",
      "(7799,) 3442 4357\n",
      "FB\n",
      "(7799,) 3737 4062\n",
      "FMX\n",
      "(7799,) 3565 4234\n",
      "GOOG\n",
      "(7799,) 3756 4043\n",
      "IDU\n",
      "(7799,) 3910 3889\n",
      "INTC\n",
      "(7799,) 3526 4273\n",
      "IYC\n",
      "(7799,) 3748 4051\n",
      "IYE\n",
      "(7799,) 3045 4754\n",
      "IYG\n",
      "(7799,) 3716 4083\n",
      "IYH\n",
      "(7799,) 3750 4049\n",
      "IYJ\n",
      "(7799,) 3658 4141\n",
      "IYK\n",
      "(7799,) 3685 4114\n",
      "IYM\n",
      "(7799,) 3662 4137\n",
      "IYR\n",
      "(7799,) 3613 4186\n",
      "IYW\n",
      "(7799,) 3676 4123\n",
      "IYZ\n",
      "(7799,) 2694 5105\n",
      "JNJ\n",
      "(7799,) 3837 3962\n",
      "KO\n",
      "(7799,) 3282 4517\n",
      "LFC\n",
      "(7799,) 759 7040\n",
      "LIN\n",
      "(7799,) 3698 4101\n",
      "LMT\n",
      "(7799,) 3834 3965\n",
      "MA\n",
      "(7799,) 3800 3999\n",
      "MCD\n",
      "(7799,) 3820 3979\n",
      "MSFT\n",
      "(7799,) 3727 4072\n",
      "NKE\n",
      "(7799,) 3688 4111\n",
      "NVDA\n",
      "(7799,) 3828 3971\n",
      "NVS\n",
      "(7799,) 3543 4256\n",
      "PBR\n",
      "(7799,) 2056 5743\n",
      "PEP\n",
      "(7799,) 3856 3943\n",
      "PFE\n",
      "(7799,) 3055 4744\n",
      "PLD\n",
      "(7799,) 3809 3990\n",
      "PSA\n",
      "(7799,) 3842 3957\n",
      "PTR\n",
      "(7799,) 2971 4828\n",
      "PYPL\n",
      "(7799,) 3759 4040\n",
      "RTX\n",
      "(7799,) 3742 4057\n",
      "SHW\n",
      "(7799,) 3715 4084\n",
      "SNP\n",
      "(7799,) 3211 4588\n",
      "SO\n",
      "(7799,) 3784 4015\n",
      "SRE\n",
      "(7799,) 3834 3965\n",
      "T\n",
      "(7799,) 2918 4881\n",
      "TM\n",
      "(7799,) 3287 4512\n",
      "TSLA\n",
      "(7799,) 3803 3996\n",
      "TSM\n",
      "(7799,) 3446 4353\n",
      "UNP\n",
      "(7799,) 3814 3985\n",
      "UPS\n",
      "(7799,) 3716 4083\n",
      "V\n",
      "(7799,) 3795 4004\n",
      "WMT\n",
      "(7799,) 3825 3974\n"
     ]
    },
    {
     "data": {
      "text/plain": [
       "(514734, 233370, 281364)"
      ]
     },
     "execution_count": 214,
     "metadata": {},
     "output_type": "execute_result"
    }
   ],
   "source": [
    "# Re-test functions:\n",
    "\n",
    "returns = []\n",
    "tickers = []\n",
    "noise = False\n",
    "n_classes = 2\n",
    "for ticker in price_candles.Ticker.unique():\n",
    "\n",
    "    ticker_returns = (price_candles[price_candles.Ticker==ticker]['close'].values[1:]/\\\n",
    "                         price_candles[price_candles.Ticker==ticker]['close'].values[:-1]) - 1\n",
    "    ticker_names = [ticker for i in range(len(ticker_returns))]\n",
    "\n",
    "    returns.append(ticker_returns)\n",
    "    tickers.append(ticker_names)\n",
    "\n",
    "# concatenate returns and add noise    \n",
    "returns = np.concatenate(returns)\n",
    "if noise:\n",
    "    returns[returns==0] = np.random.normal(0,1,sum(returns==0))/1000000\n",
    "\n",
    "tickers = np.concatenate(tickers)\n",
    "\n",
    "_, splits = pd.qcut(returns, q=n_classes, labels=False, retbins=True)\n",
    "print(splits)\n",
    "\n",
    "returns = pd.DataFrame({'returns': returns, 'Ticker': tickers})\n",
    "        \n",
    "# --------------\n",
    "\n",
    "\n",
    "    \n",
    "    \n",
    "#medi = pd.Series(returns_noise).median()\n",
    "y_sum, y_0, y_1 = 0, 0, 0\n",
    "yy = []\n",
    "\n",
    "for ticker in price_candles.Ticker.unique():\n",
    "    \n",
    "    ticker_returns = returns[returns.Ticker==ticker]['returns'].values\n",
    "\n",
    "    print(ticker)\n",
    "    y = extract_labels_multi(data = ticker_returns,\n",
    "                            classes = 2,\n",
    "                            group_style = 'equal',\n",
    "                            splits = splits)\n",
    "    \n",
    "    print(y.shape, sum(y == 0), sum(y == 1))\n",
    "    y_sum += y.shape[0]\n",
    "    y_0 += sum(y == 0)\n",
    "    y_1 += sum(y == 1)\n",
    "    yy.append(y)\n",
    "\n",
    "yy = np.concatenate(yy)\n",
    "y_sum, y_0, y_1 # 514734, 280213, 234521\n",
    "\n",
    "\n",
    "# with noise & right == False in pd.cut():\n",
    "# (514734, 257367, 257367)\n",
    "\n",
    "# without noise & right == False in pd.cut()\n",
    "# (514734, 233370, 281364)"
   ]
  },
  {
   "cell_type": "markdown",
   "metadata": {},
   "source": [
    "- looks good!"
   ]
  },
  {
   "cell_type": "code",
   "execution_count": 215,
   "metadata": {},
   "outputs": [],
   "source": [
    "# does it cost a lot to go from list comprehensions to writing the loop out"
   ]
  },
  {
   "cell_type": "code",
   "execution_count": null,
   "metadata": {},
   "outputs": [
    {
     "name": "stdout",
     "output_type": "stream",
     "text": [
      "72.3 ms ± 425 µs per loop (mean ± std. dev. of 7 runs, 10 loops each)\n",
      "71 ms ± 583 µs per loop (mean ± std. dev. of 7 runs, 10 loops each)\n"
     ]
    }
   ],
   "source": [
    "# Is list comprehension faster than normal loop? (should we just concatenate in a loop so easier include tickers?)\n",
    "def listcomp(nrange = 10**6):\n",
    "    return [i + 1 for i in range(nrange)]\n",
    "\n",
    "def loop(nrange = 10**6):\n",
    "    ll = []\n",
    "    for i in range(nrange):\n",
    "        ll.append(i)\n",
    "    return ll\n",
    "\n",
    "%timeit listcomp()\n",
    "%timeit loop()\n",
    "\n",
    "# 72.3 ms ± 425 µs per loop (mean ± std. dev. of 7 runs, 10 loops each)\n",
    "# 71 ms ± 583 µs per loop (mean ± std. dev. of 7 runs, 10 loops each)\n",
    "\n",
    "# %timeit listcomp(10**9)\n",
    "# %timeit loop(10**9)\n",
    "# apparently the above crashes my pc :D"
   ]
  },
  {
   "cell_type": "markdown",
   "metadata": {},
   "source": [
    "# Now run all"
   ]
  },
  {
   "cell_type": "code",
   "execution_count": null,
   "metadata": {},
   "outputs": [],
   "source": []
  },
  {
   "cell_type": "code",
   "execution_count": 216,
   "metadata": {},
   "outputs": [
    {
     "name": "stdout",
     "output_type": "stream",
     "text": [
      "['open_lag0' 'open_lag1' 'high_lag0' 'high_lag1' 'low_lag0' 'low_lag1'\n",
      " 'close_lag0' 'close_lag1']\n",
      "AAPL done\n",
      "['open_lag0' 'open_lag1' 'high_lag0' 'high_lag1' 'low_lag0' 'low_lag1'\n",
      " 'close_lag0' 'close_lag1']\n",
      "ABBV done\n",
      "['open_lag0' 'open_lag1' 'high_lag0' 'high_lag1' 'low_lag0' 'low_lag1'\n",
      " 'close_lag0' 'close_lag1']\n",
      "ABT done\n",
      "['open_lag0' 'open_lag1' 'high_lag0' 'high_lag1' 'low_lag0' 'low_lag1'\n",
      " 'close_lag0' 'close_lag1']\n",
      "AEP done\n",
      "['open_lag0' 'open_lag1' 'high_lag0' 'high_lag1' 'low_lag0' 'low_lag1'\n",
      " 'close_lag0' 'close_lag1']\n",
      "AMT done\n",
      "['open_lag0' 'open_lag1' 'high_lag0' 'high_lag1' 'low_lag0' 'low_lag1'\n",
      " 'close_lag0' 'close_lag1']\n",
      "APD done\n",
      "['open_lag0' 'open_lag1' 'high_lag0' 'high_lag1' 'low_lag0' 'low_lag1'\n",
      " 'close_lag0' 'close_lag1']\n",
      "BA done\n",
      "['open_lag0' 'open_lag1' 'high_lag0' 'high_lag1' 'low_lag0' 'low_lag1'\n",
      " 'close_lag0' 'close_lag1']\n",
      "BABA done\n",
      "['open_lag0' 'open_lag1' 'high_lag0' 'high_lag1' 'low_lag0' 'low_lag1'\n",
      " 'close_lag0' 'close_lag1']\n",
      "BAC done\n",
      "['open_lag0' 'open_lag1' 'high_lag0' 'high_lag1' 'low_lag0' 'low_lag1'\n",
      " 'close_lag0' 'close_lag1']\n",
      "BHP done\n",
      "['open_lag0' 'open_lag1' 'high_lag0' 'high_lag1' 'low_lag0' 'low_lag1'\n",
      " 'close_lag0' 'close_lag1']\n",
      "BP done\n",
      "['open_lag0' 'open_lag1' 'high_lag0' 'high_lag1' 'low_lag0' 'low_lag1'\n",
      " 'close_lag0' 'close_lag1']\n",
      "CCI done\n",
      "['open_lag0' 'open_lag1' 'high_lag0' 'high_lag1' 'low_lag0' 'low_lag1'\n",
      " 'close_lag0' 'close_lag1']\n",
      "CHL done\n",
      "['open_lag0' 'open_lag1' 'high_lag0' 'high_lag1' 'low_lag0' 'low_lag1'\n",
      " 'close_lag0' 'close_lag1']\n",
      "COST done\n",
      "['open_lag0' 'open_lag1' 'high_lag0' 'high_lag1' 'low_lag0' 'low_lag1'\n",
      " 'close_lag0' 'close_lag1']\n",
      "CSGP done\n",
      "['open_lag0' 'open_lag1' 'high_lag0' 'high_lag1' 'low_lag0' 'low_lag1'\n",
      " 'close_lag0' 'close_lag1']\n",
      "D done\n",
      "['open_lag0' 'open_lag1' 'high_lag0' 'high_lag1' 'low_lag0' 'low_lag1'\n",
      " 'close_lag0' 'close_lag1']\n",
      "DIS done\n",
      "['open_lag0' 'open_lag1' 'high_lag0' 'high_lag1' 'low_lag0' 'low_lag1'\n",
      " 'close_lag0' 'close_lag1']\n",
      "ECL done\n",
      "['open_lag0' 'open_lag1' 'high_lag0' 'high_lag1' 'low_lag0' 'low_lag1'\n",
      " 'close_lag0' 'close_lag1']\n",
      "ENB done\n",
      "['open_lag0' 'open_lag1' 'high_lag0' 'high_lag1' 'low_lag0' 'low_lag1'\n",
      " 'close_lag0' 'close_lag1']\n",
      "EXC done\n",
      "['open_lag0' 'open_lag1' 'high_lag0' 'high_lag1' 'low_lag0' 'low_lag1'\n",
      " 'close_lag0' 'close_lag1']\n",
      "FB done\n",
      "['open_lag0' 'open_lag1' 'high_lag0' 'high_lag1' 'low_lag0' 'low_lag1'\n",
      " 'close_lag0' 'close_lag1']\n",
      "FMX done\n",
      "['open_lag0' 'open_lag1' 'high_lag0' 'high_lag1' 'low_lag0' 'low_lag1'\n",
      " 'close_lag0' 'close_lag1']\n",
      "GOOG done\n",
      "['open_lag0' 'open_lag1' 'high_lag0' 'high_lag1' 'low_lag0' 'low_lag1'\n",
      " 'close_lag0' 'close_lag1']\n",
      "IDU done\n",
      "['open_lag0' 'open_lag1' 'high_lag0' 'high_lag1' 'low_lag0' 'low_lag1'\n",
      " 'close_lag0' 'close_lag1']\n",
      "INTC done\n",
      "['open_lag0' 'open_lag1' 'high_lag0' 'high_lag1' 'low_lag0' 'low_lag1'\n",
      " 'close_lag0' 'close_lag1']\n",
      "IYC done\n",
      "['open_lag0' 'open_lag1' 'high_lag0' 'high_lag1' 'low_lag0' 'low_lag1'\n",
      " 'close_lag0' 'close_lag1']\n",
      "IYE done\n",
      "['open_lag0' 'open_lag1' 'high_lag0' 'high_lag1' 'low_lag0' 'low_lag1'\n",
      " 'close_lag0' 'close_lag1']\n",
      "IYG done\n",
      "['open_lag0' 'open_lag1' 'high_lag0' 'high_lag1' 'low_lag0' 'low_lag1'\n",
      " 'close_lag0' 'close_lag1']\n",
      "IYH done\n",
      "['open_lag0' 'open_lag1' 'high_lag0' 'high_lag1' 'low_lag0' 'low_lag1'\n",
      " 'close_lag0' 'close_lag1']\n",
      "IYJ done\n",
      "['open_lag0' 'open_lag1' 'high_lag0' 'high_lag1' 'low_lag0' 'low_lag1'\n",
      " 'close_lag0' 'close_lag1']\n",
      "IYK done\n",
      "['open_lag0' 'open_lag1' 'high_lag0' 'high_lag1' 'low_lag0' 'low_lag1'\n",
      " 'close_lag0' 'close_lag1']\n",
      "IYM done\n",
      "['open_lag0' 'open_lag1' 'high_lag0' 'high_lag1' 'low_lag0' 'low_lag1'\n",
      " 'close_lag0' 'close_lag1']\n",
      "IYR done\n",
      "['open_lag0' 'open_lag1' 'high_lag0' 'high_lag1' 'low_lag0' 'low_lag1'\n",
      " 'close_lag0' 'close_lag1']\n",
      "IYW done\n",
      "['open_lag0' 'open_lag1' 'high_lag0' 'high_lag1' 'low_lag0' 'low_lag1'\n",
      " 'close_lag0' 'close_lag1']\n",
      "IYZ done\n",
      "['open_lag0' 'open_lag1' 'high_lag0' 'high_lag1' 'low_lag0' 'low_lag1'\n",
      " 'close_lag0' 'close_lag1']\n",
      "JNJ done\n",
      "['open_lag0' 'open_lag1' 'high_lag0' 'high_lag1' 'low_lag0' 'low_lag1'\n",
      " 'close_lag0' 'close_lag1']\n",
      "KO done\n",
      "['open_lag0' 'open_lag1' 'high_lag0' 'high_lag1' 'low_lag0' 'low_lag1'\n",
      " 'close_lag0' 'close_lag1']\n",
      "LFC done\n",
      "['open_lag0' 'open_lag1' 'high_lag0' 'high_lag1' 'low_lag0' 'low_lag1'\n",
      " 'close_lag0' 'close_lag1']\n",
      "LIN done\n",
      "['open_lag0' 'open_lag1' 'high_lag0' 'high_lag1' 'low_lag0' 'low_lag1'\n",
      " 'close_lag0' 'close_lag1']\n",
      "LMT done\n",
      "['open_lag0' 'open_lag1' 'high_lag0' 'high_lag1' 'low_lag0' 'low_lag1'\n",
      " 'close_lag0' 'close_lag1']\n",
      "MA done\n",
      "['open_lag0' 'open_lag1' 'high_lag0' 'high_lag1' 'low_lag0' 'low_lag1'\n",
      " 'close_lag0' 'close_lag1']\n",
      "MCD done\n",
      "['open_lag0' 'open_lag1' 'high_lag0' 'high_lag1' 'low_lag0' 'low_lag1'\n",
      " 'close_lag0' 'close_lag1']\n",
      "MSFT done\n",
      "['open_lag0' 'open_lag1' 'high_lag0' 'high_lag1' 'low_lag0' 'low_lag1'\n",
      " 'close_lag0' 'close_lag1']\n",
      "NKE done\n",
      "['open_lag0' 'open_lag1' 'high_lag0' 'high_lag1' 'low_lag0' 'low_lag1'\n",
      " 'close_lag0' 'close_lag1']\n",
      "NVDA done\n",
      "['open_lag0' 'open_lag1' 'high_lag0' 'high_lag1' 'low_lag0' 'low_lag1'\n",
      " 'close_lag0' 'close_lag1']\n",
      "NVS done\n",
      "['open_lag0' 'open_lag1' 'high_lag0' 'high_lag1' 'low_lag0' 'low_lag1'\n",
      " 'close_lag0' 'close_lag1']\n",
      "PBR done\n",
      "['open_lag0' 'open_lag1' 'high_lag0' 'high_lag1' 'low_lag0' 'low_lag1'\n",
      " 'close_lag0' 'close_lag1']\n",
      "PEP done\n",
      "['open_lag0' 'open_lag1' 'high_lag0' 'high_lag1' 'low_lag0' 'low_lag1'\n",
      " 'close_lag0' 'close_lag1']\n",
      "PFE done\n",
      "['open_lag0' 'open_lag1' 'high_lag0' 'high_lag1' 'low_lag0' 'low_lag1'\n",
      " 'close_lag0' 'close_lag1']\n",
      "PLD done\n",
      "['open_lag0' 'open_lag1' 'high_lag0' 'high_lag1' 'low_lag0' 'low_lag1'\n",
      " 'close_lag0' 'close_lag1']\n",
      "PSA done\n",
      "['open_lag0' 'open_lag1' 'high_lag0' 'high_lag1' 'low_lag0' 'low_lag1'\n",
      " 'close_lag0' 'close_lag1']\n",
      "PTR done\n",
      "['open_lag0' 'open_lag1' 'high_lag0' 'high_lag1' 'low_lag0' 'low_lag1'\n",
      " 'close_lag0' 'close_lag1']\n",
      "PYPL done\n",
      "['open_lag0' 'open_lag1' 'high_lag0' 'high_lag1' 'low_lag0' 'low_lag1'\n",
      " 'close_lag0' 'close_lag1']\n",
      "RTX done\n",
      "['open_lag0' 'open_lag1' 'high_lag0' 'high_lag1' 'low_lag0' 'low_lag1'\n",
      " 'close_lag0' 'close_lag1']\n",
      "SHW done\n",
      "['open_lag0' 'open_lag1' 'high_lag0' 'high_lag1' 'low_lag0' 'low_lag1'\n",
      " 'close_lag0' 'close_lag1']\n",
      "SNP done\n",
      "['open_lag0' 'open_lag1' 'high_lag0' 'high_lag1' 'low_lag0' 'low_lag1'\n",
      " 'close_lag0' 'close_lag1']\n",
      "SO done\n",
      "['open_lag0' 'open_lag1' 'high_lag0' 'high_lag1' 'low_lag0' 'low_lag1'\n",
      " 'close_lag0' 'close_lag1']\n",
      "SRE done\n",
      "['open_lag0' 'open_lag1' 'high_lag0' 'high_lag1' 'low_lag0' 'low_lag1'\n",
      " 'close_lag0' 'close_lag1']\n",
      "T done\n",
      "['open_lag0' 'open_lag1' 'high_lag0' 'high_lag1' 'low_lag0' 'low_lag1'\n",
      " 'close_lag0' 'close_lag1']\n",
      "TM done\n",
      "['open_lag0' 'open_lag1' 'high_lag0' 'high_lag1' 'low_lag0' 'low_lag1'\n",
      " 'close_lag0' 'close_lag1']\n",
      "TSLA done\n",
      "['open_lag0' 'open_lag1' 'high_lag0' 'high_lag1' 'low_lag0' 'low_lag1'\n",
      " 'close_lag0' 'close_lag1']\n",
      "TSM done\n",
      "['open_lag0' 'open_lag1' 'high_lag0' 'high_lag1' 'low_lag0' 'low_lag1'\n",
      " 'close_lag0' 'close_lag1']\n",
      "UNP done\n",
      "['open_lag0' 'open_lag1' 'high_lag0' 'high_lag1' 'low_lag0' 'low_lag1'\n",
      " 'close_lag0' 'close_lag1']\n",
      "UPS done\n",
      "['open_lag0' 'open_lag1' 'high_lag0' 'high_lag1' 'low_lag0' 'low_lag1'\n",
      " 'close_lag0' 'close_lag1']\n",
      "V done\n",
      "['open_lag0' 'open_lag1' 'high_lag0' 'high_lag1' 'low_lag0' 'low_lag1'\n",
      " 'close_lag0' 'close_lag1']\n",
      "WMT done\n",
      "[-0.05392635  0.          0.0907158 ]\n",
      "AAPL done\n"
     ]
    },
    {
     "name": "stderr",
     "output_type": "stream",
     "text": [
      "C:\\Users\\fstri\\Anaconda3\\envs\\tf2\\lib\\site-packages\\ipykernel_launcher.py:109: SettingWithCopyWarning: \n",
      "A value is trying to be set on a copy of a slice from a DataFrame.\n",
      "Try using .loc[row_indexer,col_indexer] = value instead\n",
      "\n",
      "See the caveats in the documentation: http://pandas.pydata.org/pandas-docs/stable/user_guide/indexing.html#returning-a-view-versus-a-copy\n"
     ]
    },
    {
     "name": "stdout",
     "output_type": "stream",
     "text": [
      "ABBV done\n",
      "ABT done\n",
      "AEP done\n",
      "AMT done\n",
      "APD done\n",
      "BA done\n",
      "BABA done\n",
      "BAC done\n",
      "BHP done\n",
      "BP done\n",
      "CCI done\n",
      "CHL done\n",
      "COST done\n",
      "CSGP done\n",
      "D done\n",
      "DIS done\n",
      "ECL done\n",
      "ENB done\n",
      "EXC done\n",
      "FB done\n",
      "FMX done\n",
      "GOOG done\n",
      "IDU done\n",
      "INTC done\n",
      "IYC done\n",
      "IYE done\n",
      "IYG done\n",
      "IYH done\n",
      "IYJ done\n",
      "IYK done\n",
      "IYM done\n",
      "IYR done\n",
      "IYW done\n",
      "IYZ done\n",
      "JNJ done\n",
      "KO done\n",
      "LFC done\n",
      "LIN done\n",
      "LMT done\n",
      "MA done\n",
      "MCD done\n",
      "MSFT done\n",
      "NKE done\n",
      "NVDA done\n",
      "NVS done\n",
      "PBR done\n",
      "PEP done\n",
      "PFE done\n",
      "PLD done\n",
      "PSA done\n",
      "PTR done\n",
      "PYPL done\n",
      "RTX done\n",
      "SHW done\n",
      "SNP done\n",
      "SO done\n",
      "SRE done\n",
      "T done\n",
      "TM done\n",
      "TSLA done\n",
      "TSM done\n",
      "UNP done\n",
      "UPS done\n",
      "V done\n",
      "WMT done\n"
     ]
    }
   ],
   "source": [
    "########### Generate Features ################\n",
    "\n",
    "#ticker_to_model = 'TSLA'\n",
    "#candles = data[data.Ticker==ticker_to_model]\n",
    "\n",
    "n_feature_lags = 1\n",
    "# features = generateFeatures_final(data = candles, \n",
    "#                                   listOfFeatures = [\n",
    "#                                                     'pastobs',\n",
    "#                                                     'spread',\n",
    "#                                                     'bidsize',\n",
    "#                                                     'ofrsize',\n",
    "# #                                                     'stok',\n",
    "# #                                                     'stod',\n",
    "# #                                                     'sstod',\n",
    "# #                                                     'wilr',\n",
    "# #                                                     'roc',\n",
    "# #                                                     'rsi',\n",
    "# #                                                     'atr',\n",
    "# #                                                     'cci',\n",
    "# #                                                     'dpo',\n",
    "# #                                                     'sma',\n",
    "# #                                                     'ema',\n",
    "# #                                                     'macd',\n",
    "# #                                                     'dis5',\n",
    "# #                                                     'dis10',\n",
    "#                                                    ], \n",
    "#                                    feature_lags = n_feature_lags)\n",
    "\n",
    "features = generateFeatures_multi_v1(data = data, \n",
    "                                  listOfFeatures = [\n",
    "                                                    'pastobs',\n",
    "                                                    'spread',\n",
    "                                                    'bidsize',\n",
    "                                                    'ofrsize',\n",
    "#                                                     'stok',\n",
    "#                                                     'stod',\n",
    "#                                                     'sstod',\n",
    "#                                                     'wilr',\n",
    "#                                                     'roc',\n",
    "#                                                     'rsi',\n",
    "#                                                     'atr',\n",
    "#                                                     'cci',\n",
    "#                                                     'dpo',\n",
    "#                                                     'sma',\n",
    "#                                                     'ema',\n",
    "#                                                     'macd',\n",
    "#                                                     'dis5',\n",
    "#                                                     'dis10',\n",
    "                                                   ], \n",
    "                                   feature_lags = n_feature_lags)\n",
    "\n",
    "########### Generate Labels ################\n",
    "\n",
    "n_classes = 2\n",
    "# extract first 4 columns as the lag0 or raw OHLC prices (used for labelling)\n",
    "price_candles = data[['open','high','low','close','Ticker']]\n",
    "#labels = extract_labels_multi(data = price_candles, classes = n_classes, group_style = 'equal')\n",
    "\n",
    "########### Align Data ################\n",
    "\n",
    "# from imported function (see testing_preprocessing_features_and_labels.ipynb for thorough experimenting with all the cut-offs):    \n",
    "X, y = align_features_and_labels_multi(price_candles = price_candles, \n",
    "                                       all_features = features,\n",
    "                                       prediction_horizon = 1, \n",
    "                                       n_feature_lags = n_feature_lags, \n",
    "                                       n_classes = n_classes, # 5,\n",
    "                                       safe_burn_in = False, \n",
    "                                       data_sample = 'full',\n",
    "                                       splitType='global',\n",
    "                                       noise=False)"
   ]
  },
  {
   "cell_type": "code",
   "execution_count": 217,
   "metadata": {},
   "outputs": [
    {
     "data": {
      "text/html": [
       "<div>\n",
       "<style scoped>\n",
       "    .dataframe tbody tr th:only-of-type {\n",
       "        vertical-align: middle;\n",
       "    }\n",
       "\n",
       "    .dataframe tbody tr th {\n",
       "        vertical-align: top;\n",
       "    }\n",
       "\n",
       "    .dataframe thead th {\n",
       "        text-align: right;\n",
       "    }\n",
       "</style>\n",
       "<table border=\"1\" class=\"dataframe\">\n",
       "  <thead>\n",
       "    <tr style=\"text-align: right;\">\n",
       "      <th></th>\n",
       "      <th></th>\n",
       "      <th>open</th>\n",
       "      <th>high</th>\n",
       "      <th>low</th>\n",
       "      <th>close</th>\n",
       "      <th>Ticker</th>\n",
       "    </tr>\n",
       "  </thead>\n",
       "  <tbody>\n",
       "    <tr>\n",
       "      <td rowspan=\"5\" valign=\"top\">20200501</td>\n",
       "      <td>0</td>\n",
       "      <td>286.250</td>\n",
       "      <td>289.260</td>\n",
       "      <td>285.870</td>\n",
       "      <td>289.260</td>\n",
       "      <td>AAPL</td>\n",
       "    </tr>\n",
       "    <tr>\n",
       "      <td>1</td>\n",
       "      <td>289.260</td>\n",
       "      <td>289.350</td>\n",
       "      <td>288.365</td>\n",
       "      <td>289.020</td>\n",
       "      <td>AAPL</td>\n",
       "    </tr>\n",
       "    <tr>\n",
       "      <td>2</td>\n",
       "      <td>289.035</td>\n",
       "      <td>289.705</td>\n",
       "      <td>288.280</td>\n",
       "      <td>288.580</td>\n",
       "      <td>AAPL</td>\n",
       "    </tr>\n",
       "    <tr>\n",
       "      <td>3</td>\n",
       "      <td>288.485</td>\n",
       "      <td>289.315</td>\n",
       "      <td>288.280</td>\n",
       "      <td>289.095</td>\n",
       "      <td>AAPL</td>\n",
       "    </tr>\n",
       "    <tr>\n",
       "      <td>4</td>\n",
       "      <td>289.100</td>\n",
       "      <td>290.435</td>\n",
       "      <td>288.940</td>\n",
       "      <td>290.320</td>\n",
       "      <td>AAPL</td>\n",
       "    </tr>\n",
       "    <tr>\n",
       "      <td>...</td>\n",
       "      <td>...</td>\n",
       "      <td>...</td>\n",
       "      <td>...</td>\n",
       "      <td>...</td>\n",
       "      <td>...</td>\n",
       "      <td>...</td>\n",
       "    </tr>\n",
       "    <tr>\n",
       "      <td rowspan=\"5\" valign=\"top\">20200529</td>\n",
       "      <td>385</td>\n",
       "      <td>123.950</td>\n",
       "      <td>124.110</td>\n",
       "      <td>123.910</td>\n",
       "      <td>124.100</td>\n",
       "      <td>WMT</td>\n",
       "    </tr>\n",
       "    <tr>\n",
       "      <td>386</td>\n",
       "      <td>124.085</td>\n",
       "      <td>124.085</td>\n",
       "      <td>123.920</td>\n",
       "      <td>123.995</td>\n",
       "      <td>WMT</td>\n",
       "    </tr>\n",
       "    <tr>\n",
       "      <td>387</td>\n",
       "      <td>123.995</td>\n",
       "      <td>124.355</td>\n",
       "      <td>123.985</td>\n",
       "      <td>124.335</td>\n",
       "      <td>WMT</td>\n",
       "    </tr>\n",
       "    <tr>\n",
       "      <td>388</td>\n",
       "      <td>124.335</td>\n",
       "      <td>124.355</td>\n",
       "      <td>124.060</td>\n",
       "      <td>124.075</td>\n",
       "      <td>WMT</td>\n",
       "    </tr>\n",
       "    <tr>\n",
       "      <td>389</td>\n",
       "      <td>124.075</td>\n",
       "      <td>124.225</td>\n",
       "      <td>122.810</td>\n",
       "      <td>123.855</td>\n",
       "      <td>WMT</td>\n",
       "    </tr>\n",
       "  </tbody>\n",
       "</table>\n",
       "<p>514800 rows × 5 columns</p>\n",
       "</div>"
      ],
      "text/plain": [
       "                 open     high      low    close Ticker\n",
       "20200501 0    286.250  289.260  285.870  289.260   AAPL\n",
       "         1    289.260  289.350  288.365  289.020   AAPL\n",
       "         2    289.035  289.705  288.280  288.580   AAPL\n",
       "         3    288.485  289.315  288.280  289.095   AAPL\n",
       "         4    289.100  290.435  288.940  290.320   AAPL\n",
       "...               ...      ...      ...      ...    ...\n",
       "20200529 385  123.950  124.110  123.910  124.100    WMT\n",
       "         386  124.085  124.085  123.920  123.995    WMT\n",
       "         387  123.995  124.355  123.985  124.335    WMT\n",
       "         388  124.335  124.355  124.060  124.075    WMT\n",
       "         389  124.075  124.225  122.810  123.855    WMT\n",
       "\n",
       "[514800 rows x 5 columns]"
      ]
     },
     "execution_count": 217,
     "metadata": {},
     "output_type": "execute_result"
    }
   ],
   "source": [
    "price_candles = data[['open','high','low','close','Ticker']]\n",
    "price_candles"
   ]
  },
  {
   "cell_type": "code",
   "execution_count": 218,
   "metadata": {},
   "outputs": [
    {
     "data": {
      "text/plain": [
       "((514668, 33), (514668, 1))"
      ]
     },
     "execution_count": 218,
     "metadata": {},
     "output_type": "execute_result"
    }
   ],
   "source": [
    "X.shape, y.shape"
   ]
  },
  {
   "cell_type": "code",
   "execution_count": 220,
   "metadata": {},
   "outputs": [
    {
     "data": {
      "text/plain": [
       "(7800, array([762.215, 757.875, 758.915, ..., 832.61 , 833.9  , 834.145]))"
      ]
     },
     "execution_count": 220,
     "metadata": {},
     "output_type": "execute_result"
    }
   ],
   "source": [
    "len(price_candles[price_candles.Ticker=='TSLA']['close'].values), price_candles[price_candles.Ticker=='TSLA']['close'].values"
   ]
  },
  {
   "cell_type": "code",
   "execution_count": 221,
   "metadata": {},
   "outputs": [],
   "source": [
    "returns = ((price_candles[price_candles.Ticker=='TSLA']['close'].values[1:] / price_candles[price_candles.Ticker=='TSLA']['close'].values[:-1])-1)*100"
   ]
  },
  {
   "cell_type": "code",
   "execution_count": 222,
   "metadata": {},
   "outputs": [
    {
     "data": {
      "text/plain": [
       "(7799, array([-0.56939315,  0.1372258 ,  0.73262487, ..., -0.18581567,\n",
       "         0.15493448,  0.02938002]))"
      ]
     },
     "execution_count": 222,
     "metadata": {},
     "output_type": "execute_result"
    }
   ],
   "source": [
    "len(returns), returns"
   ]
  },
  {
   "cell_type": "code",
   "execution_count": 240,
   "metadata": {},
   "outputs": [
    {
     "name": "stdout",
     "output_type": "stream",
     "text": [
      "[-0.05392635  0.          0.0907158 ]\n",
      "[0 1] [3777 4022]\n",
      "[0 1] [3696 4103]\n",
      "[0 1] [3711 4088]\n",
      "[0 1] [3840 3959]\n",
      "[0 1] [3808 3991]\n",
      "[0 1] [3820 3979]\n",
      "[0 1] [3822 3977]\n",
      "[0 1] [3849 3950]\n",
      "[0 1] [3049 4750]\n",
      "[0 1] [3258 4541]\n",
      "[0 1] [2967 4832]\n",
      "[0 1] [3799 4000]\n",
      "[0 1] [2950 4849]\n",
      "[0 1] [3810 3989]\n",
      "[0 1] [3567 4232]\n",
      "[0 1] [3767 4032]\n",
      "[0 1] [3746 4053]\n",
      "[0 1] [3689 4110]\n",
      "[0 1] [3208 4591]\n",
      "[0 1] [3442 4357]\n",
      "[0 1] [3737 4062]\n",
      "[0 1] [3565 4234]\n",
      "[0 1] [3756 4043]\n",
      "[0 1] [3910 3889]\n",
      "[0 1] [3526 4273]\n",
      "[0 1] [3748 4051]\n",
      "[0 1] [3045 4754]\n",
      "[0 1] [3716 4083]\n",
      "[0 1] [3750 4049]\n",
      "[0 1] [3658 4141]\n",
      "[0 1] [3685 4114]\n",
      "[0 1] [3662 4137]\n",
      "[0 1] [3613 4186]\n",
      "[0 1] [3676 4123]\n",
      "[0 1] [2694 5105]\n",
      "[0 1] [3837 3962]\n",
      "[0 1] [3282 4517]\n",
      "[0 1] [ 759 7040]\n",
      "[0 1] [3698 4101]\n",
      "[0 1] [3834 3965]\n",
      "[0 1] [3800 3999]\n",
      "[0 1] [3820 3979]\n",
      "[0 1] [3727 4072]\n",
      "[0 1] [3688 4111]\n",
      "[0 1] [3828 3971]\n",
      "[0 1] [3543 4256]\n",
      "Number of NaNs in label: 1. 1 is expected\n",
      "Returns that lead to NaNs in label: [0.0907158]\n",
      "[0. 1.] [2056 5743]\n",
      "[0 1] [3856 3943]\n",
      "[0 1] [3055 4744]\n",
      "[0 1] [3809 3990]\n",
      "[0 1] [3842 3957]\n",
      "[0 1] [2971 4828]\n",
      "[0 1] [3759 4040]\n",
      "[0 1] [3742 4057]\n",
      "[0 1] [3715 4084]\n",
      "[0 1] [3211 4588]\n",
      "[0 1] [3784 4015]\n",
      "[0 1] [3834 3965]\n",
      "[0 1] [2918 4881]\n",
      "[0 1] [3287 4512]\n",
      "[0 1] [3803 3996]\n",
      "[0 1] [3446 4353]\n",
      "[0 1] [3814 3985]\n",
      "[0 1] [3716 4083]\n",
      "[0 1] [3795 4004]\n",
      "[0 1] [3825 3974]\n"
     ]
    }
   ],
   "source": [
    "returns = []\n",
    "tickers = []\n",
    "noise = False\n",
    "n_classes = 2\n",
    "for ticker in price_candles.Ticker.unique():\n",
    "\n",
    "    ticker_returns = (price_candles[price_candles.Ticker==ticker]['close'].values[1:]/\\\n",
    "                         price_candles[price_candles.Ticker==ticker]['close'].values[:-1]) - 1\n",
    "    ticker_names = [ticker for i in range(len(ticker_returns))]\n",
    "\n",
    "    returns.append(ticker_returns)\n",
    "    tickers.append(ticker_names)\n",
    "\n",
    "# concatenate returns and add noise    \n",
    "returns = np.concatenate(returns)\n",
    "if noise:\n",
    "    returns[returns==0] = np.random.normal(0,1,sum(returns==0))/1000000\n",
    "\n",
    "tickers = np.concatenate(tickers)\n",
    "\n",
    "_, splits = pd.qcut(returns, q=n_classes, labels=False, retbins=True)\n",
    "print(splits)\n",
    "\n",
    "returns = pd.DataFrame({'returns': returns, 'Ticker': tickers})\n",
    "\n",
    "\n",
    "sum_0 = 0\n",
    "sum_1 = 0\n",
    "for ticker in X.ticker.unique():\n",
    "#     temp = price_candles[price_candles.Ticker==ticker]['close'].values#\n",
    "    ticker_returns = returns[returns.Ticker==ticker]['returns'].values\n",
    "    t, c = np.unique(extract_labels_multi(ticker_returns,\n",
    "                         2,\n",
    "                         'equal',\n",
    "                         splits),return_counts=True)\n",
    "    print(t,c)\n",
    "    sum_0 += c[0]\n",
    "    sum_1 += c[1]"
   ]
  },
  {
   "cell_type": "markdown",
   "metadata": {},
   "source": [
    "# FRST: Only ran it to here, below might still be useful -- perhaps needs a few fixes to run\n",
    "\n",
    "### The changes made from this notebook are:\n",
    "\n",
    "- extract_labels_multi_v5 (_final as of 17-08-2020)\n",
    "- align_features_and_labels_multi_v5 (_final as of 17-08-2020)"
   ]
  },
  {
   "cell_type": "code",
   "execution_count": null,
   "metadata": {},
   "outputs": [],
   "source": []
  },
  {
   "cell_type": "code",
   "execution_count": null,
   "metadata": {},
   "outputs": [],
   "source": []
  },
  {
   "cell_type": "markdown",
   "metadata": {},
   "source": [
    "## Sectors"
   ]
  },
  {
   "cell_type": "code",
   "execution_count": 223,
   "metadata": {},
   "outputs": [],
   "source": [
    "stockInfo = pd.read_csv('../utils/stockInfo_v1.csv',header=[0,1])\n",
    "stockInfo.columns = ['ticker','sector','exchange','marketCap']"
   ]
  },
  {
   "cell_type": "code",
   "execution_count": 224,
   "metadata": {},
   "outputs": [
    {
     "data": {
      "text/plain": [
       "array(['AAPL', 'ABBV', 'ABT', 'AEP', 'AMT', 'APD', 'BA', 'BABA', 'BAC',\n",
       "       'BHP', 'BP', 'CCI', 'CHL', 'COST', 'CSGP', 'D', 'DIS', 'ECL',\n",
       "       'ENB', 'EXC', 'FB', 'FMX', 'GOOG', 'IDU', 'INTC', 'IYC', 'IYE',\n",
       "       'IYG', 'IYH', 'IYJ', 'IYK', 'IYM', 'IYR', 'IYW', 'IYZ', 'JNJ',\n",
       "       'KO', 'LFC', 'LIN', 'LMT', 'MA', 'MCD', 'MSFT', 'NKE', 'NVDA',\n",
       "       'NVS', 'PBR', 'PEP', 'PFE', 'PLD', 'PSA', 'PTR', 'PYPL', 'RTX',\n",
       "       'SHW', 'SNP', 'SO', 'SRE', 'T', 'TM', 'TSLA', 'TSM', 'UNP', 'UPS',\n",
       "       'V', 'WMT'], dtype=object)"
      ]
     },
     "execution_count": 224,
     "metadata": {},
     "output_type": "execute_result"
    }
   ],
   "source": [
    "X.ticker.unique()"
   ]
  },
  {
   "cell_type": "code",
   "execution_count": 225,
   "metadata": {},
   "outputs": [
    {
     "data": {
      "text/html": [
       "<div>\n",
       "<style scoped>\n",
       "    .dataframe tbody tr th:only-of-type {\n",
       "        vertical-align: middle;\n",
       "    }\n",
       "\n",
       "    .dataframe tbody tr th {\n",
       "        vertical-align: top;\n",
       "    }\n",
       "\n",
       "    .dataframe thead th {\n",
       "        text-align: right;\n",
       "    }\n",
       "</style>\n",
       "<table border=\"1\" class=\"dataframe\">\n",
       "  <thead>\n",
       "    <tr style=\"text-align: right;\">\n",
       "      <th></th>\n",
       "      <th>ticker</th>\n",
       "      <th>sector</th>\n",
       "      <th>exchange</th>\n",
       "      <th>marketCap</th>\n",
       "    </tr>\n",
       "  </thead>\n",
       "  <tbody>\n",
       "    <tr>\n",
       "      <td>0</td>\n",
       "      <td>A</td>\n",
       "      <td>Healthcare</td>\n",
       "      <td>NYQ</td>\n",
       "      <td>2.738234e+10</td>\n",
       "    </tr>\n",
       "    <tr>\n",
       "      <td>1</td>\n",
       "      <td>AA</td>\n",
       "      <td>Basic Materials</td>\n",
       "      <td>NYQ</td>\n",
       "      <td>2.039532e+09</td>\n",
       "    </tr>\n",
       "    <tr>\n",
       "      <td>2</td>\n",
       "      <td>AAAU</td>\n",
       "      <td>NaN</td>\n",
       "      <td>NaN</td>\n",
       "      <td>NaN</td>\n",
       "    </tr>\n",
       "    <tr>\n",
       "      <td>3</td>\n",
       "      <td>AACG</td>\n",
       "      <td>Consumer Defensive</td>\n",
       "      <td>NGM</td>\n",
       "      <td>4.157730e+07</td>\n",
       "    </tr>\n",
       "    <tr>\n",
       "      <td>4</td>\n",
       "      <td>AADR</td>\n",
       "      <td>NaN</td>\n",
       "      <td>NaN</td>\n",
       "      <td>NaN</td>\n",
       "    </tr>\n",
       "    <tr>\n",
       "      <td>...</td>\n",
       "      <td>...</td>\n",
       "      <td>...</td>\n",
       "      <td>...</td>\n",
       "      <td>...</td>\n",
       "    </tr>\n",
       "    <tr>\n",
       "      <td>8845</td>\n",
       "      <td>ZXIET</td>\n",
       "      <td>NaN</td>\n",
       "      <td>NaN</td>\n",
       "      <td>NaN</td>\n",
       "    </tr>\n",
       "    <tr>\n",
       "      <td>8846</td>\n",
       "      <td>ZXZZ T</td>\n",
       "      <td>NaN</td>\n",
       "      <td>NaN</td>\n",
       "      <td>NaN</td>\n",
       "    </tr>\n",
       "    <tr>\n",
       "      <td>8847</td>\n",
       "      <td>ZYME</td>\n",
       "      <td>Healthcare</td>\n",
       "      <td>NYQ</td>\n",
       "      <td>1.638522e+09</td>\n",
       "    </tr>\n",
       "    <tr>\n",
       "      <td>8848</td>\n",
       "      <td>ZYNE</td>\n",
       "      <td>Healthcare</td>\n",
       "      <td>NMS</td>\n",
       "      <td>8.732710e+07</td>\n",
       "    </tr>\n",
       "    <tr>\n",
       "      <td>8849</td>\n",
       "      <td>ZYXI</td>\n",
       "      <td>NaN</td>\n",
       "      <td>NaN</td>\n",
       "      <td>NaN</td>\n",
       "    </tr>\n",
       "  </tbody>\n",
       "</table>\n",
       "<p>8850 rows × 4 columns</p>\n",
       "</div>"
      ],
      "text/plain": [
       "      ticker              sector exchange     marketCap\n",
       "0          A          Healthcare      NYQ  2.738234e+10\n",
       "1         AA     Basic Materials      NYQ  2.039532e+09\n",
       "2       AAAU                 NaN      NaN           NaN\n",
       "3       AACG  Consumer Defensive      NGM  4.157730e+07\n",
       "4       AADR                 NaN      NaN           NaN\n",
       "...      ...                 ...      ...           ...\n",
       "8845   ZXIET                 NaN      NaN           NaN\n",
       "8846  ZXZZ T                 NaN      NaN           NaN\n",
       "8847    ZYME          Healthcare      NYQ  1.638522e+09\n",
       "8848    ZYNE          Healthcare      NMS  8.732710e+07\n",
       "8849    ZYXI                 NaN      NaN           NaN\n",
       "\n",
       "[8850 rows x 4 columns]"
      ]
     },
     "execution_count": 225,
     "metadata": {},
     "output_type": "execute_result"
    }
   ],
   "source": [
    "stockInfo"
   ]
  },
  {
   "cell_type": "code",
   "execution_count": 226,
   "metadata": {},
   "outputs": [
    {
     "data": {
      "text/html": [
       "<div>\n",
       "<style scoped>\n",
       "    .dataframe tbody tr th:only-of-type {\n",
       "        vertical-align: middle;\n",
       "    }\n",
       "\n",
       "    .dataframe tbody tr th {\n",
       "        vertical-align: top;\n",
       "    }\n",
       "\n",
       "    .dataframe thead th {\n",
       "        text-align: right;\n",
       "    }\n",
       "</style>\n",
       "<table border=\"1\" class=\"dataframe\">\n",
       "  <thead>\n",
       "    <tr style=\"text-align: right;\">\n",
       "      <th></th>\n",
       "      <th>ticker</th>\n",
       "      <th>sector</th>\n",
       "      <th>exchange</th>\n",
       "      <th>marketCap</th>\n",
       "    </tr>\n",
       "  </thead>\n",
       "  <tbody>\n",
       "    <tr>\n",
       "      <td>12</td>\n",
       "      <td>AAPL</td>\n",
       "      <td>Technology</td>\n",
       "      <td>NMS</td>\n",
       "      <td>1.578173e+12</td>\n",
       "    </tr>\n",
       "    <tr>\n",
       "      <td>20</td>\n",
       "      <td>ABBV</td>\n",
       "      <td>Healthcare</td>\n",
       "      <td>NYQ</td>\n",
       "      <td>1.742612e+11</td>\n",
       "    </tr>\n",
       "    <tr>\n",
       "      <td>34</td>\n",
       "      <td>ABT</td>\n",
       "      <td>Healthcare</td>\n",
       "      <td>NYQ</td>\n",
       "      <td>1.631410e+11</td>\n",
       "    </tr>\n",
       "    <tr>\n",
       "      <td>126</td>\n",
       "      <td>AEP</td>\n",
       "      <td>Utilities</td>\n",
       "      <td>NYQ</td>\n",
       "      <td>4.089551e+10</td>\n",
       "    </tr>\n",
       "    <tr>\n",
       "      <td>379</td>\n",
       "      <td>AMT</td>\n",
       "      <td>Real Estate</td>\n",
       "      <td>NYQ</td>\n",
       "      <td>1.171259e+11</td>\n",
       "    </tr>\n",
       "    <tr>\n",
       "      <td>...</td>\n",
       "      <td>...</td>\n",
       "      <td>...</td>\n",
       "      <td>...</td>\n",
       "      <td>...</td>\n",
       "    </tr>\n",
       "    <tr>\n",
       "      <td>7950</td>\n",
       "      <td>TSM</td>\n",
       "      <td>Technology</td>\n",
       "      <td>NYQ</td>\n",
       "      <td>2.837483e+11</td>\n",
       "    </tr>\n",
       "    <tr>\n",
       "      <td>8129</td>\n",
       "      <td>UNP</td>\n",
       "      <td>Industrials</td>\n",
       "      <td>NYQ</td>\n",
       "      <td>1.147323e+11</td>\n",
       "    </tr>\n",
       "    <tr>\n",
       "      <td>8137</td>\n",
       "      <td>UPS</td>\n",
       "      <td>Industrials</td>\n",
       "      <td>NYQ</td>\n",
       "      <td>9.859857e+10</td>\n",
       "    </tr>\n",
       "    <tr>\n",
       "      <td>8228</td>\n",
       "      <td>V</td>\n",
       "      <td>Financial Services</td>\n",
       "      <td>NYQ</td>\n",
       "      <td>4.298068e+11</td>\n",
       "    </tr>\n",
       "    <tr>\n",
       "      <td>8583</td>\n",
       "      <td>WMT</td>\n",
       "      <td>Consumer Defensive</td>\n",
       "      <td>NYQ</td>\n",
       "      <td>3.375968e+11</td>\n",
       "    </tr>\n",
       "  </tbody>\n",
       "</table>\n",
       "<p>66 rows × 4 columns</p>\n",
       "</div>"
      ],
      "text/plain": [
       "     ticker              sector exchange     marketCap\n",
       "12     AAPL          Technology      NMS  1.578173e+12\n",
       "20     ABBV          Healthcare      NYQ  1.742612e+11\n",
       "34      ABT          Healthcare      NYQ  1.631410e+11\n",
       "126     AEP           Utilities      NYQ  4.089551e+10\n",
       "379     AMT         Real Estate      NYQ  1.171259e+11\n",
       "...     ...                 ...      ...           ...\n",
       "7950    TSM          Technology      NYQ  2.837483e+11\n",
       "8129    UNP         Industrials      NYQ  1.147323e+11\n",
       "8137    UPS         Industrials      NYQ  9.859857e+10\n",
       "8228      V  Financial Services      NYQ  4.298068e+11\n",
       "8583    WMT  Consumer Defensive      NYQ  3.375968e+11\n",
       "\n",
       "[66 rows x 4 columns]"
      ]
     },
     "execution_count": 226,
     "metadata": {},
     "output_type": "execute_result"
    }
   ],
   "source": [
    "uniqueTickers = X.ticker.unique()\n",
    "stockTable = stockInfo[stockInfo.ticker.isin(uniqueTickers)]\n",
    "stockTable"
   ]
  },
  {
   "cell_type": "code",
   "execution_count": 227,
   "metadata": {},
   "outputs": [
    {
     "data": {
      "text/html": [
       "<div>\n",
       "<style scoped>\n",
       "    .dataframe tbody tr th:only-of-type {\n",
       "        vertical-align: middle;\n",
       "    }\n",
       "\n",
       "    .dataframe tbody tr th {\n",
       "        vertical-align: top;\n",
       "    }\n",
       "\n",
       "    .dataframe thead th {\n",
       "        text-align: right;\n",
       "    }\n",
       "</style>\n",
       "<table border=\"1\" class=\"dataframe\">\n",
       "  <thead>\n",
       "    <tr style=\"text-align: right;\">\n",
       "      <th></th>\n",
       "      <th>open_lag0</th>\n",
       "      <th>high_lag0</th>\n",
       "      <th>low_lag0</th>\n",
       "      <th>close_lag0</th>\n",
       "      <th>spread_open_lag0</th>\n",
       "      <th>spread_high_lag0</th>\n",
       "      <th>spread_low_lag0</th>\n",
       "      <th>spread_close_lag0</th>\n",
       "      <th>bidsize_open_lag0</th>\n",
       "      <th>bidsize_high_lag0</th>\n",
       "      <th>...</th>\n",
       "      <th>bidsize_open_lag1</th>\n",
       "      <th>bidsize_high_lag1</th>\n",
       "      <th>bidsize_low_lag1</th>\n",
       "      <th>bidsize_close_lag1</th>\n",
       "      <th>ofrsize_open_lag1</th>\n",
       "      <th>ofrsize_high_lag1</th>\n",
       "      <th>ofrsize_low_lag1</th>\n",
       "      <th>ofrsize_close_lag1</th>\n",
       "      <th>ticker</th>\n",
       "      <th>sector</th>\n",
       "    </tr>\n",
       "  </thead>\n",
       "  <tbody>\n",
       "    <tr>\n",
       "      <td>0</td>\n",
       "      <td>0.240</td>\n",
       "      <td>0.330</td>\n",
       "      <td>-0.655</td>\n",
       "      <td>289.020</td>\n",
       "      <td>0.24</td>\n",
       "      <td>0.45</td>\n",
       "      <td>0.01</td>\n",
       "      <td>0.10</td>\n",
       "      <td>9.0</td>\n",
       "      <td>20.0</td>\n",
       "      <td>...</td>\n",
       "      <td>6.0</td>\n",
       "      <td>95.0</td>\n",
       "      <td>1.0</td>\n",
       "      <td>10.0</td>\n",
       "      <td>1.0</td>\n",
       "      <td>85.0</td>\n",
       "      <td>1.0</td>\n",
       "      <td>4.0</td>\n",
       "      <td>AAPL</td>\n",
       "      <td>Technology</td>\n",
       "    </tr>\n",
       "    <tr>\n",
       "      <td>1</td>\n",
       "      <td>0.455</td>\n",
       "      <td>1.125</td>\n",
       "      <td>-0.300</td>\n",
       "      <td>288.580</td>\n",
       "      <td>0.07</td>\n",
       "      <td>0.49</td>\n",
       "      <td>0.01</td>\n",
       "      <td>0.30</td>\n",
       "      <td>1.0</td>\n",
       "      <td>50.0</td>\n",
       "      <td>...</td>\n",
       "      <td>9.0</td>\n",
       "      <td>20.0</td>\n",
       "      <td>1.0</td>\n",
       "      <td>1.0</td>\n",
       "      <td>4.0</td>\n",
       "      <td>56.0</td>\n",
       "      <td>1.0</td>\n",
       "      <td>1.0</td>\n",
       "      <td>AAPL</td>\n",
       "      <td>Technology</td>\n",
       "    </tr>\n",
       "    <tr>\n",
       "      <td>2</td>\n",
       "      <td>-0.610</td>\n",
       "      <td>0.220</td>\n",
       "      <td>-0.815</td>\n",
       "      <td>289.095</td>\n",
       "      <td>0.49</td>\n",
       "      <td>0.49</td>\n",
       "      <td>0.01</td>\n",
       "      <td>0.17</td>\n",
       "      <td>1.0</td>\n",
       "      <td>25.0</td>\n",
       "      <td>...</td>\n",
       "      <td>1.0</td>\n",
       "      <td>50.0</td>\n",
       "      <td>1.0</td>\n",
       "      <td>1.0</td>\n",
       "      <td>1.0</td>\n",
       "      <td>13.0</td>\n",
       "      <td>1.0</td>\n",
       "      <td>1.0</td>\n",
       "      <td>AAPL</td>\n",
       "      <td>Technology</td>\n",
       "    </tr>\n",
       "    <tr>\n",
       "      <td>3</td>\n",
       "      <td>-1.220</td>\n",
       "      <td>0.115</td>\n",
       "      <td>-1.380</td>\n",
       "      <td>290.320</td>\n",
       "      <td>0.16</td>\n",
       "      <td>0.33</td>\n",
       "      <td>0.01</td>\n",
       "      <td>0.10</td>\n",
       "      <td>13.0</td>\n",
       "      <td>71.0</td>\n",
       "      <td>...</td>\n",
       "      <td>1.0</td>\n",
       "      <td>25.0</td>\n",
       "      <td>1.0</td>\n",
       "      <td>16.0</td>\n",
       "      <td>1.0</td>\n",
       "      <td>8.0</td>\n",
       "      <td>1.0</td>\n",
       "      <td>1.0</td>\n",
       "      <td>AAPL</td>\n",
       "      <td>Technology</td>\n",
       "    </tr>\n",
       "    <tr>\n",
       "      <td>4</td>\n",
       "      <td>0.235</td>\n",
       "      <td>0.355</td>\n",
       "      <td>-0.565</td>\n",
       "      <td>290.085</td>\n",
       "      <td>0.10</td>\n",
       "      <td>0.42</td>\n",
       "      <td>0.01</td>\n",
       "      <td>0.05</td>\n",
       "      <td>2.0</td>\n",
       "      <td>86.0</td>\n",
       "      <td>...</td>\n",
       "      <td>13.0</td>\n",
       "      <td>71.0</td>\n",
       "      <td>1.0</td>\n",
       "      <td>1.0</td>\n",
       "      <td>1.0</td>\n",
       "      <td>236.0</td>\n",
       "      <td>1.0</td>\n",
       "      <td>1.0</td>\n",
       "      <td>AAPL</td>\n",
       "      <td>Technology</td>\n",
       "    </tr>\n",
       "    <tr>\n",
       "      <td>...</td>\n",
       "      <td>...</td>\n",
       "      <td>...</td>\n",
       "      <td>...</td>\n",
       "      <td>...</td>\n",
       "      <td>...</td>\n",
       "      <td>...</td>\n",
       "      <td>...</td>\n",
       "      <td>...</td>\n",
       "      <td>...</td>\n",
       "      <td>...</td>\n",
       "      <td>...</td>\n",
       "      <td>...</td>\n",
       "      <td>...</td>\n",
       "      <td>...</td>\n",
       "      <td>...</td>\n",
       "      <td>...</td>\n",
       "      <td>...</td>\n",
       "      <td>...</td>\n",
       "      <td>...</td>\n",
       "      <td>...</td>\n",
       "      <td>...</td>\n",
       "    </tr>\n",
       "    <tr>\n",
       "      <td>514663</td>\n",
       "      <td>-0.110</td>\n",
       "      <td>0.010</td>\n",
       "      <td>-0.175</td>\n",
       "      <td>123.950</td>\n",
       "      <td>0.02</td>\n",
       "      <td>0.07</td>\n",
       "      <td>0.01</td>\n",
       "      <td>0.02</td>\n",
       "      <td>3.0</td>\n",
       "      <td>6.0</td>\n",
       "      <td>...</td>\n",
       "      <td>1.0</td>\n",
       "      <td>9.0</td>\n",
       "      <td>1.0</td>\n",
       "      <td>1.0</td>\n",
       "      <td>2.0</td>\n",
       "      <td>8.0</td>\n",
       "      <td>1.0</td>\n",
       "      <td>7.0</td>\n",
       "      <td>WMT</td>\n",
       "      <td>Consumer Defensive</td>\n",
       "    </tr>\n",
       "    <tr>\n",
       "      <td>514664</td>\n",
       "      <td>-0.150</td>\n",
       "      <td>0.010</td>\n",
       "      <td>-0.190</td>\n",
       "      <td>124.100</td>\n",
       "      <td>0.02</td>\n",
       "      <td>0.07</td>\n",
       "      <td>0.01</td>\n",
       "      <td>0.04</td>\n",
       "      <td>1.0</td>\n",
       "      <td>11.0</td>\n",
       "      <td>...</td>\n",
       "      <td>3.0</td>\n",
       "      <td>6.0</td>\n",
       "      <td>1.0</td>\n",
       "      <td>1.0</td>\n",
       "      <td>7.0</td>\n",
       "      <td>8.0</td>\n",
       "      <td>1.0</td>\n",
       "      <td>4.0</td>\n",
       "      <td>WMT</td>\n",
       "      <td>Consumer Defensive</td>\n",
       "    </tr>\n",
       "    <tr>\n",
       "      <td>514665</td>\n",
       "      <td>0.090</td>\n",
       "      <td>0.090</td>\n",
       "      <td>-0.075</td>\n",
       "      <td>123.995</td>\n",
       "      <td>0.01</td>\n",
       "      <td>0.06</td>\n",
       "      <td>0.01</td>\n",
       "      <td>0.01</td>\n",
       "      <td>1.0</td>\n",
       "      <td>8.0</td>\n",
       "      <td>...</td>\n",
       "      <td>1.0</td>\n",
       "      <td>11.0</td>\n",
       "      <td>1.0</td>\n",
       "      <td>1.0</td>\n",
       "      <td>5.0</td>\n",
       "      <td>9.0</td>\n",
       "      <td>1.0</td>\n",
       "      <td>1.0</td>\n",
       "      <td>WMT</td>\n",
       "      <td>Consumer Defensive</td>\n",
       "    </tr>\n",
       "    <tr>\n",
       "      <td>514666</td>\n",
       "      <td>-0.340</td>\n",
       "      <td>0.020</td>\n",
       "      <td>-0.350</td>\n",
       "      <td>124.335</td>\n",
       "      <td>0.01</td>\n",
       "      <td>0.07</td>\n",
       "      <td>0.01</td>\n",
       "      <td>0.05</td>\n",
       "      <td>4.0</td>\n",
       "      <td>16.0</td>\n",
       "      <td>...</td>\n",
       "      <td>1.0</td>\n",
       "      <td>8.0</td>\n",
       "      <td>1.0</td>\n",
       "      <td>3.0</td>\n",
       "      <td>1.0</td>\n",
       "      <td>9.0</td>\n",
       "      <td>1.0</td>\n",
       "      <td>2.0</td>\n",
       "      <td>WMT</td>\n",
       "      <td>Consumer Defensive</td>\n",
       "    </tr>\n",
       "    <tr>\n",
       "      <td>514667</td>\n",
       "      <td>0.260</td>\n",
       "      <td>0.280</td>\n",
       "      <td>-0.015</td>\n",
       "      <td>124.075</td>\n",
       "      <td>0.05</td>\n",
       "      <td>0.12</td>\n",
       "      <td>0.01</td>\n",
       "      <td>0.01</td>\n",
       "      <td>3.0</td>\n",
       "      <td>6.0</td>\n",
       "      <td>...</td>\n",
       "      <td>4.0</td>\n",
       "      <td>16.0</td>\n",
       "      <td>1.0</td>\n",
       "      <td>2.0</td>\n",
       "      <td>2.0</td>\n",
       "      <td>10.0</td>\n",
       "      <td>1.0</td>\n",
       "      <td>2.0</td>\n",
       "      <td>WMT</td>\n",
       "      <td>Consumer Defensive</td>\n",
       "    </tr>\n",
       "  </tbody>\n",
       "</table>\n",
       "<p>514668 rows × 34 columns</p>\n",
       "</div>"
      ],
      "text/plain": [
       "        open_lag0  high_lag0  low_lag0  close_lag0  spread_open_lag0  \\\n",
       "0           0.240      0.330    -0.655     289.020              0.24   \n",
       "1           0.455      1.125    -0.300     288.580              0.07   \n",
       "2          -0.610      0.220    -0.815     289.095              0.49   \n",
       "3          -1.220      0.115    -1.380     290.320              0.16   \n",
       "4           0.235      0.355    -0.565     290.085              0.10   \n",
       "...           ...        ...       ...         ...               ...   \n",
       "514663     -0.110      0.010    -0.175     123.950              0.02   \n",
       "514664     -0.150      0.010    -0.190     124.100              0.02   \n",
       "514665      0.090      0.090    -0.075     123.995              0.01   \n",
       "514666     -0.340      0.020    -0.350     124.335              0.01   \n",
       "514667      0.260      0.280    -0.015     124.075              0.05   \n",
       "\n",
       "        spread_high_lag0  spread_low_lag0  spread_close_lag0  \\\n",
       "0                   0.45             0.01               0.10   \n",
       "1                   0.49             0.01               0.30   \n",
       "2                   0.49             0.01               0.17   \n",
       "3                   0.33             0.01               0.10   \n",
       "4                   0.42             0.01               0.05   \n",
       "...                  ...              ...                ...   \n",
       "514663              0.07             0.01               0.02   \n",
       "514664              0.07             0.01               0.04   \n",
       "514665              0.06             0.01               0.01   \n",
       "514666              0.07             0.01               0.05   \n",
       "514667              0.12             0.01               0.01   \n",
       "\n",
       "        bidsize_open_lag0  bidsize_high_lag0  ...  bidsize_open_lag1  \\\n",
       "0                     9.0               20.0  ...                6.0   \n",
       "1                     1.0               50.0  ...                9.0   \n",
       "2                     1.0               25.0  ...                1.0   \n",
       "3                    13.0               71.0  ...                1.0   \n",
       "4                     2.0               86.0  ...               13.0   \n",
       "...                   ...                ...  ...                ...   \n",
       "514663                3.0                6.0  ...                1.0   \n",
       "514664                1.0               11.0  ...                3.0   \n",
       "514665                1.0                8.0  ...                1.0   \n",
       "514666                4.0               16.0  ...                1.0   \n",
       "514667                3.0                6.0  ...                4.0   \n",
       "\n",
       "        bidsize_high_lag1  bidsize_low_lag1  bidsize_close_lag1  \\\n",
       "0                    95.0               1.0                10.0   \n",
       "1                    20.0               1.0                 1.0   \n",
       "2                    50.0               1.0                 1.0   \n",
       "3                    25.0               1.0                16.0   \n",
       "4                    71.0               1.0                 1.0   \n",
       "...                   ...               ...                 ...   \n",
       "514663                9.0               1.0                 1.0   \n",
       "514664                6.0               1.0                 1.0   \n",
       "514665               11.0               1.0                 1.0   \n",
       "514666                8.0               1.0                 3.0   \n",
       "514667               16.0               1.0                 2.0   \n",
       "\n",
       "        ofrsize_open_lag1  ofrsize_high_lag1  ofrsize_low_lag1  \\\n",
       "0                     1.0               85.0               1.0   \n",
       "1                     4.0               56.0               1.0   \n",
       "2                     1.0               13.0               1.0   \n",
       "3                     1.0                8.0               1.0   \n",
       "4                     1.0              236.0               1.0   \n",
       "...                   ...                ...               ...   \n",
       "514663                2.0                8.0               1.0   \n",
       "514664                7.0                8.0               1.0   \n",
       "514665                5.0                9.0               1.0   \n",
       "514666                1.0                9.0               1.0   \n",
       "514667                2.0               10.0               1.0   \n",
       "\n",
       "        ofrsize_close_lag1  ticker              sector  \n",
       "0                      4.0    AAPL          Technology  \n",
       "1                      1.0    AAPL          Technology  \n",
       "2                      1.0    AAPL          Technology  \n",
       "3                      1.0    AAPL          Technology  \n",
       "4                      1.0    AAPL          Technology  \n",
       "...                    ...     ...                 ...  \n",
       "514663                 7.0     WMT  Consumer Defensive  \n",
       "514664                 4.0     WMT  Consumer Defensive  \n",
       "514665                 1.0     WMT  Consumer Defensive  \n",
       "514666                 2.0     WMT  Consumer Defensive  \n",
       "514667                 2.0     WMT  Consumer Defensive  \n",
       "\n",
       "[514668 rows x 34 columns]"
      ]
     },
     "execution_count": 227,
     "metadata": {},
     "output_type": "execute_result"
    }
   ],
   "source": [
    "X = X.merge(stockTable[['ticker','sector']],on='ticker',how='left')\n",
    "X"
   ]
  },
  {
   "cell_type": "code",
   "execution_count": 228,
   "metadata": {},
   "outputs": [
    {
     "data": {
      "text/plain": [
       "array(['Technology', 'Healthcare', 'Utilities', 'Real Estate',\n",
       "       'Basic Materials', 'Industrials', 'Consumer Cyclical',\n",
       "       'Financial Services', 'Energy', 'Communication Services',\n",
       "       'Consumer Defensive'], dtype=object)"
      ]
     },
     "execution_count": 228,
     "metadata": {},
     "output_type": "execute_result"
    }
   ],
   "source": [
    "X.sector.unique()"
   ]
  },
  {
   "cell_type": "code",
   "execution_count": 229,
   "metadata": {},
   "outputs": [
    {
     "data": {
      "image/png": "[encoded data removed]",
      "text/plain": [
       "<Figure size 576x576 with 1 Axes>"
      ]
     },
     "metadata": {
      "needs_background": "light"
     },
     "output_type": "display_data"
    }
   ],
   "source": [
    "colors = ['tab:blue',\n",
    "          'tab:orange',\n",
    "          'tab:green',\n",
    "          'tab:red',\n",
    "          'tab:purple',\n",
    "          'tab:brown',\n",
    "          'tab:pink',\n",
    "          'tab:gray',\n",
    "          'tab:olive',\n",
    "          'tab:cyan',\n",
    "          'lime',\n",
    "          'magenta']\n",
    "\n",
    "fig,ax = plt.subplots(figsize=(8,8))\n",
    "y_offset = np.zeros(y[0].unique().shape[0])#0\n",
    "\n",
    "# Unique Sectors\n",
    "uniqueSectors = X.sector.unique() \n",
    "\n",
    "# Empty list to hold data\n",
    "data_ls = []\n",
    "\n",
    "for i,us in enumerate(uniqueSectors):\n",
    "    \n",
    "    t, c = np.unique(y[X.sector==us],return_counts = True)\n",
    "    \n",
    "    ax.bar(t,c,\n",
    "           color = colors[i-1],\n",
    "           bottom = y_offset,label=us)\n",
    "    \n",
    "    y_offset = y_offset + c\n",
    "\n",
    "plt.legend(loc='lower center',\n",
    "#            mode='expand',\n",
    "           ncol=3,\n",
    "           bbox_to_anchor = (0.5,-0.21),\n",
    "          )#(1,0,0,0)\n",
    "plt.title('Label distribution per sector',fontweight='bold',fontsize=16)\n",
    "plt.xticks(t)\n",
    "plt.show()"
   ]
  },
  {
   "cell_type": "code",
   "execution_count": 230,
   "metadata": {},
   "outputs": [
    {
     "name": "stdout",
     "output_type": "stream",
     "text": [
      "[0. 1.] \n",
      "\n",
      " Technology :  [21979 24809] \n",
      " [0.47 0.53]\n",
      "Healthcare :  [21590 25198] \n",
      " [0.461 0.539] \n",
      "\n",
      "Utilities :  [22573 24215] \n",
      " [0.482 0.518] \n",
      "\n",
      "Real Estate :  [22434 24354] \n",
      " [0.479 0.521] \n",
      "\n",
      "Basic Materials :  [21840 24948] \n",
      " [0.467 0.533] \n",
      "\n",
      "Industrials :  [22584 24204] \n",
      " [0.483 0.517] \n",
      "\n",
      "Consumer Cyclical :  [22193 24595] \n",
      " [0.474 0.526] \n",
      "\n",
      "Financial Services :  [18875 27913] \n",
      " [0.403 0.597] \n",
      "\n",
      "Energy :  [17458 29330] \n",
      " [0.373 0.627] \n",
      "\n",
      "Communication Services :  [19798 26990] \n",
      " [0.423 0.577] \n",
      "\n",
      "Consumer Defensive :  [22023 24765] \n",
      " [0.471 0.529] \n",
      "\n"
     ]
    }
   ],
   "source": [
    "uniqueSectors = X.sector.unique() \n",
    "for i,us in enumerate(uniqueSectors):\n",
    "#     print(y[X.sector==us])\n",
    "    t, c = np.unique(y[X.sector==us],return_counts = True)\n",
    "    \n",
    "    if i == 0:\n",
    "        print(t,'\\n\\n',us,': ',c,'\\n',(c/sum(c)).round(3))\n",
    "    else:\n",
    "        print(us,': ',c,'\\n',(c/sum(c)).round(3),'\\n')\n",
    "    "
   ]
  },
  {
   "cell_type": "markdown",
   "metadata": {},
   "source": [
    "## Investigating why the labels are uneven distributed"
   ]
  },
  {
   "cell_type": "code",
   "execution_count": 25,
   "metadata": {},
   "outputs": [
    {
     "data": {
      "text/html": [
       "<div>\n",
       "<style scoped>\n",
       "    .dataframe tbody tr th:only-of-type {\n",
       "        vertical-align: middle;\n",
       "    }\n",
       "\n",
       "    .dataframe tbody tr th {\n",
       "        vertical-align: top;\n",
       "    }\n",
       "\n",
       "    .dataframe thead th {\n",
       "        text-align: right;\n",
       "    }\n",
       "</style>\n",
       "<table border=\"1\" class=\"dataframe\">\n",
       "  <thead>\n",
       "    <tr style=\"text-align: right;\">\n",
       "      <th></th>\n",
       "      <th></th>\n",
       "      <th>open</th>\n",
       "      <th>high</th>\n",
       "      <th>low</th>\n",
       "      <th>close</th>\n",
       "      <th>spread_open</th>\n",
       "      <th>spread_high</th>\n",
       "      <th>spread_low</th>\n",
       "      <th>spread_close</th>\n",
       "      <th>bidsize_open</th>\n",
       "      <th>bidsize_high</th>\n",
       "      <th>bidsize_low</th>\n",
       "      <th>bidsize_close</th>\n",
       "      <th>ofrsize_open</th>\n",
       "      <th>ofrsize_high</th>\n",
       "      <th>ofrsize_low</th>\n",
       "      <th>ofrsize_close</th>\n",
       "      <th>Ticker</th>\n",
       "    </tr>\n",
       "  </thead>\n",
       "  <tbody>\n",
       "    <tr>\n",
       "      <td rowspan=\"5\" valign=\"top\">20200501</td>\n",
       "      <td>0</td>\n",
       "      <td>286.250</td>\n",
       "      <td>289.260</td>\n",
       "      <td>285.870</td>\n",
       "      <td>289.260</td>\n",
       "      <td>0.50</td>\n",
       "      <td>0.50</td>\n",
       "      <td>0.01</td>\n",
       "      <td>0.24</td>\n",
       "      <td>6.0</td>\n",
       "      <td>95.0</td>\n",
       "      <td>1.0</td>\n",
       "      <td>10.0</td>\n",
       "      <td>1.0</td>\n",
       "      <td>85.0</td>\n",
       "      <td>1.0</td>\n",
       "      <td>4.0</td>\n",
       "      <td>AAPL</td>\n",
       "    </tr>\n",
       "    <tr>\n",
       "      <td>1</td>\n",
       "      <td>289.260</td>\n",
       "      <td>289.350</td>\n",
       "      <td>288.365</td>\n",
       "      <td>289.020</td>\n",
       "      <td>0.24</td>\n",
       "      <td>0.45</td>\n",
       "      <td>0.01</td>\n",
       "      <td>0.10</td>\n",
       "      <td>9.0</td>\n",
       "      <td>20.0</td>\n",
       "      <td>1.0</td>\n",
       "      <td>1.0</td>\n",
       "      <td>4.0</td>\n",
       "      <td>56.0</td>\n",
       "      <td>1.0</td>\n",
       "      <td>1.0</td>\n",
       "      <td>AAPL</td>\n",
       "    </tr>\n",
       "    <tr>\n",
       "      <td>2</td>\n",
       "      <td>289.035</td>\n",
       "      <td>289.705</td>\n",
       "      <td>288.280</td>\n",
       "      <td>288.580</td>\n",
       "      <td>0.07</td>\n",
       "      <td>0.49</td>\n",
       "      <td>0.01</td>\n",
       "      <td>0.30</td>\n",
       "      <td>1.0</td>\n",
       "      <td>50.0</td>\n",
       "      <td>1.0</td>\n",
       "      <td>1.0</td>\n",
       "      <td>1.0</td>\n",
       "      <td>13.0</td>\n",
       "      <td>1.0</td>\n",
       "      <td>1.0</td>\n",
       "      <td>AAPL</td>\n",
       "    </tr>\n",
       "    <tr>\n",
       "      <td>3</td>\n",
       "      <td>288.485</td>\n",
       "      <td>289.315</td>\n",
       "      <td>288.280</td>\n",
       "      <td>289.095</td>\n",
       "      <td>0.49</td>\n",
       "      <td>0.49</td>\n",
       "      <td>0.01</td>\n",
       "      <td>0.17</td>\n",
       "      <td>1.0</td>\n",
       "      <td>25.0</td>\n",
       "      <td>1.0</td>\n",
       "      <td>16.0</td>\n",
       "      <td>1.0</td>\n",
       "      <td>8.0</td>\n",
       "      <td>1.0</td>\n",
       "      <td>1.0</td>\n",
       "      <td>AAPL</td>\n",
       "    </tr>\n",
       "    <tr>\n",
       "      <td>4</td>\n",
       "      <td>289.100</td>\n",
       "      <td>290.435</td>\n",
       "      <td>288.940</td>\n",
       "      <td>290.320</td>\n",
       "      <td>0.16</td>\n",
       "      <td>0.33</td>\n",
       "      <td>0.01</td>\n",
       "      <td>0.10</td>\n",
       "      <td>13.0</td>\n",
       "      <td>71.0</td>\n",
       "      <td>1.0</td>\n",
       "      <td>1.0</td>\n",
       "      <td>1.0</td>\n",
       "      <td>236.0</td>\n",
       "      <td>1.0</td>\n",
       "      <td>1.0</td>\n",
       "      <td>AAPL</td>\n",
       "    </tr>\n",
       "    <tr>\n",
       "      <td>...</td>\n",
       "      <td>...</td>\n",
       "      <td>...</td>\n",
       "      <td>...</td>\n",
       "      <td>...</td>\n",
       "      <td>...</td>\n",
       "      <td>...</td>\n",
       "      <td>...</td>\n",
       "      <td>...</td>\n",
       "      <td>...</td>\n",
       "      <td>...</td>\n",
       "      <td>...</td>\n",
       "      <td>...</td>\n",
       "      <td>...</td>\n",
       "      <td>...</td>\n",
       "      <td>...</td>\n",
       "      <td>...</td>\n",
       "      <td>...</td>\n",
       "      <td>...</td>\n",
       "    </tr>\n",
       "    <tr>\n",
       "      <td rowspan=\"5\" valign=\"top\">20200529</td>\n",
       "      <td>385</td>\n",
       "      <td>123.950</td>\n",
       "      <td>124.110</td>\n",
       "      <td>123.910</td>\n",
       "      <td>124.100</td>\n",
       "      <td>0.02</td>\n",
       "      <td>0.07</td>\n",
       "      <td>0.01</td>\n",
       "      <td>0.04</td>\n",
       "      <td>1.0</td>\n",
       "      <td>11.0</td>\n",
       "      <td>1.0</td>\n",
       "      <td>1.0</td>\n",
       "      <td>5.0</td>\n",
       "      <td>9.0</td>\n",
       "      <td>1.0</td>\n",
       "      <td>1.0</td>\n",
       "      <td>WMT</td>\n",
       "    </tr>\n",
       "    <tr>\n",
       "      <td>386</td>\n",
       "      <td>124.085</td>\n",
       "      <td>124.085</td>\n",
       "      <td>123.920</td>\n",
       "      <td>123.995</td>\n",
       "      <td>0.01</td>\n",
       "      <td>0.06</td>\n",
       "      <td>0.01</td>\n",
       "      <td>0.01</td>\n",
       "      <td>1.0</td>\n",
       "      <td>8.0</td>\n",
       "      <td>1.0</td>\n",
       "      <td>3.0</td>\n",
       "      <td>1.0</td>\n",
       "      <td>9.0</td>\n",
       "      <td>1.0</td>\n",
       "      <td>2.0</td>\n",
       "      <td>WMT</td>\n",
       "    </tr>\n",
       "    <tr>\n",
       "      <td>387</td>\n",
       "      <td>123.995</td>\n",
       "      <td>124.355</td>\n",
       "      <td>123.985</td>\n",
       "      <td>124.335</td>\n",
       "      <td>0.01</td>\n",
       "      <td>0.07</td>\n",
       "      <td>0.01</td>\n",
       "      <td>0.05</td>\n",
       "      <td>4.0</td>\n",
       "      <td>16.0</td>\n",
       "      <td>1.0</td>\n",
       "      <td>2.0</td>\n",
       "      <td>2.0</td>\n",
       "      <td>10.0</td>\n",
       "      <td>1.0</td>\n",
       "      <td>2.0</td>\n",
       "      <td>WMT</td>\n",
       "    </tr>\n",
       "    <tr>\n",
       "      <td>388</td>\n",
       "      <td>124.335</td>\n",
       "      <td>124.355</td>\n",
       "      <td>124.060</td>\n",
       "      <td>124.075</td>\n",
       "      <td>0.05</td>\n",
       "      <td>0.12</td>\n",
       "      <td>0.01</td>\n",
       "      <td>0.01</td>\n",
       "      <td>3.0</td>\n",
       "      <td>6.0</td>\n",
       "      <td>1.0</td>\n",
       "      <td>2.0</td>\n",
       "      <td>2.0</td>\n",
       "      <td>10.0</td>\n",
       "      <td>1.0</td>\n",
       "      <td>4.0</td>\n",
       "      <td>WMT</td>\n",
       "    </tr>\n",
       "    <tr>\n",
       "      <td>389</td>\n",
       "      <td>124.075</td>\n",
       "      <td>124.225</td>\n",
       "      <td>122.810</td>\n",
       "      <td>123.855</td>\n",
       "      <td>0.01</td>\n",
       "      <td>2.43</td>\n",
       "      <td>0.01</td>\n",
       "      <td>0.21</td>\n",
       "      <td>1.0</td>\n",
       "      <td>20.0</td>\n",
       "      <td>1.0</td>\n",
       "      <td>2.0</td>\n",
       "      <td>4.0</td>\n",
       "      <td>12.0</td>\n",
       "      <td>1.0</td>\n",
       "      <td>1.0</td>\n",
       "      <td>WMT</td>\n",
       "    </tr>\n",
       "  </tbody>\n",
       "</table>\n",
       "<p>514800 rows × 17 columns</p>\n",
       "</div>"
      ],
      "text/plain": [
       "                 open     high      low    close  spread_open  spread_high  \\\n",
       "20200501 0    286.250  289.260  285.870  289.260         0.50         0.50   \n",
       "         1    289.260  289.350  288.365  289.020         0.24         0.45   \n",
       "         2    289.035  289.705  288.280  288.580         0.07         0.49   \n",
       "         3    288.485  289.315  288.280  289.095         0.49         0.49   \n",
       "         4    289.100  290.435  288.940  290.320         0.16         0.33   \n",
       "...               ...      ...      ...      ...          ...          ...   \n",
       "20200529 385  123.950  124.110  123.910  124.100         0.02         0.07   \n",
       "         386  124.085  124.085  123.920  123.995         0.01         0.06   \n",
       "         387  123.995  124.355  123.985  124.335         0.01         0.07   \n",
       "         388  124.335  124.355  124.060  124.075         0.05         0.12   \n",
       "         389  124.075  124.225  122.810  123.855         0.01         2.43   \n",
       "\n",
       "              spread_low  spread_close  bidsize_open  bidsize_high  \\\n",
       "20200501 0          0.01          0.24           6.0          95.0   \n",
       "         1          0.01          0.10           9.0          20.0   \n",
       "         2          0.01          0.30           1.0          50.0   \n",
       "         3          0.01          0.17           1.0          25.0   \n",
       "         4          0.01          0.10          13.0          71.0   \n",
       "...                  ...           ...           ...           ...   \n",
       "20200529 385        0.01          0.04           1.0          11.0   \n",
       "         386        0.01          0.01           1.0           8.0   \n",
       "         387        0.01          0.05           4.0          16.0   \n",
       "         388        0.01          0.01           3.0           6.0   \n",
       "         389        0.01          0.21           1.0          20.0   \n",
       "\n",
       "              bidsize_low  bidsize_close  ofrsize_open  ofrsize_high  \\\n",
       "20200501 0            1.0           10.0           1.0          85.0   \n",
       "         1            1.0            1.0           4.0          56.0   \n",
       "         2            1.0            1.0           1.0          13.0   \n",
       "         3            1.0           16.0           1.0           8.0   \n",
       "         4            1.0            1.0           1.0         236.0   \n",
       "...                   ...            ...           ...           ...   \n",
       "20200529 385          1.0            1.0           5.0           9.0   \n",
       "         386          1.0            3.0           1.0           9.0   \n",
       "         387          1.0            2.0           2.0          10.0   \n",
       "         388          1.0            2.0           2.0          10.0   \n",
       "         389          1.0            2.0           4.0          12.0   \n",
       "\n",
       "              ofrsize_low  ofrsize_close Ticker  \n",
       "20200501 0            1.0            4.0   AAPL  \n",
       "         1            1.0            1.0   AAPL  \n",
       "         2            1.0            1.0   AAPL  \n",
       "         3            1.0            1.0   AAPL  \n",
       "         4            1.0            1.0   AAPL  \n",
       "...                   ...            ...    ...  \n",
       "20200529 385          1.0            1.0    WMT  \n",
       "         386          1.0            2.0    WMT  \n",
       "         387          1.0            2.0    WMT  \n",
       "         388          1.0            4.0    WMT  \n",
       "         389          1.0            1.0    WMT  \n",
       "\n",
       "[514800 rows x 17 columns]"
      ]
     },
     "execution_count": 25,
     "metadata": {},
     "output_type": "execute_result"
    }
   ],
   "source": [
    "data"
   ]
  },
  {
   "cell_type": "code",
   "execution_count": 26,
   "metadata": {},
   "outputs": [
    {
     "data": {
      "text/html": [
       "<div>\n",
       "<style scoped>\n",
       "    .dataframe tbody tr th:only-of-type {\n",
       "        vertical-align: middle;\n",
       "    }\n",
       "\n",
       "    .dataframe tbody tr th {\n",
       "        vertical-align: top;\n",
       "    }\n",
       "\n",
       "    .dataframe thead th {\n",
       "        text-align: right;\n",
       "    }\n",
       "</style>\n",
       "<table border=\"1\" class=\"dataframe\">\n",
       "  <thead>\n",
       "    <tr style=\"text-align: right;\">\n",
       "      <th></th>\n",
       "      <th></th>\n",
       "      <th>open</th>\n",
       "      <th>high</th>\n",
       "      <th>low</th>\n",
       "      <th>close</th>\n",
       "      <th>Ticker</th>\n",
       "    </tr>\n",
       "  </thead>\n",
       "  <tbody>\n",
       "    <tr>\n",
       "      <td rowspan=\"5\" valign=\"top\">20200501</td>\n",
       "      <td>0</td>\n",
       "      <td>286.250</td>\n",
       "      <td>289.260</td>\n",
       "      <td>285.870</td>\n",
       "      <td>289.260</td>\n",
       "      <td>AAPL</td>\n",
       "    </tr>\n",
       "    <tr>\n",
       "      <td>1</td>\n",
       "      <td>289.260</td>\n",
       "      <td>289.350</td>\n",
       "      <td>288.365</td>\n",
       "      <td>289.020</td>\n",
       "      <td>AAPL</td>\n",
       "    </tr>\n",
       "    <tr>\n",
       "      <td>2</td>\n",
       "      <td>289.035</td>\n",
       "      <td>289.705</td>\n",
       "      <td>288.280</td>\n",
       "      <td>288.580</td>\n",
       "      <td>AAPL</td>\n",
       "    </tr>\n",
       "    <tr>\n",
       "      <td>3</td>\n",
       "      <td>288.485</td>\n",
       "      <td>289.315</td>\n",
       "      <td>288.280</td>\n",
       "      <td>289.095</td>\n",
       "      <td>AAPL</td>\n",
       "    </tr>\n",
       "    <tr>\n",
       "      <td>4</td>\n",
       "      <td>289.100</td>\n",
       "      <td>290.435</td>\n",
       "      <td>288.940</td>\n",
       "      <td>290.320</td>\n",
       "      <td>AAPL</td>\n",
       "    </tr>\n",
       "    <tr>\n",
       "      <td>...</td>\n",
       "      <td>...</td>\n",
       "      <td>...</td>\n",
       "      <td>...</td>\n",
       "      <td>...</td>\n",
       "      <td>...</td>\n",
       "      <td>...</td>\n",
       "    </tr>\n",
       "    <tr>\n",
       "      <td rowspan=\"5\" valign=\"top\">20200529</td>\n",
       "      <td>385</td>\n",
       "      <td>319.255</td>\n",
       "      <td>319.415</td>\n",
       "      <td>318.830</td>\n",
       "      <td>319.095</td>\n",
       "      <td>AAPL</td>\n",
       "    </tr>\n",
       "    <tr>\n",
       "      <td>386</td>\n",
       "      <td>319.095</td>\n",
       "      <td>319.295</td>\n",
       "      <td>318.810</td>\n",
       "      <td>318.845</td>\n",
       "      <td>AAPL</td>\n",
       "    </tr>\n",
       "    <tr>\n",
       "      <td>387</td>\n",
       "      <td>318.845</td>\n",
       "      <td>319.605</td>\n",
       "      <td>318.695</td>\n",
       "      <td>319.460</td>\n",
       "      <td>AAPL</td>\n",
       "    </tr>\n",
       "    <tr>\n",
       "      <td>388</td>\n",
       "      <td>319.465</td>\n",
       "      <td>319.555</td>\n",
       "      <td>318.660</td>\n",
       "      <td>318.675</td>\n",
       "      <td>AAPL</td>\n",
       "    </tr>\n",
       "    <tr>\n",
       "      <td>389</td>\n",
       "      <td>318.675</td>\n",
       "      <td>319.380</td>\n",
       "      <td>317.500</td>\n",
       "      <td>317.920</td>\n",
       "      <td>AAPL</td>\n",
       "    </tr>\n",
       "  </tbody>\n",
       "</table>\n",
       "<p>7800 rows × 5 columns</p>\n",
       "</div>"
      ],
      "text/plain": [
       "                 open     high      low    close Ticker\n",
       "20200501 0    286.250  289.260  285.870  289.260   AAPL\n",
       "         1    289.260  289.350  288.365  289.020   AAPL\n",
       "         2    289.035  289.705  288.280  288.580   AAPL\n",
       "         3    288.485  289.315  288.280  289.095   AAPL\n",
       "         4    289.100  290.435  288.940  290.320   AAPL\n",
       "...               ...      ...      ...      ...    ...\n",
       "20200529 385  319.255  319.415  318.830  319.095   AAPL\n",
       "         386  319.095  319.295  318.810  318.845   AAPL\n",
       "         387  318.845  319.605  318.695  319.460   AAPL\n",
       "         388  319.465  319.555  318.660  318.675   AAPL\n",
       "         389  318.675  319.380  317.500  317.920   AAPL\n",
       "\n",
       "[7800 rows x 5 columns]"
      ]
     },
     "execution_count": 26,
     "metadata": {},
     "output_type": "execute_result"
    }
   ],
   "source": [
    "price_candles[price_candles.Ticker=='AAPL']"
   ]
  },
  {
   "cell_type": "code",
   "execution_count": 27,
   "metadata": {},
   "outputs": [
    {
     "data": {
      "text/plain": [
       "array([289.26 , 289.02 , 288.58 , ..., 319.46 , 318.675, 317.92 ])"
      ]
     },
     "execution_count": 27,
     "metadata": {},
     "output_type": "execute_result"
    }
   ],
   "source": [
    "price_candles[price_candles.Ticker=='AAPL']['close'].values"
   ]
  },
  {
   "cell_type": "code",
   "execution_count": 28,
   "metadata": {},
   "outputs": [
    {
     "data": {
      "text/plain": [
       "array([0., 0., 3., ..., 3., 0., 0.])"
      ]
     },
     "execution_count": 28,
     "metadata": {},
     "output_type": "execute_result"
    }
   ],
   "source": [
    "extract_labels_multi(price_candles[price_candles.Ticker=='AAPL']['close'].values,classes = 4)"
   ]
  },
  {
   "cell_type": "code",
   "execution_count": 29,
   "metadata": {},
   "outputs": [
    {
     "data": {
      "text/plain": [
       "(array([0., 1., 2., 3.]), array([1950, 1950, 1950, 1949], dtype=int64))"
      ]
     },
     "execution_count": 29,
     "metadata": {},
     "output_type": "execute_result"
    }
   ],
   "source": [
    "np.unique(extract_labels_multi(price_candles[price_candles.Ticker=='AAPL']['close'].values,classes = 4),return_counts=True)"
   ]
  },
  {
   "cell_type": "markdown",
   "metadata": {},
   "source": [
    "## Investigating across all tickers"
   ]
  },
  {
   "cell_type": "code",
   "execution_count": 30,
   "metadata": {},
   "outputs": [
    {
     "name": "stdout",
     "output_type": "stream",
     "text": [
      "AAPL :  [1950 1950 1950 1949]\n",
      "ABBV :  [1950 1746 2154 1949]\n",
      "ABT :  [1950 1761 2139 1949]\n",
      "AEP :  [1950 1890 2010 1949]\n",
      "AMT :  [1950 1858 2042 1949]\n",
      "APD :  [1950 1870 2030 1949]\n",
      "BA :  [1950 1872 2028 1949]\n",
      "BABA :  [1950 1899 2001 1949]\n",
      "BAC :  [1949 1100 2796 1954]\n",
      "BHP :  [1950 1308 2592 1949]\n",
      "BP :  [1947 1020 2882 1950]\n",
      "CCI :  [1950 1849 2051 1949]\n",
      "CHL :  [1949 1001 2898 1951]\n",
      "COST :  [1950 1860 2040 1949]\n",
      "CSGP :  [1950 1617 2283 1949]\n",
      "D :  [1950 1817 2083 1949]\n",
      "DIS :  [1950 1796 2104 1949]\n",
      "ECL :  [1950 1950 1950 1949]\n",
      "ENB :  [1950 1258 2638 1953]\n",
      "EXC :  [1950 1492 2408 1949]\n",
      "FB :  [1950 1950 1950 1949]\n",
      "FMX :  [1950 1615 2285 1949]\n",
      "GOOG :  [1950 1950 1950 1949]\n",
      "IDU :  [1950 1949 1951 1949]\n",
      "INTC :  [1949 1577 2324 1949]\n",
      "IYC :  [1950 1798 2102 1949]\n",
      "IYE :  [1946 1099 2805 1949]\n",
      "IYG :  [1950 1766 2134 1949]\n",
      "IYH :  [1950 1800 2100 1949]\n",
      "IYJ :  [1950 1708 2192 1949]\n",
      "IYK :  [1949 1736 2165 1949]\n",
      "IYM :  [1950 1712 2188 1949]\n",
      "IYR :  [1950 1663 2236 1950]\n",
      "IYW :  [1950 1950 1950 1949]\n",
      "IYZ :  [1943  751 3152 1953]\n",
      "JNJ :  [1950 1887 2013 1949]\n",
      "KO :  [1946 1336 2568 1949]\n",
      "LFC :  [ 759 7040]\n",
      "LIN :  [1950 1748 2152 1949]\n",
      "LMT :  [1950 1884 2016 1949]\n",
      "MA :  [1950 1850 2050 1949]\n",
      "MCD :  [1950 1870 2030 1949]\n",
      "MSFT :  [1949 1778 2123 1949]\n",
      "NKE :  [1950 1738 2162 1949]\n",
      "NVDA :  [1950 1950 1950 1949]\n",
      "NVS :  [1950 1593 2307 1949]\n",
      "PBR :  [1943  113 3790 1953]\n",
      "PEP :  [1950 1906 1994 1949]\n",
      "PFE :  [1940 1115 2790 1954]\n",
      "PLD :  [1950 1859 2041 1949]\n",
      "PSA :  [1950 1892 2008 1949]\n",
      "PTR :  [1950 1021 2879 1949]\n",
      "PYPL :  [1950 1809 2091 1949]\n",
      "RTX :  [1950 1792 2108 1949]\n",
      "SHW :  [1950 1765 2135 1949]\n",
      "SNP :  [1950 1261 2639 1949]\n",
      "SO :  [1949 1835 2065 1950]\n",
      "SRE :  [1950 1884 2016 1949]\n",
      "T :  [1947  971 2920 1961]\n",
      "TM :  [1950 1337 2563 1949]\n",
      "TSLA :  [1950 1950 1950 1949]\n",
      "TSM :  [1949 1497 2404 1949]\n",
      "UNP :  [1950 1864 2036 1949]\n",
      "UPS :  [1950 1766 2134 1949]\n",
      "V :  [1950 1845 2055 1949]\n",
      "WMT :  [1950 1875 2025 1949]\n"
     ]
    }
   ],
   "source": [
    "for ut in uniqueTickers:\n",
    "#     print(price_candles[price_candles.Ticker==us].shape)\n",
    "    t,c = np.unique(extract_labels_multi(price_candles[price_candles.Ticker==ut]['close'].values,\n",
    "                                         classes = 4),\n",
    "                    return_counts=True)\n",
    "    \n",
    "    print(ut,': ',c)"
   ]
  },
  {
   "cell_type": "code",
   "execution_count": 120,
   "metadata": {},
   "outputs": [
    {
     "data": {
      "text/plain": [
       "array([-0.98475044, -0.75034838, -0.71846282, ...,  1.35613928,\n",
       "        2.76560633,  2.79889807])"
      ]
     },
     "execution_count": 120,
     "metadata": {},
     "output_type": "execute_result"
    }
   ],
   "source": [
    "np.sort(returns)"
   ]
  },
  {
   "cell_type": "code",
   "execution_count": 121,
   "metadata": {},
   "outputs": [
    {
     "data": {
      "text/plain": [
       "[array([-0.98475044, -0.75034838, -0.71846282, ..., -0.0486766 ,\n",
       "        -0.04861449, -0.04859611]),\n",
       " array([-0.04859349, -0.04858562, -0.048583  , ...,  0.        ,\n",
       "         0.        ,  0.        ]),\n",
       " array([0.        , 0.        , 0.        , ..., 0.04930696, 0.04942339,\n",
       "        0.04943425]),\n",
       " array([0.04943968, 0.0494424 , 0.04944512, ..., 1.35613928, 2.76560633,\n",
       "        2.79889807])]"
      ]
     },
     "execution_count": 121,
     "metadata": {},
     "output_type": "execute_result"
    }
   ],
   "source": [
    "np.array_split(np.sort(returns), 4)"
   ]
  },
  {
   "cell_type": "code",
   "execution_count": 122,
   "metadata": {},
   "outputs": [
    {
     "data": {
      "text/plain": [
       "2268"
      ]
     },
     "execution_count": 122,
     "metadata": {},
     "output_type": "execute_result"
    }
   ],
   "source": [
    "classes"
   ]
  },
  {
   "cell_type": "code",
   "execution_count": 153,
   "metadata": {},
   "outputs": [
    {
     "name": "stdout",
     "output_type": "stream",
     "text": [
      "[-0.98475044 -0.75034838 -0.71846282 ... -0.0486766  -0.04861449\n",
      " -0.04859611] \n",
      "\n",
      " -0.9847504361037651 \n",
      " -0.04859611231100569\n"
     ]
    }
   ],
   "source": [
    "print(np.array_split(np.sort(returns), classes)[0],'\\n\\n',\n",
    "        np.array_split(np.sort(returns), classes)[0].min(),'\\n',\n",
    "        np.array_split(np.sort(returns), classes)[0].max())"
   ]
  },
  {
   "cell_type": "code",
   "execution_count": 163,
   "metadata": {},
   "outputs": [
    {
     "name": "stdout",
     "output_type": "stream",
     "text": [
      "[-0.9847504361037651, -0.048593488472548074, 0.0, 0.04943968358601669] \n",
      " [-0.04859611231100569, 0.0, 0.04943425244425814, 2.798898071625344]\n"
     ]
    }
   ],
   "source": [
    "subData = price_candles[price_candles.Ticker=='ABBV']['close'].values\n",
    "classes = 4\n",
    "\n",
    "returns = ((subData[1:] / subData[:-1]) -1) * 100\n",
    "\n",
    "labels = np.zeros(returns.shape[0])\n",
    "\n",
    "# print([np.array_split(np.sort(returns), classes)[i] for i in np.arange(classes)])\n",
    "\n",
    "thresholdsMin = [np.array_split(np.sort(returns), classes)[i].min() for i in np.arange(classes)]\n",
    "thresholdsMax = [np.array_split(np.sort(returns), classes)[i].max() for i in np.arange(classes)]\n",
    "\n",
    "print(thresholdsMin,'\\n',thresholdsMax)\n",
    "\n",
    "for i in np.arange(classes):\n",
    "    if i == 0:\n",
    "        labels[(returns <= thresholdsMax[i])] = i\n",
    "\n",
    "    elif i == (classes-1):\n",
    "        labels[(returns > thresholdsMin[i])] = i\n",
    "\n",
    "    else:\n",
    "        labels[(returns > thresholdsMin[i]) & (returns <= thresholdsMax[i])] = i\n"
   ]
  },
  {
   "cell_type": "code",
   "execution_count": 164,
   "metadata": {},
   "outputs": [
    {
     "data": {
      "text/plain": [
       "array([3., 0., 3., ..., 0., 3., 0.])"
      ]
     },
     "execution_count": 164,
     "metadata": {},
     "output_type": "execute_result"
    }
   ],
   "source": [
    "labels"
   ]
  },
  {
   "cell_type": "code",
   "execution_count": 165,
   "metadata": {},
   "outputs": [
    {
     "data": {
      "text/plain": [
       "(array([0., 1., 2., 3.]), array([1952, 2020, 1879, 1948], dtype=int64))"
      ]
     },
     "execution_count": 165,
     "metadata": {},
     "output_type": "execute_result"
    }
   ],
   "source": [
    "np.unique(labels,return_counts=True)"
   ]
  },
  {
   "cell_type": "code",
   "execution_count": 166,
   "metadata": {},
   "outputs": [
    {
     "data": {
      "text/plain": [
       "array([-0.58096869, -0.05518764, -0.27514522, ..., -0.08719821,\n",
       "       -0.07004688, -0.16155959])"
      ]
     },
     "execution_count": 166,
     "metadata": {},
     "output_type": "execute_result"
    }
   ],
   "source": [
    "returns[labels==0]"
   ]
  },
  {
   "cell_type": "code",
   "execution_count": 147,
   "metadata": {},
   "outputs": [
    {
     "data": {
      "text/plain": [
       "275"
      ]
     },
     "execution_count": 147,
     "metadata": {},
     "output_type": "execute_result"
    }
   ],
   "source": [
    "sum(returns==0)"
   ]
  },
  {
   "cell_type": "code",
   "execution_count": 168,
   "metadata": {},
   "outputs": [
    {
     "name": "stdout",
     "output_type": "stream",
     "text": [
      "[-0.58096869 -0.05518764 -0.27514522 ... -0.08719821 -0.07004688\n",
      " -0.16155959] \n",
      "\n",
      " (1950,)\n"
     ]
    }
   ],
   "source": [
    "print(returns[(returns< thresholdsMin[1])&(returns< thresholdsMax[1])],'\\n\\n',\n",
    "      returns[(returns< thresholdsMin[1])&(returns< thresholdsMax[1])].shape)"
   ]
  },
  {
   "cell_type": "code",
   "execution_count": 203,
   "metadata": {},
   "outputs": [
    {
     "name": "stdout",
     "output_type": "stream",
     "text": [
      "Min:  -0.048593488472548074 \n",
      " Max:  0.0 \n",
      "\n",
      " [-0.01224965 -0.03673769 -0.02440215 ... -0.0218627  -0.00545762\n",
      " -0.016254  ] \n",
      " [-0.04858562 -0.048583   -0.04855678 ... -0.00537981 -0.0053582\n",
      " -0.00535275] \n",
      "\n",
      " (1738,)\n"
     ]
    }
   ],
   "source": [
    "# which = 2\n",
    "# print('Min: ',thresholdsMin[which],'\\n',\n",
    "#       'Max: ',thresholdsMax[which],'\\n\\n',\n",
    "#       returns[(returns > thresholdsMin[which])&(returns<= thresholdsMax[which])],'\\n',\n",
    "#       np.sort(returns[(returns > thresholdsMin[which])&(returns<= thresholdsMax[which])]).round(6),'\\n\\n',\n",
    "# #       returns[(returns> )&(returns<= thresholdsMax[which])],'\\n\\n',\n",
    "#       returns[(returns> thresholdsMin[which])&(returns<= thresholdsMax[which])].shape)\n",
    "which = 1\n",
    "# tempSeries = returns[(returns > 0.0)&(returns<= thresholdsMax[which])]\n",
    "# tempSeries = returns[(returns > thresholdsMin[which])&(returns<= thresholdsMax[which])]\n",
    "tempSeries = returns[(returns > thresholdsMin[which])&(returns<= -0.0000001)]\n",
    "print('Min: ',thresholdsMin[which],'\\n',\n",
    "      'Max: ',thresholdsMax[which],'\\n\\n',\n",
    "      tempSeries,'\\n',\n",
    "      np.sort(tempSeries).round(10),'\\n\\n',\n",
    "#       returns[(returns> )&(returns<= thresholdsMax[which])],'\\n\\n',\n",
    "      tempSeries.shape)"
   ]
  },
  {
   "cell_type": "code",
   "execution_count": 190,
   "metadata": {},
   "outputs": [
    {
     "data": {
      "image/png": "[encoded data removed]",
      "text/plain": [
       "<Figure size 720x720 with 1 Axes>"
      ]
     },
     "metadata": {
      "needs_background": "light"
     },
     "output_type": "display_data"
    }
   ],
   "source": [
    "plt.figure(figsize=(10,10))\n",
    "plt.plot(np.sort(returns[(returns > thresholdsMin[which])&(returns<= thresholdsMax[which])]))\n",
    "plt.show()"
   ]
  },
  {
   "cell_type": "code",
   "execution_count": 207,
   "metadata": {},
   "outputs": [],
   "source": [
    "class0 = np.array_split(np.sort(returns),4)[0]\n",
    "class1 = np.array_split(np.sort(returns),4)[1]\n",
    "class2 = np.array_split(np.sort(returns),4)[2]\n",
    "class3 = np.array_split(np.sort(returns),4)[3]\n",
    "\n",
    "# [np.array_split(np.sort(returns),4)[i].shape for i in np.arange(4)]"
   ]
  },
  {
   "cell_type": "code",
   "execution_count": 215,
   "metadata": {},
   "outputs": [
    {
     "data": {
      "text/plain": [
       "array([ True, False,  True, ..., False,  True, False])"
      ]
     },
     "execution_count": 215,
     "metadata": {},
     "output_type": "execute_result"
    }
   ],
   "source": [
    "np.isin(returns,class3)"
   ]
  },
  {
   "cell_type": "code",
   "execution_count": 223,
   "metadata": {},
   "outputs": [
    {
     "data": {
      "text/plain": [
       "6.402904043842307e-07"
      ]
     },
     "execution_count": 223,
     "metadata": {},
     "output_type": "execute_result"
    }
   ],
   "source": [
    "np.random.normal(0,1)/1000000"
   ]
  },
  {
   "cell_type": "code",
   "execution_count": 246,
   "metadata": {},
   "outputs": [
    {
     "name": "stdout",
     "output_type": "stream",
     "text": [
      "(1950,)\n",
      "(1950,)\n",
      "(1950,)\n",
      "(1949,)\n"
     ]
    }
   ],
   "source": [
    "subData = price_candles[price_candles.Ticker=='ABBV']['close'].values\n",
    "classes = 4\n",
    "\n",
    "returns = ((subData[1:] / subData[:-1]) -1) * 100\n",
    "returns[returns==0] = np.random.normal(0,1,sum(returns==0))/1000000\n",
    "labels_1 = np.zeros(returns.shape[0])\n",
    "\n",
    "# print([np.array_split(np.sort(returns), classes)[i] for i in np.arange(classes)])\n",
    "\n",
    "# thresholdsMin = [np.array_split(np.sort(returns), classes)[i].min() for i in np.arange(classes)]\n",
    "# thresholdsMax = [np.array_split(np.sort(returns), classes)[i].max() for i in np.arange(classes)]\n",
    "\n",
    "splits = np.array_split(np.sort(returns),4)\n",
    "\n",
    "# print(thresholdsMin,'\\n',thresholdsMax)\n",
    "\n",
    "for i in np.arange(classes):\n",
    "    print(splits[i].shape)\n",
    "    #     if i == 0:\n",
    "#         labels[(returns <= thresholdsMax[i])] = i\n",
    "\n",
    "#     elif i == (classes-1):\n",
    "#         labels[(returns > thresholdsMin[i])] = i\n",
    "\n",
    "#     else:\n",
    "#         labels[(returns > thresholdsMin[i]) & (returns <= thresholdsMax[i])] = i\n",
    "    labels_1[np.isin(returns,splits[i])] = i\n"
   ]
  },
  {
   "cell_type": "code",
   "execution_count": 247,
   "metadata": {},
   "outputs": [
    {
     "data": {
      "text/plain": [
       "(array([0., 1., 2., 3.]), array([1950, 1950, 1950, 1949], dtype=int64))"
      ]
     },
     "execution_count": 247,
     "metadata": {},
     "output_type": "execute_result"
    }
   ],
   "source": [
    "np.unique(labels_1,return_counts=True)"
   ]
  },
  {
   "cell_type": "code",
   "execution_count": 226,
   "metadata": {},
   "outputs": [
    {
     "data": {
      "text/plain": [
       "array([], dtype=float64)"
      ]
     },
     "execution_count": 226,
     "metadata": {},
     "output_type": "execute_result"
    }
   ],
   "source": [
    "returns[returns==0]"
   ]
  },
  {
   "cell_type": "code",
   "execution_count": 241,
   "metadata": {},
   "outputs": [
    {
     "data": {
      "text/plain": [
       "array([-9.40904681e-07,  9.15898926e-06,  7.65129312e-06,  1.53871636e-05,\n",
       "        7.81663533e-06,  1.11229918e-06,  1.61803359e-05,  2.58548514e-06,\n",
       "       -2.70466233e-06, -3.61493823e-06, -3.19051319e-06,  3.89439626e-06,\n",
       "       -1.24871888e-05,  3.80702077e-06, -3.17358242e-06,  5.31251041e-06,\n",
       "        7.88258454e-06, -1.56041682e-05,  2.44436889e-05,  3.37275605e-06,\n",
       "       -1.39533175e-05, -8.68422835e-07,  6.51059414e-06, -7.94187134e-07,\n",
       "       -1.41864340e-05,  1.55609623e-05, -3.59696774e-06,  8.96766295e-07,\n",
       "        6.05238666e-07, -4.34936858e-06, -2.81680595e-06, -1.28537763e-05,\n",
       "       -4.19550002e-06,  2.63312392e-05, -5.19619830e-06,  1.64064893e-05,\n",
       "        3.87038719e-06,  1.08567236e-05, -4.44385421e-06,  2.28757065e-05,\n",
       "        5.33042728e-06,  1.81093151e-06, -3.01174787e-06,  8.19713187e-06,\n",
       "        7.58688571e-06, -6.15794845e-06, -6.69504743e-06,  2.85066480e-05,\n",
       "        9.29231502e-07,  1.18933686e-05, -5.82187038e-06,  4.39108645e-06,\n",
       "        1.75051352e-05,  1.08746583e-05, -1.75403333e-05,  3.65623581e-06,\n",
       "       -9.70571504e-06, -1.52841447e-05, -1.94948028e-06,  5.10643788e-06,\n",
       "        1.06865822e-06,  8.16575369e-06,  2.26064647e-08, -6.03294772e-06,\n",
       "       -1.87719319e-05,  1.36299498e-05,  1.51447867e-05,  1.12395214e-05,\n",
       "       -5.04657627e-08, -4.89241046e-06,  1.35391230e-06,  9.50619306e-06,\n",
       "       -1.07896659e-06, -1.05786700e-05, -1.66702872e-06,  2.54656466e-06,\n",
       "       -6.81942036e-06,  1.62059247e-05,  1.02214493e-05,  5.26719008e-07,\n",
       "        1.93656084e-07,  6.97295071e-07, -4.74316129e-06, -1.14356949e-05,\n",
       "        3.82308241e-06,  1.68857169e-05,  8.45899903e-06, -1.02011106e-06,\n",
       "        4.30003509e-06,  1.29424358e-05, -1.68676345e-05,  9.17468065e-06,\n",
       "        6.77664922e-06, -9.33487875e-06,  1.24833730e-05,  3.27895192e-06,\n",
       "       -1.48953814e-05,  3.07002048e-06, -8.87197446e-06, -5.91059814e-06,\n",
       "       -2.52420781e-06, -3.41773649e-06,  9.54964110e-06,  7.86635969e-06,\n",
       "        4.62890094e-06, -1.60628205e-05,  1.30601436e-05, -6.03789742e-06,\n",
       "        1.16276713e-05, -5.59595302e-06,  6.42324523e-06, -1.25581230e-05,\n",
       "        2.88273843e-05,  1.59434742e-05, -9.72180819e-06,  1.35017327e-05,\n",
       "       -7.10295652e-06,  7.58852187e-06, -2.34881226e-05,  8.74088184e-06,\n",
       "       -1.71678290e-05, -9.46749398e-06,  9.25746657e-06, -1.88004866e-05,\n",
       "        1.96480121e-05,  1.54346526e-05, -8.10065870e-06, -3.08047290e-07,\n",
       "       -8.42811964e-06, -1.68707457e-05,  5.30028569e-06, -2.39068103e-05,\n",
       "        5.27096991e-06,  3.18389555e-06,  9.14506320e-06, -1.04844691e-06,\n",
       "        9.69169164e-06, -1.77018842e-06,  3.55168972e-06, -7.89467410e-06,\n",
       "        8.49032970e-06,  1.55040038e-05, -3.87976853e-07, -5.75576485e-06,\n",
       "       -1.26562601e-05, -2.49221032e-06, -1.61138189e-05,  1.25266802e-05,\n",
       "       -3.25834393e-06, -1.20204445e-05,  3.64480150e-06, -3.41843654e-06,\n",
       "        1.78042298e-05, -4.47859998e-06,  8.54694964e-06,  4.47381102e-06,\n",
       "        1.91763894e-05, -1.37707012e-05, -8.46854599e-06, -1.32747896e-05,\n",
       "       -5.73289129e-06, -6.52785791e-06,  6.63414255e-06, -2.47753982e-05,\n",
       "       -4.09496191e-06, -2.81569738e-06,  1.34579563e-06,  5.15954408e-06,\n",
       "        1.39478844e-07, -5.56620218e-06, -4.66398279e-07, -1.62297781e-05,\n",
       "        3.93578233e-06,  7.77706378e-06,  1.96329195e-05,  1.74721613e-07,\n",
       "       -1.00552726e-05,  2.54961588e-06, -2.62251009e-06, -9.14951288e-06,\n",
       "       -1.26880943e-05,  5.29854321e-06, -5.03338343e-07,  4.86013210e-06,\n",
       "       -1.88013635e-06,  4.15437504e-06,  8.64963345e-06,  6.04448080e-06,\n",
       "        1.19943201e-05,  5.75276792e-06,  1.12770146e-05, -4.15084880e-06,\n",
       "       -9.84079976e-06,  3.17279205e-06,  1.14676148e-05, -4.29748885e-06,\n",
       "       -7.45925019e-06,  4.93949260e-06, -4.02842902e-06, -6.64061428e-06,\n",
       "        1.81256186e-05,  4.78543275e-08,  2.53447521e-07,  1.30643736e-05,\n",
       "       -2.16096998e-06, -1.16257298e-05,  1.44726461e-05, -5.58708239e-06,\n",
       "        7.79332333e-06,  3.79229697e-09,  5.43734884e-06, -1.42696173e-05,\n",
       "       -1.15977718e-05, -2.59031444e-06,  2.96952632e-06,  6.02874455e-06,\n",
       "       -7.18288442e-06,  1.15076608e-06, -7.20551248e-06,  2.65802604e-06,\n",
       "       -6.07451926e-06,  5.20206906e-06,  3.01057599e-06, -9.28644910e-06,\n",
       "       -3.85243736e-06,  5.38204771e-06, -2.44395611e-05,  9.60888787e-07,\n",
       "       -5.05115660e-06,  8.19816279e-06,  9.61536358e-06, -8.64572380e-06,\n",
       "       -1.93373575e-05, -1.63770069e-05,  8.30688340e-06,  5.88347848e-06,\n",
       "       -4.79792786e-06, -2.65552554e-05,  1.02735889e-05,  4.88730387e-06,\n",
       "        8.03091699e-06,  1.28345316e-05, -4.01652948e-06, -7.39580462e-06,\n",
       "        5.63867947e-06, -2.95200219e-05,  1.14226015e-05,  1.05095834e-05,\n",
       "        2.34663006e-06, -1.68948929e-07,  6.61079332e-06, -9.27195113e-06,\n",
       "       -1.15427587e-05,  1.41869957e-05,  2.99595145e-06,  7.38526445e-06,\n",
       "       -4.26811672e-06, -3.00653208e-06, -7.67867601e-06,  4.08212180e-06,\n",
       "       -1.29527340e-05,  1.83971977e-06, -6.19669916e-06, -3.23240054e-06,\n",
       "       -7.38163697e-06, -6.29843922e-06,  3.23069756e-06, -4.27281056e-06,\n",
       "       -1.04636302e-05, -1.79149565e-05,  2.41894820e-06,  2.47011151e-05,\n",
       "       -1.79969509e-06, -2.95257571e-05, -8.72366550e-07])"
      ]
     },
     "execution_count": 241,
     "metadata": {},
     "output_type": "execute_result"
    }
   ],
   "source": [
    "np.random.normal(0,1,sum(returns==0))/100000"
   ]
  },
  {
   "cell_type": "code",
   "execution_count": 237,
   "metadata": {},
   "outputs": [],
   "source": [
    "returns[returns==0] = np.random.normal(0,1,sum(returns==0))/1000"
   ]
  },
  {
   "cell_type": "code",
   "execution_count": null,
   "metadata": {},
   "outputs": [],
   "source": [
    "def extract_labels_multi(data = None,\n",
    "                        classes = 5,\n",
    "                        group_style = 'equal',\n",
    "                        splits=None):\n",
    "\n",
    "   # returns = ((data.T[-1][1:]/data.T[-1][0:-1])-1)*100\n",
    "    returns = ((data[1:] / data[:-1]) -1) * 100\n",
    "    # If returns are exact zero, perhaps because there hasn't been any price updates over a candle, we add a little bit of noise, to ensure that the labels are evenly distributed.\n",
    "    returns[returns==0] = np.random.normal(0,1,sum(returns==0))/1000000\n",
    "\n",
    "    labels = np.zeros(returns.shape[0])\n",
    "\n",
    "    if group_style == 'equal':\n",
    "        if splits is None:\n",
    "            splits = np.array_split(np.sort(returns),classes)\n",
    "\n",
    "        for i in np.arange(classes):\n",
    "\n",
    "            labels[np.isin(returns,splits[i])] = i\n",
    "\n",
    "    elif group_style != 'equal':\n",
    "        raise ValueError(f'group_style {group_style} not implemented')\n",
    "\n",
    "    return labels #, returns, [thresholdsMin, thresholdsMax]"
   ]
  },
  {
   "cell_type": "code",
   "execution_count": 61,
   "metadata": {},
   "outputs": [
    {
     "data": {
      "text/plain": [
       "array([289.26 , 289.02 , 288.58 , ..., 124.335, 124.075, 123.855])"
      ]
     },
     "execution_count": 61,
     "metadata": {},
     "output_type": "execute_result"
    }
   ],
   "source": [
    "data"
   ]
  },
  {
   "cell_type": "code",
   "execution_count": 62,
   "metadata": {},
   "outputs": [],
   "source": [
    "returns = np.concatenate([((price_candles[price_candles.Ticker==ticker]['close'].values[1:]/\\\n",
    "                         price_candles[price_candles.Ticker==ticker]['close'].values[:-1])-1) for ticker\\\n",
    "                          in price_candles.Ticker.unique()])"
   ]
  },
  {
   "cell_type": "code",
   "execution_count": 63,
   "metadata": {},
   "outputs": [
    {
     "data": {
      "text/plain": [
       "(514734,)"
      ]
     },
     "execution_count": 63,
     "metadata": {},
     "output_type": "execute_result"
    }
   ],
   "source": [
    "returns.shape"
   ]
  },
  {
   "cell_type": "code",
   "execution_count": 24,
   "metadata": {},
   "outputs": [],
   "source": [
    "data = price_candles['close'].values#[price_candles.Ticker=='ABBV']"
   ]
  },
  {
   "cell_type": "code",
   "execution_count": 25,
   "metadata": {},
   "outputs": [
    {
     "data": {
      "text/plain": [
       "(514800,)"
      ]
     },
     "execution_count": 25,
     "metadata": {},
     "output_type": "execute_result"
    }
   ],
   "source": [
    "data.shape"
   ]
  },
  {
   "cell_type": "code",
   "execution_count": 69,
   "metadata": {},
   "outputs": [],
   "source": [
    "# returns = ((data.T[-1][1:]/data.T[-1][0:-1])-1)*100\n",
    "# returns = ((data[1:] / data[:-1]) -1) * 100\n",
    "# returns = ((data[1:] / data[:-1]) -1) * 100\n",
    "# If returns are exact zero, perhaps because there hasn't been any price updates over a candle, we add a little bit of noise, to ensure that the labels are evenly distributed.\n",
    "returns[returns==0] = np.random.normal(0,1,sum(returns==0))/1000000\n",
    "classes = 2\n",
    "labels = np.zeros(returns.shape[0])\n",
    "\n",
    "# if group_style == 'equal':\n",
    "#     if splits is None:\n",
    "splits = np.array_split(np.sort(returns),classes)\n",
    "\n",
    "for i in np.arange(classes):\n",
    "\n",
    "    labels[np.isin(returns,splits[i])] = i\n",
    "\n",
    "# elif group_style != 'equal':\n",
    "#     raise ValueError(f'group_style {group_style} not implemented')\n",
    "\n",
    "#     return labels #, returns, [thresholdsMin, thresholdsMax]"
   ]
  },
  {
   "cell_type": "code",
   "execution_count": 65,
   "metadata": {},
   "outputs": [
    {
     "data": {
      "text/plain": [
       "(514734,)"
      ]
     },
     "execution_count": 65,
     "metadata": {},
     "output_type": "execute_result"
    }
   ],
   "source": [
    "labels.shape"
   ]
  },
  {
   "cell_type": "code",
   "execution_count": 66,
   "metadata": {},
   "outputs": [
    {
     "data": {
      "text/plain": [
       "(257367,)"
      ]
     },
     "execution_count": 66,
     "metadata": {},
     "output_type": "execute_result"
    }
   ],
   "source": [
    "splits[0].shape"
   ]
  },
  {
   "cell_type": "code",
   "execution_count": 67,
   "metadata": {},
   "outputs": [
    {
     "data": {
      "text/plain": [
       "(257367,)"
      ]
     },
     "execution_count": 67,
     "metadata": {},
     "output_type": "execute_result"
    }
   ],
   "source": [
    "splits[1].shape"
   ]
  },
  {
   "cell_type": "code",
   "execution_count": 70,
   "metadata": {},
   "outputs": [
    {
     "data": {
      "text/plain": [
       "(array([0., 1.]), array([257367, 257367], dtype=int64))"
      ]
     },
     "execution_count": 70,
     "metadata": {},
     "output_type": "execute_result"
    }
   ],
   "source": [
    "np.unique(labels,return_counts=True)"
   ]
  },
  {
   "cell_type": "code",
   "execution_count": 71,
   "metadata": {},
   "outputs": [
    {
     "data": {
      "image/png": "[encoded data removed]",
      "text/plain": [
       "<Figure size 432x288 with 1 Axes>"
      ]
     },
     "metadata": {
      "needs_background": "light"
     },
     "output_type": "display_data"
    }
   ],
   "source": [
    "plt.hist(splits[0],bins=100)\n",
    "plt.show()"
   ]
  },
  {
   "cell_type": "code",
   "execution_count": 72,
   "metadata": {},
   "outputs": [
    {
     "data": {
      "text/plain": [
       "(-0.053926348158703896,\n",
       " 1.9029269130544944e-08,\n",
       " 1.899349586016317e-08,\n",
       " 0.0907158043940468)"
      ]
     },
     "execution_count": 72,
     "metadata": {},
     "output_type": "execute_result"
    }
   ],
   "source": [
    "splits[0].min(),splits[1].min(),splits[0].max(),splits[1].max()"
   ]
  },
  {
   "cell_type": "code",
   "execution_count": 73,
   "metadata": {},
   "outputs": [
    {
     "data": {
      "text/plain": [
       "(-0.053926348158703896, 0.0907158043940468)"
      ]
     },
     "execution_count": 73,
     "metadata": {},
     "output_type": "execute_result"
    }
   ],
   "source": [
    "returns.min(),returns.max()"
   ]
  },
  {
   "cell_type": "code",
   "execution_count": 34,
   "metadata": {},
   "outputs": [],
   "source": [
    "def extract_labels_multi(data = None,\n",
    "                        classes = 5,\n",
    "                        group_style = 'equal',\n",
    "                        splits=None):\n",
    "\n",
    "   # returns = ((data.T[-1][1:]/data.T[-1][0:-1])-1)*100\n",
    "    returns = ((data[1:] / data[:-1]) -1) * 100\n",
    "    # If returns are exact zero, perhaps because there hasn't been any price updates over a candle, we add a little bit of noise, to ensure that the labels are evenly distributed.\n",
    "    returns[returns==0] = np.random.normal(0,1,sum(returns==0))/1000000\n",
    "\n",
    "    labels = np.zeros(returns.shape[0])\n",
    "\n",
    "    if group_style == 'equal':\n",
    "        if splits is None:\n",
    "            splits = np.array_split(np.sort(returns),classes)\n",
    "\n",
    "        for i in np.arange(classes):\n",
    "\n",
    "            labels[np.isin(returns,splits[i])] = i\n",
    "\n",
    "    elif group_style != 'equal':\n",
    "        raise ValueError(f'group_style {group_style} not implemented')\n",
    "\n",
    "    return labels #, returns, [thresholdsMin, thresholdsMax]"
   ]
  },
  {
   "cell_type": "code",
   "execution_count": 35,
   "metadata": {},
   "outputs": [
    {
     "data": {
      "text/plain": [
       "Index(['open_lag0', 'high_lag0', 'low_lag0', 'close_lag0', 'spread_open_lag0',\n",
       "       'spread_high_lag0', 'spread_low_lag0', 'spread_close_lag0',\n",
       "       'bidsize_open_lag0', 'bidsize_high_lag0', 'bidsize_low_lag0',\n",
       "       'bidsize_close_lag0', 'ofrsize_open_lag0', 'ofrsize_high_lag0',\n",
       "       'ofrsize_low_lag0', 'ofrsize_close_lag0', 'open_lag1', 'high_lag1',\n",
       "       'low_lag1', 'close_lag1', 'spread_open_lag1', 'spread_high_lag1',\n",
       "       'spread_low_lag1', 'spread_close_lag1', 'bidsize_open_lag1',\n",
       "       'bidsize_high_lag1', 'bidsize_low_lag1', 'bidsize_close_lag1',\n",
       "       'ofrsize_open_lag1', 'ofrsize_high_lag1', 'ofrsize_low_lag1',\n",
       "       'ofrsize_close_lag1', 'ticker', 'sector'],\n",
       "      dtype='object')"
      ]
     },
     "execution_count": 35,
     "metadata": {},
     "output_type": "execute_result"
    }
   ],
   "source": [
    "X.columns"
   ]
  },
  {
   "cell_type": "code",
   "execution_count": 40,
   "metadata": {},
   "outputs": [
    {
     "name": "stdout",
     "output_type": "stream",
     "text": [
      "[0. 1.] [3880 3919]\n",
      "[0. 1.] [3988 3811]\n",
      "[0. 1.] [4040 3759]\n",
      "[0. 1.] [4108 3691]\n",
      "[0. 1.] [3948 3851]\n",
      "[0. 1.] [4037 3762]\n",
      "[0. 1.] [3934 3865]\n",
      "[0. 1.] [4005 3794]\n",
      "[0. 1.] [4755 3044]\n",
      "[0. 1.] [4513 3286]\n",
      "[0. 1.] [4968 2831]\n",
      "[0. 1.] [3951 3848]\n",
      "[0. 1.] [4974 2825]\n",
      "[0. 1.] [3955 3844]\n",
      "[0. 1.] [4173 3626]\n",
      "[0. 1.] [4075 3724]\n",
      "[0. 1.] [3942 3857]\n",
      "[0. 1.] [3874 3925]\n",
      "[0. 1.] [4573 3226]\n",
      "[0. 1.] [4394 3405]\n",
      "[0. 1.] [3862 3937]\n",
      "[0. 1.] [4324 3475]\n",
      "[0. 1.] [3816 3983]\n",
      "[0. 1.] [4100 3699]\n",
      "[0. 1.] [4256 3543]\n",
      "[0. 1.] [3952 3847]\n",
      "[0. 1.] [4828 2971]\n",
      "[0. 1.] [3974 3825]\n",
      "[0. 1.] [3968 3831]\n",
      "[0. 1.] [3964 3835]\n",
      "[0. 1.] [4121 3678]\n",
      "[0. 1.] [4039 3760]\n",
      "[0. 1.] [4188 3611]\n",
      "[0. 1.] [3831 3968]\n",
      "[0. 1.] [5160 2639]\n",
      "[0. 1.] [4085 3714]\n",
      "[0. 1.] [4569 3230]\n",
      "[0. 1.] [7070  729]\n",
      "[0. 1.] [3965 3834]\n",
      "[0. 1.] [3958 3841]\n",
      "[0. 1.] [3919 3880]\n",
      "[0. 1.] [4000 3799]\n",
      "[0. 1.] [3928 3871]\n",
      "[0. 1.] [4002 3797]\n",
      "[0. 1.] [3909 3890]\n",
      "[0. 1.] [4202 3597]\n",
      "[0. 1.] [5803 1996]\n",
      "[0. 1.] [4073 3726]\n",
      "[0. 1.] [4841 2958]\n",
      "[0. 1.] [4070 3729]\n",
      "[0. 1.] [4090 3709]\n",
      "[0. 1.] [4942 2857]\n",
      "[0. 1.] [3918 3881]\n",
      "[0. 1.] [4095 3704]\n",
      "[0. 1.] [4051 3748]\n",
      "[0. 1.] [4612 3187]\n",
      "[0. 1.] [4179 3620]\n",
      "[0. 1.] [4049 3750]\n",
      "[0. 1.] [5072 2727]\n",
      "[0. 1.] [4559 3240]\n",
      "[0. 1.] [3837 3962]\n",
      "[0. 1.] [4579 3220]\n",
      "[0. 1.] [3991 3808]\n",
      "[0. 1.] [4043 3756]\n",
      "[0. 1.] [3945 3854]\n",
      "[0. 1.] [4096 3703]\n"
     ]
    }
   ],
   "source": [
    "sum_0 = 0\n",
    "sum_1 = 0\n",
    "for ticker in X.ticker.unique():\n",
    "#     temp = price_candles[price_candles.Ticker==ticker]['close'].values#\n",
    "    t, c = np.unique(extract_labels_multi(price_candles[price_candles.Ticker==ticker]['close'].values,\n",
    "                         2,\n",
    "                         'equal',\n",
    "                         splits),return_counts=True)\n",
    "    print(t,c)\n",
    "    sum_0 += c[0]\n",
    "    sum_1 += c[1]"
   ]
  },
  {
   "cell_type": "code",
   "execution_count": 41,
   "metadata": {},
   "outputs": [
    {
     "data": {
      "text/plain": [
       "(280922, 233812)"
      ]
     },
     "execution_count": 41,
     "metadata": {},
     "output_type": "execute_result"
    }
   ],
   "source": [
    "sum_0,sum_1"
   ]
  },
  {
   "cell_type": "code",
   "execution_count": 44,
   "metadata": {},
   "outputs": [
    {
     "data": {
      "text/plain": [
       "(514799,)"
      ]
     },
     "execution_count": 44,
     "metadata": {},
     "output_type": "execute_result"
    }
   ],
   "source": [
    "returns.shape"
   ]
  },
  {
   "cell_type": "code",
   "execution_count": 58,
   "metadata": {},
   "outputs": [],
   "source": [
    "global_median = np.median(returns)"
   ]
  },
  {
   "cell_type": "code",
   "execution_count": 59,
   "metadata": {},
   "outputs": [
    {
     "data": {
      "text/plain": [
       "0.0"
      ]
     },
     "execution_count": 59,
     "metadata": {},
     "output_type": "execute_result"
    }
   ],
   "source": [
    "global_median"
   ]
  },
  {
   "cell_type": "code",
   "execution_count": null,
   "metadata": {},
   "outputs": [],
   "source": [
    "sum_0 = 0\n",
    "sum_1 = 0\n",
    "for ticker in X.ticker.unique():\n",
    "#     temp = price_candles[price_candles.Ticker==ticker]['close'].values#\n",
    "    t, c = np.unique(extract_labels_multi(price_candles[price_candles.Ticker==ticker]['close'].values,\n",
    "                         2,\n",
    "                         'equal',\n",
    "                         splits),return_counts=True)\n",
    "    print(t,c)\n",
    "    sum_0 += c[0]\n",
    "    sum_1 += c[1]"
   ]
  },
  {
   "cell_type": "code",
   "execution_count": null,
   "metadata": {},
   "outputs": [],
   "source": []
  },
  {
   "cell_type": "code",
   "execution_count": null,
   "metadata": {},
   "outputs": [],
   "source": []
  },
  {
   "cell_type": "code",
   "execution_count": null,
   "metadata": {},
   "outputs": [],
   "source": []
  },
  {
   "cell_type": "code",
   "execution_count": 322,
   "metadata": {},
   "outputs": [
    {
     "data": {
      "text/html": [
       "<div>\n",
       "<style scoped>\n",
       "    .dataframe tbody tr th:only-of-type {\n",
       "        vertical-align: middle;\n",
       "    }\n",
       "\n",
       "    .dataframe tbody tr th {\n",
       "        vertical-align: top;\n",
       "    }\n",
       "\n",
       "    .dataframe thead th {\n",
       "        text-align: right;\n",
       "    }\n",
       "</style>\n",
       "<table border=\"1\" class=\"dataframe\">\n",
       "  <thead>\n",
       "    <tr style=\"text-align: right;\">\n",
       "      <th></th>\n",
       "      <th>a</th>\n",
       "      <th>b</th>\n",
       "    </tr>\n",
       "  </thead>\n",
       "  <tbody>\n",
       "    <tr>\n",
       "      <td>0</td>\n",
       "      <td>0</td>\n",
       "      <td>TSLA</td>\n",
       "    </tr>\n",
       "    <tr>\n",
       "      <td>1</td>\n",
       "      <td>1</td>\n",
       "      <td>AAPL</td>\n",
       "    </tr>\n",
       "    <tr>\n",
       "      <td>2</td>\n",
       "      <td>2</td>\n",
       "      <td>TSLA</td>\n",
       "    </tr>\n",
       "  </tbody>\n",
       "</table>\n",
       "</div>"
      ],
      "text/plain": [
       "   a     b\n",
       "0  0  TSLA\n",
       "1  1  AAPL\n",
       "2  2  TSLA"
      ]
     },
     "execution_count": 322,
     "metadata": {},
     "output_type": "execute_result"
    }
   ],
   "source": [
    "# Random\n",
    "tt = pd.DataFrame({'a': [0,1,2], 'b': ['TSLA', 'AAPL', 'TSLA']})\n",
    "tt"
   ]
  },
  {
   "cell_type": "code",
   "execution_count": 336,
   "metadata": {},
   "outputs": [
    {
     "data": {
      "text/plain": [
       "b\n",
       "AAPL    1\n",
       "TSLA    2\n",
       "dtype: int64"
      ]
     },
     "execution_count": 336,
     "metadata": {},
     "output_type": "execute_result"
    }
   ],
   "source": [
    "tt.groupby('b').size() #to_csv('WHATSUP.csv', header=False)"
   ]
  },
  {
   "cell_type": "code",
   "execution_count": 341,
   "metadata": {},
   "outputs": [],
   "source": [
    "with open('kalkun.txt', 'a+') as file:\n",
    "    file.write('\\n|\\nAAPL\\n')\n",
    "    file.write(str(tt.groupby('b').size()))"
   ]
  },
  {
   "cell_type": "code",
   "execution_count": 328,
   "metadata": {},
   "outputs": [
    {
     "data": {
      "text/plain": [
       "'TSLA'"
      ]
     },
     "execution_count": 328,
     "metadata": {},
     "output_type": "execute_result"
    }
   ],
   "source": [
    "tt.groupby('b').size().idxmax()"
   ]
  },
  {
   "cell_type": "code",
   "execution_count": 329,
   "metadata": {},
   "outputs": [
    {
     "data": {
      "text/html": [
       "<div>\n",
       "<style scoped>\n",
       "    .dataframe tbody tr th:only-of-type {\n",
       "        vertical-align: middle;\n",
       "    }\n",
       "\n",
       "    .dataframe tbody tr th {\n",
       "        vertical-align: top;\n",
       "    }\n",
       "\n",
       "    .dataframe thead th {\n",
       "        text-align: right;\n",
       "    }\n",
       "</style>\n",
       "<table border=\"1\" class=\"dataframe\">\n",
       "  <thead>\n",
       "    <tr style=\"text-align: right;\">\n",
       "      <th></th>\n",
       "      <th>a</th>\n",
       "      <th>b</th>\n",
       "    </tr>\n",
       "  </thead>\n",
       "  <tbody>\n",
       "    <tr>\n",
       "      <td>0</td>\n",
       "      <td>0</td>\n",
       "      <td>TSLA</td>\n",
       "    </tr>\n",
       "    <tr>\n",
       "      <td>2</td>\n",
       "      <td>2</td>\n",
       "      <td>TSLA</td>\n",
       "    </tr>\n",
       "  </tbody>\n",
       "</table>\n",
       "</div>"
      ],
      "text/plain": [
       "   a     b\n",
       "0  0  TSLA\n",
       "2  2  TSLA"
      ]
     },
     "execution_count": 329,
     "metadata": {},
     "output_type": "execute_result"
    }
   ],
   "source": [
    "tt[tt.b == tt.groupby('b').size().idxmax()]"
   ]
  }
 ],
 "metadata": {
  "accelerator": "GPU",
  "colab": {
   "collapsed_sections": [],
   "machine_shape": "hm",
   "name": "overfit_and_underfit.ipynb",
   "private_outputs": true,
   "provenance": [],
   "toc_visible": true
  },
  "kernelspec": {
   "display_name": "Python 3",
   "language": "python",
   "name": "python3"
  },
  "language_info": {
   "codemirror_mode": {
    "name": "ipython",
    "version": 3
   },
   "file_extension": ".py",
   "mimetype": "text/x-python",
   "name": "python",
   "nbconvert_exporter": "python",
   "pygments_lexer": "ipython3",
   "version": "3.7.6"
  }
 },
 "nbformat": 4,
 "nbformat_minor": 1
}
