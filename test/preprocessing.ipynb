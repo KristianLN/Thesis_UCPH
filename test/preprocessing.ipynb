{
 "cells": [
  {
   "cell_type": "code",
   "execution_count": 3,
   "metadata": {},
   "outputs": [
    {
     "name": "stderr",
     "output_type": "stream",
     "text": [
      "ERROR:root:Internal Python error in the inspect module.\n",
      "Below is the traceback from this internal error.\n",
      "\n",
      "ERROR:root:Internal Python error in the inspect module.\n",
      "Below is the traceback from this internal error.\n",
      "\n"
     ]
    },
    {
     "name": "stdout",
     "output_type": "stream",
     "text": [
      "Traceback (most recent call last):\n",
      "  File \"C:\\Users\\PC\\Anaconda3\\lib\\site-packages\\tensorflow_core\\python\\pywrap_tensorflow.py\", line 58, in <module>\n",
      "    from tensorflow.python.pywrap_tensorflow_internal import *\n",
      "  File \"C:\\Users\\PC\\Anaconda3\\lib\\site-packages\\tensorflow_core\\python\\pywrap_tensorflow_internal.py\", line 2453, in <module>\n",
      "    from tensorflow.python.util import deprecation\n",
      "  File \"C:\\Users\\PC\\Anaconda3\\lib\\site-packages\\tensorflow_core\\python\\util\\deprecation.py\", line 25, in <module>\n",
      "    from tensorflow.python.platform import tf_logging as logging\n",
      "ImportError: cannot import name 'tf_logging' from 'tensorflow.python.platform' (C:\\Users\\PC\\Anaconda3\\lib\\site-packages\\tensorflow\\python\\platform\\__init__.py)\n",
      "\n",
      "During handling of the above exception, another exception occurred:\n",
      "\n",
      "Traceback (most recent call last):\n",
      "  File \"C:\\Users\\PC\\Anaconda3\\lib\\site-packages\\IPython\\core\\interactiveshell.py\", line 3331, in run_code\n",
      "    exec(code_obj, self.user_global_ns, self.user_ns)\n",
      "  File \"<ipython-input-3-9337125413c5>\", line 12, in <module>\n",
      "    import tensorflow as tf\n",
      "  File \"C:\\Users\\PC\\Anaconda3\\lib\\site-packages\\tensorflow\\__init__.py\", line 98, in <module>\n",
      "    from tensorflow_core import *\n",
      "  File \"C:\\Users\\PC\\Anaconda3\\lib\\site-packages\\tensorflow_core\\__init__.py\", line 40, in <module>\n",
      "    from tensorflow.python.tools import module_util as _module_util\n",
      "  File \"C:\\Users\\PC\\Anaconda3\\lib\\site-packages\\tensorflow\\__init__.py\", line 50, in __getattr__\n",
      "    module = self._load()\n",
      "  File \"C:\\Users\\PC\\Anaconda3\\lib\\site-packages\\tensorflow\\__init__.py\", line 44, in _load\n",
      "    module = _importlib.import_module(self.__name__)\n",
      "  File \"C:\\Users\\PC\\Anaconda3\\lib\\importlib\\__init__.py\", line 127, in import_module\n",
      "    return _bootstrap._gcd_import(name[level:], package, level)\n",
      "  File \"C:\\Users\\PC\\Anaconda3\\lib\\site-packages\\tensorflow_core\\python\\__init__.py\", line 49, in <module>\n",
      "    from tensorflow.python import pywrap_tensorflow\n",
      "  File \"C:\\Users\\PC\\Anaconda3\\lib\\site-packages\\tensorflow_core\\python\\pywrap_tensorflow.py\", line 74, in <module>\n",
      "    raise ImportError(msg)\n",
      "ImportError: Traceback (most recent call last):\n",
      "  File \"C:\\Users\\PC\\Anaconda3\\lib\\site-packages\\tensorflow_core\\python\\pywrap_tensorflow.py\", line 58, in <module>\n",
      "    from tensorflow.python.pywrap_tensorflow_internal import *\n",
      "  File \"C:\\Users\\PC\\Anaconda3\\lib\\site-packages\\tensorflow_core\\python\\pywrap_tensorflow_internal.py\", line 2453, in <module>\n",
      "    from tensorflow.python.util import deprecation\n",
      "  File \"C:\\Users\\PC\\Anaconda3\\lib\\site-packages\\tensorflow_core\\python\\util\\deprecation.py\", line 25, in <module>\n",
      "    from tensorflow.python.platform import tf_logging as logging\n",
      "ImportError: cannot import name 'tf_logging' from 'tensorflow.python.platform' (C:\\Users\\PC\\Anaconda3\\lib\\site-packages\\tensorflow\\python\\platform\\__init__.py)\n",
      "\n",
      "\n",
      "Failed to load the native TensorFlow runtime.\n",
      "\n",
      "See https://www.tensorflow.org/install/errors\n",
      "\n",
      "for some common reasons and solutions.  Include the entire stack trace\n",
      "above this error message when asking for help.\n",
      "\n",
      "During handling of the above exception, another exception occurred:\n",
      "\n",
      "Traceback (most recent call last):\n",
      "  File \"C:\\Users\\PC\\Anaconda3\\lib\\site-packages\\IPython\\core\\interactiveshell.py\", line 2044, in showtraceback\n",
      "    stb = value._render_traceback_()\n",
      "AttributeError: 'ImportError' object has no attribute '_render_traceback_'\n",
      "\n",
      "During handling of the above exception, another exception occurred:\n",
      "\n",
      "Traceback (most recent call last):\n",
      "  File \"C:\\Users\\PC\\Anaconda3\\lib\\site-packages\\tensorflow_core\\python\\pywrap_tensorflow.py\", line 58, in <module>\n",
      "    from tensorflow.python.pywrap_tensorflow_internal import *\n",
      "  File \"C:\\Users\\PC\\Anaconda3\\lib\\site-packages\\tensorflow_core\\python\\pywrap_tensorflow_internal.py\", line 2453, in <module>\n",
      "    from tensorflow.python.util import deprecation\n",
      "  File \"C:\\Users\\PC\\Anaconda3\\lib\\site-packages\\tensorflow_core\\python\\util\\deprecation.py\", line 25, in <module>\n",
      "    from tensorflow.python.platform import tf_logging as logging\n",
      "ImportError: cannot import name 'tf_logging' from 'tensorflow.python.platform' (C:\\Users\\PC\\Anaconda3\\lib\\site-packages\\tensorflow\\python\\platform\\__init__.py)\n",
      "\n",
      "During handling of the above exception, another exception occurred:\n",
      "\n",
      "Traceback (most recent call last):\n",
      "  File \"C:\\Users\\PC\\Anaconda3\\lib\\site-packages\\IPython\\core\\ultratb.py\", line 1151, in get_records\n",
      "    return _fixed_getinnerframes(etb, number_of_lines_of_context, tb_offset)\n",
      "  File \"C:\\Users\\PC\\Anaconda3\\lib\\site-packages\\IPython\\core\\ultratb.py\", line 319, in wrapped\n",
      "    return f(*args, **kwargs)\n",
      "  File \"C:\\Users\\PC\\Anaconda3\\lib\\site-packages\\IPython\\core\\ultratb.py\", line 353, in _fixed_getinnerframes\n",
      "    records = fix_frame_records_filenames(inspect.getinnerframes(etb, context))\n",
      "  File \"C:\\Users\\PC\\Anaconda3\\lib\\inspect.py\", line 1502, in getinnerframes\n",
      "    frameinfo = (tb.tb_frame,) + getframeinfo(tb, context)\n",
      "  File \"C:\\Users\\PC\\Anaconda3\\lib\\inspect.py\", line 1460, in getframeinfo\n",
      "    filename = getsourcefile(frame) or getfile(frame)\n",
      "  File \"C:\\Users\\PC\\Anaconda3\\lib\\inspect.py\", line 696, in getsourcefile\n",
      "    if getattr(getmodule(object, filename), '__loader__', None) is not None:\n",
      "  File \"C:\\Users\\PC\\Anaconda3\\lib\\inspect.py\", line 733, in getmodule\n",
      "    if ismodule(module) and hasattr(module, '__file__'):\n",
      "  File \"C:\\Users\\PC\\Anaconda3\\lib\\site-packages\\tensorflow\\__init__.py\", line 50, in __getattr__\n",
      "    module = self._load()\n",
      "  File \"C:\\Users\\PC\\Anaconda3\\lib\\site-packages\\tensorflow\\__init__.py\", line 44, in _load\n",
      "    module = _importlib.import_module(self.__name__)\n",
      "  File \"C:\\Users\\PC\\Anaconda3\\lib\\importlib\\__init__.py\", line 127, in import_module\n",
      "    return _bootstrap._gcd_import(name[level:], package, level)\n",
      "  File \"<frozen importlib._bootstrap>\", line 1006, in _gcd_import\n",
      "  File \"<frozen importlib._bootstrap>\", line 983, in _find_and_load\n",
      "  File \"<frozen importlib._bootstrap>\", line 953, in _find_and_load_unlocked\n",
      "  File \"<frozen importlib._bootstrap>\", line 219, in _call_with_frames_removed\n",
      "  File \"<frozen importlib._bootstrap>\", line 1006, in _gcd_import\n",
      "  File \"<frozen importlib._bootstrap>\", line 983, in _find_and_load\n",
      "  File \"<frozen importlib._bootstrap>\", line 967, in _find_and_load_unlocked\n",
      "  File \"<frozen importlib._bootstrap>\", line 677, in _load_unlocked\n",
      "  File \"<frozen importlib._bootstrap_external>\", line 728, in exec_module\n",
      "  File \"<frozen importlib._bootstrap>\", line 219, in _call_with_frames_removed\n",
      "  File \"C:\\Users\\PC\\Anaconda3\\lib\\site-packages\\tensorflow_core\\__init__.py\", line 42, in <module>\n",
      "    from . _api.v2 import audio\n",
      "  File \"C:\\Users\\PC\\Anaconda3\\lib\\site-packages\\tensorflow_core\\_api\\v2\\audio\\__init__.py\", line 10, in <module>\n",
      "    from tensorflow.python.ops.gen_audio_ops import decode_wav\n",
      "  File \"C:\\Users\\PC\\Anaconda3\\lib\\site-packages\\tensorflow_core\\python\\ops\\gen_audio_ops.py\", line 9, in <module>\n",
      "    from tensorflow.python import pywrap_tensorflow as _pywrap_tensorflow\n",
      "  File \"C:\\Users\\PC\\Anaconda3\\lib\\site-packages\\tensorflow\\__init__.py\", line 50, in __getattr__\n",
      "    module = self._load()\n",
      "  File \"C:\\Users\\PC\\Anaconda3\\lib\\site-packages\\tensorflow\\__init__.py\", line 44, in _load\n",
      "    module = _importlib.import_module(self.__name__)\n",
      "  File \"C:\\Users\\PC\\Anaconda3\\lib\\importlib\\__init__.py\", line 127, in import_module\n",
      "    return _bootstrap._gcd_import(name[level:], package, level)\n",
      "  File \"C:\\Users\\PC\\Anaconda3\\lib\\site-packages\\tensorflow_core\\python\\__init__.py\", line 49, in <module>\n",
      "    from tensorflow.python import pywrap_tensorflow\n",
      "  File \"C:\\Users\\PC\\Anaconda3\\lib\\site-packages\\tensorflow_core\\python\\pywrap_tensorflow.py\", line 74, in <module>\n",
      "    raise ImportError(msg)\n",
      "ImportError: Traceback (most recent call last):\n",
      "  File \"C:\\Users\\PC\\Anaconda3\\lib\\site-packages\\tensorflow_core\\python\\pywrap_tensorflow.py\", line 58, in <module>\n",
      "    from tensorflow.python.pywrap_tensorflow_internal import *\n",
      "  File \"C:\\Users\\PC\\Anaconda3\\lib\\site-packages\\tensorflow_core\\python\\pywrap_tensorflow_internal.py\", line 2453, in <module>\n",
      "    from tensorflow.python.util import deprecation\n",
      "  File \"C:\\Users\\PC\\Anaconda3\\lib\\site-packages\\tensorflow_core\\python\\util\\deprecation.py\", line 25, in <module>\n",
      "    from tensorflow.python.platform import tf_logging as logging\n",
      "ImportError: cannot import name 'tf_logging' from 'tensorflow.python.platform' (C:\\Users\\PC\\Anaconda3\\lib\\site-packages\\tensorflow\\python\\platform\\__init__.py)\n",
      "\n",
      "During handling of the above exception, another exception occurred:\n",
      "\n",
      "Traceback (most recent call last):\n",
      "  File \"C:\\Users\\PC\\Anaconda3\\lib\\site-packages\\IPython\\core\\interactiveshell.py\", line 3331, in run_code\n",
      "    exec(code_obj, self.user_global_ns, self.user_ns)\n",
      "  File \"<ipython-input-3-9337125413c5>\", line 12, in <module>\n",
      "    import tensorflow as tf\n",
      "  File \"C:\\Users\\PC\\Anaconda3\\lib\\site-packages\\tensorflow\\__init__.py\", line 98, in <module>\n",
      "    from tensorflow_core import *\n",
      "  File \"C:\\Users\\PC\\Anaconda3\\lib\\site-packages\\tensorflow_core\\__init__.py\", line 40, in <module>\n",
      "    from tensorflow.python.tools import module_util as _module_util\n",
      "  File \"C:\\Users\\PC\\Anaconda3\\lib\\site-packages\\tensorflow\\__init__.py\", line 50, in __getattr__\n",
      "    module = self._load()\n",
      "  File \"C:\\Users\\PC\\Anaconda3\\lib\\site-packages\\tensorflow\\__init__.py\", line 44, in _load\n",
      "    module = _importlib.import_module(self.__name__)\n",
      "  File \"C:\\Users\\PC\\Anaconda3\\lib\\importlib\\__init__.py\", line 127, in import_module\n",
      "    return _bootstrap._gcd_import(name[level:], package, level)\n",
      "  File \"C:\\Users\\PC\\Anaconda3\\lib\\site-packages\\tensorflow_core\\python\\__init__.py\", line 49, in <module>\n",
      "    from tensorflow.python import pywrap_tensorflow\n",
      "  File \"C:\\Users\\PC\\Anaconda3\\lib\\site-packages\\tensorflow_core\\python\\pywrap_tensorflow.py\", line 74, in <module>\n",
      "    raise ImportError(msg)\n",
      "ImportError: Traceback (most recent call last):\n",
      "  File \"C:\\Users\\PC\\Anaconda3\\lib\\site-packages\\tensorflow_core\\python\\pywrap_tensorflow.py\", line 58, in <module>\n",
      "    from tensorflow.python.pywrap_tensorflow_internal import *\n",
      "  File \"C:\\Users\\PC\\Anaconda3\\lib\\site-packages\\tensorflow_core\\python\\pywrap_tensorflow_internal.py\", line 2453, in <module>\n",
      "    from tensorflow.python.util import deprecation\n",
      "  File \"C:\\Users\\PC\\Anaconda3\\lib\\site-packages\\tensorflow_core\\python\\util\\deprecation.py\", line 25, in <module>\n",
      "    from tensorflow.python.platform import tf_logging as logging\n",
      "ImportError: cannot import name 'tf_logging' from 'tensorflow.python.platform' (C:\\Users\\PC\\Anaconda3\\lib\\site-packages\\tensorflow\\python\\platform\\__init__.py)\n",
      "\n",
      "\n",
      "Failed to load the native TensorFlow runtime.\n",
      "\n",
      "See https://www.tensorflow.org/install/errors\n",
      "\n",
      "for some common reasons and solutions.  Include the entire stack trace\n",
      "above this error message when asking for help.\n",
      "\n",
      "During handling of the above exception, another exception occurred:\n",
      "\n",
      "Traceback (most recent call last):\n",
      "  File \"C:\\Users\\PC\\Anaconda3\\lib\\site-packages\\IPython\\core\\interactiveshell.py\", line 2044, in showtraceback\n",
      "    stb = value._render_traceback_()\n",
      "AttributeError: 'ImportError' object has no attribute '_render_traceback_'\n",
      "\n",
      "During handling of the above exception, another exception occurred:\n",
      "\n",
      "Traceback (most recent call last):\n",
      "  File \"C:\\Users\\PC\\Anaconda3\\lib\\site-packages\\tensorflow_core\\python\\pywrap_tensorflow.py\", line 58, in <module>\n",
      "    from tensorflow.python.pywrap_tensorflow_internal import *\n",
      "  File \"C:\\Users\\PC\\Anaconda3\\lib\\site-packages\\tensorflow_core\\python\\pywrap_tensorflow_internal.py\", line 2453, in <module>\n",
      "    from tensorflow.python.util import deprecation\n",
      "  File \"C:\\Users\\PC\\Anaconda3\\lib\\site-packages\\tensorflow_core\\python\\util\\deprecation.py\", line 25, in <module>\n",
      "    from tensorflow.python.platform import tf_logging as logging\n",
      "ImportError: cannot import name 'tf_logging' from 'tensorflow.python.platform' (C:\\Users\\PC\\Anaconda3\\lib\\site-packages\\tensorflow\\python\\platform\\__init__.py)\n",
      "\n",
      "\n",
      "Failed to load the native TensorFlow runtime.\n",
      "\n",
      "See https://www.tensorflow.org/install/errors\n",
      "\n",
      "for some common reasons and solutions.  Include the entire stack trace\n",
      "above this error message when asking for help.\n",
      "Traceback (most recent call last):\n",
      "  File \"C:\\Users\\PC\\Anaconda3\\lib\\site-packages\\tensorflow_core\\python\\pywrap_tensorflow.py\", line 58, in <module>\n",
      "    from tensorflow.python.pywrap_tensorflow_internal import *\n",
      "  File \"C:\\Users\\PC\\Anaconda3\\lib\\site-packages\\tensorflow_core\\python\\pywrap_tensorflow_internal.py\", line 2453, in <module>\n",
      "    from tensorflow.python.util import deprecation\n",
      "  File \"C:\\Users\\PC\\Anaconda3\\lib\\site-packages\\tensorflow_core\\python\\util\\deprecation.py\", line 25, in <module>\n",
      "    from tensorflow.python.platform import tf_logging as logging\n",
      "ImportError: cannot import name 'tf_logging' from 'tensorflow.python.platform' (C:\\Users\\PC\\Anaconda3\\lib\\site-packages\\tensorflow\\python\\platform\\__init__.py)\n",
      "\n",
      "During handling of the above exception, another exception occurred:\n",
      "\n",
      "Traceback (most recent call last):\n",
      "  File \"C:\\Users\\PC\\Anaconda3\\lib\\site-packages\\IPython\\core\\interactiveshell.py\", line 3331, in run_code\n",
      "    exec(code_obj, self.user_global_ns, self.user_ns)\n",
      "  File \"<ipython-input-3-9337125413c5>\", line 12, in <module>\n",
      "    import tensorflow as tf\n",
      "  File \"C:\\Users\\PC\\Anaconda3\\lib\\site-packages\\tensorflow\\__init__.py\", line 98, in <module>\n",
      "    from tensorflow_core import *\n",
      "  File \"C:\\Users\\PC\\Anaconda3\\lib\\site-packages\\tensorflow_core\\__init__.py\", line 40, in <module>\n",
      "    from tensorflow.python.tools import module_util as _module_util\n",
      "  File \"C:\\Users\\PC\\Anaconda3\\lib\\site-packages\\tensorflow\\__init__.py\", line 50, in __getattr__\n",
      "    module = self._load()\n",
      "  File \"C:\\Users\\PC\\Anaconda3\\lib\\site-packages\\tensorflow\\__init__.py\", line 44, in _load\n",
      "    module = _importlib.import_module(self.__name__)\n",
      "  File \"C:\\Users\\PC\\Anaconda3\\lib\\importlib\\__init__.py\", line 127, in import_module\n",
      "    return _bootstrap._gcd_import(name[level:], package, level)\n",
      "  File \"C:\\Users\\PC\\Anaconda3\\lib\\site-packages\\tensorflow_core\\python\\__init__.py\", line 49, in <module>\n",
      "    from tensorflow.python import pywrap_tensorflow\n",
      "  File \"C:\\Users\\PC\\Anaconda3\\lib\\site-packages\\tensorflow_core\\python\\pywrap_tensorflow.py\", line 74, in <module>\n",
      "    raise ImportError(msg)\n",
      "ImportError: Traceback (most recent call last):\n",
      "  File \"C:\\Users\\PC\\Anaconda3\\lib\\site-packages\\tensorflow_core\\python\\pywrap_tensorflow.py\", line 58, in <module>\n",
      "    from tensorflow.python.pywrap_tensorflow_internal import *\n",
      "  File \"C:\\Users\\PC\\Anaconda3\\lib\\site-packages\\tensorflow_core\\python\\pywrap_tensorflow_internal.py\", line 2453, in <module>\n",
      "    from tensorflow.python.util import deprecation\n",
      "  File \"C:\\Users\\PC\\Anaconda3\\lib\\site-packages\\tensorflow_core\\python\\util\\deprecation.py\", line 25, in <module>\n",
      "    from tensorflow.python.platform import tf_logging as logging\n",
      "ImportError: cannot import name 'tf_logging' from 'tensorflow.python.platform' (C:\\Users\\PC\\Anaconda3\\lib\\site-packages\\tensorflow\\python\\platform\\__init__.py)\n",
      "\n",
      "\n",
      "Failed to load the native TensorFlow runtime.\n",
      "\n",
      "See https://www.tensorflow.org/install/errors\n",
      "\n",
      "for some common reasons and solutions.  Include the entire stack trace\n",
      "above this error message when asking for help.\n",
      "\n",
      "During handling of the above exception, another exception occurred:\n",
      "\n",
      "Traceback (most recent call last):\n",
      "  File \"C:\\Users\\PC\\Anaconda3\\lib\\site-packages\\IPython\\core\\interactiveshell.py\", line 2044, in showtraceback\n",
      "    stb = value._render_traceback_()\n",
      "AttributeError: 'ImportError' object has no attribute '_render_traceback_'\n",
      "\n",
      "During handling of the above exception, another exception occurred:\n",
      "\n",
      "Traceback (most recent call last):\n",
      "  File \"C:\\Users\\PC\\Anaconda3\\lib\\site-packages\\IPython\\core\\interactiveshell.py\", line 3254, in run_ast_nodes\n",
      "    if (await self.run_code(code, result,  async_=asy)):\n",
      "  File \"C:\\Users\\PC\\Anaconda3\\lib\\site-packages\\IPython\\core\\interactiveshell.py\", line 3348, in run_code\n",
      "    self.showtraceback(running_compiled_code=True)\n",
      "  File \"C:\\Users\\PC\\Anaconda3\\lib\\site-packages\\IPython\\core\\interactiveshell.py\", line 2047, in showtraceback\n",
      "    value, tb, tb_offset=tb_offset)\n",
      "  File \"C:\\Users\\PC\\Anaconda3\\lib\\site-packages\\IPython\\core\\ultratb.py\", line 1418, in structured_traceback\n",
      "    self, etype, value, tb, tb_offset, number_of_lines_of_context)\n",
      "  File \"C:\\Users\\PC\\Anaconda3\\lib\\site-packages\\IPython\\core\\ultratb.py\", line 1318, in structured_traceback\n",
      "    self, etype, value, tb, tb_offset, number_of_lines_of_context\n",
      "  File \"C:\\Users\\PC\\Anaconda3\\lib\\site-packages\\IPython\\core\\ultratb.py\", line 1186, in structured_traceback\n",
      "    formatted_exceptions += self.prepare_chained_exception_message(evalue.__cause__)\n",
      "TypeError: can only concatenate str (not \"list\") to str\n",
      "\n",
      "During handling of the above exception, another exception occurred:\n",
      "\n",
      "Traceback (most recent call last):\n",
      "  File \"C:\\Users\\PC\\Anaconda3\\lib\\site-packages\\IPython\\core\\interactiveshell.py\", line 2044, in showtraceback\n",
      "    stb = value._render_traceback_()\n",
      "AttributeError: 'TypeError' object has no attribute '_render_traceback_'\n",
      "\n",
      "During handling of the above exception, another exception occurred:\n",
      "\n",
      "Traceback (most recent call last):\n",
      "  File \"C:\\Users\\PC\\Anaconda3\\lib\\site-packages\\tensorflow_core\\python\\pywrap_tensorflow.py\", line 58, in <module>\n",
      "    from tensorflow.python.pywrap_tensorflow_internal import *\n",
      "  File \"C:\\Users\\PC\\Anaconda3\\lib\\site-packages\\tensorflow_core\\python\\pywrap_tensorflow_internal.py\", line 2453, in <module>\n",
      "    from tensorflow.python.util import deprecation\n",
      "  File \"C:\\Users\\PC\\Anaconda3\\lib\\site-packages\\tensorflow_core\\python\\util\\deprecation.py\", line 25, in <module>\n",
      "    from tensorflow.python.platform import tf_logging as logging\n",
      "ImportError: cannot import name 'tf_logging' from 'tensorflow.python.platform' (C:\\Users\\PC\\Anaconda3\\lib\\site-packages\\tensorflow\\python\\platform\\__init__.py)\n",
      "\n",
      "During handling of the above exception, another exception occurred:\n",
      "\n",
      "Traceback (most recent call last):\n",
      "  File \"C:\\Users\\PC\\Anaconda3\\lib\\site-packages\\IPython\\core\\ultratb.py\", line 1151, in get_records\n",
      "    return _fixed_getinnerframes(etb, number_of_lines_of_context, tb_offset)\n",
      "  File \"C:\\Users\\PC\\Anaconda3\\lib\\site-packages\\IPython\\core\\ultratb.py\", line 319, in wrapped\n",
      "    return f(*args, **kwargs)\n",
      "  File \"C:\\Users\\PC\\Anaconda3\\lib\\site-packages\\IPython\\core\\ultratb.py\", line 353, in _fixed_getinnerframes\n",
      "    records = fix_frame_records_filenames(inspect.getinnerframes(etb, context))\n",
      "  File \"C:\\Users\\PC\\Anaconda3\\lib\\inspect.py\", line 1502, in getinnerframes\n",
      "    frameinfo = (tb.tb_frame,) + getframeinfo(tb, context)\n",
      "  File \"C:\\Users\\PC\\Anaconda3\\lib\\inspect.py\", line 1460, in getframeinfo\n",
      "    filename = getsourcefile(frame) or getfile(frame)\n",
      "  File \"C:\\Users\\PC\\Anaconda3\\lib\\inspect.py\", line 696, in getsourcefile\n",
      "    if getattr(getmodule(object, filename), '__loader__', None) is not None:\n",
      "  File \"C:\\Users\\PC\\Anaconda3\\lib\\inspect.py\", line 733, in getmodule\n",
      "    if ismodule(module) and hasattr(module, '__file__'):\n",
      "  File \"C:\\Users\\PC\\Anaconda3\\lib\\site-packages\\tensorflow\\__init__.py\", line 50, in __getattr__\n",
      "    module = self._load()\n",
      "  File \"C:\\Users\\PC\\Anaconda3\\lib\\site-packages\\tensorflow\\__init__.py\", line 44, in _load\n",
      "    module = _importlib.import_module(self.__name__)\n",
      "  File \"C:\\Users\\PC\\Anaconda3\\lib\\importlib\\__init__.py\", line 127, in import_module\n",
      "    return _bootstrap._gcd_import(name[level:], package, level)\n",
      "  File \"<frozen importlib._bootstrap>\", line 1006, in _gcd_import\n",
      "  File \"<frozen importlib._bootstrap>\", line 983, in _find_and_load\n",
      "  File \"<frozen importlib._bootstrap>\", line 953, in _find_and_load_unlocked\n",
      "  File \"<frozen importlib._bootstrap>\", line 219, in _call_with_frames_removed\n",
      "  File \"<frozen importlib._bootstrap>\", line 1006, in _gcd_import\n",
      "  File \"<frozen importlib._bootstrap>\", line 983, in _find_and_load\n",
      "  File \"<frozen importlib._bootstrap>\", line 967, in _find_and_load_unlocked\n",
      "  File \"<frozen importlib._bootstrap>\", line 677, in _load_unlocked\n",
      "  File \"<frozen importlib._bootstrap_external>\", line 728, in exec_module\n",
      "  File \"<frozen importlib._bootstrap>\", line 219, in _call_with_frames_removed\n",
      "  File \"C:\\Users\\PC\\Anaconda3\\lib\\site-packages\\tensorflow_core\\__init__.py\", line 42, in <module>\n",
      "    from . _api.v2 import audio\n",
      "  File \"C:\\Users\\PC\\Anaconda3\\lib\\site-packages\\tensorflow_core\\_api\\v2\\audio\\__init__.py\", line 10, in <module>\n",
      "    from tensorflow.python.ops.gen_audio_ops import decode_wav\n",
      "  File \"C:\\Users\\PC\\Anaconda3\\lib\\site-packages\\tensorflow_core\\python\\ops\\gen_audio_ops.py\", line 9, in <module>\n",
      "    from tensorflow.python import pywrap_tensorflow as _pywrap_tensorflow\n",
      "  File \"C:\\Users\\PC\\Anaconda3\\lib\\site-packages\\tensorflow\\__init__.py\", line 50, in __getattr__\n",
      "    module = self._load()\n",
      "  File \"C:\\Users\\PC\\Anaconda3\\lib\\site-packages\\tensorflow\\__init__.py\", line 44, in _load\n",
      "    module = _importlib.import_module(self.__name__)\n",
      "  File \"C:\\Users\\PC\\Anaconda3\\lib\\importlib\\__init__.py\", line 127, in import_module\n",
      "    return _bootstrap._gcd_import(name[level:], package, level)\n",
      "  File \"C:\\Users\\PC\\Anaconda3\\lib\\site-packages\\tensorflow_core\\python\\__init__.py\", line 49, in <module>\n",
      "    from tensorflow.python import pywrap_tensorflow\n",
      "  File \"C:\\Users\\PC\\Anaconda3\\lib\\site-packages\\tensorflow_core\\python\\pywrap_tensorflow.py\", line 74, in <module>\n",
      "    raise ImportError(msg)\n",
      "ImportError: Traceback (most recent call last):\n",
      "  File \"C:\\Users\\PC\\Anaconda3\\lib\\site-packages\\tensorflow_core\\python\\pywrap_tensorflow.py\", line 58, in <module>\n",
      "    from tensorflow.python.pywrap_tensorflow_internal import *\n",
      "  File \"C:\\Users\\PC\\Anaconda3\\lib\\site-packages\\tensorflow_core\\python\\pywrap_tensorflow_internal.py\", line 2453, in <module>\n",
      "    from tensorflow.python.util import deprecation\n",
      "  File \"C:\\Users\\PC\\Anaconda3\\lib\\site-packages\\tensorflow_core\\python\\util\\deprecation.py\", line 25, in <module>\n",
      "    from tensorflow.python.platform import tf_logging as logging\n",
      "ImportError: cannot import name 'tf_logging' from 'tensorflow.python.platform' (C:\\Users\\PC\\Anaconda3\\lib\\site-packages\\tensorflow\\python\\platform\\__init__.py)\n",
      "\n",
      "During handling of the above exception, another exception occurred:\n",
      "\n",
      "Traceback (most recent call last):\n",
      "  File \"C:\\Users\\PC\\Anaconda3\\lib\\site-packages\\IPython\\core\\interactiveshell.py\", line 3331, in run_code\n",
      "    exec(code_obj, self.user_global_ns, self.user_ns)\n",
      "  File \"<ipython-input-3-9337125413c5>\", line 12, in <module>\n",
      "    import tensorflow as tf\n",
      "  File \"C:\\Users\\PC\\Anaconda3\\lib\\site-packages\\tensorflow\\__init__.py\", line 98, in <module>\n",
      "    from tensorflow_core import *\n",
      "  File \"C:\\Users\\PC\\Anaconda3\\lib\\site-packages\\tensorflow_core\\__init__.py\", line 40, in <module>\n",
      "    from tensorflow.python.tools import module_util as _module_util\n",
      "  File \"C:\\Users\\PC\\Anaconda3\\lib\\site-packages\\tensorflow\\__init__.py\", line 50, in __getattr__\n",
      "    module = self._load()\n",
      "  File \"C:\\Users\\PC\\Anaconda3\\lib\\site-packages\\tensorflow\\__init__.py\", line 44, in _load\n",
      "    module = _importlib.import_module(self.__name__)\n",
      "  File \"C:\\Users\\PC\\Anaconda3\\lib\\importlib\\__init__.py\", line 127, in import_module\n",
      "    return _bootstrap._gcd_import(name[level:], package, level)\n",
      "  File \"C:\\Users\\PC\\Anaconda3\\lib\\site-packages\\tensorflow_core\\python\\__init__.py\", line 49, in <module>\n",
      "    from tensorflow.python import pywrap_tensorflow\n",
      "  File \"C:\\Users\\PC\\Anaconda3\\lib\\site-packages\\tensorflow_core\\python\\pywrap_tensorflow.py\", line 74, in <module>\n",
      "    raise ImportError(msg)\n",
      "ImportError: Traceback (most recent call last):\n",
      "  File \"C:\\Users\\PC\\Anaconda3\\lib\\site-packages\\tensorflow_core\\python\\pywrap_tensorflow.py\", line 58, in <module>\n",
      "    from tensorflow.python.pywrap_tensorflow_internal import *\n",
      "  File \"C:\\Users\\PC\\Anaconda3\\lib\\site-packages\\tensorflow_core\\python\\pywrap_tensorflow_internal.py\", line 2453, in <module>\n",
      "    from tensorflow.python.util import deprecation\n",
      "  File \"C:\\Users\\PC\\Anaconda3\\lib\\site-packages\\tensorflow_core\\python\\util\\deprecation.py\", line 25, in <module>\n",
      "    from tensorflow.python.platform import tf_logging as logging\n",
      "ImportError: cannot import name 'tf_logging' from 'tensorflow.python.platform' (C:\\Users\\PC\\Anaconda3\\lib\\site-packages\\tensorflow\\python\\platform\\__init__.py)\n",
      "\n",
      "\n",
      "Failed to load the native TensorFlow runtime.\n",
      "\n",
      "See https://www.tensorflow.org/install/errors\n",
      "\n",
      "for some common reasons and solutions.  Include the entire stack trace\n",
      "above this error message when asking for help.\n",
      "\n",
      "During handling of the above exception, another exception occurred:\n",
      "\n",
      "Traceback (most recent call last):\n",
      "  File \"C:\\Users\\PC\\Anaconda3\\lib\\site-packages\\IPython\\core\\interactiveshell.py\", line 2044, in showtraceback\n",
      "    stb = value._render_traceback_()\n",
      "AttributeError: 'ImportError' object has no attribute '_render_traceback_'\n",
      "\n",
      "During handling of the above exception, another exception occurred:\n",
      "\n",
      "Traceback (most recent call last):\n",
      "  File \"C:\\Users\\PC\\Anaconda3\\lib\\site-packages\\IPython\\core\\interactiveshell.py\", line 3254, in run_ast_nodes\n",
      "    if (await self.run_code(code, result,  async_=asy)):\n",
      "  File \"C:\\Users\\PC\\Anaconda3\\lib\\site-packages\\IPython\\core\\interactiveshell.py\", line 3348, in run_code\n",
      "    self.showtraceback(running_compiled_code=True)\n",
      "  File \"C:\\Users\\PC\\Anaconda3\\lib\\site-packages\\IPython\\core\\interactiveshell.py\", line 2047, in showtraceback\n",
      "    value, tb, tb_offset=tb_offset)\n",
      "  File \"C:\\Users\\PC\\Anaconda3\\lib\\site-packages\\IPython\\core\\ultratb.py\", line 1418, in structured_traceback\n",
      "    self, etype, value, tb, tb_offset, number_of_lines_of_context)\n",
      "  File \"C:\\Users\\PC\\Anaconda3\\lib\\site-packages\\IPython\\core\\ultratb.py\", line 1318, in structured_traceback\n",
      "    self, etype, value, tb, tb_offset, number_of_lines_of_context\n",
      "  File \"C:\\Users\\PC\\Anaconda3\\lib\\site-packages\\IPython\\core\\ultratb.py\", line 1186, in structured_traceback\n",
      "    formatted_exceptions += self.prepare_chained_exception_message(evalue.__cause__)\n",
      "TypeError: can only concatenate str (not \"list\") to str\n",
      "\n",
      "During handling of the above exception, another exception occurred:\n",
      "\n",
      "Traceback (most recent call last):\n",
      "  File \"C:\\Users\\PC\\Anaconda3\\lib\\site-packages\\IPython\\core\\interactiveshell.py\", line 2044, in showtraceback\n",
      "    stb = value._render_traceback_()\n",
      "AttributeError: 'TypeError' object has no attribute '_render_traceback_'\n",
      "\n",
      "During handling of the above exception, another exception occurred:\n",
      "\n",
      "Traceback (most recent call last):\n",
      "  File \"C:\\Users\\PC\\Anaconda3\\lib\\site-packages\\tensorflow_core\\python\\pywrap_tensorflow.py\", line 58, in <module>\n",
      "    from tensorflow.python.pywrap_tensorflow_internal import *\n",
      "  File \"C:\\Users\\PC\\Anaconda3\\lib\\site-packages\\tensorflow_core\\python\\pywrap_tensorflow_internal.py\", line 2453, in <module>\n",
      "    from tensorflow.python.util import deprecation\n",
      "  File \"C:\\Users\\PC\\Anaconda3\\lib\\site-packages\\tensorflow_core\\python\\util\\deprecation.py\", line 25, in <module>\n",
      "    from tensorflow.python.platform import tf_logging as logging\n",
      "ImportError: cannot import name 'tf_logging' from 'tensorflow.python.platform' (C:\\Users\\PC\\Anaconda3\\lib\\site-packages\\tensorflow\\python\\platform\\__init__.py)\n",
      "\n",
      "\n",
      "Failed to load the native TensorFlow runtime.\n",
      "\n",
      "See https://www.tensorflow.org/install/errors\n",
      "\n",
      "for some common reasons and solutions.  Include the entire stack trace\n",
      "above this error message when asking for help.\n"
     ]
    },
    {
     "ename": "TypeError",
     "evalue": "can only concatenate str (not \"list\") to str",
     "output_type": "error",
     "traceback": [
      "\u001b[1;31m---------------------------------------------------------------------------\u001b[0m",
      "\u001b[1;31mImportError\u001b[0m                               Traceback (most recent call last)",
      "\u001b[1;32m~\\Anaconda3\\lib\\site-packages\\tensorflow_core\\python\\pywrap_tensorflow.py\u001b[0m in \u001b[0;36m<module>\u001b[1;34m\u001b[0m\n\u001b[0;32m     57\u001b[0m \u001b[1;33m\u001b[0m\u001b[0m\n\u001b[1;32m---> 58\u001b[1;33m   \u001b[1;32mfrom\u001b[0m \u001b[0mtensorflow\u001b[0m\u001b[1;33m.\u001b[0m\u001b[0mpython\u001b[0m\u001b[1;33m.\u001b[0m\u001b[0mpywrap_tensorflow_internal\u001b[0m \u001b[1;32mimport\u001b[0m \u001b[1;33m*\u001b[0m\u001b[1;33m\u001b[0m\u001b[1;33m\u001b[0m\u001b[0m\n\u001b[0m\u001b[0;32m     59\u001b[0m   \u001b[1;32mfrom\u001b[0m \u001b[0mtensorflow\u001b[0m\u001b[1;33m.\u001b[0m\u001b[0mpython\u001b[0m\u001b[1;33m.\u001b[0m\u001b[0mpywrap_tensorflow_internal\u001b[0m \u001b[1;32mimport\u001b[0m \u001b[0m__version__\u001b[0m\u001b[1;33m\u001b[0m\u001b[1;33m\u001b[0m\u001b[0m\n",
      "\u001b[1;32m~\\Anaconda3\\lib\\site-packages\\tensorflow_core\\python\\pywrap_tensorflow_internal.py\u001b[0m in \u001b[0;36m<module>\u001b[1;34m\u001b[0m\n\u001b[0;32m   2452\u001b[0m \u001b[1;33m\u001b[0m\u001b[0m\n\u001b[1;32m-> 2453\u001b[1;33m \u001b[1;32mfrom\u001b[0m \u001b[0mtensorflow\u001b[0m\u001b[1;33m.\u001b[0m\u001b[0mpython\u001b[0m\u001b[1;33m.\u001b[0m\u001b[0mutil\u001b[0m \u001b[1;32mimport\u001b[0m \u001b[0mdeprecation\u001b[0m\u001b[1;33m\u001b[0m\u001b[1;33m\u001b[0m\u001b[0m\n\u001b[0m\u001b[0;32m   2454\u001b[0m \u001b[1;32mfrom\u001b[0m \u001b[0mtensorflow\u001b[0m\u001b[1;33m.\u001b[0m\u001b[0mpython\u001b[0m\u001b[1;33m.\u001b[0m\u001b[0mutil\u001b[0m\u001b[1;33m.\u001b[0m\u001b[0mtf_export\u001b[0m \u001b[1;32mimport\u001b[0m \u001b[0mtf_export\u001b[0m\u001b[1;33m\u001b[0m\u001b[1;33m\u001b[0m\u001b[0m\n",
      "\u001b[1;32m~\\Anaconda3\\lib\\site-packages\\tensorflow_core\\python\\util\\deprecation.py\u001b[0m in \u001b[0;36m<module>\u001b[1;34m\u001b[0m\n\u001b[0;32m     24\u001b[0m \u001b[1;33m\u001b[0m\u001b[0m\n\u001b[1;32m---> 25\u001b[1;33m \u001b[1;32mfrom\u001b[0m \u001b[0mtensorflow\u001b[0m\u001b[1;33m.\u001b[0m\u001b[0mpython\u001b[0m\u001b[1;33m.\u001b[0m\u001b[0mplatform\u001b[0m \u001b[1;32mimport\u001b[0m \u001b[0mtf_logging\u001b[0m \u001b[1;32mas\u001b[0m \u001b[0mlogging\u001b[0m\u001b[1;33m\u001b[0m\u001b[1;33m\u001b[0m\u001b[0m\n\u001b[0m\u001b[0;32m     26\u001b[0m \u001b[1;32mfrom\u001b[0m \u001b[0mtensorflow\u001b[0m\u001b[1;33m.\u001b[0m\u001b[0mpython\u001b[0m\u001b[1;33m.\u001b[0m\u001b[0mutil\u001b[0m \u001b[1;32mimport\u001b[0m \u001b[0mdecorator_utils\u001b[0m\u001b[1;33m\u001b[0m\u001b[1;33m\u001b[0m\u001b[0m\n",
      "\u001b[1;31mImportError\u001b[0m: cannot import name 'tf_logging' from 'tensorflow.python.platform' (C:\\Users\\PC\\Anaconda3\\lib\\site-packages\\tensorflow\\python\\platform\\__init__.py)",
      "\nDuring handling of the above exception, another exception occurred:\n",
      "\nDuring handling of the above exception, another exception occurred:\n",
      "\u001b[1;31mAttributeError\u001b[0m                            Traceback (most recent call last)",
      "\u001b[1;32m~\\Anaconda3\\lib\\site-packages\\IPython\\core\\interactiveshell.py\u001b[0m in \u001b[0;36mshowtraceback\u001b[1;34m(self, exc_tuple, filename, tb_offset, exception_only, running_compiled_code)\u001b[0m\n\u001b[0;32m   2043\u001b[0m                         \u001b[1;31m# in the engines. This should return a list of strings.\u001b[0m\u001b[1;33m\u001b[0m\u001b[1;33m\u001b[0m\u001b[1;33m\u001b[0m\u001b[0m\n\u001b[1;32m-> 2044\u001b[1;33m                         \u001b[0mstb\u001b[0m \u001b[1;33m=\u001b[0m \u001b[0mvalue\u001b[0m\u001b[1;33m.\u001b[0m\u001b[0m_render_traceback_\u001b[0m\u001b[1;33m(\u001b[0m\u001b[1;33m)\u001b[0m\u001b[1;33m\u001b[0m\u001b[1;33m\u001b[0m\u001b[0m\n\u001b[0m\u001b[0;32m   2045\u001b[0m                     \u001b[1;32mexcept\u001b[0m \u001b[0mException\u001b[0m\u001b[1;33m:\u001b[0m\u001b[1;33m\u001b[0m\u001b[1;33m\u001b[0m\u001b[0m\n",
      "\u001b[1;31mAttributeError\u001b[0m: 'ImportError' object has no attribute '_render_traceback_'",
      "\nDuring handling of the above exception, another exception occurred:\n",
      "\u001b[1;31mTypeError\u001b[0m                                 Traceback (most recent call last)",
      "\u001b[1;32m~\\Anaconda3\\lib\\site-packages\\IPython\\core\\interactiveshell.py\u001b[0m in \u001b[0;36mrun_code\u001b[1;34m(self, code_obj, result, async_)\u001b[0m\n\u001b[0;32m   3346\u001b[0m             \u001b[1;32mif\u001b[0m \u001b[0mresult\u001b[0m \u001b[1;32mis\u001b[0m \u001b[1;32mnot\u001b[0m \u001b[1;32mNone\u001b[0m\u001b[1;33m:\u001b[0m\u001b[1;33m\u001b[0m\u001b[1;33m\u001b[0m\u001b[0m\n\u001b[0;32m   3347\u001b[0m                 \u001b[0mresult\u001b[0m\u001b[1;33m.\u001b[0m\u001b[0merror_in_exec\u001b[0m \u001b[1;33m=\u001b[0m \u001b[0msys\u001b[0m\u001b[1;33m.\u001b[0m\u001b[0mexc_info\u001b[0m\u001b[1;33m(\u001b[0m\u001b[1;33m)\u001b[0m\u001b[1;33m[\u001b[0m\u001b[1;36m1\u001b[0m\u001b[1;33m]\u001b[0m\u001b[1;33m\u001b[0m\u001b[1;33m\u001b[0m\u001b[0m\n\u001b[1;32m-> 3348\u001b[1;33m             \u001b[0mself\u001b[0m\u001b[1;33m.\u001b[0m\u001b[0mshowtraceback\u001b[0m\u001b[1;33m(\u001b[0m\u001b[0mrunning_compiled_code\u001b[0m\u001b[1;33m=\u001b[0m\u001b[1;32mTrue\u001b[0m\u001b[1;33m)\u001b[0m\u001b[1;33m\u001b[0m\u001b[1;33m\u001b[0m\u001b[0m\n\u001b[0m\u001b[0;32m   3349\u001b[0m         \u001b[1;32melse\u001b[0m\u001b[1;33m:\u001b[0m\u001b[1;33m\u001b[0m\u001b[1;33m\u001b[0m\u001b[0m\n\u001b[0;32m   3350\u001b[0m             \u001b[0moutflag\u001b[0m \u001b[1;33m=\u001b[0m \u001b[1;32mFalse\u001b[0m\u001b[1;33m\u001b[0m\u001b[1;33m\u001b[0m\u001b[0m\n",
      "\u001b[1;32m~\\Anaconda3\\lib\\site-packages\\IPython\\core\\interactiveshell.py\u001b[0m in \u001b[0;36mshowtraceback\u001b[1;34m(self, exc_tuple, filename, tb_offset, exception_only, running_compiled_code)\u001b[0m\n\u001b[0;32m   2045\u001b[0m                     \u001b[1;32mexcept\u001b[0m \u001b[0mException\u001b[0m\u001b[1;33m:\u001b[0m\u001b[1;33m\u001b[0m\u001b[1;33m\u001b[0m\u001b[0m\n\u001b[0;32m   2046\u001b[0m                         stb = self.InteractiveTB.structured_traceback(etype,\n\u001b[1;32m-> 2047\u001b[1;33m                                             value, tb, tb_offset=tb_offset)\n\u001b[0m\u001b[0;32m   2048\u001b[0m \u001b[1;33m\u001b[0m\u001b[0m\n\u001b[0;32m   2049\u001b[0m                     \u001b[0mself\u001b[0m\u001b[1;33m.\u001b[0m\u001b[0m_showtraceback\u001b[0m\u001b[1;33m(\u001b[0m\u001b[0metype\u001b[0m\u001b[1;33m,\u001b[0m \u001b[0mvalue\u001b[0m\u001b[1;33m,\u001b[0m \u001b[0mstb\u001b[0m\u001b[1;33m)\u001b[0m\u001b[1;33m\u001b[0m\u001b[1;33m\u001b[0m\u001b[0m\n",
      "\u001b[1;32m~\\Anaconda3\\lib\\site-packages\\IPython\\core\\ultratb.py\u001b[0m in \u001b[0;36mstructured_traceback\u001b[1;34m(self, etype, value, tb, tb_offset, number_of_lines_of_context)\u001b[0m\n\u001b[0;32m   1416\u001b[0m             \u001b[0mself\u001b[0m\u001b[1;33m.\u001b[0m\u001b[0mtb\u001b[0m \u001b[1;33m=\u001b[0m \u001b[0mtb\u001b[0m\u001b[1;33m\u001b[0m\u001b[1;33m\u001b[0m\u001b[0m\n\u001b[0;32m   1417\u001b[0m         return FormattedTB.structured_traceback(\n\u001b[1;32m-> 1418\u001b[1;33m             self, etype, value, tb, tb_offset, number_of_lines_of_context)\n\u001b[0m\u001b[0;32m   1419\u001b[0m \u001b[1;33m\u001b[0m\u001b[0m\n\u001b[0;32m   1420\u001b[0m \u001b[1;33m\u001b[0m\u001b[0m\n",
      "\u001b[1;32m~\\Anaconda3\\lib\\site-packages\\IPython\\core\\ultratb.py\u001b[0m in \u001b[0;36mstructured_traceback\u001b[1;34m(self, etype, value, tb, tb_offset, number_of_lines_of_context)\u001b[0m\n\u001b[0;32m   1316\u001b[0m             \u001b[1;31m# Verbose modes need a full traceback\u001b[0m\u001b[1;33m\u001b[0m\u001b[1;33m\u001b[0m\u001b[1;33m\u001b[0m\u001b[0m\n\u001b[0;32m   1317\u001b[0m             return VerboseTB.structured_traceback(\n\u001b[1;32m-> 1318\u001b[1;33m                 \u001b[0mself\u001b[0m\u001b[1;33m,\u001b[0m \u001b[0metype\u001b[0m\u001b[1;33m,\u001b[0m \u001b[0mvalue\u001b[0m\u001b[1;33m,\u001b[0m \u001b[0mtb\u001b[0m\u001b[1;33m,\u001b[0m \u001b[0mtb_offset\u001b[0m\u001b[1;33m,\u001b[0m \u001b[0mnumber_of_lines_of_context\u001b[0m\u001b[1;33m\u001b[0m\u001b[1;33m\u001b[0m\u001b[0m\n\u001b[0m\u001b[0;32m   1319\u001b[0m             )\n\u001b[0;32m   1320\u001b[0m         \u001b[1;32melif\u001b[0m \u001b[0mmode\u001b[0m \u001b[1;33m==\u001b[0m \u001b[1;34m'Minimal'\u001b[0m\u001b[1;33m:\u001b[0m\u001b[1;33m\u001b[0m\u001b[1;33m\u001b[0m\u001b[0m\n",
      "\u001b[1;32m~\\Anaconda3\\lib\\site-packages\\IPython\\core\\ultratb.py\u001b[0m in \u001b[0;36mstructured_traceback\u001b[1;34m(self, etype, evalue, etb, tb_offset, number_of_lines_of_context)\u001b[0m\n\u001b[0;32m   1184\u001b[0m         \u001b[0mexception\u001b[0m \u001b[1;33m=\u001b[0m \u001b[0mself\u001b[0m\u001b[1;33m.\u001b[0m\u001b[0mget_parts_of_chained_exception\u001b[0m\u001b[1;33m(\u001b[0m\u001b[0mevalue\u001b[0m\u001b[1;33m)\u001b[0m\u001b[1;33m\u001b[0m\u001b[1;33m\u001b[0m\u001b[0m\n\u001b[0;32m   1185\u001b[0m         \u001b[1;32mif\u001b[0m \u001b[0mexception\u001b[0m\u001b[1;33m:\u001b[0m\u001b[1;33m\u001b[0m\u001b[1;33m\u001b[0m\u001b[0m\n\u001b[1;32m-> 1186\u001b[1;33m             \u001b[0mformatted_exceptions\u001b[0m \u001b[1;33m+=\u001b[0m \u001b[0mself\u001b[0m\u001b[1;33m.\u001b[0m\u001b[0mprepare_chained_exception_message\u001b[0m\u001b[1;33m(\u001b[0m\u001b[0mevalue\u001b[0m\u001b[1;33m.\u001b[0m\u001b[0m__cause__\u001b[0m\u001b[1;33m)\u001b[0m\u001b[1;33m\u001b[0m\u001b[1;33m\u001b[0m\u001b[0m\n\u001b[0m\u001b[0;32m   1187\u001b[0m             \u001b[0metype\u001b[0m\u001b[1;33m,\u001b[0m \u001b[0mevalue\u001b[0m\u001b[1;33m,\u001b[0m \u001b[0metb\u001b[0m \u001b[1;33m=\u001b[0m \u001b[0mexception\u001b[0m\u001b[1;33m\u001b[0m\u001b[1;33m\u001b[0m\u001b[0m\n\u001b[0;32m   1188\u001b[0m         \u001b[1;32melse\u001b[0m\u001b[1;33m:\u001b[0m\u001b[1;33m\u001b[0m\u001b[1;33m\u001b[0m\u001b[0m\n",
      "\u001b[1;31mTypeError\u001b[0m: can only concatenate str (not \"list\") to str"
     ]
    }
   ],
   "source": [
    "import numpy as np\n",
    "import pandas as pd\n",
    "import matplotlib.pyplot as plt\n",
    "import re\n",
    "import os\n",
    "import time\n",
    "import h5py\n",
    "import copy\n",
    "import datetime\n",
    "import ta\n",
    "import yfinance as yf\n",
    "import tensorflow as tf\n",
    "import pyodbc\n",
    "# Preprocessing\n",
    "from sklearn.model_selection import train_test_split\n",
    "from sklearn.preprocessing import StandardScaler\n",
    "from sklearn.preprocessing import MinMaxScaler\n",
    "from sklearn.preprocessing import Normalizer\n",
    "from sklearn.preprocessing import PowerTransformer\n",
    "from sklearn.preprocessing import QuantileTransformer\n",
    "from sklearn.preprocessing import RobustScaler\n",
    "\n",
    "# Models\n",
    "from sklearn.linear_model import LogisticRegression\n",
    "from sklearn.model_selection import StratifiedKFold\n",
    "from sklearn.exceptions import ConvergenceWarning \n",
    "# ConvergenceWarning('ignore')\n",
    "# Do you wanna see?\n",
    "verbose = True\n",
    "\n",
    "import sys\n",
    "sys.path.append('../')\n",
    "\n",
    "from utils.data_extraction import load_data\n",
    "from utils.data_cleaning import HFDataCleaning\n",
    "from utils.generate_features import candleCreateNP_vect_final,\\\n",
    "                                    generateFeatures_final\n",
    "from utils.preprocessing_features_and_labels import extract_labels,\\\n",
    "                                                    align_features_and_labels,\\\n",
    "                                                    pre_processing_initial,\\\n",
    "                                                    pre_processing_extended,\\\n",
    "                                                    pre_processing"
   ]
  },
  {
   "cell_type": "markdown",
   "metadata": {},
   "source": [
    "### Load data etc"
   ]
  },
  {
   "cell_type": "code",
   "execution_count": null,
   "metadata": {},
   "outputs": [],
   "source": [
    "stockInfo = pd.read_csv('../utils/stockInfo.csv',header=[0,1])"
   ]
  },
  {
   "cell_type": "code",
   "execution_count": null,
   "metadata": {},
   "outputs": [],
   "source": [
    "# How many are there contained in the file?\n",
    "print('There is',\n",
    "      stockInfo.shape[0],\n",
    "      'tickers contained in the file, and there is data on',\n",
    "      stockInfo.isnull().sum()[1:].min(),'of them.')"
   ]
  },
  {
   "cell_type": "markdown",
   "metadata": {},
   "source": [
    "## Sneak peak on the 10 largest companies"
   ]
  },
  {
   "cell_type": "code",
   "execution_count": null,
   "metadata": {},
   "outputs": [],
   "source": [
    "\n",
    "stockInfo.sort_values(('2020-07-05','marketCap'),ascending=False).head(10)"
   ]
  },
  {
   "cell_type": "markdown",
   "metadata": {},
   "source": [
    "## How is the tickers divided in sectors?"
   ]
  },
  {
   "cell_type": "code",
   "execution_count": null,
   "metadata": {},
   "outputs": [],
   "source": [
    "stockInfo.loc[:,('2020-07-05')].groupby(['sector']).count()#rename(None,axis=1)"
   ]
  },
  {
   "cell_type": "markdown",
   "metadata": {},
   "source": [
    "## Lets get the X largest companies in each sector."
   ]
  },
  {
   "cell_type": "code",
   "execution_count": 2,
   "metadata": {},
   "outputs": [
    {
     "ename": "NameError",
     "evalue": "name 'stockInfo' is not defined",
     "output_type": "error",
     "traceback": [
      "\u001b[1;31m---------------------------------------------------------------------------\u001b[0m",
      "\u001b[1;31mNameError\u001b[0m                                 Traceback (most recent call last)",
      "\u001b[1;32m<ipython-input-2-b4533fa01214>\u001b[0m in \u001b[0;36m<module>\u001b[1;34m\u001b[0m\n\u001b[1;32m----> 1\u001b[1;33m \u001b[0msectors\u001b[0m \u001b[1;33m=\u001b[0m \u001b[0mstockInfo\u001b[0m\u001b[1;33m.\u001b[0m\u001b[0mloc\u001b[0m\u001b[1;33m[\u001b[0m\u001b[1;33m:\u001b[0m\u001b[1;33m,\u001b[0m\u001b[1;33m(\u001b[0m\u001b[1;34m'2020-07-05'\u001b[0m\u001b[1;33m)\u001b[0m\u001b[1;33m]\u001b[0m\u001b[1;33m.\u001b[0m\u001b[0mdropna\u001b[0m\u001b[1;33m(\u001b[0m\u001b[0maxis\u001b[0m\u001b[1;33m=\u001b[0m\u001b[1;36m0\u001b[0m\u001b[1;33m)\u001b[0m\u001b[1;33m.\u001b[0m\u001b[0msector\u001b[0m\u001b[1;33m.\u001b[0m\u001b[0munique\u001b[0m\u001b[1;33m(\u001b[0m\u001b[1;33m)\u001b[0m\u001b[1;33m\u001b[0m\u001b[1;33m\u001b[0m\u001b[0m\n\u001b[0m\u001b[0;32m      2\u001b[0m \u001b[1;33m\u001b[0m\u001b[0m\n\u001b[0;32m      3\u001b[0m \u001b[0mX\u001b[0m \u001b[1;33m=\u001b[0m \u001b[1;36m5\u001b[0m\u001b[1;33m\u001b[0m\u001b[1;33m\u001b[0m\u001b[0m\n\u001b[0;32m      4\u001b[0m \u001b[1;33m\u001b[0m\u001b[0m\n\u001b[0;32m      5\u001b[0m \u001b[0mtopXsectors\u001b[0m \u001b[1;33m=\u001b[0m \u001b[0mpd\u001b[0m\u001b[1;33m.\u001b[0m\u001b[0mDataFrame\u001b[0m\u001b[1;33m(\u001b[0m\u001b[0mindex\u001b[0m \u001b[1;33m=\u001b[0m \u001b[0mnp\u001b[0m\u001b[1;33m.\u001b[0m\u001b[0marange\u001b[0m\u001b[1;33m(\u001b[0m\u001b[0mX\u001b[0m\u001b[1;33m)\u001b[0m\u001b[1;33m,\u001b[0m\u001b[0mcolumns\u001b[0m \u001b[1;33m=\u001b[0m \u001b[0mpd\u001b[0m\u001b[1;33m.\u001b[0m\u001b[0mMultiIndex\u001b[0m\u001b[1;33m.\u001b[0m\u001b[0mfrom_product\u001b[0m\u001b[1;33m(\u001b[0m\u001b[1;33m[\u001b[0m\u001b[1;33m[\u001b[0m\u001b[1;34m'Top {}'\u001b[0m\u001b[1;33m.\u001b[0m\u001b[0mformat\u001b[0m\u001b[1;33m(\u001b[0m\u001b[0mX\u001b[0m\u001b[1;33m)\u001b[0m\u001b[1;33m]\u001b[0m\u001b[1;33m,\u001b[0m\u001b[0msectors\u001b[0m\u001b[1;33m]\u001b[0m\u001b[1;33m)\u001b[0m\u001b[1;33m)\u001b[0m\u001b[1;33m\u001b[0m\u001b[1;33m\u001b[0m\u001b[0m\n",
      "\u001b[1;31mNameError\u001b[0m: name 'stockInfo' is not defined"
     ]
    }
   ],
   "source": [
    "sectors = stockInfo.loc[:,('2020-07-05')].dropna(axis=0).sector.unique()\n",
    "\n",
    "X = 5\n",
    "\n",
    "topXsectors = pd.DataFrame(index = np.arange(X),columns = pd.MultiIndex.from_product([['Top {}'.format(X)],sectors]))\n",
    "\n",
    "t1 = pd.DataFrame({'tickers':stockInfo.loc[:,'date'].ticker.values})\n",
    "t1[stockInfo.loc[:,'2020-07-05'].columns] = stockInfo.loc[:,'2020-07-05']\n",
    "\n",
    "for i,sector in enumerate(sectors):\n",
    "    \n",
    "    tempSec = t1[t1.sector==sector].sort_values('marketCap',\n",
    "                                                      ascending=False).dropna(axis=0).values.T\n",
    "    \n",
    "    Y = len(tempSec[0][0:X]) \n",
    "\n",
    "    topXsectors.loc[0:(Y-1),('Top {}'.format(X),sector)] = tempSec[0][0:Y]"
   ]
  },
  {
   "cell_type": "code",
   "execution_count": 42,
   "metadata": {},
   "outputs": [
    {
     "data": {
      "text/html": [
       "<div>\n",
       "<style scoped>\n",
       "    .dataframe tbody tr th:only-of-type {\n",
       "        vertical-align: middle;\n",
       "    }\n",
       "\n",
       "    .dataframe tbody tr th {\n",
       "        vertical-align: top;\n",
       "    }\n",
       "\n",
       "    .dataframe thead tr th {\n",
       "        text-align: left;\n",
       "    }\n",
       "</style>\n",
       "<table border=\"1\" class=\"dataframe\">\n",
       "  <thead>\n",
       "    <tr>\n",
       "      <th></th>\n",
       "      <th colspan=\"12\" halign=\"left\">Top 5</th>\n",
       "    </tr>\n",
       "    <tr>\n",
       "      <th></th>\n",
       "      <th>Healthcare</th>\n",
       "      <th>Basic Materials</th>\n",
       "      <th>Consumer Defensive</th>\n",
       "      <th>Industrials</th>\n",
       "      <th>Financial Services</th>\n",
       "      <th>Technology</th>\n",
       "      <th>Consumer Cyclical</th>\n",
       "      <th>Real Estate</th>\n",
       "      <th>Utilities</th>\n",
       "      <th>Communication Services</th>\n",
       "      <th>Energy</th>\n",
       "      <th>Financial</th>\n",
       "    </tr>\n",
       "  </thead>\n",
       "  <tbody>\n",
       "    <tr>\n",
       "      <th>0</th>\n",
       "      <td>JNJ</td>\n",
       "      <td>BHP</td>\n",
       "      <td>WMT</td>\n",
       "      <td>UNP</td>\n",
       "      <td>V</td>\n",
       "      <td>AAPL</td>\n",
       "      <td>BABA</td>\n",
       "      <td>AMT</td>\n",
       "      <td>D</td>\n",
       "      <td>GOOG</td>\n",
       "      <td>PTR</td>\n",
       "      <td>IIM</td>\n",
       "    </tr>\n",
       "    <tr>\n",
       "      <th>1</th>\n",
       "      <td>NVS</td>\n",
       "      <td>LIN</td>\n",
       "      <td>KO</td>\n",
       "      <td>BA</td>\n",
       "      <td>MA</td>\n",
       "      <td>MSFT</td>\n",
       "      <td>TSLA</td>\n",
       "      <td>CCI</td>\n",
       "      <td>SO</td>\n",
       "      <td>FB</td>\n",
       "      <td>BP</td>\n",
       "      <td>ZTR</td>\n",
       "    </tr>\n",
       "    <tr>\n",
       "      <th>2</th>\n",
       "      <td>PFE</td>\n",
       "      <td>ECL</td>\n",
       "      <td>PEP</td>\n",
       "      <td>LMT</td>\n",
       "      <td>PYPL</td>\n",
       "      <td>TSM</td>\n",
       "      <td>TM</td>\n",
       "      <td>PLD</td>\n",
       "      <td>AEP</td>\n",
       "      <td>T</td>\n",
       "      <td>SNP</td>\n",
       "      <td>OTTW</td>\n",
       "    </tr>\n",
       "    <tr>\n",
       "      <th>3</th>\n",
       "      <td>ABBV</td>\n",
       "      <td>APD</td>\n",
       "      <td>COST</td>\n",
       "      <td>UPS</td>\n",
       "      <td>BAC</td>\n",
       "      <td>INTC</td>\n",
       "      <td>NKE</td>\n",
       "      <td>PSA</td>\n",
       "      <td>EXC</td>\n",
       "      <td>DIS</td>\n",
       "      <td>ENB</td>\n",
       "      <td>NaN</td>\n",
       "    </tr>\n",
       "    <tr>\n",
       "      <th>4</th>\n",
       "      <td>ABT</td>\n",
       "      <td>SHW</td>\n",
       "      <td>FMX</td>\n",
       "      <td>RTX</td>\n",
       "      <td>LFC</td>\n",
       "      <td>NVDA</td>\n",
       "      <td>MCD</td>\n",
       "      <td>CSGP</td>\n",
       "      <td>SRE</td>\n",
       "      <td>CHL</td>\n",
       "      <td>PBR</td>\n",
       "      <td>NaN</td>\n",
       "    </tr>\n",
       "  </tbody>\n",
       "</table>\n",
       "</div>"
      ],
      "text/plain": [
       "       Top 5                                                 \\\n",
       "  Healthcare Basic Materials Consumer Defensive Industrials   \n",
       "0        JNJ             BHP                WMT         UNP   \n",
       "1        NVS             LIN                 KO          BA   \n",
       "2        PFE             ECL                PEP         LMT   \n",
       "3       ABBV             APD               COST         UPS   \n",
       "4        ABT             SHW                FMX         RTX   \n",
       "\n",
       "                                                                         \\\n",
       "  Financial Services Technology Consumer Cyclical Real Estate Utilities   \n",
       "0                  V       AAPL              BABA         AMT         D   \n",
       "1                 MA       MSFT              TSLA         CCI        SO   \n",
       "2               PYPL        TSM                TM         PLD       AEP   \n",
       "3                BAC       INTC               NKE         PSA       EXC   \n",
       "4                LFC       NVDA               MCD        CSGP       SRE   \n",
       "\n",
       "                                           \n",
       "  Communication Services Energy Financial  \n",
       "0                   GOOG    PTR       IIM  \n",
       "1                     FB     BP       ZTR  \n",
       "2                      T    SNP      OTTW  \n",
       "3                    DIS    ENB       NaN  \n",
       "4                    CHL    PBR       NaN  "
      ]
     },
     "execution_count": 42,
     "metadata": {},
     "output_type": "execute_result"
    }
   ],
   "source": [
    "topXsectors"
   ]
  },
  {
   "cell_type": "markdown",
   "metadata": {},
   "source": [
    "## Let's extract some data now!"
   ]
  },
  {
   "cell_type": "code",
   "execution_count": 50,
   "metadata": {},
   "outputs": [
    {
     "name": "stdout",
     "output_type": "stream",
     "text": [
      "['.ipynb_checkpoints', 'Old Versions', 'preprocessing.ipynb', 'Quote_vs_trade_candles.ipynb', 'testing_and_comparing_candlesticks.ipynb', 'testing_features.ipynb', 'testing_preprocessing_features_and_labels.ipynb']\n",
      "8545 ['taq_19930315.h5', 'taq_19930104.h5', 'taq_19930317.h5', 'taq_19930105.h5', 'taq_19930316.h5'] ['taqtrade_20200624.h5', 'taqtrade_20200629.h5', 'taqquote_20200602.h5', 'taqquote_20200605.h5', 'taqquote_20200610.h5']\n",
      "['taqtrade_20200605.h5', 'taqtrade_20200609.h5', 'taqtrade_20200611.h5', 'taqtrade_20200616.h5', 'taqtrade_20200619.h5', 'taqtrade_20200624.h5', 'taqtrade_20200629.h5', 'taqquote_20200602.h5', 'taqquote_20200605.h5', 'taqquote_20200610.h5']\n",
      "##### Date range #####\n",
      "\n",
      "Date, Min: 20200401\n",
      "Date, Max: 20200431\n",
      "\n",
      "##### Data Extraction begins #####\n",
      "\n",
      "trade data is being extracted..\n",
      "\n",
      "### Trade Data ###\n",
      "\n",
      "The raw H5 trade file contains:  ['TradeIndex', 'Trades'] \n",
      "\n",
      "Ticker Information:  (b'GOOG            ', 26900500, 71427) \n",
      "\n",
      "Sneak peak of the data\n",
      "\n",
      "            utcsec ex  cond  volume    price TradeStopStockIndicator corr  \\\n",
      "0  14400048517953  P  @ TI      67  1139.44                           00   \n",
      "1  14422296771981  P  @ TI      20  1138.55                           00   \n",
      "2  14429472894282  Q  @FTI       1  1138.54                           00   \n",
      "3  14506997225243  P  @ TI      31  1143.65                           00   \n",
      "4  14516526073882  P  @ TI       1  1143.59                           00   \n",
      "\n",
      "   TradeSequenceNumber TradeID SourceOfTrade TradeReportingFacility  \\\n",
      "0                 1507       1             N                          \n",
      "1                 1552       2             N                          \n",
      "2                 1554       1             N                          \n",
      "3                 1581       3             N                          \n",
      "4                 1587       4             N                          \n",
      "\n",
      "   ParticipantTime  TRFTime TTE      Date                  Timestamp  \\\n",
      "0   14400048141056       99   0  20200401 2020-04-01 04:00:00.048517   \n",
      "1   14422296394240       99   0  20200401 2020-04-01 04:00:22.296771   \n",
      "2   14429472872353       99   1  20200401 2020-04-01 04:00:29.472894   \n",
      "3   14506996848640       99   0  20200401 2020-04-01 04:01:46.997225   \n",
      "4   14516525699840       99   0  20200401 2020-04-01 04:01:56.526073   \n",
      "\n",
      "  TSRemainder  Hour  Minute Ticker  \n",
      "0         953     4       0   GOOG  \n",
      "1         981     4       0   GOOG  \n",
      "2         282     4       0   GOOG  \n",
      "3         243     4       1   GOOG  \n",
      "4         882     4       1   GOOG  \n",
      "The extraction time was 345.767 seconds.\n"
     ]
    }
   ],
   "source": [
    "# print(os.listdir())\n",
    "try:\n",
    "    path = 'a:/taqhdf5'  #'a:/taqhdf5'\n",
    "    os.listdir(path)\n",
    "except:\n",
    "    path = 't:/taqhdf5'  #'a:/taqhdf5'\n",
    "    os.listdir(path)    \n",
    "# allFiles = os.listdir(path)\n",
    "# print(len(allFiles), allFiles[:5], allFiles[-5:])\n",
    "# print(allFiles[-10:])\n",
    "\n",
    "dates = np.array(['2020040' + str(i) if i < 10 else '202004' + str(i) for i in np.arange(1,32)]).astype(int)\n",
    "# dates = np.array(['20200401']).astype(int)#,'20200402','20200403','20200406','20200407'\n",
    "\n",
    "# Provide a list of tickers of interest\n",
    "tickers = ['GOOG']#'MSFT'\n",
    "\n",
    "# Do we need data on trades, quotes or both?\n",
    "dataNeeded = 'trades' # 'trades', 'quotes' or 'both'\n",
    "\n",
    "# run load_data()\n",
    "if dataNeeded == 'trades':\n",
    "    tradeData = load_data(dates, tickers, dataNeeded, path, verbose)\n",
    "elif dataNeeded == 'quotes':\n",
    "    quoteData = load_data(dates, tickers, dataNeeded, path, verbose)\n",
    "elif dataNeeded == 'both':\n",
    "    tradeData, quoteData = load_data(dates, tickers, dataNeeded, path, verbose)"
   ]
  },
  {
   "cell_type": "markdown",
   "metadata": {},
   "source": [
    "## Data Cleaning, Feature Engineering & Pre Processing"
   ]
  },
  {
   "cell_type": "markdown",
   "metadata": {},
   "source": [
    "# Implemented technical features\n",
    "\n",
    "A library: https://technical-analysis-library-in-python.readthedocs.io/en/latest/\n",
    "\n",
    "### Features used in the literature:\n",
    "\n",
    "* Stochastic K\n",
    "* Stochastic D\n",
    "* Slow Stochastic D\n",
    "* Momentum/difference\n",
    "* ROC\n",
    "* Williams % R\n",
    "* A/D Oscillator\n",
    "* Disparity 5\n",
    "* Disparity 10\n",
    "* Price Oscillator - (detrended)\n",
    "* Commodity Channel Index\n",
    "* RSI\n",
    "\n",
    "Formulas: https://papers.ssrn.com/sol3/papers.cfm?abstract_id=876544\n",
    "\n",
    "* Moving Average\n",
    "* Exponential Moving Average\n",
    "* True Range - (Average)\n",
    "\n",
    "Formulas: https://www.sciencedirect.com/science/article/pii/S0957417407001819?via%3Dihub\n",
    "\n",
    "#### Other Technical Features\n",
    "* Moving Average Convergence Divergence (MACD)\n",
    "\n",
    "**Non-classical technical features** - **NOT IMPLEMENTED**\n",
    "\n",
    "* Bid/Ask prices of top of book\n",
    "* Spread and mid price based on top og book\n",
    "* Price derivatives\n",
    "\n",
    "Formulas: https://www.tandfonline.com/doi/full/10.1080/14697688.2015.1032546?instName=UCL+%28University+College+London%29"
   ]
  },
  {
   "cell_type": "code",
   "execution_count": 69,
   "metadata": {},
   "outputs": [],
   "source": [
    "########### Clean data ###########\n",
    "    \n",
    "DATA_SAMPLE = 'full' # or 'stable'\n",
    "\n",
    "if DATA_SAMPLE == 'stable':\n",
    "    # P1 is used for keeping data within [9.5, 16]\n",
    "    cleanedData = HFDataCleaning(['P1','p2','t1','p3'],tradeData,'trade',['q'])\n",
    "elif DATA_SAMPLE == 'full':\n",
    "    # P1_2 is used for keeping data within [9, 16.5]\n",
    "    cleanedData = HFDataCleaning(['P1_2','p2', 't1', 'p3'],tradeData,'trade',['q'])#'t1',tradeData # q2, quotedate\n",
    "    \n",
    "########### Construct Candles ################\n",
    "# candles = candleCreateNP_vect_final(cleanedData\n",
    "#                          ,1)\n",
    "\n",
    "candles = candleCreateNP_vect_final(data = cleanedData,\n",
    "                                       step = 1,\n",
    "                                        verbose=False,\n",
    "                                        fillHoles=True,\n",
    "                                        sample='stable',\n",
    "                                        numpied=True)\n",
    "\n",
    "########### Generate Features ################\n",
    "\n",
    "n_feature_lags = 0\n",
    "features = generateFeatures_final(data = candles, \n",
    "                                  listOfFeatures = [\n",
    "                                                    'pastobs',\n",
    "                                                    'stok',\n",
    "                                                    'stod',\n",
    "                                                    'sstod',\n",
    "                                                    'wilr',\n",
    "                                                    'roc',\n",
    "                                                    'rsi',\n",
    "                                                    'atr',\n",
    "                                                    'cci',\n",
    "                                                    'dpo',\n",
    "                                                    'sma',\n",
    "                                                    'ema',\n",
    "                                                    'macd',\n",
    "                                                    'dis5',\n",
    "                                                    'dis10',\n",
    "                                                   ], \n",
    "                                   feature_lags = n_feature_lags)\n",
    "\n",
    "########### Generate Labels ################\n",
    "\n",
    "n_classes = 3\n",
    "\n",
    "labels = extract_labels(data = candles, classes = n_classes, group_style = 'equal')\n",
    "\n",
    "########### Align Data ################\n",
    "\n",
    "# from imported function (see testing_preprocessing_features_and_labels.ipynb for thorough experimenting with all the cut-offs):    \n",
    "X, y = align_features_and_labels(candles = candles, \n",
    "                                 prediction_horizon = 1, \n",
    "                                 features = features, \n",
    "                                 n_feature_lags = n_feature_lags, \n",
    "                                 n_classes = n_classes, # 5,\n",
    "                                 safe_burn_in = False, \n",
    "                                 data_sample = 'full')"
   ]
  },
  {
   "cell_type": "markdown",
   "metadata": {},
   "source": [
    "## Let's investigate the features a little bit"
   ]
  },
  {
   "cell_type": "code",
   "execution_count": 7,
   "metadata": {},
   "outputs": [
    {
     "data": {
      "text/html": [
       "<div>\n",
       "<style scoped>\n",
       "    .dataframe tbody tr th:only-of-type {\n",
       "        vertical-align: middle;\n",
       "    }\n",
       "\n",
       "    .dataframe tbody tr th {\n",
       "        vertical-align: top;\n",
       "    }\n",
       "\n",
       "    .dataframe thead th {\n",
       "        text-align: right;\n",
       "    }\n",
       "</style>\n",
       "<table border=\"1\" class=\"dataframe\">\n",
       "  <thead>\n",
       "    <tr style=\"text-align: right;\">\n",
       "      <th></th>\n",
       "      <th>open_lag0</th>\n",
       "      <th>high_lag0</th>\n",
       "      <th>low_lag0</th>\n",
       "      <th>close_lag0</th>\n",
       "      <th>stok_lag0</th>\n",
       "      <th>stod_lag0</th>\n",
       "      <th>sstod_lag0</th>\n",
       "      <th>wilr_lag0</th>\n",
       "      <th>roc_lag0</th>\n",
       "      <th>rsi_lag0</th>\n",
       "      <th>...</th>\n",
       "      <th>atr_lag5</th>\n",
       "      <th>cci_lag5</th>\n",
       "      <th>dpo_lag5</th>\n",
       "      <th>sma_lag5</th>\n",
       "      <th>ema_lag5</th>\n",
       "      <th>macd_lag5</th>\n",
       "      <th>macd_diff_lag5</th>\n",
       "      <th>macd_signal_lag5</th>\n",
       "      <th>dis5_lag5</th>\n",
       "      <th>dis10_lag5</th>\n",
       "    </tr>\n",
       "  </thead>\n",
       "  <tbody>\n",
       "    <tr>\n",
       "      <th>count</th>\n",
       "      <td>8151.000000</td>\n",
       "      <td>8151.000000</td>\n",
       "      <td>8151.000000</td>\n",
       "      <td>8151.000000</td>\n",
       "      <td>8151.000000</td>\n",
       "      <td>8.151000e+03</td>\n",
       "      <td>8151.000000</td>\n",
       "      <td>8151.000000</td>\n",
       "      <td>8151.000000</td>\n",
       "      <td>8151.000000</td>\n",
       "      <td>...</td>\n",
       "      <td>8151.000000</td>\n",
       "      <td>8151.000000</td>\n",
       "      <td>8151.000000</td>\n",
       "      <td>8151.000000</td>\n",
       "      <td>8151.000000</td>\n",
       "      <td>8151.000000</td>\n",
       "      <td>8151.000000</td>\n",
       "      <td>8151.000000</td>\n",
       "      <td>8151.000000</td>\n",
       "      <td>8151.000000</td>\n",
       "    </tr>\n",
       "    <tr>\n",
       "      <th>mean</th>\n",
       "      <td>1232.705101</td>\n",
       "      <td>1233.456892</td>\n",
       "      <td>1231.935172</td>\n",
       "      <td>1232.703159</td>\n",
       "      <td>52.681988</td>\n",
       "      <td>5.268138e+01</td>\n",
       "      <td>52.642132</td>\n",
       "      <td>-47.318012</td>\n",
       "      <td>0.028241</td>\n",
       "      <td>51.190218</td>\n",
       "      <td>...</td>\n",
       "      <td>1.570900</td>\n",
       "      <td>5.548864</td>\n",
       "      <td>-0.040461</td>\n",
       "      <td>1232.413966</td>\n",
       "      <td>1232.414681</td>\n",
       "      <td>0.183515</td>\n",
       "      <td>0.001065</td>\n",
       "      <td>0.182450</td>\n",
       "      <td>100.004541</td>\n",
       "      <td>100.010114</td>\n",
       "    </tr>\n",
       "    <tr>\n",
       "      <th>std</th>\n",
       "      <td>65.838826</td>\n",
       "      <td>65.740651</td>\n",
       "      <td>65.947922</td>\n",
       "      <td>65.840834</td>\n",
       "      <td>32.274320</td>\n",
       "      <td>3.027833e+01</td>\n",
       "      <td>24.263828</td>\n",
       "      <td>32.274320</td>\n",
       "      <td>0.526921</td>\n",
       "      <td>13.154166</td>\n",
       "      <td>...</td>\n",
       "      <td>0.801761</td>\n",
       "      <td>112.741777</td>\n",
       "      <td>2.521165</td>\n",
       "      <td>65.799244</td>\n",
       "      <td>65.772941</td>\n",
       "      <td>2.079254</td>\n",
       "      <td>0.631585</td>\n",
       "      <td>1.956223</td>\n",
       "      <td>0.165825</td>\n",
       "      <td>0.256808</td>\n",
       "    </tr>\n",
       "    <tr>\n",
       "      <th>min</th>\n",
       "      <td>1080.055000</td>\n",
       "      <td>1081.145000</td>\n",
       "      <td>1079.665000</td>\n",
       "      <td>1080.155000</td>\n",
       "      <td>0.000000</td>\n",
       "      <td>1.979898e-13</td>\n",
       "      <td>3.799185</td>\n",
       "      <td>-100.000000</td>\n",
       "      <td>-2.886946</td>\n",
       "      <td>7.905906</td>\n",
       "      <td>...</td>\n",
       "      <td>0.513762</td>\n",
       "      <td>-500.079470</td>\n",
       "      <td>-58.668500</td>\n",
       "      <td>1082.186250</td>\n",
       "      <td>1082.479799</td>\n",
       "      <td>-9.010780</td>\n",
       "      <td>-4.158530</td>\n",
       "      <td>-7.832363</td>\n",
       "      <td>98.901425</td>\n",
       "      <td>98.614091</td>\n",
       "    </tr>\n",
       "    <tr>\n",
       "      <th>25%</th>\n",
       "      <td>1199.587500</td>\n",
       "      <td>1200.417500</td>\n",
       "      <td>1198.775000</td>\n",
       "      <td>1199.542500</td>\n",
       "      <td>22.318774</td>\n",
       "      <td>2.393214e+01</td>\n",
       "      <td>31.906291</td>\n",
       "      <td>-77.681226</td>\n",
       "      <td>-0.186311</td>\n",
       "      <td>42.194052</td>\n",
       "      <td>...</td>\n",
       "      <td>1.065342</td>\n",
       "      <td>-82.784782</td>\n",
       "      <td>-0.909125</td>\n",
       "      <td>1199.208750</td>\n",
       "      <td>1199.327015</td>\n",
       "      <td>-0.723028</td>\n",
       "      <td>-0.240647</td>\n",
       "      <td>-0.685000</td>\n",
       "      <td>99.944022</td>\n",
       "      <td>99.908392</td>\n",
       "    </tr>\n",
       "    <tr>\n",
       "      <th>50%</th>\n",
       "      <td>1252.035000</td>\n",
       "      <td>1252.805000</td>\n",
       "      <td>1251.265000</td>\n",
       "      <td>1252.035000</td>\n",
       "      <td>54.359244</td>\n",
       "      <td>5.425685e+01</td>\n",
       "      <td>54.088921</td>\n",
       "      <td>-45.640756</td>\n",
       "      <td>0.014150</td>\n",
       "      <td>51.268510</td>\n",
       "      <td>...</td>\n",
       "      <td>1.348301</td>\n",
       "      <td>13.483332</td>\n",
       "      <td>0.003750</td>\n",
       "      <td>1252.116667</td>\n",
       "      <td>1251.964224</td>\n",
       "      <td>0.092719</td>\n",
       "      <td>-0.015170</td>\n",
       "      <td>0.092665</td>\n",
       "      <td>100.004316</td>\n",
       "      <td>100.008289</td>\n",
       "    </tr>\n",
       "    <tr>\n",
       "      <th>75%</th>\n",
       "      <td>1275.607500</td>\n",
       "      <td>1276.147500</td>\n",
       "      <td>1275.100000</td>\n",
       "      <td>1275.615000</td>\n",
       "      <td>83.504105</td>\n",
       "      <td>8.167059e+01</td>\n",
       "      <td>73.296661</td>\n",
       "      <td>-16.495895</td>\n",
       "      <td>0.205312</td>\n",
       "      <td>60.592091</td>\n",
       "      <td>...</td>\n",
       "      <td>1.838060</td>\n",
       "      <td>93.801932</td>\n",
       "      <td>0.888250</td>\n",
       "      <td>1275.695417</td>\n",
       "      <td>1275.615388</td>\n",
       "      <td>0.903346</td>\n",
       "      <td>0.230015</td>\n",
       "      <td>0.847296</td>\n",
       "      <td>100.059515</td>\n",
       "      <td>100.097040</td>\n",
       "    </tr>\n",
       "    <tr>\n",
       "      <th>max</th>\n",
       "      <td>1358.785000</td>\n",
       "      <td>1359.770000</td>\n",
       "      <td>1357.935000</td>\n",
       "      <td>1358.925000</td>\n",
       "      <td>100.000000</td>\n",
       "      <td>1.000000e+02</td>\n",
       "      <td>96.431092</td>\n",
       "      <td>-0.000000</td>\n",
       "      <td>9.032843</td>\n",
       "      <td>93.307902</td>\n",
       "      <td>...</td>\n",
       "      <td>9.459971</td>\n",
       "      <td>666.666667</td>\n",
       "      <td>44.235250</td>\n",
       "      <td>1357.860417</td>\n",
       "      <td>1357.353855</td>\n",
       "      <td>28.678742</td>\n",
       "      <td>13.116018</td>\n",
       "      <td>23.872068</td>\n",
       "      <td>106.719083</td>\n",
       "      <td>107.680183</td>\n",
       "    </tr>\n",
       "  </tbody>\n",
       "</table>\n",
       "<p>8 rows × 120 columns</p>\n",
       "</div>"
      ],
      "text/plain": [
       "         open_lag0    high_lag0     low_lag0   close_lag0    stok_lag0  \\\n",
       "count  8151.000000  8151.000000  8151.000000  8151.000000  8151.000000   \n",
       "mean   1232.705101  1233.456892  1231.935172  1232.703159    52.681988   \n",
       "std      65.838826    65.740651    65.947922    65.840834    32.274320   \n",
       "min    1080.055000  1081.145000  1079.665000  1080.155000     0.000000   \n",
       "25%    1199.587500  1200.417500  1198.775000  1199.542500    22.318774   \n",
       "50%    1252.035000  1252.805000  1251.265000  1252.035000    54.359244   \n",
       "75%    1275.607500  1276.147500  1275.100000  1275.615000    83.504105   \n",
       "max    1358.785000  1359.770000  1357.935000  1358.925000   100.000000   \n",
       "\n",
       "          stod_lag0   sstod_lag0    wilr_lag0     roc_lag0     rsi_lag0  ...  \\\n",
       "count  8.151000e+03  8151.000000  8151.000000  8151.000000  8151.000000  ...   \n",
       "mean   5.268138e+01    52.642132   -47.318012     0.028241    51.190218  ...   \n",
       "std    3.027833e+01    24.263828    32.274320     0.526921    13.154166  ...   \n",
       "min    1.979898e-13     3.799185  -100.000000    -2.886946     7.905906  ...   \n",
       "25%    2.393214e+01    31.906291   -77.681226    -0.186311    42.194052  ...   \n",
       "50%    5.425685e+01    54.088921   -45.640756     0.014150    51.268510  ...   \n",
       "75%    8.167059e+01    73.296661   -16.495895     0.205312    60.592091  ...   \n",
       "max    1.000000e+02    96.431092    -0.000000     9.032843    93.307902  ...   \n",
       "\n",
       "          atr_lag5     cci_lag5     dpo_lag5     sma_lag5     ema_lag5  \\\n",
       "count  8151.000000  8151.000000  8151.000000  8151.000000  8151.000000   \n",
       "mean      1.570900     5.548864    -0.040461  1232.413966  1232.414681   \n",
       "std       0.801761   112.741777     2.521165    65.799244    65.772941   \n",
       "min       0.513762  -500.079470   -58.668500  1082.186250  1082.479799   \n",
       "25%       1.065342   -82.784782    -0.909125  1199.208750  1199.327015   \n",
       "50%       1.348301    13.483332     0.003750  1252.116667  1251.964224   \n",
       "75%       1.838060    93.801932     0.888250  1275.695417  1275.615388   \n",
       "max       9.459971   666.666667    44.235250  1357.860417  1357.353855   \n",
       "\n",
       "         macd_lag5  macd_diff_lag5  macd_signal_lag5    dis5_lag5   dis10_lag5  \n",
       "count  8151.000000     8151.000000       8151.000000  8151.000000  8151.000000  \n",
       "mean      0.183515        0.001065          0.182450   100.004541   100.010114  \n",
       "std       2.079254        0.631585          1.956223     0.165825     0.256808  \n",
       "min      -9.010780       -4.158530         -7.832363    98.901425    98.614091  \n",
       "25%      -0.723028       -0.240647         -0.685000    99.944022    99.908392  \n",
       "50%       0.092719       -0.015170          0.092665   100.004316   100.008289  \n",
       "75%       0.903346        0.230015          0.847296   100.059515   100.097040  \n",
       "max      28.678742       13.116018         23.872068   106.719083   107.680183  \n",
       "\n",
       "[8 rows x 120 columns]"
      ]
     },
     "execution_count": 7,
     "metadata": {},
     "output_type": "execute_result"
    }
   ],
   "source": [
    "X.describe()"
   ]
  },
  {
   "cell_type": "code",
   "execution_count": 8,
   "metadata": {},
   "outputs": [
    {
     "data": {
      "image/png": "[encoded data removed]",
      "text/plain": [
       "<Figure size 432x288 with 1 Axes>"
      ]
     },
     "metadata": {
      "needs_background": "light"
     },
     "output_type": "display_data"
    }
   ],
   "source": [
    "# plt.figure(figsize=(10,10))\n",
    "plt.boxplot(X.values,vert=False)\n",
    "plt.yticks(np.arange(1,X.shape[1]+1),\n",
    "           X.columns,fontsize=12)\n",
    "plt.show()"
   ]
  },
  {
   "cell_type": "markdown",
   "metadata": {},
   "source": [
    "## Standardization, Normalization (MinMax), Norm-Scaling, Quantile and Power Transformation\n",
    "\n",
    "**Inspiration:**\n",
    "\n",
    "* [ScikitLearn Overview](https://scikit-learn.org/stable/auto_examples/preprocessing/plot_all_scaling.html#sphx-glr-auto-examples-preprocessing-plot-all-scaling-py)\n",
    "* [A Note on Feature Scaling and Normalization](http://sebastianraschka.com/Articles/2014_about_feature_scaling.html)"
   ]
  },
  {
   "cell_type": "code",
   "execution_count": 61,
   "metadata": {},
   "outputs": [],
   "source": [
    "# Setting up the Scalers!\n",
    "mm_scaler = MinMaxScaler()\n",
    "scaler = StandardScaler()\n",
    "norm_scaler = Normalizer()\n",
    "pt = PowerTransformer()\n",
    "ptNst = PowerTransformer(standardize=False)\n",
    "qtUni = QuantileTransformer(n_quantiles=100)\n",
    "qtGau = QuantileTransformer(n_quantiles=100,output_distribution='normal')\n",
    "robo = RobustScaler()\n"
   ]
  },
  {
   "cell_type": "markdown",
   "metadata": {},
   "source": [
    "For now, we remove features if they are easily scaled down to a desireable range, thereby focusing on the rest.\n",
    "Features are listed below, as good down-scaling procedures are identified. \n",
    "\n",
    "Parentheses indicates that the scaling procedure could work but it is not ideal.\n",
    "\n",
    "**Open**: Std, Power (Std.), (MinMax) <br>\n",
    "**High**: Std, Power (Std.), (MinMax)<br>\n",
    "**Low**: Std, Power (Std.), (MinMax)<br>\n",
    "**Close**: Std, Power (Std.), (MinMax)<br>\n",
    "**Stok**: Std, Power (Std.), (MinMax), (Norm)<br>\n",
    "**Stod**: Std, Power (Std.), (MinMax), (Norm)<br>\n",
    "**SStod**: Std, Power (Std.), (MinMax), (Norm)<br>\n",
    "**Wilr**: Std, Power (Std.), (MinMax), (Norm)<br>\n",
    "**ema**: Std, Power (Std.), (MinMax)<br>\n",
    "**sma**: Std, Power (Std.), (MinMax)<br>\n",
    "**Dis5**: Substract 100 <br>\n",
    "**Dis10**: Substract 100 <br>\n",
    "**Macd_diff**: baseline <br>\n",
    "**Roc**: baseline demeaned<br>\n",
    "**Atr**: baseline demeaned <br>\n",
    "**Rsi**: Std., Quantile Transformation (Gaussian), Power (Std.) <br>\n",
    "**Cci**: Quantile Transformation (Gaussian), (Power (Std.)) <br>\n",
    "**Dpo**: Quantile Transformation (Gaussian),  (Norm) <br>\n",
    "**Macd**: Quantile Transformation (Gaussian) <br>\n",
    "**Macd_Signal**: Quantile Transformation (Gaussian) <br>\n"
   ]
  },
  {
   "cell_type": "code",
   "execution_count": 70,
   "metadata": {},
   "outputs": [],
   "source": [
    "# tempX = X.drop(columns=['open',\n",
    "#                         'high',\n",
    "#                         'low',\n",
    "#                         'close',\n",
    "#                         'stok',\n",
    "#                         'stod',\n",
    "#                         'sstod',\n",
    "#                         'wilr',\n",
    "#                         'sma',\n",
    "#                         'ema',\n",
    "#                         'dis5',\n",
    "#                         'dis10',\n",
    "#                         'macd_diff',\n",
    "#                         'roc',\n",
    "#                         'atr',\n",
    "#                         'rsi']).copy(deep=True)\n",
    "tempX = X.copy(deep=True)"
   ]
  },
  {
   "cell_type": "code",
   "execution_count": 67,
   "metadata": {},
   "outputs": [
    {
     "data": {
      "text/html": [
       "<div>\n",
       "<style scoped>\n",
       "    .dataframe tbody tr th:only-of-type {\n",
       "        vertical-align: middle;\n",
       "    }\n",
       "\n",
       "    .dataframe tbody tr th {\n",
       "        vertical-align: top;\n",
       "    }\n",
       "\n",
       "    .dataframe thead th {\n",
       "        text-align: right;\n",
       "    }\n",
       "</style>\n",
       "<table border=\"1\" class=\"dataframe\">\n",
       "  <thead>\n",
       "    <tr style=\"text-align: right;\">\n",
       "      <th></th>\n",
       "      <th>open_lag0</th>\n",
       "      <th>high_lag0</th>\n",
       "      <th>low_lag0</th>\n",
       "      <th>close_lag0</th>\n",
       "      <th>stok_lag0</th>\n",
       "      <th>stod_lag0</th>\n",
       "      <th>sstod_lag0</th>\n",
       "      <th>wilr_lag0</th>\n",
       "      <th>roc_lag0</th>\n",
       "      <th>rsi_lag0</th>\n",
       "      <th>...</th>\n",
       "      <th>atr_lag5</th>\n",
       "      <th>cci_lag5</th>\n",
       "      <th>dpo_lag5</th>\n",
       "      <th>sma_lag5</th>\n",
       "      <th>ema_lag5</th>\n",
       "      <th>macd_lag5</th>\n",
       "      <th>macd_diff_lag5</th>\n",
       "      <th>macd_signal_lag5</th>\n",
       "      <th>dis5_lag5</th>\n",
       "      <th>dis10_lag5</th>\n",
       "    </tr>\n",
       "  </thead>\n",
       "  <tbody>\n",
       "    <tr>\n",
       "      <th>count</th>\n",
       "      <td>8151.000000</td>\n",
       "      <td>8151.000000</td>\n",
       "      <td>8151.000000</td>\n",
       "      <td>8151.000000</td>\n",
       "      <td>8151.000000</td>\n",
       "      <td>8.151000e+03</td>\n",
       "      <td>8151.000000</td>\n",
       "      <td>8151.000000</td>\n",
       "      <td>8151.000000</td>\n",
       "      <td>8151.000000</td>\n",
       "      <td>...</td>\n",
       "      <td>8151.000000</td>\n",
       "      <td>8151.000000</td>\n",
       "      <td>8151.000000</td>\n",
       "      <td>8151.000000</td>\n",
       "      <td>8151.000000</td>\n",
       "      <td>8151.000000</td>\n",
       "      <td>8151.000000</td>\n",
       "      <td>8151.000000</td>\n",
       "      <td>8151.000000</td>\n",
       "      <td>8151.000000</td>\n",
       "    </tr>\n",
       "    <tr>\n",
       "      <th>mean</th>\n",
       "      <td>1232.696161</td>\n",
       "      <td>1233.376378</td>\n",
       "      <td>1231.986045</td>\n",
       "      <td>1232.684743</td>\n",
       "      <td>52.520241</td>\n",
       "      <td>5.251936e+01</td>\n",
       "      <td>52.479199</td>\n",
       "      <td>-47.479759</td>\n",
       "      <td>0.028285</td>\n",
       "      <td>51.047264</td>\n",
       "      <td>...</td>\n",
       "      <td>1.525800</td>\n",
       "      <td>5.762215</td>\n",
       "      <td>-0.040370</td>\n",
       "      <td>1232.395297</td>\n",
       "      <td>1232.395989</td>\n",
       "      <td>0.183717</td>\n",
       "      <td>0.001064</td>\n",
       "      <td>0.182653</td>\n",
       "      <td>100.004548</td>\n",
       "      <td>100.010128</td>\n",
       "    </tr>\n",
       "    <tr>\n",
       "      <th>std</th>\n",
       "      <td>65.843459</td>\n",
       "      <td>65.780694</td>\n",
       "      <td>65.918905</td>\n",
       "      <td>65.856646</td>\n",
       "      <td>32.569614</td>\n",
       "      <td>3.041830e+01</td>\n",
       "      <td>24.251622</td>\n",
       "      <td>32.569614</td>\n",
       "      <td>0.529048</td>\n",
       "      <td>12.630987</td>\n",
       "      <td>...</td>\n",
       "      <td>0.773459</td>\n",
       "      <td>112.314635</td>\n",
       "      <td>2.538452</td>\n",
       "      <td>65.815006</td>\n",
       "      <td>65.788603</td>\n",
       "      <td>2.082944</td>\n",
       "      <td>0.633812</td>\n",
       "      <td>1.959266</td>\n",
       "      <td>0.166951</td>\n",
       "      <td>0.258131</td>\n",
       "    </tr>\n",
       "    <tr>\n",
       "      <th>min</th>\n",
       "      <td>1080.010000</td>\n",
       "      <td>1080.800000</td>\n",
       "      <td>1079.780000</td>\n",
       "      <td>1079.880000</td>\n",
       "      <td>0.000000</td>\n",
       "      <td>1.219765e-13</td>\n",
       "      <td>3.882960</td>\n",
       "      <td>-100.000000</td>\n",
       "      <td>-2.896472</td>\n",
       "      <td>10.633332</td>\n",
       "      <td>...</td>\n",
       "      <td>0.543539</td>\n",
       "      <td>-536.642963</td>\n",
       "      <td>-59.749500</td>\n",
       "      <td>1081.999167</td>\n",
       "      <td>1082.265928</td>\n",
       "      <td>-8.987732</td>\n",
       "      <td>-4.180436</td>\n",
       "      <td>-7.829401</td>\n",
       "      <td>98.843022</td>\n",
       "      <td>98.559192</td>\n",
       "    </tr>\n",
       "    <tr>\n",
       "      <th>25%</th>\n",
       "      <td>1199.590000</td>\n",
       "      <td>1200.210000</td>\n",
       "      <td>1198.760000</td>\n",
       "      <td>1199.570000</td>\n",
       "      <td>22.003754</td>\n",
       "      <td>2.350795e+01</td>\n",
       "      <td>31.660256</td>\n",
       "      <td>-77.996246</td>\n",
       "      <td>-0.187800</td>\n",
       "      <td>42.484549</td>\n",
       "      <td>...</td>\n",
       "      <td>1.054834</td>\n",
       "      <td>-81.297776</td>\n",
       "      <td>-0.933250</td>\n",
       "      <td>1199.194583</td>\n",
       "      <td>1199.328542</td>\n",
       "      <td>-0.728663</td>\n",
       "      <td>-0.244001</td>\n",
       "      <td>-0.691285</td>\n",
       "      <td>99.941712</td>\n",
       "      <td>99.908169</td>\n",
       "    </tr>\n",
       "    <tr>\n",
       "      <th>50%</th>\n",
       "      <td>1251.930000</td>\n",
       "      <td>1252.690000</td>\n",
       "      <td>1251.280000</td>\n",
       "      <td>1251.960000</td>\n",
       "      <td>54.376658</td>\n",
       "      <td>5.407961e+01</td>\n",
       "      <td>53.864250</td>\n",
       "      <td>-45.623342</td>\n",
       "      <td>0.016798</td>\n",
       "      <td>51.175290</td>\n",
       "      <td>...</td>\n",
       "      <td>1.328626</td>\n",
       "      <td>14.120345</td>\n",
       "      <td>-0.005000</td>\n",
       "      <td>1252.054167</td>\n",
       "      <td>1251.961299</td>\n",
       "      <td>0.093018</td>\n",
       "      <td>-0.016066</td>\n",
       "      <td>0.098722</td>\n",
       "      <td>100.003566</td>\n",
       "      <td>100.007622</td>\n",
       "    </tr>\n",
       "    <tr>\n",
       "      <th>75%</th>\n",
       "      <td>1275.645000</td>\n",
       "      <td>1276.075000</td>\n",
       "      <td>1275.120000</td>\n",
       "      <td>1275.620000</td>\n",
       "      <td>82.985923</td>\n",
       "      <td>8.198961e+01</td>\n",
       "      <td>73.411488</td>\n",
       "      <td>-17.014077</td>\n",
       "      <td>0.204589</td>\n",
       "      <td>59.866106</td>\n",
       "      <td>...</td>\n",
       "      <td>1.691335</td>\n",
       "      <td>93.491310</td>\n",
       "      <td>0.891750</td>\n",
       "      <td>1275.687917</td>\n",
       "      <td>1275.605591</td>\n",
       "      <td>0.908579</td>\n",
       "      <td>0.233037</td>\n",
       "      <td>0.854986</td>\n",
       "      <td>100.060402</td>\n",
       "      <td>100.097404</td>\n",
       "    </tr>\n",
       "    <tr>\n",
       "      <th>max</th>\n",
       "      <td>1358.565000</td>\n",
       "      <td>1360.000000</td>\n",
       "      <td>1358.130000</td>\n",
       "      <td>1358.790000</td>\n",
       "      <td>100.000000</td>\n",
       "      <td>1.000000e+02</td>\n",
       "      <td>95.943559</td>\n",
       "      <td>-0.000000</td>\n",
       "      <td>9.066019</td>\n",
       "      <td>92.567373</td>\n",
       "      <td>...</td>\n",
       "      <td>9.703080</td>\n",
       "      <td>666.666667</td>\n",
       "      <td>43.795000</td>\n",
       "      <td>1357.719167</td>\n",
       "      <td>1357.329574</td>\n",
       "      <td>28.679766</td>\n",
       "      <td>13.126366</td>\n",
       "      <td>23.858974</td>\n",
       "      <td>106.706318</td>\n",
       "      <td>107.654596</td>\n",
       "    </tr>\n",
       "  </tbody>\n",
       "</table>\n",
       "<p>8 rows × 120 columns</p>\n",
       "</div>"
      ],
      "text/plain": [
       "         open_lag0    high_lag0     low_lag0   close_lag0    stok_lag0  \\\n",
       "count  8151.000000  8151.000000  8151.000000  8151.000000  8151.000000   \n",
       "mean   1232.696161  1233.376378  1231.986045  1232.684743    52.520241   \n",
       "std      65.843459    65.780694    65.918905    65.856646    32.569614   \n",
       "min    1080.010000  1080.800000  1079.780000  1079.880000     0.000000   \n",
       "25%    1199.590000  1200.210000  1198.760000  1199.570000    22.003754   \n",
       "50%    1251.930000  1252.690000  1251.280000  1251.960000    54.376658   \n",
       "75%    1275.645000  1276.075000  1275.120000  1275.620000    82.985923   \n",
       "max    1358.565000  1360.000000  1358.130000  1358.790000   100.000000   \n",
       "\n",
       "          stod_lag0   sstod_lag0    wilr_lag0     roc_lag0     rsi_lag0  ...  \\\n",
       "count  8.151000e+03  8151.000000  8151.000000  8151.000000  8151.000000  ...   \n",
       "mean   5.251936e+01    52.479199   -47.479759     0.028285    51.047264  ...   \n",
       "std    3.041830e+01    24.251622    32.569614     0.529048    12.630987  ...   \n",
       "min    1.219765e-13     3.882960  -100.000000    -2.896472    10.633332  ...   \n",
       "25%    2.350795e+01    31.660256   -77.996246    -0.187800    42.484549  ...   \n",
       "50%    5.407961e+01    53.864250   -45.623342     0.016798    51.175290  ...   \n",
       "75%    8.198961e+01    73.411488   -17.014077     0.204589    59.866106  ...   \n",
       "max    1.000000e+02    95.943559    -0.000000     9.066019    92.567373  ...   \n",
       "\n",
       "          atr_lag5     cci_lag5     dpo_lag5     sma_lag5     ema_lag5  \\\n",
       "count  8151.000000  8151.000000  8151.000000  8151.000000  8151.000000   \n",
       "mean      1.525800     5.762215    -0.040370  1232.395297  1232.395989   \n",
       "std       0.773459   112.314635     2.538452    65.815006    65.788603   \n",
       "min       0.543539  -536.642963   -59.749500  1081.999167  1082.265928   \n",
       "25%       1.054834   -81.297776    -0.933250  1199.194583  1199.328542   \n",
       "50%       1.328626    14.120345    -0.005000  1252.054167  1251.961299   \n",
       "75%       1.691335    93.491310     0.891750  1275.687917  1275.605591   \n",
       "max       9.703080   666.666667    43.795000  1357.719167  1357.329574   \n",
       "\n",
       "         macd_lag5  macd_diff_lag5  macd_signal_lag5    dis5_lag5   dis10_lag5  \n",
       "count  8151.000000     8151.000000       8151.000000  8151.000000  8151.000000  \n",
       "mean      0.183717        0.001064          0.182653   100.004548   100.010128  \n",
       "std       2.082944        0.633812          1.959266     0.166951     0.258131  \n",
       "min      -8.987732       -4.180436         -7.829401    98.843022    98.559192  \n",
       "25%      -0.728663       -0.244001         -0.691285    99.941712    99.908169  \n",
       "50%       0.093018       -0.016066          0.098722   100.003566   100.007622  \n",
       "75%       0.908579        0.233037          0.854986   100.060402   100.097404  \n",
       "max      28.679766       13.126366         23.858974   106.706318   107.654596  \n",
       "\n",
       "[8 rows x 120 columns]"
      ]
     },
     "execution_count": 67,
     "metadata": {},
     "output_type": "execute_result"
    }
   ],
   "source": [
    "tempX.describe()"
   ]
  },
  {
   "cell_type": "markdown",
   "metadata": {},
   "source": [
    "## Baseline"
   ]
  },
  {
   "cell_type": "code",
   "execution_count": 142,
   "metadata": {},
   "outputs": [
    {
     "data": {
      "image/png": "[encoded data removed]",
      "text/plain": [
       "<Figure size 720x720 with 1 Axes>"
      ]
     },
     "metadata": {
      "needs_background": "light"
     },
     "output_type": "display_data"
    }
   ],
   "source": [
    "# tempX = tempX.drop(columns=['cci'])\n",
    "plt.figure(figsize=(10,10))\n",
    "plt.boxplot(tempX.values,vert=False)\n",
    "plt.yticks(np.arange(1,tempX.shape[1]+1),\n",
    "           tempX.columns,fontsize=12)\n",
    "plt.show()"
   ]
  },
  {
   "cell_type": "code",
   "execution_count": 130,
   "metadata": {},
   "outputs": [
    {
     "ename": "AttributeError",
     "evalue": "'DataFrame' object has no attribute 'roc'",
     "output_type": "error",
     "traceback": [
      "\u001b[1;31m---------------------------------------------------------------------------\u001b[0m",
      "\u001b[1;31mAttributeError\u001b[0m                            Traceback (most recent call last)",
      "\u001b[1;32m<ipython-input-130-7938bee23617>\u001b[0m in \u001b[0;36m<module>\u001b[1;34m\u001b[0m\n\u001b[1;32m----> 1\u001b[1;33m \u001b[0mval\u001b[0m \u001b[1;33m=\u001b[0m \u001b[0mtempX\u001b[0m\u001b[1;33m.\u001b[0m\u001b[0mroc\u001b[0m\u001b[1;33m\u001b[0m\u001b[1;33m\u001b[0m\u001b[0m\n\u001b[0m\u001b[0;32m      2\u001b[0m print('Min: ',round(val.min(),3),\n\u001b[0;32m      3\u001b[0m       \u001b[1;34m'\\nMax: '\u001b[0m\u001b[1;33m,\u001b[0m\u001b[0mround\u001b[0m\u001b[1;33m(\u001b[0m\u001b[0mval\u001b[0m\u001b[1;33m.\u001b[0m\u001b[0mmax\u001b[0m\u001b[1;33m(\u001b[0m\u001b[1;33m)\u001b[0m\u001b[1;33m,\u001b[0m\u001b[1;36m3\u001b[0m\u001b[1;33m)\u001b[0m\u001b[1;33m,\u001b[0m\u001b[1;33m\u001b[0m\u001b[1;33m\u001b[0m\u001b[0m\n\u001b[0;32m      4\u001b[0m       \u001b[1;34m'\\nMedian: '\u001b[0m\u001b[1;33m,\u001b[0m\u001b[0mround\u001b[0m\u001b[1;33m(\u001b[0m\u001b[0mval\u001b[0m\u001b[1;33m.\u001b[0m\u001b[0mmedian\u001b[0m\u001b[1;33m(\u001b[0m\u001b[1;33m)\u001b[0m\u001b[1;33m,\u001b[0m\u001b[1;36m3\u001b[0m\u001b[1;33m)\u001b[0m\u001b[1;33m,\u001b[0m\u001b[1;33m\u001b[0m\u001b[1;33m\u001b[0m\u001b[0m\n\u001b[0;32m      5\u001b[0m       '\\nMean: ',round(val.mean(),3))\n",
      "\u001b[1;32m~\\Anaconda3\\lib\\site-packages\\pandas\\core\\generic.py\u001b[0m in \u001b[0;36m__getattr__\u001b[1;34m(self, name)\u001b[0m\n\u001b[0;32m   5272\u001b[0m             \u001b[1;32mif\u001b[0m \u001b[0mself\u001b[0m\u001b[1;33m.\u001b[0m\u001b[0m_info_axis\u001b[0m\u001b[1;33m.\u001b[0m\u001b[0m_can_hold_identifiers_and_holds_name\u001b[0m\u001b[1;33m(\u001b[0m\u001b[0mname\u001b[0m\u001b[1;33m)\u001b[0m\u001b[1;33m:\u001b[0m\u001b[1;33m\u001b[0m\u001b[1;33m\u001b[0m\u001b[0m\n\u001b[0;32m   5273\u001b[0m                 \u001b[1;32mreturn\u001b[0m \u001b[0mself\u001b[0m\u001b[1;33m[\u001b[0m\u001b[0mname\u001b[0m\u001b[1;33m]\u001b[0m\u001b[1;33m\u001b[0m\u001b[1;33m\u001b[0m\u001b[0m\n\u001b[1;32m-> 5274\u001b[1;33m             \u001b[1;32mreturn\u001b[0m \u001b[0mobject\u001b[0m\u001b[1;33m.\u001b[0m\u001b[0m__getattribute__\u001b[0m\u001b[1;33m(\u001b[0m\u001b[0mself\u001b[0m\u001b[1;33m,\u001b[0m \u001b[0mname\u001b[0m\u001b[1;33m)\u001b[0m\u001b[1;33m\u001b[0m\u001b[1;33m\u001b[0m\u001b[0m\n\u001b[0m\u001b[0;32m   5275\u001b[0m \u001b[1;33m\u001b[0m\u001b[0m\n\u001b[0;32m   5276\u001b[0m     \u001b[1;32mdef\u001b[0m \u001b[0m__setattr__\u001b[0m\u001b[1;33m(\u001b[0m\u001b[0mself\u001b[0m\u001b[1;33m,\u001b[0m \u001b[0mname\u001b[0m\u001b[1;33m:\u001b[0m \u001b[0mstr\u001b[0m\u001b[1;33m,\u001b[0m \u001b[0mvalue\u001b[0m\u001b[1;33m)\u001b[0m \u001b[1;33m->\u001b[0m \u001b[1;32mNone\u001b[0m\u001b[1;33m:\u001b[0m\u001b[1;33m\u001b[0m\u001b[1;33m\u001b[0m\u001b[0m\n",
      "\u001b[1;31mAttributeError\u001b[0m: 'DataFrame' object has no attribute 'roc'"
     ]
    }
   ],
   "source": [
    "val = tempX.roc\n",
    "print('Min: ',round(val.min(),3),\n",
    "      '\\nMax: ',round(val.max(),3),\n",
    "      '\\nMedian: ',round(val.median(),3),\n",
    "      '\\nMean: ',round(val.mean(),3))"
   ]
  },
  {
   "cell_type": "code",
   "execution_count": 131,
   "metadata": {},
   "outputs": [
    {
     "data": {
      "image/png": "[encoded data removed]",
      "text/plain": [
       "<Figure size 720x720 with 1 Axes>"
      ]
     },
     "metadata": {
      "needs_background": "light"
     },
     "output_type": "display_data"
    }
   ],
   "source": [
    "plt.figure(figsize=(10,10))\n",
    "plt.hist((val-val.mean()))#-tempX.atr.mean()\n",
    "plt.show()"
   ]
  },
  {
   "cell_type": "markdown",
   "metadata": {},
   "source": [
    "## Standardization"
   ]
  },
  {
   "cell_type": "code",
   "execution_count": 132,
   "metadata": {},
   "outputs": [
    {
     "data": {
      "image/png": "[encoded data removed]",
      "text/plain": [
       "<Figure size 720x720 with 1 Axes>"
      ]
     },
     "metadata": {
      "needs_background": "light"
     },
     "output_type": "display_data"
    }
   ],
   "source": [
    "plt.figure(figsize=(10,10))\n",
    "plt.boxplot(scaler.fit_transform(tempX),vert=False)\n",
    "plt.yticks(np.arange(1,tempX.shape[1]+1),\n",
    "           tempX.columns,fontsize=12)\n",
    "plt.show()"
   ]
  },
  {
   "cell_type": "markdown",
   "metadata": {},
   "source": [
    "## Normalization"
   ]
  },
  {
   "cell_type": "code",
   "execution_count": 133,
   "metadata": {},
   "outputs": [
    {
     "data": {
      "image/png": "[encoded data removed]",
      "text/plain": [
       "<Figure size 720x720 with 1 Axes>"
      ]
     },
     "metadata": {
      "needs_background": "light"
     },
     "output_type": "display_data"
    }
   ],
   "source": [
    "plt.figure(figsize=(10,10))\n",
    "plt.boxplot(mm_scaler.fit_transform(tempX),vert=False)\n",
    "plt.yticks(np.arange(1,tempX.shape[1]+1),\n",
    "           tempX.columns,fontsize=12)\n",
    "plt.show()"
   ]
  },
  {
   "cell_type": "markdown",
   "metadata": {},
   "source": [
    "## Norm-Scaling"
   ]
  },
  {
   "cell_type": "code",
   "execution_count": 134,
   "metadata": {},
   "outputs": [
    {
     "data": {
      "image/png": "[encoded data removed]",
      "text/plain": [
       "<Figure size 720x720 with 1 Axes>"
      ]
     },
     "metadata": {
      "needs_background": "light"
     },
     "output_type": "display_data"
    }
   ],
   "source": [
    "plt.figure(figsize=(10,10))\n",
    "plt.boxplot(norm_scaler.fit_transform(tempX),vert=False)\n",
    "plt.yticks(np.arange(1,tempX.shape[1]+1),\n",
    "           tempX.columns,fontsize=12)\n",
    "plt.show()"
   ]
  },
  {
   "cell_type": "markdown",
   "metadata": {},
   "source": [
    "## Quantile Transformation (Uniform)"
   ]
  },
  {
   "cell_type": "code",
   "execution_count": 135,
   "metadata": {},
   "outputs": [
    {
     "data": {
      "image/png": "[encoded data removed]",
      "text/plain": [
       "<Figure size 720x720 with 1 Axes>"
      ]
     },
     "metadata": {
      "needs_background": "light"
     },
     "output_type": "display_data"
    }
   ],
   "source": [
    "plt.figure(figsize=(10,10))\n",
    "plt.boxplot(qtUni.fit_transform(tempX),vert=False)\n",
    "plt.yticks(np.arange(1,tempX.shape[1]+1),\n",
    "           tempX.columns,fontsize=12)\n",
    "plt.show()"
   ]
  },
  {
   "cell_type": "markdown",
   "metadata": {},
   "source": [
    "## Quantile Transform (Gaussian)"
   ]
  },
  {
   "cell_type": "code",
   "execution_count": 136,
   "metadata": {},
   "outputs": [
    {
     "data": {
      "image/png": "[encoded data removed]",
      "text/plain": [
       "<Figure size 720x720 with 1 Axes>"
      ]
     },
     "metadata": {
      "needs_background": "light"
     },
     "output_type": "display_data"
    }
   ],
   "source": [
    "plt.figure(figsize=(10,10))\n",
    "plt.boxplot(qtGau.fit_transform(tempX),vert=False)\n",
    "plt.yticks(np.arange(1,tempX.shape[1]+1),\n",
    "           tempX.columns,fontsize=12)\n",
    "plt.show()"
   ]
  },
  {
   "cell_type": "markdown",
   "metadata": {},
   "source": [
    "## Power Transformation (Standardized)"
   ]
  },
  {
   "cell_type": "code",
   "execution_count": 137,
   "metadata": {},
   "outputs": [
    {
     "data": {
      "image/png": "[encoded data removed]",
      "text/plain": [
       "<Figure size 720x720 with 1 Axes>"
      ]
     },
     "metadata": {
      "needs_background": "light"
     },
     "output_type": "display_data"
    }
   ],
   "source": [
    "plt.figure(figsize=(10,10))\n",
    "plt.boxplot(pt.fit_transform(tempX),vert=False)\n",
    "plt.yticks(np.arange(1,tempX.shape[1]+1),\n",
    "           tempX.columns,fontsize=12)\n",
    "plt.show()"
   ]
  },
  {
   "cell_type": "markdown",
   "metadata": {},
   "source": [
    "## Power (Not Standardized)"
   ]
  },
  {
   "cell_type": "code",
   "execution_count": 138,
   "metadata": {},
   "outputs": [
    {
     "data": {
      "image/png": "[encoded data removed]",
      "text/plain": [
       "<Figure size 720x720 with 1 Axes>"
      ]
     },
     "metadata": {
      "needs_background": "light"
     },
     "output_type": "display_data"
    }
   ],
   "source": [
    "# tempX = tempX.drop(columns=['cci'])\n",
    "plt.figure(figsize=(10,10))\n",
    "plt.boxplot(ptNst.fit_transform(tempX),vert=False)\n",
    "plt.yticks(np.arange(1,tempX.shape[1]+1),\n",
    "           tempX.columns,fontsize=12)\n",
    "plt.show()"
   ]
  },
  {
   "cell_type": "markdown",
   "metadata": {},
   "source": [
    "## Robust Scaler"
   ]
  },
  {
   "cell_type": "code",
   "execution_count": 79,
   "metadata": {},
   "outputs": [
    {
     "data": {
      "image/png": "[encoded data removed]",
      "text/plain": [
       "<Figure size 720x720 with 1 Axes>"
      ]
     },
     "metadata": {
      "needs_background": "light"
     },
     "output_type": "display_data"
    }
   ],
   "source": [
    "# tempX = tempX.drop(columns=['cci'])\n",
    "plt.figure(figsize=(10,10))\n",
    "plt.boxplot(robo.fit_transform(tempX),vert=False)\n",
    "plt.yticks(np.arange(1,tempX.shape[1]+1),\n",
    "           tempX.columns,fontsize=12)\n",
    "plt.show()"
   ]
  },
  {
   "cell_type": "code",
   "execution_count": 77,
   "metadata": {},
   "outputs": [
    {
     "data": {
      "text/html": [
       "<div>\n",
       "<style scoped>\n",
       "    .dataframe tbody tr th:only-of-type {\n",
       "        vertical-align: middle;\n",
       "    }\n",
       "\n",
       "    .dataframe tbody tr th {\n",
       "        vertical-align: top;\n",
       "    }\n",
       "\n",
       "    .dataframe thead th {\n",
       "        text-align: right;\n",
       "    }\n",
       "</style>\n",
       "<table border=\"1\" class=\"dataframe\">\n",
       "  <thead>\n",
       "    <tr style=\"text-align: right;\">\n",
       "      <th></th>\n",
       "      <th>open</th>\n",
       "      <th>high</th>\n",
       "      <th>low</th>\n",
       "      <th>close</th>\n",
       "      <th>stok</th>\n",
       "      <th>stod</th>\n",
       "      <th>sstod</th>\n",
       "      <th>wilr</th>\n",
       "      <th>roc</th>\n",
       "      <th>rsi</th>\n",
       "      <th>atr</th>\n",
       "      <th>cci</th>\n",
       "      <th>dpo</th>\n",
       "      <th>sma</th>\n",
       "      <th>ema</th>\n",
       "      <th>macd</th>\n",
       "      <th>macd_diff</th>\n",
       "      <th>macd_signal</th>\n",
       "      <th>dis5</th>\n",
       "      <th>dis10</th>\n",
       "    </tr>\n",
       "  </thead>\n",
       "  <tbody>\n",
       "    <tr>\n",
       "      <th>count</th>\n",
       "      <td>8.156000e+03</td>\n",
       "      <td>8.156000e+03</td>\n",
       "      <td>8.156000e+03</td>\n",
       "      <td>8.156000e+03</td>\n",
       "      <td>8.156000e+03</td>\n",
       "      <td>8.156000e+03</td>\n",
       "      <td>8.156000e+03</td>\n",
       "      <td>8.156000e+03</td>\n",
       "      <td>8.156000e+03</td>\n",
       "      <td>8.156000e+03</td>\n",
       "      <td>8.156000e+03</td>\n",
       "      <td>8.156000e+03</td>\n",
       "      <td>8.156000e+03</td>\n",
       "      <td>8.156000e+03</td>\n",
       "      <td>8.156000e+03</td>\n",
       "      <td>8.156000e+03</td>\n",
       "      <td>8.156000e+03</td>\n",
       "      <td>8.156000e+03</td>\n",
       "      <td>8.156000e+03</td>\n",
       "      <td>8.156000e+03</td>\n",
       "    </tr>\n",
       "    <tr>\n",
       "      <th>mean</th>\n",
       "      <td>-5.721814e-16</td>\n",
       "      <td>6.533927e-19</td>\n",
       "      <td>-1.032633e-16</td>\n",
       "      <td>1.338557e-15</td>\n",
       "      <td>2.052742e-17</td>\n",
       "      <td>-5.741688e-17</td>\n",
       "      <td>6.275292e-17</td>\n",
       "      <td>2.384883e-17</td>\n",
       "      <td>-5.101908e-17</td>\n",
       "      <td>-7.421452e-17</td>\n",
       "      <td>2.492421e-16</td>\n",
       "      <td>-2.308654e-17</td>\n",
       "      <td>-6.152781e-18</td>\n",
       "      <td>-1.312094e-15</td>\n",
       "      <td>2.402797e-15</td>\n",
       "      <td>2.913042e-18</td>\n",
       "      <td>2.722469e-18</td>\n",
       "      <td>1.270032e-17</td>\n",
       "      <td>2.319544e-17</td>\n",
       "      <td>2.872205e-17</td>\n",
       "    </tr>\n",
       "    <tr>\n",
       "      <th>std</th>\n",
       "      <td>1.000061e+00</td>\n",
       "      <td>1.000061e+00</td>\n",
       "      <td>1.000061e+00</td>\n",
       "      <td>1.000061e+00</td>\n",
       "      <td>1.000061e+00</td>\n",
       "      <td>1.000061e+00</td>\n",
       "      <td>1.000061e+00</td>\n",
       "      <td>1.000061e+00</td>\n",
       "      <td>1.000061e+00</td>\n",
       "      <td>1.000061e+00</td>\n",
       "      <td>1.000061e+00</td>\n",
       "      <td>1.000061e+00</td>\n",
       "      <td>1.000061e+00</td>\n",
       "      <td>1.000061e+00</td>\n",
       "      <td>1.000061e+00</td>\n",
       "      <td>1.000061e+00</td>\n",
       "      <td>1.000061e+00</td>\n",
       "      <td>1.000061e+00</td>\n",
       "      <td>1.000061e+00</td>\n",
       "      <td>1.000061e+00</td>\n",
       "    </tr>\n",
       "    <tr>\n",
       "      <th>min</th>\n",
       "      <td>-2.316513e+00</td>\n",
       "      <td>-2.317110e+00</td>\n",
       "      <td>-2.306591e+00</td>\n",
       "      <td>-2.317904e+00</td>\n",
       "      <td>-1.612667e+00</td>\n",
       "      <td>-1.726587e+00</td>\n",
       "      <td>-2.002331e+00</td>\n",
       "      <td>-1.612667e+00</td>\n",
       "      <td>-5.529742e+00</td>\n",
       "      <td>-3.200080e+00</td>\n",
       "      <td>-1.270587e+00</td>\n",
       "      <td>-4.827639e+00</td>\n",
       "      <td>-2.351491e+01</td>\n",
       "      <td>-2.285135e+00</td>\n",
       "      <td>-2.281962e+00</td>\n",
       "      <td>-4.403600e+00</td>\n",
       "      <td>-6.591983e+00</td>\n",
       "      <td>-4.090726e+00</td>\n",
       "      <td>-6.955950e+00</td>\n",
       "      <td>-5.616233e+00</td>\n",
       "    </tr>\n",
       "    <tr>\n",
       "      <th>25%</th>\n",
       "      <td>-5.019282e-01</td>\n",
       "      <td>-5.036091e-01</td>\n",
       "      <td>-5.029841e-01</td>\n",
       "      <td>-5.020921e-01</td>\n",
       "      <td>-9.370225e-01</td>\n",
       "      <td>-9.535732e-01</td>\n",
       "      <td>-8.590747e-01</td>\n",
       "      <td>-9.370225e-01</td>\n",
       "      <td>-4.086417e-01</td>\n",
       "      <td>-6.780777e-01</td>\n",
       "      <td>-6.090921e-01</td>\n",
       "      <td>-7.755242e-01</td>\n",
       "      <td>-3.517393e-01</td>\n",
       "      <td>-5.049364e-01</td>\n",
       "      <td>-5.033420e-01</td>\n",
       "      <td>-4.382339e-01</td>\n",
       "      <td>-3.872558e-01</td>\n",
       "      <td>-4.457825e-01</td>\n",
       "      <td>-3.766634e-01</td>\n",
       "      <td>-3.955698e-01</td>\n",
       "    </tr>\n",
       "    <tr>\n",
       "      <th>50%</th>\n",
       "      <td>2.928705e-01</td>\n",
       "      <td>2.942798e-01</td>\n",
       "      <td>2.929922e-01</td>\n",
       "      <td>2.932075e-01</td>\n",
       "      <td>5.607458e-02</td>\n",
       "      <td>5.146057e-02</td>\n",
       "      <td>5.730247e-02</td>\n",
       "      <td>5.607458e-02</td>\n",
       "      <td>-2.167974e-02</td>\n",
       "      <td>9.867677e-03</td>\n",
       "      <td>-2.544476e-01</td>\n",
       "      <td>7.528455e-02</td>\n",
       "      <td>1.460327e-02</td>\n",
       "      <td>2.978315e-01</td>\n",
       "      <td>2.963289e-01</td>\n",
       "      <td>-4.341116e-02</td>\n",
       "      <td>-2.774844e-02</td>\n",
       "      <td>-4.256654e-02</td>\n",
       "      <td>-6.248431e-03</td>\n",
       "      <td>-1.080486e-02</td>\n",
       "    </tr>\n",
       "    <tr>\n",
       "      <th>75%</th>\n",
       "      <td>6.529111e-01</td>\n",
       "      <td>6.496188e-01</td>\n",
       "      <td>6.549340e-01</td>\n",
       "      <td>6.526517e-01</td>\n",
       "      <td>9.354530e-01</td>\n",
       "      <td>9.687551e-01</td>\n",
       "      <td>8.630693e-01</td>\n",
       "      <td>9.354530e-01</td>\n",
       "      <td>3.334788e-01</td>\n",
       "      <td>6.980415e-01</td>\n",
       "      <td>2.148241e-01</td>\n",
       "      <td>7.801422e-01</td>\n",
       "      <td>3.677769e-01</td>\n",
       "      <td>6.566872e-01</td>\n",
       "      <td>6.556019e-01</td>\n",
       "      <td>3.481599e-01</td>\n",
       "      <td>3.657881e-01</td>\n",
       "      <td>3.431973e-01</td>\n",
       "      <td>3.344275e-01</td>\n",
       "      <td>3.372402e-01</td>\n",
       "    </tr>\n",
       "    <tr>\n",
       "      <th>max</th>\n",
       "      <td>1.911611e+00</td>\n",
       "      <td>1.924927e+00</td>\n",
       "      <td>1.913600e+00</td>\n",
       "      <td>1.914842e+00</td>\n",
       "      <td>1.457908e+00</td>\n",
       "      <td>1.561537e+00</td>\n",
       "      <td>1.792590e+00</td>\n",
       "      <td>1.457908e+00</td>\n",
       "      <td>1.708792e+01</td>\n",
       "      <td>3.288130e+00</td>\n",
       "      <td>1.057567e+01</td>\n",
       "      <td>5.880007e+00</td>\n",
       "      <td>1.726478e+01</td>\n",
       "      <td>1.902367e+00</td>\n",
       "      <td>1.897131e+00</td>\n",
       "      <td>1.367933e+01</td>\n",
       "      <td>2.068621e+01</td>\n",
       "      <td>1.208722e+01</td>\n",
       "      <td>4.012839e+01</td>\n",
       "      <td>2.958164e+01</td>\n",
       "    </tr>\n",
       "  </tbody>\n",
       "</table>\n",
       "</div>"
      ],
      "text/plain": [
       "               open          high           low         close          stok  \\\n",
       "count  8.156000e+03  8.156000e+03  8.156000e+03  8.156000e+03  8.156000e+03   \n",
       "mean  -5.721814e-16  6.533927e-19 -1.032633e-16  1.338557e-15  2.052742e-17   \n",
       "std    1.000061e+00  1.000061e+00  1.000061e+00  1.000061e+00  1.000061e+00   \n",
       "min   -2.316513e+00 -2.317110e+00 -2.306591e+00 -2.317904e+00 -1.612667e+00   \n",
       "25%   -5.019282e-01 -5.036091e-01 -5.029841e-01 -5.020921e-01 -9.370225e-01   \n",
       "50%    2.928705e-01  2.942798e-01  2.929922e-01  2.932075e-01  5.607458e-02   \n",
       "75%    6.529111e-01  6.496188e-01  6.549340e-01  6.526517e-01  9.354530e-01   \n",
       "max    1.911611e+00  1.924927e+00  1.913600e+00  1.914842e+00  1.457908e+00   \n",
       "\n",
       "               stod         sstod          wilr           roc           rsi  \\\n",
       "count  8.156000e+03  8.156000e+03  8.156000e+03  8.156000e+03  8.156000e+03   \n",
       "mean  -5.741688e-17  6.275292e-17  2.384883e-17 -5.101908e-17 -7.421452e-17   \n",
       "std    1.000061e+00  1.000061e+00  1.000061e+00  1.000061e+00  1.000061e+00   \n",
       "min   -1.726587e+00 -2.002331e+00 -1.612667e+00 -5.529742e+00 -3.200080e+00   \n",
       "25%   -9.535732e-01 -8.590747e-01 -9.370225e-01 -4.086417e-01 -6.780777e-01   \n",
       "50%    5.146057e-02  5.730247e-02  5.607458e-02 -2.167974e-02  9.867677e-03   \n",
       "75%    9.687551e-01  8.630693e-01  9.354530e-01  3.334788e-01  6.980415e-01   \n",
       "max    1.561537e+00  1.792590e+00  1.457908e+00  1.708792e+01  3.288130e+00   \n",
       "\n",
       "                atr           cci           dpo           sma           ema  \\\n",
       "count  8.156000e+03  8.156000e+03  8.156000e+03  8.156000e+03  8.156000e+03   \n",
       "mean   2.492421e-16 -2.308654e-17 -6.152781e-18 -1.312094e-15  2.402797e-15   \n",
       "std    1.000061e+00  1.000061e+00  1.000061e+00  1.000061e+00  1.000061e+00   \n",
       "min   -1.270587e+00 -4.827639e+00 -2.351491e+01 -2.285135e+00 -2.281962e+00   \n",
       "25%   -6.090921e-01 -7.755242e-01 -3.517393e-01 -5.049364e-01 -5.033420e-01   \n",
       "50%   -2.544476e-01  7.528455e-02  1.460327e-02  2.978315e-01  2.963289e-01   \n",
       "75%    2.148241e-01  7.801422e-01  3.677769e-01  6.566872e-01  6.556019e-01   \n",
       "max    1.057567e+01  5.880007e+00  1.726478e+01  1.902367e+00  1.897131e+00   \n",
       "\n",
       "               macd     macd_diff   macd_signal          dis5         dis10  \n",
       "count  8.156000e+03  8.156000e+03  8.156000e+03  8.156000e+03  8.156000e+03  \n",
       "mean   2.913042e-18  2.722469e-18  1.270032e-17  2.319544e-17  2.872205e-17  \n",
       "std    1.000061e+00  1.000061e+00  1.000061e+00  1.000061e+00  1.000061e+00  \n",
       "min   -4.403600e+00 -6.591983e+00 -4.090726e+00 -6.955950e+00 -5.616233e+00  \n",
       "25%   -4.382339e-01 -3.872558e-01 -4.457825e-01 -3.766634e-01 -3.955698e-01  \n",
       "50%   -4.341116e-02 -2.774844e-02 -4.256654e-02 -6.248431e-03 -1.080486e-02  \n",
       "75%    3.481599e-01  3.657881e-01  3.431973e-01  3.344275e-01  3.372402e-01  \n",
       "max    1.367933e+01  2.068621e+01  1.208722e+01  4.012839e+01  2.958164e+01  "
      ]
     },
     "execution_count": 77,
     "metadata": {},
     "output_type": "execute_result"
    }
   ],
   "source": [
    "pd.DataFrame(scaler.fit_transform(robo.fit_transform(tempX)),columns = tempX.columns).describe()"
   ]
  },
  {
   "cell_type": "code",
   "execution_count": 139,
   "metadata": {},
   "outputs": [
    {
     "ename": "NameError",
     "evalue": "name 'stop' is not defined",
     "output_type": "error",
     "traceback": [
      "\u001b[1;31m---------------------------------------------------------------------------\u001b[0m",
      "\u001b[1;31mNameError\u001b[0m                                 Traceback (most recent call last)",
      "\u001b[1;32m<ipython-input-139-4f76a9dad686>\u001b[0m in \u001b[0;36m<module>\u001b[1;34m\u001b[0m\n\u001b[1;32m----> 1\u001b[1;33m \u001b[0mstop\u001b[0m\u001b[1;33m\u001b[0m\u001b[1;33m\u001b[0m\u001b[0m\n\u001b[0m",
      "\u001b[1;31mNameError\u001b[0m: name 'stop' is not defined"
     ]
    }
   ],
   "source": [
    "stop"
   ]
  },
  {
   "cell_type": "markdown",
   "metadata": {},
   "source": [
    "This below list was generated above, now we try to implement the output.\n",
    "\n",
    "Parentheses indicates that the scaling procedure could work but it is not ideal.\n",
    "\n",
    "**Open**: Std, Power (Std.), (MinMax) <br>\n",
    "**High**: Std, Power (Std.), (MinMax)<br>\n",
    "**Low**: Std, Power (Std.), (MinMax)<br>\n",
    "**Close**: Std, Power (Std.), (MinMax)<br>\n",
    "**Stok**: Std, Power (Std.), (MinMax), (Norm)<br>\n",
    "**Stod**: Std, Power (Std.), (MinMax), (Norm)<br>\n",
    "**SStod**: Std, Power (Std.), (MinMax), (Norm)<br>\n",
    "**Wilr**: Std, Power (Std.), (MinMax), (Norm)<br>\n",
    "**ema**: Std, Power (Std.), (MinMax)<br>\n",
    "**sma**: Std, Power (Std.), (MinMax)<br>\n",
    "**Dis5**: Substract 100 <br>\n",
    "**Dis10**: Substract 100 <br>\n",
    "**Macd_diff**: actual values <br>\n",
    "**Roc**: actual values demeaned<br>\n",
    "**Atr**: actual values demeaned <br>\n",
    "**Rsi**: Std., Quantile Transformation (Gaussian), Power (Std.) <br>\n",
    "**Cci**: Quantile Transformation (Gaussian), (Power (Std.)) <br>\n",
    "**Dpo**: Quantile Transformation (Gaussian),  (Norm) <br>\n",
    "**Macd**: Quantile Transformation (Gaussian) <br>\n",
    "**Macd_Signal**: Quantile Transformation (Gaussian) <br>"
   ]
  },
  {
   "cell_type": "code",
   "execution_count": 20,
   "metadata": {},
   "outputs": [
    {
     "data": {
      "text/plain": [
       "Index(['open_lag0', 'high_lag0', 'low_lag0', 'close_lag0', 'stok_lag0',\n",
       "       'stod_lag0', 'sstod_lag0', 'wilr_lag0', 'roc_lag0', 'rsi_lag0',\n",
       "       ...\n",
       "       'atr_lag5', 'cci_lag5', 'dpo_lag5', 'sma_lag5', 'ema_lag5', 'macd_lag5',\n",
       "       'macd_diff_lag5', 'macd_signal_lag5', 'dis5_lag5', 'dis10_lag5'],\n",
       "      dtype='object', length=120)"
      ]
     },
     "execution_count": 20,
     "metadata": {},
     "output_type": "execute_result"
    }
   ],
   "source": [
    "X.columns"
   ]
  },
  {
   "cell_type": "code",
   "execution_count": 21,
   "metadata": {},
   "outputs": [
    {
     "data": {
      "text/plain": [
       "{'atr',\n",
       " 'cci',\n",
       " 'close',\n",
       " 'dis10',\n",
       " 'dis5',\n",
       " 'dpo',\n",
       " 'ema',\n",
       " 'high',\n",
       " 'low',\n",
       " 'macd',\n",
       " 'open',\n",
       " 'roc',\n",
       " 'rsi',\n",
       " 'sma',\n",
       " 'sstod',\n",
       " 'stod',\n",
       " 'stok',\n",
       " 'wilr'}"
      ]
     },
     "execution_count": 21,
     "metadata": {},
     "output_type": "execute_result"
    }
   ],
   "source": [
    "rawCols = set([re.split(\"_\",ele)[0] for ele in X.columns])\n",
    "rawCols"
   ]
  },
  {
   "cell_type": "code",
   "execution_count": 26,
   "metadata": {},
   "outputs": [],
   "source": [
    "temp = ['close','open','high']"
   ]
  },
  {
   "cell_type": "code",
   "execution_count": 27,
   "metadata": {},
   "outputs": [
    {
     "data": {
      "text/plain": [
       "array(['close_lag0', 'close_lag1', 'close_lag2', 'close_lag3',\n",
       "       'close_lag4', 'close_lag5', 'open_lag0', 'open_lag1', 'open_lag2',\n",
       "       'open_lag3', 'open_lag4', 'open_lag5', 'high_lag0', 'high_lag1',\n",
       "       'high_lag2', 'high_lag3', 'high_lag4', 'high_lag5'], dtype='<U10')"
      ]
     },
     "execution_count": 27,
     "metadata": {},
     "output_type": "execute_result"
    }
   ],
   "source": [
    "cols = [[c for c in X.columns if t in c] for t in temp]\n",
    "cols = np.concatenate(cols)\n",
    "cols"
   ]
  },
  {
   "cell_type": "markdown",
   "metadata": {},
   "source": [
    "## Baseline"
   ]
  },
  {
   "cell_type": "code",
   "execution_count": 26,
   "metadata": {},
   "outputs": [
    {
     "data": {
      "image/png": "[encoded data removed]",
      "text/plain": [
       "<Figure size 720x720 with 1 Axes>"
      ]
     },
     "metadata": {
      "needs_background": "light"
     },
     "output_type": "display_data"
    }
   ],
   "source": [
    "plt.figure(figsize=(10,10))\n",
    "plt.boxplot(X.values,vert=False)\n",
    "plt.yticks(np.arange(1,X.shape[1]+1),\n",
    "           X.columns,fontsize=12)\n",
    "plt.show()"
   ]
  },
  {
   "cell_type": "markdown",
   "metadata": {},
   "source": [
    "## PreProcessed"
   ]
  },
  {
   "cell_type": "code",
   "execution_count": 27,
   "metadata": {},
   "outputs": [
    {
     "data": {
      "image/png": "[encoded data removed]",
      "text/plain": [
       "<Figure size 720x720 with 1 Axes>"
      ]
     },
     "metadata": {
      "needs_background": "light"
     },
     "output_type": "display_data"
    }
   ],
   "source": [
    "# tempX = tempX.drop(columns=['cci'])\n",
    "plt.figure(figsize=(10,10))\n",
    "plt.boxplot(preproX.values,vert=False)\n",
    "plt.yticks(np.arange(1,preproX.shape[1]+1),\n",
    "           preproX.columns,fontsize=12)\n",
    "plt.show()"
   ]
  },
  {
   "cell_type": "markdown",
   "metadata": {},
   "source": [
    "## Pre Processed 2.0"
   ]
  },
  {
   "cell_type": "code",
   "execution_count": 15,
   "metadata": {},
   "outputs": [
    {
     "ename": "AttributeError",
     "evalue": "'numpy.ndarray' object has no attribute 'values'",
     "output_type": "error",
     "traceback": [
      "\u001b[1;31m---------------------------------------------------------------------------\u001b[0m",
      "\u001b[1;31mAttributeError\u001b[0m                            Traceback (most recent call last)",
      "\u001b[1;32m<ipython-input-15-c9c7f77f3d37>\u001b[0m in \u001b[0;36m<module>\u001b[1;34m\u001b[0m\n\u001b[0;32m     22\u001b[0m \u001b[1;33m\u001b[0m\u001b[0m\n\u001b[0;32m     23\u001b[0m \u001b[0mplt\u001b[0m\u001b[1;33m.\u001b[0m\u001b[0mfigure\u001b[0m\u001b[1;33m(\u001b[0m\u001b[0mfigsize\u001b[0m\u001b[1;33m=\u001b[0m\u001b[1;33m(\u001b[0m\u001b[1;36m10\u001b[0m\u001b[1;33m,\u001b[0m\u001b[1;36m10\u001b[0m\u001b[1;33m)\u001b[0m\u001b[1;33m)\u001b[0m\u001b[1;33m\u001b[0m\u001b[1;33m\u001b[0m\u001b[0m\n\u001b[1;32m---> 24\u001b[1;33m \u001b[0mplt\u001b[0m\u001b[1;33m.\u001b[0m\u001b[0mboxplot\u001b[0m\u001b[1;33m(\u001b[0m\u001b[0mppX\u001b[0m\u001b[1;33m.\u001b[0m\u001b[0mvalues\u001b[0m\u001b[1;33m,\u001b[0m\u001b[0mvert\u001b[0m\u001b[1;33m=\u001b[0m\u001b[1;32mFalse\u001b[0m\u001b[1;33m)\u001b[0m\u001b[1;33m\u001b[0m\u001b[1;33m\u001b[0m\u001b[0m\n\u001b[0m\u001b[0;32m     25\u001b[0m plt.yticks(np.arange(1,ppX.shape[1]+1),\n\u001b[0;32m     26\u001b[0m            ppX.columns,fontsize=12)\n",
      "\u001b[1;31mAttributeError\u001b[0m: 'numpy.ndarray' object has no attribute 'values'"
     ]
    },
    {
     "data": {
      "text/plain": [
       "<Figure size 720x720 with 0 Axes>"
      ]
     },
     "metadata": {},
     "output_type": "display_data"
    }
   ],
   "source": [
    "featurePreProcessing = {'open':'std',\n",
    "                        'close':'std',\n",
    "                        'high':'std',\n",
    "                        'low':'std',\n",
    "                        'stok':'std',\n",
    "                        'stod':'std',\n",
    "                        'sstod':'std',\n",
    "                        'wilr':'std',\n",
    "                        'ema':'std',\n",
    "                        'sma':'std',\n",
    "                        'dis5':'sub',\n",
    "                        'dis10':'sub',\n",
    "                        'macd_diff':'act',\n",
    "                        'roc':'actde',\n",
    "                        'atr':'actde',\n",
    "                        'rsi':'std',\n",
    "                        'cci':'quantgau',\n",
    "                        'dpo':'quantgau',\n",
    "                        'macd':'quantgau',\n",
    "                        'macd_signal':'quantgau'}\n",
    "ppX = pre_processing(X,featurePreProcessing,100).values\n",
    "\n",
    "plt.figure(figsize=(10,10))\n",
    "plt.boxplot(ppX.values,vert=False)\n",
    "plt.yticks(np.arange(1,ppX.shape[1]+1),\n",
    "           ppX.columns,fontsize=12)\n",
    "plt.show()"
   ]
  },
  {
   "cell_type": "markdown",
   "metadata": {},
   "source": [
    "## Split data into train and test set"
   ]
  },
  {
   "cell_type": "code",
   "execution_count": 14,
   "metadata": {},
   "outputs": [
    {
     "data": {
      "text/plain": [
       "((315, 120), (36, 120), (315,), (36,))"
      ]
     },
     "execution_count": 14,
     "metadata": {},
     "output_type": "execute_result"
    }
   ],
   "source": [
    "#X_train, X_test, y_train, y_test = train_test_split(features, labels, test_size=0.1, random_state=42)\n",
    "\n",
    "X_train, X_test, y_train, y_test = train_test_split(X, y, test_size=0.1, random_state=42)\n",
    "X_train = X_train.reset_index(drop=True) \n",
    "X_test = X_test.reset_index(drop=True)\n",
    "# y_train = y_train.reset_index(drop=True)\n",
    "# y_test = y_test.reset_index(drop=True)\n",
    "X_train.shape, X_test.shape, y_train.shape, y_test.shape"
   ]
  },
  {
   "cell_type": "code",
   "execution_count": 15,
   "metadata": {},
   "outputs": [],
   "source": [
    "featurePreProcessing = {'open':'std',\n",
    "                        'close':'std',\n",
    "                        'high':'std',\n",
    "                        'low':'std',\n",
    "                        \n",
    "                        'stok':'std',\n",
    "                        'stod':'std',\n",
    "                        'sstod':'std',\n",
    "                        'wilr':'std',\n",
    "                        'ema':'std',\n",
    "                        'sma':'std',\n",
    "                        'dis5':'sub',\n",
    "                        'dis10':'sub',\n",
    "                        'macd_diff':'act',\n",
    "                        'roc':'actde',\n",
    "                        'atr':'actde',\n",
    "                        'rsi':'std',\n",
    "                        'cci':'quantgau',\n",
    "                        'dpo':'quantgau',\n",
    "                        'macd':'quantgau',\n",
    "                        'macd_signal':'quantgau'}\n",
    "ppX_train,ppX_test = pre_processing(X_train,\n",
    "                                       X_test,\n",
    "                                       featurePreProcessing,\n",
    "                                       100)"
   ]
  },
  {
   "cell_type": "code",
   "execution_count": 16,
   "metadata": {},
   "outputs": [
    {
     "data": {
      "text/plain": [
       "array([0, 0, 0, 0, 0, 0, 0, 0, 0, 0, 0, 0, 0, 0, 0, 0, 0, 0, 0, 0, 0, 0,\n",
       "       0, 0, 0, 0, 0, 0, 0, 0, 0, 0, 0, 0, 0, 0, 0, 0, 0, 0, 0, 0, 0, 0,\n",
       "       0, 0, 0, 0, 0, 0, 0, 0, 0, 0, 0, 0, 0, 0, 0, 0, 0, 0, 0, 0, 0, 0,\n",
       "       0, 0, 0, 0, 0, 0, 0, 0, 0, 0, 0, 0, 0, 0, 0, 0, 0, 0, 0, 0, 0, 0,\n",
       "       0, 0, 0, 0, 0, 0, 0, 0, 0, 0, 0, 0, 0, 0, 0, 0, 0, 0, 0, 0, 0, 0,\n",
       "       0, 0, 0, 0, 0, 0, 0, 0, 0, 0], dtype=int64)"
      ]
     },
     "execution_count": 16,
     "metadata": {},
     "output_type": "execute_result"
    }
   ],
   "source": [
    "ppX_train.isnull().sum().values"
   ]
  },
  {
   "cell_type": "code",
   "execution_count": 17,
   "metadata": {},
   "outputs": [
    {
     "data": {
      "text/plain": [
       "array([0, 0, 0, 0, 0, 0, 0, 0, 0, 0, 0, 0, 0, 0, 0, 0, 0, 0, 0, 0, 0, 0,\n",
       "       0, 0, 0, 0, 0, 0, 0, 0, 0, 0, 0, 0, 0, 0, 0, 0, 0, 0, 0, 0, 0, 0,\n",
       "       0, 0, 0, 0, 0, 0, 0, 0, 0, 0, 0, 0, 0, 0, 0, 0, 0, 0, 0, 0, 0, 0,\n",
       "       0, 0, 0, 0, 0, 0, 0, 0, 0, 0, 0, 0, 0, 0, 0, 0, 0, 0, 0, 0, 0, 0,\n",
       "       0, 0, 0, 0, 0, 0, 0, 0, 0, 0, 0, 0, 0, 0, 0, 0, 0, 0, 0, 0, 0, 0,\n",
       "       0, 0, 0, 0, 0, 0, 0, 0, 0, 0], dtype=int64)"
      ]
     },
     "execution_count": 17,
     "metadata": {},
     "output_type": "execute_result"
    }
   ],
   "source": [
    "ppX_test.isnull().sum().values"
   ]
  },
  {
   "cell_type": "markdown",
   "metadata": {},
   "source": [
    "## Lets test some performance"
   ]
  },
  {
   "cell_type": "code",
   "execution_count": 80,
   "metadata": {},
   "outputs": [],
   "source": [
    "def performanceTesting(X,Y, cv_folds,seed,ppDict,verbose):\n",
    "    # ensure expected data type\n",
    "    #X = X.values.astype(np.float32)\n",
    "    #Y = Y.astype(np.int)#.values\n",
    "    scoreHold = []\n",
    "    # nested cross-validation, this is the outer fold initialization\n",
    "    kf = StratifiedKFold(n_splits=cv_folds, shuffle=True,\n",
    "                            random_state=seed).split(X,Y)    \n",
    "\n",
    "    # store training and test accuracies, best parameters, \n",
    "    # selected features, ensemble accuracies\n",
    "    # total_train_acc = np.zeros(shape=(cv_folds, len(models))) \n",
    "    # total_test_acc = np.zeros(shape=(cv_folds, len(models))) \n",
    "    # total_best_params = np.zeros(shape=(cv_folds, len(models)),dtype=np.object)\n",
    "    # total_features = np.zeros(shape=(cv_folds, len(models)),dtype=np.object)\n",
    "    # total_ens_test_acc = np.zeros(shape=(cv_folds, 4)) # 4 different ensembles\n",
    "\n",
    "    for counter, (train_index, test_index) in enumerate(kf):\n",
    "        if verbose:\n",
    "            print(\"Outer CV fold {}\".format(counter))\n",
    "\n",
    "    #     # create directory for output, if write_output is active\n",
    "    #     if write_output:\n",
    "    #         odir = os.path.join(outputdir, str(counter))\n",
    "    #         if not os.path.exists(odir):\n",
    "    #             os.makedirs(odir)\n",
    "        #print(train_index)\n",
    "        # get training/test splits\n",
    "        X_train, X_test = X.loc[train_index,:].reset_index(drop=True),\\\n",
    "                            X.loc[test_index,:].reset_index(drop=True)\n",
    "        \n",
    "        Y_train, Y_test = Y[train_index], Y[test_index]\n",
    "\n",
    "        # store predictions and errors within each outer fold\n",
    "    #     total_pred_proba = np.zeros(shape=(len(test_index), len(models)))\n",
    "    #     total_Y_pred = np.zeros(shape=(len(test_index), len(models)))\n",
    "    #     total_Y_error_proba = np.zeros(shape=(len(test_index), len(models)))\n",
    "    #     total_Y_error_class = np.zeros(shape=(len(test_index), len(models)))\n",
    "\n",
    "    #     # store predictions on inner folds for training stacked ensembles\n",
    "    #     total_inner_pred = np.zeros(shape=(len(train_index), len(models))) \n",
    "    #     total_inner_pred_proba = np.zeros(shape=(len(train_index), len(models))) \n",
    "\n",
    "        # initialize inner kf\n",
    "    #     inner_kf = cross_validation.StratifiedKFold(Y_train, n_folds=cv_folds,\n",
    "    #                                       shuffle=True, random_state = seed)\n",
    "        #print(X_train.shape,X_test.shape)\n",
    "        # perform pre-processing on current outer training and test set\n",
    "        X_train, X_test = pre_processing(X_train, X_test, ppDict,100)\n",
    "        #print(X_train.dtypes,'\\n')\n",
    "        #print(X_test.dtypes,'\\n')\n",
    "#         print(np.sum(np.sum(X_train.isnull(),axis=None)),\n",
    "#               np.sum(np.sum(X_train==np.inf,axis=None)))\n",
    "#         print(np.sum(np.sum(X_test.isnull(),axis=None)),\n",
    "#               np.sum(np.sum(X_test==np.inf,axis=None)))\n",
    "#         print(np.sum(X_train.isnull(),axis=None),\n",
    "#               np.sum(X_train==np.inf,axis=None))\n",
    "#         print(np.sum(X_test.isnull(),axis=None),\n",
    "#               np.sum(X_test==np.inf,axis=None))\n",
    "        \n",
    "        clf = LogisticRegression(random_state=0,\n",
    "                                 max_iter=1000,\n",
    "                                 solver='lbfgs',\n",
    "                                 C = 0.1).fit(X_train, Y_train)\n",
    "#         clf.predict(X[:2, :])\n",
    "    \n",
    "        scoreHold.append(clf.score(X_test, Y_test))\n",
    "    print('Scores: ',scoreHold)\n",
    "    print('Average Score: %.3f (%.3f)'% (np.mean(scoreHold),np.std(scoreHold)))\n",
    "        \n",
    "        "
   ]
  },
  {
   "cell_type": "markdown",
   "metadata": {},
   "source": [
    "### Lets test different preprocessing methods"
   ]
  },
  {
   "cell_type": "code",
   "execution_count": 81,
   "metadata": {},
   "outputs": [
    {
     "name": "stdout",
     "output_type": "stream",
     "text": [
      "The preprocessing method tested is: std\n",
      "\n",
      "Scores:  [0.3903186274509804, 0.3948497854077253, 0.3905579399141631, 0.39607602697731453, 0.38381361128142244]\n",
      "Average Score: 0.391 (0.004)\n",
      "\n",
      "\n",
      "The preprocessing method tested is: quantgau\n",
      "\n",
      "Scores:  [0.3860294117647059, 0.4064990803188228, 0.39914163090128757, 0.38994481912936846, 0.37216431637032493]\n",
      "Average Score: 0.391 (0.012)\n",
      "\n",
      "\n",
      "The preprocessing method tested is: quantuni\n",
      "\n",
      "Scores:  [0.39950980392156865, 0.39914163090128757, 0.3905579399141631, 0.39362354383813614, 0.3727774371551196]\n",
      "Average Score: 0.391 (0.010)\n",
      "\n",
      "\n",
      "The preprocessing method tested is: pow\n",
      "\n",
      "Scores:  [0.39276960784313725, 0.39546290619251995, 0.3746167995095034, 0.3917841814837523, 0.38136112814224404]\n",
      "Average Score: 0.387 (0.008)\n",
      "\n",
      "\n",
      "The preprocessing method tested is: minmax\n",
      "\n",
      "Scores:  [0.39644607843137253, 0.3825873697118332, 0.37155119558553035, 0.3911710606989577, 0.4009809932556714]\n",
      "Average Score: 0.389 (0.010)\n",
      "\n",
      "\n"
     ]
    }
   ],
   "source": [
    "for ppm in ['std','quantgau','quantuni','pow','minmax']:#'act','actde',\n",
    "    print('The preprocessing method tested is: %s\\n' % ppm)\n",
    "    testDict = {col:ppm for col in X.columns}\n",
    "    performanceTesting(X,y,5,2020,testDict,verbose=0)\n",
    "    print('\\n')"
   ]
  },
  {
   "cell_type": "markdown",
   "metadata": {},
   "source": [
    "## Pre-Process features individually"
   ]
  },
  {
   "cell_type": "code",
   "execution_count": 19,
   "metadata": {},
   "outputs": [
    {
     "name": "stdout",
     "output_type": "stream",
     "text": [
      "Scores:  [0.18309859154929578, 0.15714285714285714, 0.21428571428571427, 0.14285714285714285, 0.17142857142857143]\n",
      "Average Score: 0.174 (0.024)\n"
     ]
    }
   ],
   "source": [
    "featurePreProcessing = {'open':'std',\n",
    "                        'close':'std',\n",
    "                        'high':'std',\n",
    "                        'low':'std',\n",
    "                        'stok':'std',\n",
    "                        'stod':'std',\n",
    "                        'sstod':'std',\n",
    "                        'wilr':'std',\n",
    "                        'ema':'std',\n",
    "                        'sma':'std',\n",
    "                        'dis5':'sub',\n",
    "                        'dis10':'sub',\n",
    "                        'macd_diff':'act',\n",
    "                        'roc':'actde',\n",
    "                        'atr':'actde',\n",
    "                        'rsi':'std',\n",
    "                        'cci':'quantgau',\n",
    "                        'dpo':'quantgau',\n",
    "                        'macd':'quantgau',\n",
    "                        'macd_signal':'quantgau'}\n",
    "performanceTesting(X,y,5,2020,featurePreProcessing,verbose=0)"
   ]
  },
  {
   "cell_type": "markdown",
   "metadata": {},
   "source": [
    "## Connect to SQL Database"
   ]
  },
  {
   "cell_type": "code",
   "execution_count": 26,
   "metadata": {},
   "outputs": [],
   "source": [
    "server =  'fmnskln.database.windows.net' #'<server>.database.windows.net'\n",
    "database = 'aggregateData'\n",
    "username = 'fmnsklnucph'\n",
    "password = pd.read_csv('../secrets/sql_pw.txt', header=None).values[0][0]\n",
    "driver= '{ODBC Driver 17 for SQL Server}'\n",
    "cnxn = pyodbc.connect('DRIVER='+driver+';SERVER='+server+';PORT=1433;DATABASE='+database+';UID='+username+';PWD='+ password,\n",
    "                     autocommit=True)\n",
    "cursor = cnxn.cursor()\n",
    "#cursor.execute(\"SELECT TOP 20 pc.Name as CategoryName, p.name as ProductName FROM [SalesLT].[ProductCategory] pc JOIN [SalesLT].[Product] p ON pc.productcategoryid = p.productcategoryid\")"
   ]
  },
  {
   "cell_type": "code",
   "execution_count": 14,
   "metadata": {},
   "outputs": [
    {
     "data": {
      "text/plain": [
       "<pyodbc.Cursor at 0x21a23c60>"
      ]
     },
     "execution_count": 14,
     "metadata": {},
     "output_type": "execute_result"
    }
   ],
   "source": [
    "cursor.execute(\"SELECT * FROM Agg_1m\")"
   ]
  },
  {
   "cell_type": "code",
   "execution_count": 15,
   "metadata": {},
   "outputs": [
    {
     "data": {
      "text/plain": [
       "[('GOOG', datetime.date(2020, 4, 1), 0, Decimal('1122.26000'), Decimal('1127.22000'), Decimal('1119.51000'), Decimal('1126.12000'), None)]"
      ]
     },
     "execution_count": 15,
     "metadata": {},
     "output_type": "execute_result"
    }
   ],
   "source": [
    "cursor.fetchall()"
   ]
  },
  {
   "cell_type": "code",
   "execution_count": 26,
   "metadata": {},
   "outputs": [],
   "source": [
    "# works\n",
    "cursor.fast_executemany = False\n",
    "result = [['GOOG', '20200401', 2, 1122.26, 1127.22, 1119.51, 1126.12]]\n",
    "cursor.executemany('INSERT INTO [dbo].[Agg_1m] ([ticker], [time_date], [time_group], [open_price], [high_price], [low_price], [close_price]) VALUES (?, ?, ?, ?, ?, ?, ?)', result)\n"
   ]
  },
  {
   "cell_type": "code",
   "execution_count": 34,
   "metadata": {},
   "outputs": [],
   "source": [
    "import datetime"
   ]
  },
  {
   "cell_type": "code",
   "execution_count": 38,
   "metadata": {},
   "outputs": [
    {
     "data": {
      "text/plain": [
       "'2020-04-01'"
      ]
     },
     "execution_count": 38,
     "metadata": {},
     "output_type": "execute_result"
    }
   ],
   "source": [
    "datetime.datetime.strptime('20200401','%Y%m%d') #.strftime('%Y-%m-%d') #strptime(a, '%Y%m%d').strftime('%m/%d/%Y')"
   ]
  },
  {
   "cell_type": "code",
   "execution_count": 70,
   "metadata": {},
   "outputs": [
    {
     "name": "stdout",
     "output_type": "stream",
     "text": [
      "471.0 seconds\n"
     ]
    }
   ],
   "source": [
    "cursor.fast_executemany = False  # new in pyodbc 4.0.19\n",
    "\n",
    "sql = \"INSERT INTO [dbo].[Agg_1m] ([ticker], [time_date], [time_group], [open_price], [high_price], [low_price], [close_price]) VALUES (?, ?, ?, ?, ?, ?, ?)\"\n",
    "params = tt.values.tolist() #[['GOOG', datetime.datetime.strptime('20200401','%Y%m%d'), 5, 1122.26, 1127.22, 1119.51, 1126.12]] #[(f'txt{i:06d}',) for i in range(1000)]\n",
    "t0 = time.time()\n",
    "cursor.executemany(sql, params)\n",
    "print(f'{time.time() - t0:.1f} seconds')"
   ]
  },
  {
   "cell_type": "code",
   "execution_count": 71,
   "metadata": {},
   "outputs": [
    {
     "data": {
      "text/plain": [
       "array([['GOOG', Timestamp('2020-04-01 00:00:00'), 0, ..., 1127.22,\n",
       "        1119.51, 1126.12],\n",
       "       ['GOOG', Timestamp('2020-04-01 00:00:00'), 1, ..., 1128.0, 1120.0,\n",
       "        1126.92],\n",
       "       ['GOOG', Timestamp('2020-04-01 00:00:00'), 2, ..., 1127.4,\n",
       "        1124.02, 1125.44],\n",
       "       ...,\n",
       "       ['GOOG', Timestamp('2020-04-30 00:00:00'), 387, ..., 1348.99,\n",
       "        1346.75, 1348.92],\n",
       "       ['GOOG', Timestamp('2020-04-30 00:00:00'), 388, ..., 1350.0,\n",
       "        1348.44, 1349.94],\n",
       "       ['GOOG', Timestamp('2020-04-30 00:00:00'), 389, ..., 1352.85,\n",
       "        1346.0, 1348.8]], dtype=object)"
      ]
     },
     "execution_count": 71,
     "metadata": {},
     "output_type": "execute_result"
    }
   ],
   "source": [
    "# try optimizing\n",
    "tt = candles_pd.copy()\n",
    "tt.columns = candles_pd.columns.droplevel(0)\n",
    "tt.reset_index(drop=False, inplace=True)\n",
    "tt.insert(loc=0, column='ticker', value='GOOG')\n",
    "tt['Date'] = pd.to_datetime(tt['Date'], format='%Y%m%d') #datetime.datetime.strptime(tt['Date'],'%Y%m%d')\n",
    "tt.values"
   ]
  },
  {
   "cell_type": "code",
   "execution_count": 69,
   "metadata": {},
   "outputs": [
    {
     "name": "stdout",
     "output_type": "stream",
     "text": [
      "50.9 seconds\n"
     ]
    }
   ],
   "source": [
    "cursor.fast_executemany = True  # new in pyodbc 4.0.19\n",
    "\n",
    "sql = \"INSERT INTO [dbo].[Agg_1m] ([ticker], [time_date], [time_group], [open_price], [high_price], [low_price], [close_price]) VALUES (?, ?, ?, ?, ?, ?, ?)\"\n",
    "params = tt.values.tolist() #[['GOOG', datetime.datetime.strptime('20200401','%Y%m%d'), 5, 1122.26, 1127.22, 1119.51, 1126.12]] #[(f'txt{i:06d}',) for i in range(1000)]\n",
    "t0 = time.time()\n",
    "cursor.executemany(sql, params)\n",
    "print(f'{time.time() - t0:.1f} seconds')"
   ]
  },
  {
   "cell_type": "code",
   "execution_count": null,
   "metadata": {},
   "outputs": [],
   "source": []
  }
 ],
 "metadata": {
  "kernelspec": {
   "display_name": "Python 3",
   "language": "python",
   "name": "python3"
  },
  "language_info": {
   "codemirror_mode": {
    "name": "ipython",
    "version": 3
   },
   "file_extension": ".py",
   "mimetype": "text/x-python",
   "name": "python",
   "nbconvert_exporter": "python",
   "pygments_lexer": "ipython3",
   "version": "3.7.6"
  }
 },
 "nbformat": 4,
 "nbformat_minor": 2
}
