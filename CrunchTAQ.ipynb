{
 "cells": [
  {
   "cell_type": "code",
   "execution_count": 5,
   "metadata": {},
   "outputs": [],
   "source": [
    "import numpy as np\n",
    "import pandas as pd\n",
    "import matplotlib.pyplot as plt\n",
    "import re\n",
    "import os\n",
    "import time\n",
    "import h5py\n",
    "import copy\n",
    "import datetime\n",
    "\n",
    "# Do you wanna see?\n",
    "verbose = True"
   ]
  },
  {
   "cell_type": "code",
   "execution_count": 6,
   "metadata": {},
   "outputs": [],
   "source": [
    "# FMNS testing pull request"
   ]
  },
  {
   "cell_type": "code",
   "execution_count": 56,
   "metadata": {},
   "outputs": [],
   "source": [
    "def transformData(dataset, datainfo):\n",
    "  \n",
    "    # Use the column-name information to rename the columns.\n",
    "    renameCol = {i:col[0] for i,col in enumerate(datainfo)}\n",
    "  \n",
    "    # Rename\n",
    "    dataset = dataset.rename(columns=renameCol)\n",
    "  \n",
    "    # Use the datatype information to convert the arrays back to the right datatype.\n",
    "    dt = {col[0]:str if col[1] == 'object' else col[1] for col in datainfo}\n",
    "\n",
    "    # Convert the datatypes\n",
    "    dataset = dataset.astype(dt)\n",
    "\n",
    "    # Strip the string-type arrays for the unintended characters.\n",
    "    for ele in datainfo:\n",
    "        # if the datatype is string, we need to do some additional conversion.\n",
    "        if ele[1] == 'object':\n",
    "\n",
    "            dataset[ele[0]] = list(map(f,dataset[ele[0]]))\n",
    "\n",
    "            if 'date' in ele[0].lower():\n",
    "                dataset[ele[0]] = dataset[ele[0]].astype(np.datetime64) \n",
    "\n",
    "    return dataset\n",
    "\n",
    "# We create a function to clean the string-type arrays\n",
    "f = lambda a: re.split('[\\']',a)[1]\n",
    "\n",
    "# Function to clean the unpacked data from the compressed files.\n",
    "def strList(ls):\n",
    "    return list(map(lambda x: x.decode('utf-8'),ls))\n",
    "\n",
    "# The following function is based on the research of (Lunde, 2016), summarized in the slides found here:\n",
    "# https://econ.au.dk/fileadmin/site_files/filer_oekonomi/subsites/creates/Diverse_2016/PhD_High-Frequency/HF_TrQuData_v01.pdf\n",
    "\n",
    "def formatDate(date,timestamps):\n",
    "    return list(map(lambda x: date[0:4]+'/'+date[4:6]+'/'+date[6:]+' '+str(datetime.timedelta(seconds = int(str(x)[0:5]),\n",
    "                                                     microseconds = int(str(x)[5:11]))),timestamps))\n",
    "def HFDataCleaning(cleaningProcedures,dataToClean,dataType,p3Exchanges = []):\n",
    "    \n",
    "    # There are 11 cleaning procedures, with 3 relevant for both trade and quote data and 4 for either trade or quote data.\n",
    "    # The cleaning procedures are listed below for simplicity\n",
    "    \n",
    "    # Applicable for both trade and quote data\n",
    "    \n",
    "    # P1. Delete entries with a time stamp outside the 9:30 am to 4 pm window when the exchange is open.\n",
    "    # P2. Delete entries with a bid, ask or transaction price equal to zero.\n",
    "    # P3. Retain entries originating from a single exchange. Delete other entries.\n",
    "    \n",
    "    # Applicable for just trade data\n",
    "    \n",
    "    # T1. Delete entries with corrected trades. (Trades with a Correction Indicator, CORR != 0).\n",
    "    # T2. Delete entries with abnormal Sale Condition. (Trades where COND has a letter code, except for “E” and “F”).\n",
    "    # T3. If multiple transactions have the same time stamp: use the median price.\n",
    "    # T4. Delete entries with prices that are above the ask plus the bid-ask spread. \n",
    "    # Similar for entries with prices below the bid minus the bid-ask spread.\n",
    "    \n",
    "    # Applicable for just quote data\n",
    "    \n",
    "    # Q1. When multiple quotes have the same timestamp, we replace all these with a single entry \n",
    "    # with the median bid and median ask price.\n",
    "    # Q2. Delete entries for which the spread is negative.\n",
    "    # Q3. Delete entries for which the spread is more that 50 times the median spread on that day.\n",
    "    # Q4. Delete entries for which the mid-quote deviated by more than 5 median absolute deviations from \n",
    "    # a centered median (excluding the observation under consideration) of 50 observations.\n",
    "\n",
    "    # Some comments, by (Lunde,2016), on the relative importance of the individual cleaning procedures\n",
    "    \n",
    "    # ➤ By far the most important rules here are P3, T3 and Q1.\n",
    "    # ➤ In our empirical work we will see the impact of suspending P3. It is used to reduce the impact\n",
    "    # of time-delays in the reporting of trades and quote updates.\n",
    "    # ➤ Some form of T3 and Q1 rule seems inevitable here, and it is these rules which lead to the largest deletion of data.\n",
    "    # ➤ T4 is an attractive rule, as it disciplines the trade data using quotes. However, it has the disadvantage \n",
    "    # that it cannot be applied when quote data is not available.\n",
    "    # ➤ In situations where quote data is not available, Q4 can be applied to the transaction prices in place of T4.\n",
    "\n",
    "    dataType = dataType.lower().strip()\n",
    "    \n",
    "  \n",
    "        \n",
    "    for cp in cleaningProcedures:\n",
    "        \n",
    "        cp = cp.lower().strip()\n",
    "        \n",
    "        \n",
    "        # check if cp is sensible\n",
    "        if (cp.startswith('t')) & (dataType != 'trade'):\n",
    "            raise ValueError(f'Cleaning procedure {cp} is not compatible with dataType {dataType}')  \n",
    "            \n",
    "        elif (cp.startswith('q')) & (dataType != 'quote'):\n",
    "            raise ValueError(f'Cleaning procedure {cp} is not compatible with dataType {dataType}') \n",
    "\n",
    "\n",
    "        # if the cleaning procedure in question is p1.\n",
    "        if cp == 'p1':\n",
    "            # ((tradeData.Hour+tradeData.Minute/60)>9.5)&((tradeData.Hour+tradeData.Minute/60)<16)\n",
    "#             dataToClean = dataToClean[(datetime.timedelta(hours = 9,\n",
    "#                                                          minutes = 30) <= dataToClean.Timestamp)&\\\n",
    "#                                       (dataToClean.Timestamp <= datetime.timedelta(hours = 16,\n",
    "#                                                                                    minutes = 0))].reset_index(drop=True)\n",
    "            dataToClean = dataToClean[((dataToClean.Hour+dataToClean.Minute/60)>=9.5)&\\\n",
    "                                      ((dataToClean.Hour+dataToClean.Minute/60)<16)]\n",
    "        \n",
    "        # if the cleaning procedure in question is p2.\n",
    "        elif cp == 'p2':\n",
    "            \n",
    "            # if the cleaning procedure in question is p1.\n",
    "            if dataType == 'trade':\n",
    "                \n",
    "                dataToClean = dataToClean[dataToClean.price != 0].reset_index(drop=True)\n",
    "                \n",
    "            elif dataType == 'quote':\n",
    "                \n",
    "                dataToClean = dataToClean[(dataToClean.bid != 0) | (dataToClean.ofr != 0)].reset_index(drop=True)\n",
    "                \n",
    "                \n",
    "        # if the cleaning procedure in question is p3.\n",
    "        elif cp == 'p3':\n",
    "            \n",
    "            if len(p3Exchanges) == 0:\n",
    "                \n",
    "                raise ValueError('No exchanges, to filter on, has been provided.\\nPlease provide a list with minimum one exchanges to filter on.')\n",
    "            \n",
    "            else:\n",
    "                \n",
    "                # Ensuring correct format\n",
    "                p3Exchanges = [ele.lower().strip() for ele in p3Exchanges]\n",
    "                \n",
    "                # Filtering on exchanges ### Consider to use \"isin\" on the dataToClean.ex-Series instead, to improve execution time.\n",
    "                dataToClean = dataToClean[[True if ele.lower().strip() in p3Exchanges else False for ele in dataToClean.ex]].reset_index(drop=True)\n",
    "        \n",
    "        \n",
    "        # if the cleaning procedure in question is t1.\n",
    "        # T1. Delete entries with corrected trades. (Trades with a Correction Indicator, CORR != 0).\n",
    "        elif cp == 't1':\n",
    "\n",
    "            dataToClean = dataToClean[dataToClean['corr'] == '00'].reset_index(drop=True)                \n",
    "                \n",
    "                \n",
    "        # if the cleaning procedure in question is t2.\n",
    "        # T2. Delete entries with abnormal Sale Condition. (Trades where COND has a letter code, except for “E” and “F”).\n",
    "        # FMNS: Most are COND = '@ XX' such as '@ TI', make sure this works properly. Assuming startswith('@') is cool\n",
    "        elif cp == 't2':\n",
    "            \n",
    "            dataToClean = dataToClean[(dataToClean.cond.startswith('@')) | (dataToClean.cond in ['E', 'F'])].reset_index(drop=True) \n",
    "            \n",
    "            \n",
    "        # if the cleaning procedure in question is t3.\n",
    "        # T3. If multiple transactions have the same time stamp: use the median price.\n",
    "        # FMNS: Let's consider if these median prices are cheating in relation to OHLC bars\n",
    "        elif cp == 't3':\n",
    "\n",
    "            # get unique timestamps\n",
    "            unique_ts_idx = np.unique(dataToClean.Timestamp, return_index=True)[1]\n",
    "            \n",
    "            # get median prices\n",
    "            median_price = dataToClean[['Timestamp', 'price']].groupby('Timestamp')['price'].median().values\n",
    "                \n",
    "            # keep only unique timestamps\n",
    "            dataToClean = dataToClean.iloc[unique_ts_idx, :].reset_index(drop=True)\n",
    "            \n",
    "            # fill the price variable with medians matched on unique_ts\n",
    "            dataToClean.loc[:,'price'] = median_price\n",
    "            \n",
    "            ### We could add a print to tell how many duplicated values there where? - Kris\n",
    "            \n",
    "            # note that all other variables now hold the first entry for each timestamp!\n",
    "\n",
    "            \n",
    "        # if the cleaning procedure in question is t3.        \n",
    "        # T4. Delete entries with prices that are above the ask plus the bid-ask spread. \n",
    "        # Similar for entries with prices below the bid minus the bid-ask spread.\n",
    "        # FMNS: We have no bid/ask/spread in trades-table. \n",
    "        #       To do this, we would probably need to cross-match timestamps between trades and quotes properly\n",
    "        elif cp == 't4':\n",
    "            \n",
    "            raise ValueError(f'Cleaning procedure {cp} is on hold')          \n",
    "\n",
    "            \n",
    "        # if the cleaning procedure in question is q1.\n",
    "        # Q1. When multiple quotes have the same timestamp, we replace all these with a single entry \n",
    "        # with the median bid and median ask price.   \n",
    "        # FMNS: Let's consider if these median prices are cheating in relation to OHLC bars\n",
    "        elif cp == 'q1':\n",
    "            \n",
    "            if datatype == 'quote':\n",
    "            \n",
    "                # get unique timestamps\n",
    "                unique_ts_idx = np.unique(dataToClean.Timestamp, return_index=True)[1]\n",
    "\n",
    "                # get median prices\n",
    "                median_price = dataToClean[['Timestamp', 'bid', 'ofr']].groupby('Timestamp')['bid', 'ofr'].median().values\n",
    "\n",
    "                # keep only unique timestamps\n",
    "                dataToClean = dataToClean.iloc[unique_ts_idx, :].reset_index(drop=True)\n",
    "\n",
    "                # fill the price variable with medians matched on unique_ts\n",
    "                dataToClean.loc[:,['bid','ofr']] = median_price\n",
    "\n",
    "                # note that all other variables now hold the first entry for each timestamp!\n",
    "            \n",
    "            else:\n",
    "                \n",
    "                raise ValueError('The datatype has to be quote, in order to apply this cleaning procedure.\\nPlease revisit your request.')\n",
    "            \n",
    "\n",
    "        # if the cleaning procedure in question is q2.\n",
    "        # Q2. Delete entries for which the spread is negative.\n",
    "        elif cp == 'q2':\n",
    "            \n",
    "            if datatype == 'quote':\n",
    "                \n",
    "                dataToClean = dataToClean[dataToClean.ofr - dataToClean.bid >= 0].reset_index(drop=True)     \n",
    "            \n",
    "            else:\n",
    "                raise ValueError('The datatype has to be quote, in order to apply this cleaning procedure.\\nPlease revisit your request.')\n",
    "\n",
    "        # if the cleaning procedure in question is q3.\n",
    "        # Q3. Delete entries for which the spread is more that 50 times the median spread on that day.\n",
    "        elif cp == 'q3':\n",
    "            \n",
    "            if datatype == 'quote':\n",
    "                \n",
    "                # get all spreads across days, groupby Date and take daily median spreads\n",
    "                all_spreads = dataToClean[['Date', 'bid', 'ofr']]\n",
    "                all_spreads['spread'] =  dataToClean.ofr - dataToClean.bid\n",
    "                all_spreads.drop(['bid','ofr'], axis=1, inplace=True)\n",
    "\n",
    "                median_spreads = all_spreads.groupby('Date').median().values     \n",
    "\n",
    "\n",
    "                total_keep_idx = []\n",
    "                # for each unique day ...\n",
    "                for day in np.unique(dataToClean.Date):\n",
    "\n",
    "                    # for every spread within this day, check if it's below 50*median \n",
    "                    # (below_50median is a boolean with all existing index)\n",
    "                    below_50median = (all_spreads[all_spreads.Date == day].spread <= 50*median_spreads[median_spreads.index == day].values[0][0])\n",
    "\n",
    "                    # get the indices where below_50median == True (meaning individual spread is within 50*median)\n",
    "                    below_50median[below_50median].index\n",
    "\n",
    "                    total_keep_idx.append(below_50median[below_50median].index)\n",
    "\n",
    "\n",
    "                # after going through all days, flatten the list\n",
    "                total_keep_idx = [ele for intraday_idx in total_keep_idx for ele in intraday_idx]\n",
    "\n",
    "                # keep all entries that passed the filter\n",
    "                dataToClean = dataToClean.iloc[total_keep_idx, :]\n",
    "            \n",
    "            else:\n",
    "\n",
    "                raise ValueError('The datatype has to be quote, in order to apply this cleaning procedure.\\nPlease revisit your request.')\n",
    "        \n",
    "        # if the cleaning procedure in question is q4.\n",
    "        # Q4. Delete entries for which the mid-quote deviated by more than 5 median absolute deviations from \n",
    "        # a centered median (excluding the observation under consideration) of 50 observations.        \n",
    "        elif cp == 'q4':\n",
    "            \n",
    "            raise ValueError(f'Cleaning procedure {cp} is on hold')\n",
    "    return dataToClean"
   ]
  },
  {
   "cell_type": "markdown",
   "metadata": {},
   "source": [
    "# Reading in data, LOBSTER as well as TAQ"
   ]
  },
  {
   "cell_type": "markdown",
   "metadata": {},
   "source": [
    "## TAQ"
   ]
  },
  {
   "cell_type": "code",
   "execution_count": 8,
   "metadata": {},
   "outputs": [
    {
     "name": "stdout",
     "output_type": "stream",
     "text": [
      "['.git', '.gitignore', '.ipynb_checkpoints', 'CrunchTAQ.ipynb', 'hello.py', 'README.md', 'Speciale to-do.docx', 'Speciale to-do.txt']\n"
     ]
    }
   ],
   "source": [
    "print(os.listdir())\n",
    "path = 'a:/taqhdf5'\n",
    "allFiles = os.listdir(path)"
   ]
  },
  {
   "cell_type": "code",
   "execution_count": 9,
   "metadata": {},
   "outputs": [
    {
     "data": {
      "text/plain": [
       "(8515,\n",
       " ['taq_19930315.h5',\n",
       "  'taq_19930104.h5',\n",
       "  'taq_19930317.h5',\n",
       "  'taq_19930105.h5',\n",
       "  'taq_19930316.h5'],\n",
       " ['taqquote_20200522.h5',\n",
       "  'taqquote_20200526.h5',\n",
       "  'taqquote_20200527.h5',\n",
       "  'taqquote_20200528.h5',\n",
       "  'taqquote_20200529.h5'])"
      ]
     },
     "execution_count": 9,
     "metadata": {},
     "output_type": "execute_result"
    }
   ],
   "source": [
    "#allFiles\n",
    "len(allFiles), allFiles[:5], allFiles[-5:]"
   ]
  },
  {
   "cell_type": "code",
   "execution_count": 10,
   "metadata": {},
   "outputs": [
    {
     "data": {
      "text/plain": [
       "['taqquote_20200515.h5',\n",
       " 'taqquote_20200518.h5',\n",
       " 'taqquote_20200519.h5',\n",
       " 'taqquote_20200520.h5',\n",
       " 'taqquote_20200521.h5',\n",
       " 'taqquote_20200522.h5',\n",
       " 'taqquote_20200526.h5',\n",
       " 'taqquote_20200527.h5',\n",
       " 'taqquote_20200528.h5',\n",
       " 'taqquote_20200529.h5']"
      ]
     },
     "execution_count": 10,
     "metadata": {},
     "output_type": "execute_result"
    }
   ],
   "source": [
    "allFiles[-10:]"
   ]
  },
  {
   "cell_type": "code",
   "execution_count": 39,
   "metadata": {},
   "outputs": [],
   "source": [
    "dates = np.array(['2020040' + str(i) if i < 10 else '202004' + str(i) for i in np.arange(1,32)])"
   ]
  },
  {
   "cell_type": "code",
   "execution_count": 40,
   "metadata": {},
   "outputs": [
    {
     "data": {
      "text/plain": [
       "array(['20200401', '20200402', '20200403', '20200404', '20200405',\n",
       "       '20200406', '20200407', '20200408', '20200409', '20200410',\n",
       "       '20200411', '20200412', '20200413', '20200414', '20200415',\n",
       "       '20200416', '20200417', '20200418', '20200419', '20200420',\n",
       "       '20200421', '20200422', '20200423', '20200424', '20200425',\n",
       "       '20200426', '20200427', '20200428', '20200429', '20200430',\n",
       "       '20200431'], dtype='<U8')"
      ]
     },
     "execution_count": 40,
     "metadata": {},
     "output_type": "execute_result"
    }
   ],
   "source": [
    "dates"
   ]
  },
  {
   "cell_type": "code",
   "execution_count": 41,
   "metadata": {},
   "outputs": [
    {
     "name": "stdout",
     "output_type": "stream",
     "text": [
      "##### Date range #####\n",
      "\n",
      "Date, Min: 20200401\n",
      "Date, Max: 20200431\n",
      "\n",
      "##### Data Extraction begins #####\n",
      "\n",
      "trade data is being extracted..\n",
      "\n",
      "### Trade Data ###\n",
      "\n",
      "The raw H5 trade file contains:  ['TradeIndex', 'Trades'] \n",
      "\n",
      "Ticker Information:  (b'GOOG            ', 26900500, 71427) \n",
      "\n",
      "Sneak peak of the data\n",
      "\n",
      "            utcsec ex  cond  volume    price TradeStopStockIndicator corr  \\\n",
      "0  14400048517953  P  @ TI      67  1139.44                           00   \n",
      "1  14422296771981  P  @ TI      20  1138.55                           00   \n",
      "2  14429472894282  Q  @FTI       1  1138.54                           00   \n",
      "3  14506997225243  P  @ TI      31  1143.65                           00   \n",
      "4  14516526073882  P  @ TI       1  1143.59                           00   \n",
      "\n",
      "   TradeSequenceNumber TradeID SourceOfTrade TradeReportingFacility  \\\n",
      "0                 1507       1             N                          \n",
      "1                 1552       2             N                          \n",
      "2                 1554       1             N                          \n",
      "3                 1581       3             N                          \n",
      "4                 1587       4             N                          \n",
      "\n",
      "   ParticipantTime  TRFTime TTE      Date                  Timestamp  \\\n",
      "0   14400048141056       99   0  20200401 2020-04-01 04:00:00.048517   \n",
      "1   14422296394240       99   0  20200401 2020-04-01 04:00:22.296771   \n",
      "2   14429472872353       99   1  20200401 2020-04-01 04:00:29.472894   \n",
      "3   14506996848640       99   0  20200401 2020-04-01 04:01:46.997225   \n",
      "4   14516525699840       99   0  20200401 2020-04-01 04:01:56.526073   \n",
      "\n",
      "  TSRemainder  Hour  Minute Ticker  \n",
      "0         953     4       0   GOOG  \n",
      "1         981     4       0   GOOG  \n",
      "2         282     4       0   GOOG  \n",
      "3         243     4       1   GOOG  \n",
      "4         882     4       1   GOOG  \n",
      "The extraction time was 359.419 seconds.\n"
     ]
    }
   ],
   "source": [
    "# Measuring the exraction time\n",
    "start = time.time()\n",
    "\n",
    "# Provide a list of dates of interest (format: yyyymmdd)\n",
    "dates = np.array(['2020040' + str(i) if i < 10 else '202004' + str(i) for i in np.arange(1,32)]).astype(int)\n",
    "# dates = np.array(['20200401']).astype(int)#,'20200402'\n",
    "\n",
    "# Provide a list of tickers of interest\n",
    "tickers = ['GOOG']#'MSFT'\n",
    "\n",
    "# Do we need data on trades, quotes or both?\n",
    "dataNeeded = 'trades' # 'trades', 'quotes' or 'both'\n",
    "\n",
    "# Extracting just the dates of each file\n",
    "allDates = np.array([re.split(\"[._]\",ele)[1] if (\".\" in ele ) & (\"_\" in ele) else 0 for ele in allFiles]).astype(int)\n",
    "\n",
    "minDate = np.min(dates)\n",
    "maxDate = np.max(dates)\n",
    "\n",
    "if verbose:\n",
    "    print('##### Date range #####\\n\\nDate, Min: %i\\nDate, Max: %i\\n'%(minDate,maxDate))\n",
    "\n",
    "# Locating what files we need.\n",
    "index = np.where((minDate <= allDates) & (allDates <= maxDate))\n",
    "\n",
    "relevantFiles = np.array(allFiles)[index[0]]\n",
    "\n",
    "# Separating the files into trade and quote files.\n",
    "trade = [ele for ele in relevantFiles if 'trade' in ele]\n",
    "quote = [ele for ele in relevantFiles if 'quote' in ele]\n",
    "\n",
    "if verbose:\n",
    "    print('##### Data Extraction begins #####\\n')\n",
    "    \n",
    "    if dataNeeded.lower() == 'both':\n",
    "        print('Both trade and quote data is being extracted..\\n')\n",
    "    else:\n",
    "        print('%s data is being extracted..\\n' % dataNeeded[0:5])\n",
    "        \n",
    "if (dataNeeded == 'both') | (dataNeeded == 'trades'):\n",
    "           \n",
    "# Lets start out by extracting the trade data\n",
    "\n",
    "    for i,file in enumerate(trade):\n",
    "\n",
    "        if (verbose) & (i == 0):\n",
    "            print('### Trade Data ###\\n')\n",
    "\n",
    "        # Reading one file at a time\n",
    "        raw_data = h5py.File(path+'/'+file,'r')\n",
    "\n",
    "        # Store the trade indecies\n",
    "        TI = raw_data['TradeIndex']\n",
    "\n",
    "        if (verbose) & (i==0):\n",
    "            print('The raw H5 trade file contains: ',list(raw_data.keys()),'\\n')\n",
    "\n",
    "        # Extracting just the tickers\n",
    "        TIC = np.array([ele[0].astype(str).strip() for ele in TI])\n",
    "\n",
    "        # Lets get data on each ticker for the file processed at the moment\n",
    "        for j,ticker in enumerate(tickers):\n",
    "\n",
    "            # Getting the specific ticker information\n",
    "            tickerInfo = TI[TIC==ticker][0]\n",
    "\n",
    "            if (verbose) & (i == 0):\n",
    "                    print('Ticker Information: ',tickerInfo,'\\n')\n",
    "\n",
    "            # Raw data\n",
    "            tempData = raw_data['Trades'][np.arange(tickerInfo[1],tickerInfo[1]+tickerInfo[2])]\n",
    "\n",
    "            # For first file and first ticker.\n",
    "            if (i == 0) & (j == 0):    \n",
    "\n",
    "                tradeData = pd.DataFrame(tempData, columns= tempData.dtype.names)\n",
    "\n",
    "                tradeData.loc[:,'ex'] = strList(tradeData.ex)\n",
    "                tradeData.loc[:,'cond'] = strList(tradeData.cond)\n",
    "                tradeData.loc[:,'TradeStopStockIndicator'] = strList(tradeData.TradeStopStockIndicator)\n",
    "                tradeData.loc[:,'corr'] = strList(tradeData['corr'])\n",
    "                tradeData.loc[:,'TradeID'] = strList(tradeData.TradeID)\n",
    "                tradeData.loc[:,'TTE'] = strList(tradeData.TTE)\n",
    "                tradeData.loc[:,'TradeReportingFacility'] = strList(tradeData.TradeReportingFacility)\n",
    "                tradeData.loc[:,'SourceOfTrade'] = strList(tradeData.SourceOfTrade)\n",
    "\n",
    "                # Adding the date of the file to the dataframe.\n",
    "                tradeData['Date'] = re.split('[._]',file)[1]\n",
    "\n",
    "                # Adding a more readable timestamp - TEST IT\n",
    "                tradeData['Timestamp'] = pd.to_datetime(formatDate(re.split('[._]',file)[1],tradeData.utcsec))\n",
    "                tradeData['TSRemainder'] = list(map(lambda x: str(x)[11:], tradeData.utcsec))\n",
    "                tradeData['Hour'] = tradeData.Timestamp.dt.hour\n",
    "                tradeData['Minute'] = tradeData.Timestamp.dt.minute\n",
    "                # Adding the ticker\n",
    "                tradeData['Ticker'] = ticker\n",
    "\n",
    "                if (verbose) & (i==0) & (j==0):\n",
    "                    print('Sneak peak of the data\\n\\n',tradeData.head())\n",
    "\n",
    "            else:\n",
    "\n",
    "                # Storing the data on the following tickers in a temporary variable.\n",
    "\n",
    "                temp = pd.DataFrame(tempData, columns= tempData.dtype.names)\n",
    "\n",
    "                temp.loc[:,'ex'] = strList(temp.ex)\n",
    "                temp.loc[:,'cond'] = strList(temp.cond)\n",
    "                temp.loc[:,'TradeStopStockIndicator'] = strList(temp.TradeStopStockIndicator)\n",
    "                temp.loc[:,'corr'] = strList(temp['corr'])\n",
    "                temp.loc[:,'TradeID'] = strList(temp.TradeID)\n",
    "                temp.loc[:,'TTE'] = strList(temp.TTE)\n",
    "                temp.loc[:,'TradeReportingFacility'] = strList(temp.TradeReportingFacility)\n",
    "                temp.loc[:,'SourceOfTrade'] = strList(temp.SourceOfTrade)\n",
    "\n",
    "                # Adding the date of the file to the dataframe.\n",
    "                temp['Date'] = re.split('[._]',file)[1]\n",
    "\n",
    "                # Adding a more readable timestamp - TEST IT\n",
    "                temp['Timestamp'] = pd.to_datetime(formatDate(re.split('[._]',file)[1],temp.utcsec))\n",
    "                temp['TSRemainder'] = list(map(lambda x: str(x)[11:], temp.utcsec))\n",
    "                temp['Hour'] = temp.Timestamp.dt.hour\n",
    "                temp['Minute'] = temp.Timestamp.dt.minute\n",
    "\n",
    "                # Adding the ticker\n",
    "                temp['Ticker'] = ticker\n",
    "\n",
    "                # Adding the new data \n",
    "                tradeData = pd.concat([tradeData,temp])\n",
    "\n",
    "if (dataNeeded == 'both') | (dataNeeded == 'quotes'):\n",
    "    \n",
    "    # Now to the quote data\n",
    "    for i,file in enumerate(quote):\n",
    "\n",
    "        if (verbose) & (i == 0):\n",
    "            print('### Quote Data ###\\n')\n",
    "\n",
    "        # Reading one file at a time\n",
    "        raw_data = h5py.File(path+'/'+file,'r')\n",
    "\n",
    "        # Store the trade indecies\n",
    "        QI = raw_data['QuoteIndex']\n",
    "\n",
    "        if (verbose) & (i==0):\n",
    "            print('The raw H5 quote file contains: ',list(raw_data.keys()),'\\n')\n",
    "\n",
    "        # Extracting just the tickers\n",
    "        QIC = np.array([ele[0].astype(str).strip() for ele in QI])\n",
    "\n",
    "        # Lets get data on each ticker for the file processed at the moment\n",
    "        for j,ticker in enumerate(tickers):\n",
    "\n",
    "            # Getting the specific ticker information\n",
    "            tickerInfo = QI[QIC==ticker][0]\n",
    "\n",
    "            if (verbose) & (i == 0):\n",
    "                    print('Ticker Information: ',tickerInfo,'\\n')\n",
    "\n",
    "            # Raw data\n",
    "            tempData = raw_data['Quotes'][np.arange(tickerInfo[1],tickerInfo[1]+tickerInfo[2])]\n",
    "\n",
    "            # For first file and first ticker.\n",
    "            if (i == 0) & (j == 0):    \n",
    "\n",
    "                quoteData = pd.DataFrame(tempData, columns= tempData.dtype.names)\n",
    "                # We remove all unnecessary variables\n",
    "                unnecessaryVariables = ['NationalBBOInd',\n",
    "                                        'FinraBBOInd',\n",
    "                                        'FinraQuoteIndicator',\n",
    "                                        'SequenceNumber',\n",
    "                                        'FinraAdfMpidIndicator',\n",
    "                                        'QuoteCancelCorrection',\n",
    "                                        'SourceQuote',\n",
    "                                        'RPI',\n",
    "                                        'ShortSaleRestrictionIndicator',\n",
    "                                        'LuldBBOIndicator',\n",
    "                                        'SIPGeneratedMessageIdent',\n",
    "                                        'NationalBBOLuldIndicator',\n",
    "                                        'ParticipantTimestamp',\n",
    "                                        'FinraTimestamp',\n",
    "                                        'FinraQuoteIndicator',\n",
    "                                        'SecurityStatusIndicator']\n",
    "                \n",
    "                quoteData = quoteData.drop(columns=unnecessaryVariables)\n",
    "\n",
    "                quoteData.loc[:,'ex'] = strList(quoteData.ex)\n",
    "                quoteData.loc[:,'mode'] = strList(quoteData['mode'])\n",
    "                \n",
    "                # Adding the date of the file to the dataframe.\n",
    "                quoteData['Date'] = re.split('[._]',file)[1]\n",
    "\n",
    "                # Adding a more readable timestamp - TEST IT\n",
    "                quoteData['Timestamp'] = pd.to_datetime(formatDate(re.split('[._]',file)[1],quoteData.utcsec))\n",
    "                quoteData['TSRemainder'] = list(map(lambda x: str(x)[11:], quoteData.utcsec))\n",
    "                quoteData['Hour'] = quoteData.Timestamp.dt.hour\n",
    "                quoteData['Minute'] = quoteData.Timestamp.dt.minute\n",
    "                # Adding the ticker\n",
    "                quoteData['Ticker'] = ticker\n",
    "\n",
    "                if (verbose) & (i==0) & (j==0):\n",
    "                    print('Sneak peak of the data\\n\\n',quoteData.head())\n",
    "\n",
    "            else:\n",
    "\n",
    "                # Storing the data on the following tickers in a temporary variable.\n",
    "\n",
    "                temp = pd.DataFrame(tempData, columns= tempData.dtype.names)\n",
    "                # Removing all unnecessary variables\n",
    "                temp = temp.drop(columns=unnecessaryVariables)\n",
    "                \n",
    "                temp.loc[:,'ex'] = strList(temp.ex)\n",
    "                temp.loc[:,'mode'] = strList(temp['mode'])\n",
    "\n",
    "                # Adding the date of the file to the dataframe.\n",
    "                temp['Date'] = re.split('[._]',file)[1]\n",
    "\n",
    "                # Adding a more readable timestamp - TEST IT\n",
    "                temp['Timestamp'] = pd.to_datetime(formatDate(re.split('[._]',file)[1],temp.utcsec))\n",
    "                temp['TSRemainder'] = list(map(lambda x: str(x)[11:], temp.utcsec))\n",
    "                temp['Hour'] = temp.Timestamp.dt.hour\n",
    "                temp['Minute'] = temp.Timestamp.dt.minute\n",
    "\n",
    "                # Adding the ticker\n",
    "                temp['Ticker'] = ticker\n",
    "\n",
    "                # Adding the new data \n",
    "                quoteData = pd.concat([quoteData,temp])\n",
    "                    \n",
    "end = time.time()\n",
    "\n",
    "if verbose:\n",
    "    print('The extraction time was %.3f seconds.' % (end-start))"
   ]
  },
  {
   "cell_type": "code",
   "execution_count": 12,
   "metadata": {},
   "outputs": [
    {
     "data": {
      "text/html": [
       "<div>\n",
       "<style scoped>\n",
       "    .dataframe tbody tr th:only-of-type {\n",
       "        vertical-align: middle;\n",
       "    }\n",
       "\n",
       "    .dataframe tbody tr th {\n",
       "        vertical-align: top;\n",
       "    }\n",
       "\n",
       "    .dataframe thead th {\n",
       "        text-align: right;\n",
       "    }\n",
       "</style>\n",
       "<table border=\"1\" class=\"dataframe\">\n",
       "  <thead>\n",
       "    <tr style=\"text-align: right;\">\n",
       "      <th></th>\n",
       "      <th>utcsec</th>\n",
       "      <th>ex</th>\n",
       "      <th>cond</th>\n",
       "      <th>volume</th>\n",
       "      <th>price</th>\n",
       "      <th>TradeStopStockIndicator</th>\n",
       "      <th>corr</th>\n",
       "      <th>TradeSequenceNumber</th>\n",
       "      <th>TradeID</th>\n",
       "      <th>SourceOfTrade</th>\n",
       "      <th>TradeReportingFacility</th>\n",
       "      <th>ParticipantTime</th>\n",
       "      <th>TRFTime</th>\n",
       "      <th>TTE</th>\n",
       "      <th>Date</th>\n",
       "      <th>Timestamp</th>\n",
       "      <th>TSRemainder</th>\n",
       "      <th>Hour</th>\n",
       "      <th>Minute</th>\n",
       "      <th>Ticker</th>\n",
       "    </tr>\n",
       "  </thead>\n",
       "  <tbody>\n",
       "    <tr>\n",
       "      <th>0</th>\n",
       "      <td>14400048517953</td>\n",
       "      <td>P</td>\n",
       "      <td>@ TI</td>\n",
       "      <td>67</td>\n",
       "      <td>1139.44</td>\n",
       "      <td></td>\n",
       "      <td>00</td>\n",
       "      <td>1507</td>\n",
       "      <td>1</td>\n",
       "      <td>N</td>\n",
       "      <td></td>\n",
       "      <td>14400048141056</td>\n",
       "      <td>99</td>\n",
       "      <td>0</td>\n",
       "      <td>20200401</td>\n",
       "      <td>2020-04-01 04:00:00.048517</td>\n",
       "      <td>953</td>\n",
       "      <td>4</td>\n",
       "      <td>0</td>\n",
       "      <td>GOOG</td>\n",
       "    </tr>\n",
       "    <tr>\n",
       "      <th>1</th>\n",
       "      <td>14422296771981</td>\n",
       "      <td>P</td>\n",
       "      <td>@ TI</td>\n",
       "      <td>20</td>\n",
       "      <td>1138.55</td>\n",
       "      <td></td>\n",
       "      <td>00</td>\n",
       "      <td>1552</td>\n",
       "      <td>2</td>\n",
       "      <td>N</td>\n",
       "      <td></td>\n",
       "      <td>14422296394240</td>\n",
       "      <td>99</td>\n",
       "      <td>0</td>\n",
       "      <td>20200401</td>\n",
       "      <td>2020-04-01 04:00:22.296771</td>\n",
       "      <td>981</td>\n",
       "      <td>4</td>\n",
       "      <td>0</td>\n",
       "      <td>GOOG</td>\n",
       "    </tr>\n",
       "    <tr>\n",
       "      <th>2</th>\n",
       "      <td>14429472894282</td>\n",
       "      <td>Q</td>\n",
       "      <td>@FTI</td>\n",
       "      <td>1</td>\n",
       "      <td>1138.54</td>\n",
       "      <td></td>\n",
       "      <td>00</td>\n",
       "      <td>1554</td>\n",
       "      <td>1</td>\n",
       "      <td>N</td>\n",
       "      <td></td>\n",
       "      <td>14429472872353</td>\n",
       "      <td>99</td>\n",
       "      <td>1</td>\n",
       "      <td>20200401</td>\n",
       "      <td>2020-04-01 04:00:29.472894</td>\n",
       "      <td>282</td>\n",
       "      <td>4</td>\n",
       "      <td>0</td>\n",
       "      <td>GOOG</td>\n",
       "    </tr>\n",
       "    <tr>\n",
       "      <th>3</th>\n",
       "      <td>14506997225243</td>\n",
       "      <td>P</td>\n",
       "      <td>@ TI</td>\n",
       "      <td>31</td>\n",
       "      <td>1143.65</td>\n",
       "      <td></td>\n",
       "      <td>00</td>\n",
       "      <td>1581</td>\n",
       "      <td>3</td>\n",
       "      <td>N</td>\n",
       "      <td></td>\n",
       "      <td>14506996848640</td>\n",
       "      <td>99</td>\n",
       "      <td>0</td>\n",
       "      <td>20200401</td>\n",
       "      <td>2020-04-01 04:01:46.997225</td>\n",
       "      <td>243</td>\n",
       "      <td>4</td>\n",
       "      <td>1</td>\n",
       "      <td>GOOG</td>\n",
       "    </tr>\n",
       "    <tr>\n",
       "      <th>4</th>\n",
       "      <td>14516526073882</td>\n",
       "      <td>P</td>\n",
       "      <td>@ TI</td>\n",
       "      <td>1</td>\n",
       "      <td>1143.59</td>\n",
       "      <td></td>\n",
       "      <td>00</td>\n",
       "      <td>1587</td>\n",
       "      <td>4</td>\n",
       "      <td>N</td>\n",
       "      <td></td>\n",
       "      <td>14516525699840</td>\n",
       "      <td>99</td>\n",
       "      <td>0</td>\n",
       "      <td>20200401</td>\n",
       "      <td>2020-04-01 04:01:56.526073</td>\n",
       "      <td>882</td>\n",
       "      <td>4</td>\n",
       "      <td>1</td>\n",
       "      <td>GOOG</td>\n",
       "    </tr>\n",
       "  </tbody>\n",
       "</table>\n",
       "</div>"
      ],
      "text/plain": [
       "           utcsec ex  cond  volume    price TradeStopStockIndicator corr  \\\n",
       "0  14400048517953  P  @ TI      67  1139.44                           00   \n",
       "1  14422296771981  P  @ TI      20  1138.55                           00   \n",
       "2  14429472894282  Q  @FTI       1  1138.54                           00   \n",
       "3  14506997225243  P  @ TI      31  1143.65                           00   \n",
       "4  14516526073882  P  @ TI       1  1143.59                           00   \n",
       "\n",
       "   TradeSequenceNumber TradeID SourceOfTrade TradeReportingFacility  \\\n",
       "0                 1507       1             N                          \n",
       "1                 1552       2             N                          \n",
       "2                 1554       1             N                          \n",
       "3                 1581       3             N                          \n",
       "4                 1587       4             N                          \n",
       "\n",
       "   ParticipantTime  TRFTime TTE      Date                  Timestamp  \\\n",
       "0   14400048141056       99   0  20200401 2020-04-01 04:00:00.048517   \n",
       "1   14422296394240       99   0  20200401 2020-04-01 04:00:22.296771   \n",
       "2   14429472872353       99   1  20200401 2020-04-01 04:00:29.472894   \n",
       "3   14506996848640       99   0  20200401 2020-04-01 04:01:46.997225   \n",
       "4   14516525699840       99   0  20200401 2020-04-01 04:01:56.526073   \n",
       "\n",
       "  TSRemainder  Hour  Minute Ticker  \n",
       "0         953     4       0   GOOG  \n",
       "1         981     4       0   GOOG  \n",
       "2         282     4       0   GOOG  \n",
       "3         243     4       1   GOOG  \n",
       "4         882     4       1   GOOG  "
      ]
     },
     "execution_count": 12,
     "metadata": {},
     "output_type": "execute_result"
    }
   ],
   "source": [
    "# quoteData.head()\n",
    "tradeData.head()"
   ]
  },
  {
   "cell_type": "code",
   "execution_count": 13,
   "metadata": {},
   "outputs": [
    {
     "data": {
      "text/html": [
       "<div>\n",
       "<style scoped>\n",
       "    .dataframe tbody tr th:only-of-type {\n",
       "        vertical-align: middle;\n",
       "    }\n",
       "\n",
       "    .dataframe tbody tr th {\n",
       "        vertical-align: top;\n",
       "    }\n",
       "\n",
       "    .dataframe thead th {\n",
       "        text-align: right;\n",
       "    }\n",
       "</style>\n",
       "<table border=\"1\" class=\"dataframe\">\n",
       "  <thead>\n",
       "    <tr style=\"text-align: right;\">\n",
       "      <th></th>\n",
       "      <th></th>\n",
       "      <th>utcsec</th>\n",
       "    </tr>\n",
       "    <tr>\n",
       "      <th>Date</th>\n",
       "      <th>Ticker</th>\n",
       "      <th></th>\n",
       "    </tr>\n",
       "  </thead>\n",
       "  <tbody>\n",
       "    <tr>\n",
       "      <th>20200401</th>\n",
       "      <th>GOOG</th>\n",
       "      <td>71427</td>\n",
       "    </tr>\n",
       "  </tbody>\n",
       "</table>\n",
       "</div>"
      ],
      "text/plain": [
       "                 utcsec\n",
       "Date     Ticker        \n",
       "20200401 GOOG     71427"
      ]
     },
     "execution_count": 13,
     "metadata": {},
     "output_type": "execute_result"
    }
   ],
   "source": [
    "tradeData[['Date','Ticker','utcsec']].groupby(['Date','Ticker']).count()\n",
    "# quoteData[['Date','Ticker','utcsec']].groupby(['Date','Ticker']).count()"
   ]
  },
  {
   "cell_type": "code",
   "execution_count": 14,
   "metadata": {},
   "outputs": [
    {
     "data": {
      "text/plain": [
       "array(['@ TI', '@FTI', '@FT ', '@ T ', '@  I', '@   ', '@  Q', '@F I',\n",
       "       '@O X', '@F  ', '@4 I', '@4  ', '@4ZI', '@ ZI', '@ Z ', '@4 W',\n",
       "       'N  I', '@7 V', 'C  I', '@  W', '@  M', '@6 X', '@ TW', 'N T ',\n",
       "       '@ TP'], dtype=object)"
      ]
     },
     "execution_count": 14,
     "metadata": {},
     "output_type": "execute_result"
    }
   ],
   "source": [
    "tradeData.cond.unique()"
   ]
  },
  {
   "cell_type": "code",
   "execution_count": 15,
   "metadata": {},
   "outputs": [
    {
     "data": {
      "text/html": [
       "<div>\n",
       "<style scoped>\n",
       "    .dataframe tbody tr th:only-of-type {\n",
       "        vertical-align: middle;\n",
       "    }\n",
       "\n",
       "    .dataframe tbody tr th {\n",
       "        vertical-align: top;\n",
       "    }\n",
       "\n",
       "    .dataframe thead th {\n",
       "        text-align: right;\n",
       "    }\n",
       "</style>\n",
       "<table border=\"1\" class=\"dataframe\">\n",
       "  <thead>\n",
       "    <tr style=\"text-align: right;\">\n",
       "      <th></th>\n",
       "      <th>utcsec</th>\n",
       "    </tr>\n",
       "    <tr>\n",
       "      <th>cond</th>\n",
       "      <th></th>\n",
       "    </tr>\n",
       "  </thead>\n",
       "  <tbody>\n",
       "    <tr>\n",
       "      <th>@</th>\n",
       "      <td>6123</td>\n",
       "    </tr>\n",
       "    <tr>\n",
       "      <th>@  I</th>\n",
       "      <td>37366</td>\n",
       "    </tr>\n",
       "    <tr>\n",
       "      <th>@  M</th>\n",
       "      <td>2</td>\n",
       "    </tr>\n",
       "    <tr>\n",
       "      <th>@  Q</th>\n",
       "      <td>2</td>\n",
       "    </tr>\n",
       "    <tr>\n",
       "      <th>@  W</th>\n",
       "      <td>1</td>\n",
       "    </tr>\n",
       "    <tr>\n",
       "      <th>@ T</th>\n",
       "      <td>36</td>\n",
       "    </tr>\n",
       "    <tr>\n",
       "      <th>@ TI</th>\n",
       "      <td>1263</td>\n",
       "    </tr>\n",
       "    <tr>\n",
       "      <th>@ TP</th>\n",
       "      <td>2</td>\n",
       "    </tr>\n",
       "    <tr>\n",
       "      <th>@ TW</th>\n",
       "      <td>1</td>\n",
       "    </tr>\n",
       "    <tr>\n",
       "      <th>@ Z</th>\n",
       "      <td>1</td>\n",
       "    </tr>\n",
       "    <tr>\n",
       "      <th>@ ZI</th>\n",
       "      <td>10</td>\n",
       "    </tr>\n",
       "    <tr>\n",
       "      <th>@4</th>\n",
       "      <td>2</td>\n",
       "    </tr>\n",
       "    <tr>\n",
       "      <th>@4 I</th>\n",
       "      <td>143</td>\n",
       "    </tr>\n",
       "    <tr>\n",
       "      <th>@4 W</th>\n",
       "      <td>22</td>\n",
       "    </tr>\n",
       "    <tr>\n",
       "      <th>@4ZI</th>\n",
       "      <td>7</td>\n",
       "    </tr>\n",
       "    <tr>\n",
       "      <th>@6 X</th>\n",
       "      <td>1</td>\n",
       "    </tr>\n",
       "    <tr>\n",
       "      <th>@7 V</th>\n",
       "      <td>7</td>\n",
       "    </tr>\n",
       "    <tr>\n",
       "      <th>@F</th>\n",
       "      <td>2591</td>\n",
       "    </tr>\n",
       "    <tr>\n",
       "      <th>@F I</th>\n",
       "      <td>23409</td>\n",
       "    </tr>\n",
       "    <tr>\n",
       "      <th>@FT</th>\n",
       "      <td>18</td>\n",
       "    </tr>\n",
       "    <tr>\n",
       "      <th>@FTI</th>\n",
       "      <td>413</td>\n",
       "    </tr>\n",
       "    <tr>\n",
       "      <th>@O X</th>\n",
       "      <td>1</td>\n",
       "    </tr>\n",
       "    <tr>\n",
       "      <th>C  I</th>\n",
       "      <td>3</td>\n",
       "    </tr>\n",
       "    <tr>\n",
       "      <th>N  I</th>\n",
       "      <td>1</td>\n",
       "    </tr>\n",
       "    <tr>\n",
       "      <th>N T</th>\n",
       "      <td>2</td>\n",
       "    </tr>\n",
       "  </tbody>\n",
       "</table>\n",
       "</div>"
      ],
      "text/plain": [
       "      utcsec\n",
       "cond        \n",
       "@       6123\n",
       "@  I   37366\n",
       "@  M       2\n",
       "@  Q       2\n",
       "@  W       1\n",
       "@ T       36\n",
       "@ TI    1263\n",
       "@ TP       2\n",
       "@ TW       1\n",
       "@ Z        1\n",
       "@ ZI      10\n",
       "@4         2\n",
       "@4 I     143\n",
       "@4 W      22\n",
       "@4ZI       7\n",
       "@6 X       1\n",
       "@7 V       7\n",
       "@F      2591\n",
       "@F I   23409\n",
       "@FT       18\n",
       "@FTI     413\n",
       "@O X       1\n",
       "C  I       3\n",
       "N  I       1\n",
       "N T        2"
      ]
     },
     "execution_count": 15,
     "metadata": {},
     "output_type": "execute_result"
    }
   ],
   "source": [
    "tradeData[['cond','utcsec']].groupby('cond').count()"
   ]
  },
  {
   "cell_type": "code",
   "execution_count": 16,
   "metadata": {},
   "outputs": [
    {
     "data": {
      "text/html": [
       "<div>\n",
       "<style scoped>\n",
       "    .dataframe tbody tr th:only-of-type {\n",
       "        vertical-align: middle;\n",
       "    }\n",
       "\n",
       "    .dataframe tbody tr th {\n",
       "        vertical-align: top;\n",
       "    }\n",
       "\n",
       "    .dataframe thead th {\n",
       "        text-align: right;\n",
       "    }\n",
       "</style>\n",
       "<table border=\"1\" class=\"dataframe\">\n",
       "  <thead>\n",
       "    <tr style=\"text-align: right;\">\n",
       "      <th></th>\n",
       "      <th>utcsec</th>\n",
       "      <th>ex</th>\n",
       "      <th>cond</th>\n",
       "      <th>volume</th>\n",
       "      <th>price</th>\n",
       "      <th>TradeStopStockIndicator</th>\n",
       "      <th>corr</th>\n",
       "      <th>TradeSequenceNumber</th>\n",
       "      <th>TradeID</th>\n",
       "      <th>SourceOfTrade</th>\n",
       "      <th>TradeReportingFacility</th>\n",
       "      <th>ParticipantTime</th>\n",
       "      <th>TRFTime</th>\n",
       "      <th>TTE</th>\n",
       "      <th>Date</th>\n",
       "      <th>Timestamp</th>\n",
       "      <th>TSRemainder</th>\n",
       "      <th>Hour</th>\n",
       "      <th>Minute</th>\n",
       "      <th>Ticker</th>\n",
       "    </tr>\n",
       "  </thead>\n",
       "  <tbody>\n",
       "  </tbody>\n",
       "</table>\n",
       "</div>"
      ],
      "text/plain": [
       "Empty DataFrame\n",
       "Columns: [utcsec, ex, cond, volume, price, TradeStopStockIndicator, corr, TradeSequenceNumber, TradeID, SourceOfTrade, TradeReportingFacility, ParticipantTime, TRFTime, TTE, Date, Timestamp, TSRemainder, Hour, Minute, Ticker]\n",
       "Index: []"
      ]
     },
     "execution_count": 16,
     "metadata": {},
     "output_type": "execute_result"
    }
   ],
   "source": [
    "tradeData[tradeData.duplicated(['utcsec'])]\n",
    "# quoteData[quoteData.duplicated(['utcsec'])]"
   ]
  },
  {
   "cell_type": "code",
   "execution_count": 45,
   "metadata": {},
   "outputs": [
    {
     "data": {
      "text/html": [
       "<div>\n",
       "<style scoped>\n",
       "    .dataframe tbody tr th:only-of-type {\n",
       "        vertical-align: middle;\n",
       "    }\n",
       "\n",
       "    .dataframe tbody tr th {\n",
       "        vertical-align: top;\n",
       "    }\n",
       "\n",
       "    .dataframe thead th {\n",
       "        text-align: right;\n",
       "    }\n",
       "</style>\n",
       "<table border=\"1\" class=\"dataframe\">\n",
       "  <thead>\n",
       "    <tr style=\"text-align: right;\">\n",
       "      <th></th>\n",
       "      <th>utcsec</th>\n",
       "    </tr>\n",
       "    <tr>\n",
       "      <th>ex</th>\n",
       "      <th></th>\n",
       "    </tr>\n",
       "  </thead>\n",
       "  <tbody>\n",
       "    <tr>\n",
       "      <th>A</th>\n",
       "      <td>4496</td>\n",
       "    </tr>\n",
       "    <tr>\n",
       "      <th>B</th>\n",
       "      <td>15429</td>\n",
       "    </tr>\n",
       "    <tr>\n",
       "      <th>C</th>\n",
       "      <td>5061</td>\n",
       "    </tr>\n",
       "    <tr>\n",
       "      <th>D</th>\n",
       "      <td>385483</td>\n",
       "    </tr>\n",
       "    <tr>\n",
       "      <th>J</th>\n",
       "      <td>16638</td>\n",
       "    </tr>\n",
       "    <tr>\n",
       "      <th>K</th>\n",
       "      <td>86287</td>\n",
       "    </tr>\n",
       "    <tr>\n",
       "      <th>M</th>\n",
       "      <td>1122</td>\n",
       "    </tr>\n",
       "    <tr>\n",
       "      <th>N</th>\n",
       "      <td>10326</td>\n",
       "    </tr>\n",
       "    <tr>\n",
       "      <th>P</th>\n",
       "      <td>168475</td>\n",
       "    </tr>\n",
       "    <tr>\n",
       "      <th>Q</th>\n",
       "      <td>498075</td>\n",
       "    </tr>\n",
       "    <tr>\n",
       "      <th>V</th>\n",
       "      <td>17296</td>\n",
       "    </tr>\n",
       "    <tr>\n",
       "      <th>X</th>\n",
       "      <td>11750</td>\n",
       "    </tr>\n",
       "    <tr>\n",
       "      <th>Y</th>\n",
       "      <td>20499</td>\n",
       "    </tr>\n",
       "    <tr>\n",
       "      <th>Z</th>\n",
       "      <td>156646</td>\n",
       "    </tr>\n",
       "  </tbody>\n",
       "</table>\n",
       "</div>"
      ],
      "text/plain": [
       "    utcsec\n",
       "ex        \n",
       "A     4496\n",
       "B    15429\n",
       "C     5061\n",
       "D   385483\n",
       "J    16638\n",
       "K    86287\n",
       "M     1122\n",
       "N    10326\n",
       "P   168475\n",
       "Q   498075\n",
       "V    17296\n",
       "X    11750\n",
       "Y    20499\n",
       "Z   156646"
      ]
     },
     "execution_count": 45,
     "metadata": {},
     "output_type": "execute_result"
    }
   ],
   "source": [
    "tradeData[['ex','utcsec']].groupby('ex').count()"
   ]
  },
  {
   "cell_type": "markdown",
   "metadata": {},
   "source": [
    "# Implementing technical features\n",
    "\n",
    "A library: https://technical-analysis-library-in-python.readthedocs.io/en/latest/\n",
    "\n",
    "### Features used in the literature:\n",
    "\n",
    "* Stochastic K\n",
    "* Stochastic D\n",
    "* Slow Stochastic D\n",
    "* Momentum\n",
    "* ROC\n",
    "* Williams % R\n",
    "* A/D Oscillator\n",
    "* Disparity 5\n",
    "* Disparity 10\n",
    "* Price Oscillator\n",
    "* Commodity Channel Index\n",
    "* RSI\n",
    "\n",
    "Formulas: https://papers.ssrn.com/sol3/papers.cfm?abstract_id=876544\n",
    "\n",
    "* Moving Average\n",
    "* Bias\n",
    "* Exponential Moving Average\n",
    "* Difference\n",
    "* True Range\n",
    "* \n",
    "\n",
    "Formulas: https://www.sciencedirect.com/science/article/pii/S0957417407001819?via%3Dihub\n",
    "\n",
    "**Non-classical technical features**\n",
    "\n",
    "* Bid/Ask prices of top of book\n",
    "* Spread and mid price based on top og book\n",
    "* Price derivatives\n",
    "\n",
    "Formulas: https://www.tandfonline.com/doi/full/10.1080/14697688.2015.1032546?instName=UCL+%28University+College+London%29"
   ]
  },
  {
   "cell_type": "markdown",
   "metadata": {},
   "source": [
    "# Aggregation - going from irregular spaced data to regular spaced data.\n",
    "\n",
    "Financial econometric analysis at ultra-high frequency: Data handling concerns\n",
    "\n",
    "Paper: https://www.sciencedirect.com/science/article/pii/S0167947306003458"
   ]
  },
  {
   "cell_type": "code",
   "execution_count": 17,
   "metadata": {},
   "outputs": [
    {
     "data": {
      "text/html": [
       "<div>\n",
       "<style scoped>\n",
       "    .dataframe tbody tr th:only-of-type {\n",
       "        vertical-align: middle;\n",
       "    }\n",
       "\n",
       "    .dataframe tbody tr th {\n",
       "        vertical-align: top;\n",
       "    }\n",
       "\n",
       "    .dataframe thead th {\n",
       "        text-align: right;\n",
       "    }\n",
       "</style>\n",
       "<table border=\"1\" class=\"dataframe\">\n",
       "  <thead>\n",
       "    <tr style=\"text-align: right;\">\n",
       "      <th></th>\n",
       "      <th>utcsec</th>\n",
       "      <th>ex</th>\n",
       "      <th>cond</th>\n",
       "      <th>volume</th>\n",
       "      <th>price</th>\n",
       "      <th>TradeStopStockIndicator</th>\n",
       "      <th>corr</th>\n",
       "      <th>TradeSequenceNumber</th>\n",
       "      <th>TradeID</th>\n",
       "      <th>SourceOfTrade</th>\n",
       "      <th>TradeReportingFacility</th>\n",
       "      <th>ParticipantTime</th>\n",
       "      <th>TRFTime</th>\n",
       "      <th>TTE</th>\n",
       "      <th>Date</th>\n",
       "      <th>Timestamp</th>\n",
       "      <th>TSRemainder</th>\n",
       "      <th>Hour</th>\n",
       "      <th>Minute</th>\n",
       "      <th>Ticker</th>\n",
       "    </tr>\n",
       "  </thead>\n",
       "  <tbody>\n",
       "    <tr>\n",
       "      <th>0</th>\n",
       "      <td>14400048517953</td>\n",
       "      <td>P</td>\n",
       "      <td>@ TI</td>\n",
       "      <td>67</td>\n",
       "      <td>1139.44</td>\n",
       "      <td></td>\n",
       "      <td>00</td>\n",
       "      <td>1507</td>\n",
       "      <td>1</td>\n",
       "      <td>N</td>\n",
       "      <td></td>\n",
       "      <td>14400048141056</td>\n",
       "      <td>99</td>\n",
       "      <td>0</td>\n",
       "      <td>20200401</td>\n",
       "      <td>2020-04-01 04:00:00.048517</td>\n",
       "      <td>953</td>\n",
       "      <td>4</td>\n",
       "      <td>0</td>\n",
       "      <td>GOOG</td>\n",
       "    </tr>\n",
       "    <tr>\n",
       "      <th>1</th>\n",
       "      <td>14422296771981</td>\n",
       "      <td>P</td>\n",
       "      <td>@ TI</td>\n",
       "      <td>20</td>\n",
       "      <td>1138.55</td>\n",
       "      <td></td>\n",
       "      <td>00</td>\n",
       "      <td>1552</td>\n",
       "      <td>2</td>\n",
       "      <td>N</td>\n",
       "      <td></td>\n",
       "      <td>14422296394240</td>\n",
       "      <td>99</td>\n",
       "      <td>0</td>\n",
       "      <td>20200401</td>\n",
       "      <td>2020-04-01 04:00:22.296771</td>\n",
       "      <td>981</td>\n",
       "      <td>4</td>\n",
       "      <td>0</td>\n",
       "      <td>GOOG</td>\n",
       "    </tr>\n",
       "    <tr>\n",
       "      <th>2</th>\n",
       "      <td>14429472894282</td>\n",
       "      <td>Q</td>\n",
       "      <td>@FTI</td>\n",
       "      <td>1</td>\n",
       "      <td>1138.54</td>\n",
       "      <td></td>\n",
       "      <td>00</td>\n",
       "      <td>1554</td>\n",
       "      <td>1</td>\n",
       "      <td>N</td>\n",
       "      <td></td>\n",
       "      <td>14429472872353</td>\n",
       "      <td>99</td>\n",
       "      <td>1</td>\n",
       "      <td>20200401</td>\n",
       "      <td>2020-04-01 04:00:29.472894</td>\n",
       "      <td>282</td>\n",
       "      <td>4</td>\n",
       "      <td>0</td>\n",
       "      <td>GOOG</td>\n",
       "    </tr>\n",
       "    <tr>\n",
       "      <th>3</th>\n",
       "      <td>14506997225243</td>\n",
       "      <td>P</td>\n",
       "      <td>@ TI</td>\n",
       "      <td>31</td>\n",
       "      <td>1143.65</td>\n",
       "      <td></td>\n",
       "      <td>00</td>\n",
       "      <td>1581</td>\n",
       "      <td>3</td>\n",
       "      <td>N</td>\n",
       "      <td></td>\n",
       "      <td>14506996848640</td>\n",
       "      <td>99</td>\n",
       "      <td>0</td>\n",
       "      <td>20200401</td>\n",
       "      <td>2020-04-01 04:01:46.997225</td>\n",
       "      <td>243</td>\n",
       "      <td>4</td>\n",
       "      <td>1</td>\n",
       "      <td>GOOG</td>\n",
       "    </tr>\n",
       "    <tr>\n",
       "      <th>4</th>\n",
       "      <td>14516526073882</td>\n",
       "      <td>P</td>\n",
       "      <td>@ TI</td>\n",
       "      <td>1</td>\n",
       "      <td>1143.59</td>\n",
       "      <td></td>\n",
       "      <td>00</td>\n",
       "      <td>1587</td>\n",
       "      <td>4</td>\n",
       "      <td>N</td>\n",
       "      <td></td>\n",
       "      <td>14516525699840</td>\n",
       "      <td>99</td>\n",
       "      <td>0</td>\n",
       "      <td>20200401</td>\n",
       "      <td>2020-04-01 04:01:56.526073</td>\n",
       "      <td>882</td>\n",
       "      <td>4</td>\n",
       "      <td>1</td>\n",
       "      <td>GOOG</td>\n",
       "    </tr>\n",
       "  </tbody>\n",
       "</table>\n",
       "</div>"
      ],
      "text/plain": [
       "           utcsec ex  cond  volume    price TradeStopStockIndicator corr  \\\n",
       "0  14400048517953  P  @ TI      67  1139.44                           00   \n",
       "1  14422296771981  P  @ TI      20  1138.55                           00   \n",
       "2  14429472894282  Q  @FTI       1  1138.54                           00   \n",
       "3  14506997225243  P  @ TI      31  1143.65                           00   \n",
       "4  14516526073882  P  @ TI       1  1143.59                           00   \n",
       "\n",
       "   TradeSequenceNumber TradeID SourceOfTrade TradeReportingFacility  \\\n",
       "0                 1507       1             N                          \n",
       "1                 1552       2             N                          \n",
       "2                 1554       1             N                          \n",
       "3                 1581       3             N                          \n",
       "4                 1587       4             N                          \n",
       "\n",
       "   ParticipantTime  TRFTime TTE      Date                  Timestamp  \\\n",
       "0   14400048141056       99   0  20200401 2020-04-01 04:00:00.048517   \n",
       "1   14422296394240       99   0  20200401 2020-04-01 04:00:22.296771   \n",
       "2   14429472872353       99   1  20200401 2020-04-01 04:00:29.472894   \n",
       "3   14506996848640       99   0  20200401 2020-04-01 04:01:46.997225   \n",
       "4   14516525699840       99   0  20200401 2020-04-01 04:01:56.526073   \n",
       "\n",
       "  TSRemainder  Hour  Minute Ticker  \n",
       "0         953     4       0   GOOG  \n",
       "1         981     4       0   GOOG  \n",
       "2         282     4       0   GOOG  \n",
       "3         243     4       1   GOOG  \n",
       "4         882     4       1   GOOG  "
      ]
     },
     "execution_count": 17,
     "metadata": {},
     "output_type": "execute_result"
    }
   ],
   "source": [
    "tradeData.head()"
   ]
  },
  {
   "cell_type": "code",
   "execution_count": 42,
   "metadata": {},
   "outputs": [
    {
     "data": {
      "text/plain": [
       "(1397583, 20)"
      ]
     },
     "execution_count": 42,
     "metadata": {},
     "output_type": "execute_result"
    }
   ],
   "source": [
    "tradeData.shape"
   ]
  },
  {
   "cell_type": "code",
   "execution_count": 53,
   "metadata": {},
   "outputs": [
    {
     "data": {
      "text/html": [
       "<div>\n",
       "<style scoped>\n",
       "    .dataframe tbody tr th:only-of-type {\n",
       "        vertical-align: middle;\n",
       "    }\n",
       "\n",
       "    .dataframe tbody tr th {\n",
       "        vertical-align: top;\n",
       "    }\n",
       "\n",
       "    .dataframe thead th {\n",
       "        text-align: right;\n",
       "    }\n",
       "</style>\n",
       "<table border=\"1\" class=\"dataframe\">\n",
       "  <thead>\n",
       "    <tr style=\"text-align: right;\">\n",
       "      <th></th>\n",
       "      <th>utcsec</th>\n",
       "    </tr>\n",
       "    <tr>\n",
       "      <th>corr</th>\n",
       "      <th></th>\n",
       "    </tr>\n",
       "  </thead>\n",
       "  <tbody>\n",
       "    <tr>\n",
       "      <th>00</th>\n",
       "      <td>1397517</td>\n",
       "    </tr>\n",
       "    <tr>\n",
       "      <th>01</th>\n",
       "      <td>12</td>\n",
       "    </tr>\n",
       "    <tr>\n",
       "      <th>08</th>\n",
       "      <td>21</td>\n",
       "    </tr>\n",
       "    <tr>\n",
       "      <th>10</th>\n",
       "      <td>21</td>\n",
       "    </tr>\n",
       "    <tr>\n",
       "      <th>12</th>\n",
       "      <td>12</td>\n",
       "    </tr>\n",
       "  </tbody>\n",
       "</table>\n",
       "</div>"
      ],
      "text/plain": [
       "       utcsec\n",
       "corr         \n",
       "00    1397517\n",
       "01         12\n",
       "08         21\n",
       "10         21\n",
       "12         12"
      ]
     },
     "execution_count": 53,
     "metadata": {},
     "output_type": "execute_result"
    }
   ],
   "source": [
    "tradeData[['corr','utcsec']].groupby('corr').count()"
   ]
  },
  {
   "cell_type": "code",
   "execution_count": 58,
   "metadata": {},
   "outputs": [],
   "source": [
    "# There are 11 cleaning procedures, with 3 relevant for both trade and quote data and 4 for either trade or quote data.\n",
    "    # The cleaning procedures are listed below for simplicity\n",
    "    \n",
    "    # Applicable for both trade and quote data\n",
    "    \n",
    "    # P1. Delete entries with a time stamp outside the 9:30 am to 4 pm window when the exchange is open.\n",
    "    # P2. Delete entries with a bid, ask or transaction price equal to zero.\n",
    "    # P3. Retain entries originating from a single exchange. Delete other entries.\n",
    "    \n",
    "    # Applicable for just trade data\n",
    "    \n",
    "    # T1. Delete entries with corrected trades. (Trades with a Correction Indicator, CORR != 0).\n",
    "    # T2. Delete entries with abnormal Sale Condition. (Trades where COND has a letter code, except for “E” and “F”).\n",
    "    # T3. If multiple transactions have the same time stamp: use the median price.\n",
    "    # T4. Delete entries with prices that are above the ask plus the bid-ask spread. \n",
    "    # Similar for entries with prices below the bid minus the bid-ask spread.\n",
    "    \n",
    "    # Applicable for just quote data\n",
    "    \n",
    "    # Q1. When multiple quotes have the same timestamp, we replace all these with a single entry \n",
    "    # with the median bid and median ask price.\n",
    "    # Q2. Delete entries for which the spread is negative.\n",
    "    # Q3. Delete entries for which the spread is more that 50 times the median spread on that day.\n",
    "    # Q4. Delete entries for which the mid-quote deviated by more than 5 median absolute deviations from \n",
    "    # a centered median (excluding the observation under consideration) of 50 observations.\n",
    "\n",
    "    # Some comments, by (Lunde,2016), on the relative importance of the individual cleaning procedures\n",
    "    \n",
    "    # ➤ By far the most important rules here are P3, T3 and Q1.\n",
    "    # ➤ In our empirical work we will see the impact of suspending P3. It is used to reduce the impact\n",
    "    # of time-delays in the reporting of trades and quote updates.\n",
    "    # ➤ Some form of T3 and Q1 rule seems inevitable here, and it is these rules which lead to the largest deletion of data.\n",
    "    # ➤ T4 is an attractive rule, as it disciplines the trade data using quotes. However, it has the disadvantage \n",
    "    # that it cannot be applied when quote data is not available.\n",
    "    # ➤ In situations where quote data is not available, Q4 can be applied to the transaction prices in place of T4.\n",
    "\n",
    "# def HFDataCleaning(cleaningProcedures,dataToClean,dataType,p3Exchanges = []):\n",
    "\n",
    "cleanedData = HFDataCleaning(['P1','p2','t1','p3'],tradeData,'trade',['q'])"
   ]
  },
  {
   "cell_type": "code",
   "execution_count": 59,
   "metadata": {},
   "outputs": [
    {
     "data": {
      "text/plain": [
       "(471668, 20)"
      ]
     },
     "execution_count": 59,
     "metadata": {},
     "output_type": "execute_result"
    }
   ],
   "source": [
    "cleanedData.shape"
   ]
  },
  {
   "cell_type": "code",
   "execution_count": 103,
   "metadata": {},
   "outputs": [],
   "source": [
    "step = 10\n",
    "\n",
    "aggregateMinute = np.arange(0,60,step)\n",
    "aggregateHour = np.arange(9,16,1)\n",
    "aggregateDate = np.arange(len(cleanedData.Date.unique()))\n",
    "\n",
    "remove = 30//step\n",
    "\n",
    "# candle = np.zeros(((len(aggregateDate)*len(aggregateMinute)*len(aggregateHour)),4))\n",
    "candleNP = np.zeros((((len(aggregateDate)*len(aggregateMinute)*len(aggregateHour))-remove*len(aggregateDate)),4))"
   ]
  },
  {
   "cell_type": "code",
   "execution_count": 21,
   "metadata": {},
   "outputs": [],
   "source": [
    "# def candleCreate():\n",
    "#     ii = 0\n",
    "#     for l in cleanedData.Date.unique():\n",
    "#         for i in aggregateHour:\n",
    "#             for j in aggregateMinute:\n",
    "\n",
    "#                 temp = cleanedData[((cleanedData.Date == l)&\\\n",
    "#                                     (cleanedData.Hour==i)&\\\n",
    "#                                     (cleanedData.Minute<j+step))&((cleanedData.Date == l)&\\\n",
    "#                                                                   (cleanedData.Hour==i)&\\\n",
    "#                                                                   (cleanedData.Minute>=j))]\n",
    "#                 if temp.shape[0] > 0:\n",
    "#                     candle[ii] = np.array([temp.price.iloc[0],temp.price.max(),temp.price.min(),temp.price.iloc[-1]])\n",
    "\n",
    "#                 ii += 1\n",
    "\n",
    "# %timeit candleCreate()"
   ]
  },
  {
   "cell_type": "code",
   "execution_count": 66,
   "metadata": {},
   "outputs": [],
   "source": [
    "numpiedData = cleanedData[['Date','Hour','Minute']].to_numpy()\n",
    "numpiedData = numpiedData.T\n",
    "numpiedPrice = cleanedData['price'].to_numpy()"
   ]
  },
  {
   "cell_type": "code",
   "execution_count": 96,
   "metadata": {},
   "outputs": [
    {
     "data": {
      "text/plain": [
       "63"
      ]
     },
     "execution_count": 96,
     "metadata": {},
     "output_type": "execute_result"
    }
   ],
   "source": [
    "3*len(aggregateDate)"
   ]
  },
  {
   "cell_type": "code",
   "execution_count": 97,
   "metadata": {},
   "outputs": [
    {
     "data": {
      "text/plain": [
       "882"
      ]
     },
     "execution_count": 97,
     "metadata": {},
     "output_type": "execute_result"
    }
   ],
   "source": [
    "len(aggregateDate)*len(aggregateMinute)*len(aggregateHour)"
   ]
  },
  {
   "cell_type": "code",
   "execution_count": 99,
   "metadata": {},
   "outputs": [
    {
     "data": {
      "text/plain": [
       "819"
      ]
     },
     "execution_count": 99,
     "metadata": {},
     "output_type": "execute_result"
    }
   ],
   "source": [
    "len(aggregateDate)*len(aggregateMinute)*len(aggregateHour)-3*len(aggregateDate)"
   ]
  },
  {
   "cell_type": "code",
   "execution_count": 105,
   "metadata": {},
   "outputs": [
    {
     "name": "stdout",
     "output_type": "stream",
     "text": [
      "819\n"
     ]
    }
   ],
   "source": [
    "# Alternative to above\n",
    "def candleCreateNP():\n",
    "    ii = 0\n",
    "    for l in cleanedData.Date.unique():\n",
    "        for i in aggregateHour:\n",
    "            for j in aggregateMinute:\n",
    "                if (i == 9) & (j <30):\n",
    "                    continue\n",
    "                \n",
    "                p1 = numpiedPrice[((numpiedData[0]==l)&\\\n",
    "                                     (numpiedData[1]==i)&\\\n",
    "                                     (numpiedData[2]>=j))&((numpiedData[0]==l)&\\\n",
    "                                                           (numpiedData[1]==i)&\\\n",
    "                                                           (numpiedData[2]<j+step))]\n",
    "                if len(p1) > 0:\n",
    "                    candleNP[ii] = np.array([p1[0],p1.max(),p1.min(),p1[-1]])\n",
    "                else:\n",
    "                    # if no new prices in the interval considered, use the previous pne\n",
    "                    candleNP[ii] = candleNP[ii-1]\n",
    "                ii += 1\n",
    "#     print(ii)\n",
    "    return candleNP#[remove:]\n",
    "\n",
    "candleNP = candleCreateNP()\n"
   ]
  },
  {
   "cell_type": "code",
   "execution_count": 106,
   "metadata": {},
   "outputs": [
    {
     "data": {
      "text/plain": [
       "array([[1122.26 , 1128.7  , 1114.79 , 1124.52 ],\n",
       "       [1124.72 , 1127.85 , 1118.26 , 1120.29 ],\n",
       "       [1120.13 , 1121.68 , 1115.18 , 1115.55 ],\n",
       "       [1115.35 , 1126.   , 1114.3  , 1124.3  ],\n",
       "       [1124.33 , 1129.31 , 1123.   , 1124.66 ],\n",
       "       [1124.81 , 1127.755, 1121.52 , 1123.39 ],\n",
       "       [1122.58 , 1129.87 , 1121.17 , 1128.   ],\n",
       "       [1127.67 , 1129.   , 1125.02 , 1125.02 ],\n",
       "       [1125.8  , 1126.85 , 1120.5  , 1126.85 ],\n",
       "       [1127.   , 1129.14 , 1124.73 , 1128.29 ],\n",
       "       [1128.12 , 1128.5  , 1123.88 , 1126.89 ],\n",
       "       [1126.27 , 1127.29 , 1120.5  , 1121.02 ],\n",
       "       [1121.14 , 1123.11 , 1119.05 , 1119.05 ],\n",
       "       [1119.04 , 1119.38 , 1115.76 , 1117.94 ],\n",
       "       [1117.15 , 1120.33 , 1116.66 , 1118.12 ],\n",
       "       [1117.68 , 1118.125, 1114.85 , 1115.7  ],\n",
       "       [1115.74 , 1117.89 , 1113.04 , 1113.73 ],\n",
       "       [1114.14 , 1116.53 , 1111.22 , 1111.92 ],\n",
       "       [1111.49 , 1113.44 , 1106.01 , 1106.76 ],\n",
       "       [1106.45 , 1107.85 , 1103.61 , 1105.63 ]])"
      ]
     },
     "execution_count": 106,
     "metadata": {},
     "output_type": "execute_result"
    }
   ],
   "source": [
    "candleNP[0:20]"
   ]
  },
  {
   "cell_type": "code",
   "execution_count": 107,
   "metadata": {},
   "outputs": [
    {
     "data": {
      "text/plain": [
       "array([[1326.5 , 1327.  , 1323.83, 1327.  ],\n",
       "       [1327.34, 1330.35, 1327.01, 1330.34],\n",
       "       [1329.81, 1334.72, 1329.65, 1332.93],\n",
       "       [1332.48, 1334.8 , 1331.21, 1333.08],\n",
       "       [1333.42, 1333.79, 1331.54, 1331.6 ],\n",
       "       [1331.54, 1331.71, 1328.08, 1328.56],\n",
       "       [1328.02, 1330.58, 1326.29, 1330.03],\n",
       "       [1330.  , 1331.76, 1328.74, 1328.99],\n",
       "       [1329.12, 1333.67, 1327.35, 1333.25],\n",
       "       [1333.61, 1334.16, 1332.14, 1332.71],\n",
       "       [1332.7 , 1333.97, 1331.52, 1333.5 ],\n",
       "       [1333.5 , 1333.92, 1329.45, 1329.65],\n",
       "       [1329.55, 1331.81, 1328.56, 1329.35],\n",
       "       [1329.35, 1330.54, 1327.74, 1328.89],\n",
       "       [1329.05, 1331.84, 1328.74, 1331.4 ],\n",
       "       [1331.24, 1335.52, 1330.7 , 1335.34],\n",
       "       [1335.15, 1338.5 , 1334.9 , 1338.25],\n",
       "       [1338.48, 1339.25, 1334.94, 1336.06],\n",
       "       [1336.01, 1336.01, 1332.15, 1333.  ],\n",
       "       [1333.1 , 1352.85, 1332.43, 1348.8 ]])"
      ]
     },
     "execution_count": 107,
     "metadata": {},
     "output_type": "execute_result"
    }
   ],
   "source": [
    "candleNP[-20:]"
   ]
  },
  {
   "cell_type": "code",
   "execution_count": 182,
   "metadata": {},
   "outputs": [
    {
     "data": {
      "text/plain": [
       "array([1122.26, 1128.7 , 1114.79, 1124.52, 1124.72, 1127.85, 1118.26,\n",
       "       1120.29, 1120.13, 1121.68, 1115.18, 1115.55, 1115.35, 1126.  ,\n",
       "       1114.3 , 1124.3 , 1124.33, 1129.31, 1123.  , 1124.66])"
      ]
     },
     "execution_count": 182,
     "metadata": {},
     "output_type": "execute_result"
    }
   ],
   "source": [
    "featureWindow = 5\n",
    "npFeatures = np.zeros((len(candleNP)-featureWindow+1,featureWindow*len(candle[0])))\n",
    "candleNP[0:5].flatten()"
   ]
  },
  {
   "cell_type": "code",
   "execution_count": 183,
   "metadata": {},
   "outputs": [
    {
     "data": {
      "text/plain": [
       "(815, 20)"
      ]
     },
     "execution_count": 183,
     "metadata": {},
     "output_type": "execute_result"
    }
   ],
   "source": [
    "npFeatures.shape"
   ]
  },
  {
   "cell_type": "code",
   "execution_count": 185,
   "metadata": {},
   "outputs": [],
   "source": [
    "stepper = np.arange(featureWindow,len(npFeatures)+featureWindow)\n",
    "i = 0\n",
    "for s in stepper:\n",
    "    \n",
    "    npFeatures[i] = candleNP[i:s].flatten()\n",
    "    \n",
    "    i += 1"
   ]
  },
  {
   "cell_type": "code",
   "execution_count": 187,
   "metadata": {},
   "outputs": [
    {
     "data": {
      "text/plain": [
       "(815, 20)"
      ]
     },
     "execution_count": 187,
     "metadata": {},
     "output_type": "execute_result"
    }
   ],
   "source": [
    "npFeatures.shape"
   ]
  },
  {
   "cell_type": "code",
   "execution_count": 188,
   "metadata": {},
   "outputs": [
    {
     "data": {
      "text/plain": [
       "array([], dtype=float64)"
      ]
     },
     "execution_count": 188,
     "metadata": {},
     "output_type": "execute_result"
    }
   ],
   "source": [
    "npFeatures[npFeatures==0]"
   ]
  },
  {
   "cell_type": "code",
   "execution_count": 111,
   "metadata": {},
   "outputs": [
    {
     "data": {
      "text/plain": [
       "array([[1122.26 , 1128.7  , 1114.79 , 1124.52 ],\n",
       "       [1124.72 , 1127.85 , 1118.26 , 1120.29 ],\n",
       "       [1120.13 , 1121.68 , 1115.18 , 1115.55 ],\n",
       "       [1115.35 , 1126.   , 1114.3  , 1124.3  ],\n",
       "       [1124.33 , 1129.31 , 1123.   , 1124.66 ],\n",
       "       [1124.81 , 1127.755, 1121.52 , 1123.39 ],\n",
       "       [1122.58 , 1129.87 , 1121.17 , 1128.   ],\n",
       "       [1127.67 , 1129.   , 1125.02 , 1125.02 ],\n",
       "       [1125.8  , 1126.85 , 1120.5  , 1126.85 ],\n",
       "       [1127.   , 1129.14 , 1124.73 , 1128.29 ],\n",
       "       [1128.12 , 1128.5  , 1123.88 , 1126.89 ],\n",
       "       [1126.27 , 1127.29 , 1120.5  , 1121.02 ],\n",
       "       [1121.14 , 1123.11 , 1119.05 , 1119.05 ],\n",
       "       [1119.04 , 1119.38 , 1115.76 , 1117.94 ],\n",
       "       [1117.15 , 1120.33 , 1116.66 , 1118.12 ],\n",
       "       [1117.68 , 1118.125, 1114.85 , 1115.7  ],\n",
       "       [1115.74 , 1117.89 , 1113.04 , 1113.73 ],\n",
       "       [1114.14 , 1116.53 , 1111.22 , 1111.92 ],\n",
       "       [1111.49 , 1113.44 , 1106.01 , 1106.76 ],\n",
       "       [1106.45 , 1107.85 , 1103.61 , 1105.63 ]])"
      ]
     },
     "execution_count": 111,
     "metadata": {},
     "output_type": "execute_result"
    }
   ],
   "source": [
    "candleNP[0:20]"
   ]
  },
  {
   "cell_type": "code",
   "execution_count": 151,
   "metadata": {},
   "outputs": [
    {
     "data": {
      "text/plain": [
       "array([-0.3761605 , -0.42310473,  0.78436646,  0.03201992, -0.11292302,\n",
       "        0.41036506, -0.2641844 ,  0.16266377,  0.12778986, -0.12408157,\n",
       "       -0.52090266, -0.17573281, -0.09919128,  0.01610104, -0.21643473,\n",
       "       -0.17657076, -0.16251695, -0.46406216, -0.10209982,  0.24963143])"
      ]
     },
     "execution_count": 151,
     "metadata": {},
     "output_type": "execute_result"
    }
   ],
   "source": [
    "returns = ((candleNP.T[-1][1:]/candleNP.T[-1][0:-1])-1)*100\n",
    "returns[0:20]"
   ]
  },
  {
   "cell_type": "code",
   "execution_count": 115,
   "metadata": {},
   "outputs": [
    {
     "data": {
      "image/png": "[encoded data removed]",
      "text/plain": [
       "<Figure size 432x288 with 1 Axes>"
      ]
     },
     "metadata": {
      "needs_background": "light"
     },
     "output_type": "display_data"
    }
   ],
   "source": [
    "plt.hist(returns,bins=20)\n",
    "plt.show()"
   ]
  },
  {
   "cell_type": "code",
   "execution_count": 152,
   "metadata": {},
   "outputs": [
    {
     "data": {
      "text/plain": [
       "array([-3.76160495e-01, -4.23104732e-01,  7.84366456e-01,  3.20199235e-02,\n",
       "       -1.12923017e-01,  4.10365056e-01, -2.64184397e-01,  1.62663775e-01,\n",
       "        1.27789857e-01, -1.24081575e-01, -5.20902661e-01, -1.75732815e-01,\n",
       "       -9.91912783e-02,  1.61010430e-02, -2.16434730e-01, -1.76570763e-01,\n",
       "       -1.62516948e-01, -4.64062163e-01, -1.02099823e-01,  2.49631432e-01,\n",
       "        2.35476682e-01, -8.46084608e-02,  9.54903339e-02,  9.35992512e-02,\n",
       "       -3.35383398e-01,  3.01327102e-01,  1.43914659e-02, -3.36352108e-01,\n",
       "        2.70711701e-02,  1.57872421e-01, -1.02680502e-01, -3.62456045e-01,\n",
       "        3.71013863e-02, -1.34781861e-01, -2.99818841e-01, -2.55294406e-01,\n",
       "        8.18850876e-01, -1.12931058e-01,  8.32112299e-02, -6.59714064e-01,\n",
       "        4.33026455e-01,  3.89492754e-01,  6.31597943e-03, -2.95027834e-01,\n",
       "        5.51986246e-01, -4.38264939e-01,  2.58512379e-01, -4.68810573e-02,\n",
       "        1.59650753e-01, -1.76506610e-01,  2.75151559e-01,  5.82080556e-01,\n",
       "        1.44007156e-01,  3.48335581e-02,  3.60714286e-01, -7.40187182e-01,\n",
       "        2.14211451e-01,  5.70605754e-01, -4.35753097e-02, -4.19039146e-01,\n",
       "       -3.83278686e-01, -4.12556054e-01, -3.96253602e-02, -4.05420015e-02,\n",
       "        1.52319492e-01, -5.57955364e-01, -2.80542986e-01,  3.35783646e-01,\n",
       "        1.19392185e-01, -2.86380226e-01,  1.01925255e+00,  3.40807175e-02,\n",
       "        1.00414209e-01, -1.70174653e-01, -1.95585860e-01,  1.52819978e-01,\n",
       "        6.83947869e-01, -1.85426213e-01, -1.75946269e-01, -1.95045138e-01,\n",
       "       -8.06805856e-03, -5.87222750e-01, -3.15636639e-02, -4.86233897e-01,\n",
       "        1.22379049e-01, -1.26756483e-02,  0.00000000e+00, -2.69844432e-01,\n",
       "       -9.44287063e-02,  3.88068925e-01, -3.35871228e-01,  2.24365962e-01,\n",
       "       -1.57701545e-01, -1.46149726e-01, -6.72727273e-02,  2.09231665e-01,\n",
       "       -1.54326591e-01,  8.00101831e-02,  4.54239875e-02, -3.13283208e-01,\n",
       "       -3.45239071e-01, -2.43144424e-01, -2.60230542e-01, -1.70877354e-01,\n",
       "       -3.52462637e-01,  5.07937681e-02,  8.22441294e-01, -1.72118615e-01,\n",
       "       -2.28358661e-01,  1.80163618e-01, -5.44106582e-01,  2.87841466e-01,\n",
       "       -4.41562026e-02, -2.40205417e-01,  5.10166427e-01,  7.70085086e-01,\n",
       "        3.71078806e+00, -2.30103107e-01,  2.17429577e-01,  5.57766125e-01,\n",
       "        3.59008403e-01, -9.92227551e-02,  4.15581247e-01, -4.61581176e-01,\n",
       "        2.03096126e-01,  1.73108206e-01,  6.59974296e-02,  2.74229381e-01,\n",
       "       -2.33669125e-01,  2.25541734e-01, -1.34154997e-01,  7.10676616e-02,\n",
       "        3.45559260e-01,  3.24518401e-01,  7.65657261e-02,  1.46996880e-01,\n",
       "        1.54506438e-01,  2.57113473e-02,  2.48479136e-01,  6.58119658e-02,\n",
       "        1.25558393e-01,  2.30328260e-02,  2.92534818e-01, -5.56150824e-01,\n",
       "       -2.78775440e-01,  7.37475775e-02,  2.49357326e-01,  1.49584156e-01,\n",
       "        5.20628851e-02,  1.37340374e-01, -2.61525880e-01,  3.85203406e-01,\n",
       "       -1.05503182e-01,  3.87537476e-01,  6.22756930e-01,  1.92079058e+00,\n",
       "        4.65770424e-01,  9.88158567e-03, -9.46891725e-01, -1.41313383e-01,\n",
       "       -4.41188712e-01,  1.59698997e-01, -1.22379812e+00,  7.53010775e-01,\n",
       "        3.27137297e-01, -1.71396084e-01,  2.17753620e-01,  3.08371148e-01,\n",
       "       -2.07448138e-01, -6.34491280e-02,  8.43740863e-01,  1.21774427e-01,\n",
       "       -5.12981748e-02, -4.96688742e-01,  4.00998336e-01, -4.39170713e-02,\n",
       "       -1.88180288e-01, -3.66272985e-01,  3.32608098e-01, -1.74476570e-01,\n",
       "        2.45526425e-01, -1.61899622e-01, -2.96049896e-01, -1.67648089e-01,\n",
       "        1.87980918e-01, -1.48434764e-01, -1.06063137e-01, -1.07011780e-01,\n",
       "        2.63631418e-01, -2.56260434e-01, -2.63613768e-01,  4.40517545e-01,\n",
       "        7.76922884e-01, -1.68859267e+00,  1.32719485e+00, -4.10252143e-01,\n",
       "       -3.28383900e-01, -2.74974012e-01,  4.69921652e-01, -9.03652261e-02,\n",
       "        9.88216771e-02,  2.74419577e-01,  2.89521330e-01, -2.72878536e-01,\n",
       "        1.37646823e-01,  2.61586011e-01,  2.88323321e-01,  6.46241031e-02,\n",
       "       -2.21070411e-01,  1.80899352e-01,  9.27712939e-02, -4.25359362e-01,\n",
       "        3.73156036e-01,  2.31837978e-02, -4.30456449e-02, -1.65631470e-02,\n",
       "        3.72732544e-02, -4.30552681e-02, -3.35478741e-01,  4.98678502e-02,\n",
       "       -3.63023144e-01,  4.16871629e-01,  1.99267691e-01,  3.39738650e-01,\n",
       "        1.72597468e-01, -8.24402308e-02,  2.47524752e-01,  1.65432099e-01,\n",
       "       -1.84879335e-01,  1.97569890e-02, -3.72016461e-01,  1.39614037e-01,\n",
       "       -1.55918724e-01,  9.68370955e-01, -1.59574468e-01,  3.56542765e-01,\n",
       "       -1.40150278e+00, -5.23508167e-01,  3.67218466e-01,  1.36891971e-01,\n",
       "        1.85587168e-01,  6.45043913e-02, -3.30578512e-01, -3.12603648e-01,\n",
       "        1.23936352e-01,  1.84428272e-01,  2.89400799e-01, -2.42262884e-01,\n",
       "        4.42602569e-01,  9.15962503e-02, -2.56399687e-01,  2.36394895e-01,\n",
       "        2.96033644e-01,  9.45498195e-02,  2.16027073e-01,  8.76998861e-02,\n",
       "        1.47403246e-02, -5.22385616e-01, -2.04125307e-01,  2.35884070e-01,\n",
       "       -7.09278215e-01,  1.34250435e-01,  1.37380826e-01,  1.35539430e-01,\n",
       "       -4.32478830e-01, -3.14991959e-02,  2.48756219e-01, -3.19272126e-01,\n",
       "        4.97867468e-03,  1.98307335e-01, -2.74099653e-01,  6.37725446e-01,\n",
       "        3.10241262e-01, -1.04711611e+00, -2.93435523e-01,  5.83595952e-02,\n",
       "       -3.29956006e-01,  7.02223708e-02, -2.29733342e-01, -3.34927028e-03,\n",
       "       -3.09817877e-02, -4.12939324e-01,  3.53252870e-01,  5.62376901e-01,\n",
       "       -1.20014002e-01,  2.73693697e-01, -1.80577515e-01,  5.41878903e-02,\n",
       "       -9.66521688e-02, -1.23434138e-01, -4.42573943e-02,  1.18628917e-01,\n",
       "       -2.22791486e-01, -4.68321402e-02, -1.27175368e-01,  9.46652369e-02,\n",
       "        2.47738134e-01, -4.34140110e-02,  1.93777407e-01,  1.09205799e-01,\n",
       "       -8.41049897e-02, -1.60850759e-01,  7.51289714e-02,  1.33462347e-02,\n",
       "       -3.33611343e-02, -2.75321208e-01,  4.67665021e-01,  2.51480152e-01,\n",
       "        1.69447882e-01,  6.46792985e-01,  3.49330587e-01,  1.97128055e+00,\n",
       "       -2.25442834e-02,  9.24524047e-01, -1.59591446e-02,  2.44213887e-01,\n",
       "       -5.57298218e-02, -6.29301555e-02,  1.12389105e-01, -2.46023026e-01,\n",
       "       -2.98509845e-01, -2.12944802e-01,  2.69556916e-01,  3.84846182e-01,\n",
       "        1.69767108e-01, -2.62573700e-02,  1.44055521e-01,  2.94054535e-01,\n",
       "        2.32176676e-01,  1.51790655e-01,  3.66271451e-01,  8.80877102e-02,\n",
       "       -3.45754294e-02, -1.88658481e-01,  1.82714571e-01,  1.52508529e-01,\n",
       "        1.91522763e-01,  1.62169785e-01, -2.44816231e-01,  2.14837931e-01,\n",
       "        1.68998216e-01, -8.20133096e-02, -1.39146205e-01,  2.18403851e-01,\n",
       "       -5.02249578e-01,  5.18130647e-02,  1.99298532e-01,  1.46435815e-01,\n",
       "       -8.13211560e-02, -6.73793276e-01, -9.10000552e-01, -1.24674003e+00,\n",
       "        2.12560386e-01,  1.45423576e-01, -1.82117213e-01,  3.23104374e-01,\n",
       "       -3.44496074e-02,  3.66253396e-01,  6.38804159e-02, -2.52166558e-01,\n",
       "       -3.68005888e-02,  8.00307318e-02, -7.35693951e-02, -4.96158771e-02,\n",
       "        7.20588000e-02,  1.40813518e-01, -9.34773577e-02,  3.07084536e-01,\n",
       "        4.28921080e-01,  1.83378450e-01,  1.28367670e-01, -2.16837340e-01,\n",
       "        2.45860034e-01, -1.44780772e-01, -5.78378164e-02,  3.17895705e-01,\n",
       "       -1.60419778e-01,  1.02105430e-01,  4.56238288e-01,  1.70804276e-01,\n",
       "        1.39867833e-01,  5.64967318e-02,  2.65071012e-01, -3.47279255e-01,\n",
       "        8.79072578e-02, -5.05022781e-01,  9.85221675e-02, -3.35433071e-01,\n",
       "       -2.58346896e-01,  5.30705680e-01,  1.62310802e-01, -4.97156297e-01,\n",
       "       -6.64078867e-01, -3.26300626e-02,  3.24018788e-01, -1.23792822e-01,\n",
       "        5.29155179e-01, -4.50496732e-02, -2.98885111e-01,  2.64885956e-01,\n",
       "        3.94697293e-01, -8.66653536e-02, -2.91763593e-02,  3.00525328e-01,\n",
       "       -5.97676924e-01, -4.12977951e-01, -2.33561334e-01, -5.18382265e-01,\n",
       "        2.46534115e-01,  4.87064836e-02, -1.44452159e-01,  1.43861893e-01,\n",
       "       -7.18276137e-02, -2.67550515e-01,  1.32132132e-01, -1.91938580e-01,\n",
       "        8.81410256e-02, -2.48178689e-01,  1.16372392e-01,  3.45504830e-01,\n",
       "       -2.84399565e-01,  1.68242269e-01, -4.23898264e-01, -1.34136546e-01,\n",
       "        6.65953528e-01,  1.90954051e-01, -1.18819777e-01,  8.75042914e-01,\n",
       "        1.15871370e+00,  5.12475452e-01,  1.24546573e-01,  5.62872203e-01,\n",
       "       -5.17974488e-01, -1.39881878e-02, -6.18675289e-01, -5.55268797e-01,\n",
       "        3.69624713e-01,  2.64052779e-01, -5.07959332e-02, -1.92340772e-01,\n",
       "        3.05518127e-01,  3.26455382e-01, -1.67367274e-01, -3.19700573e-01,\n",
       "        2.44846873e-01, -2.03670756e-01,  6.72468664e-02,  1.85195315e-01,\n",
       "       -3.11988144e-02, -7.02192401e-02,  6.79262961e-02, -4.61117136e-01,\n",
       "        2.79049351e-01,  3.98649282e-02, -6.56337170e-02, -7.58410934e-02,\n",
       "        5.86845276e-02, -6.49061207e-02, -4.60115498e-01,  3.33317611e-01,\n",
       "        1.49651336e-01,  1.17351609e-02,  2.23724147e-01, -4.29278344e-02,\n",
       "        6.24673023e-02,  8.42782117e-02,  5.45787689e-02, -1.39957140e+00,\n",
       "        1.65969857e-01, -1.47547322e-01,  7.19072002e-02,  1.20812046e-01,\n",
       "        7.88668412e-03,  4.17961295e-02,  2.05740231e-01,  8.25991189e-02,\n",
       "        1.06897229e-01, -2.11210653e-01,  1.32974538e-01,  2.64024328e-01,\n",
       "        7.60205961e-02,  1.68371263e-01, -7.81805815e-03, -2.92418236e-01,\n",
       "       -3.29347187e-02,  8.78548512e-02, -2.35118931e-02, -1.73245012e-01,\n",
       "       -1.67263475e-01, -1.02256727e-01, -4.33067456e-02,  2.85160619e-01,\n",
       "        1.67310774e-01,  1.48210883e-01,  6.26419231e-03, -3.71130146e-01,\n",
       "       -3.34789853e-01,  3.46953902e-01,  9.27250153e-02, -7.51318930e-01,\n",
       "        1.89844881e-01, -6.47407606e-02,  1.35885666e-01, -7.88960860e-04,\n",
       "        6.46953009e-02, -1.32460774e-01, -2.70404699e+00,  1.39568474e-01,\n",
       "       -8.34623083e-02,  3.51158905e-01, -3.53970858e-01,  2.67637732e-02,\n",
       "       -3.64052086e-01, -6.55084022e-01, -4.89023591e-01,  4.44506639e-02,\n",
       "       -8.96846228e-02,  3.05530850e-01, -8.29235051e-02,  3.25395652e-01,\n",
       "        1.97388897e-01, -3.59668124e-02,  3.02557016e-02, -2.24805441e-01,\n",
       "       -3.02327677e-01, -6.57440584e-02,  2.61504556e-01,  2.49339742e-01,\n",
       "        1.52995271e-01,  2.50790357e-01,  1.42601043e-01, -3.21412588e-01,\n",
       "        1.30612245e-02,  2.64455255e-01, -3.09345490e-02,  2.53253204e-01,\n",
       "       -4.06130953e-01, -4.02893657e-01, -1.22831009e-02, -2.89916792e-01,\n",
       "        5.62628337e-01, -2.53195573e-02,  1.12741414e-01, -6.97719965e-01,\n",
       "       -1.22445290e-01,  3.02703681e+00, -1.68507471e-01,  5.83172008e-01,\n",
       "       -2.22690579e-01,  1.92897852e-01,  3.34932417e-01,  3.82181766e-01,\n",
       "        5.92417062e-02, -1.02624827e-01, -3.47702398e-02,  4.58494399e-02,\n",
       "       -2.23611122e-01,  1.06116760e-01, -2.34158690e-01, -1.89511077e-01,\n",
       "       -9.61271102e-02,  8.82675700e-02,  2.38350614e-02,  2.41471067e-01,\n",
       "        1.96515028e-01, -5.53591623e-03, -4.27080038e-02,  5.01637840e-01,\n",
       "        2.20437726e-01,  5.26315789e-02,  2.01779111e-01, -3.91775842e-02,\n",
       "        1.06604794e-01, -1.07274293e-01,  2.13211259e-01,  3.29305018e-01,\n",
       "        1.06029657e-01, -1.24608651e-02, -4.67340676e-01, -1.36165151e-01,\n",
       "        1.74748456e-01, -4.27113075e-01, -9.82017299e-02, -7.14038564e-01,\n",
       "        1.65932708e+00, -3.81765627e-02, -1.13794017e-01,  4.99391367e-02,\n",
       "        2.89346436e-01,  1.67974431e-01,  1.10242456e-01, -2.08609605e-01,\n",
       "        9.40317066e-02, -9.93781104e-02, -1.90405135e-01,  1.49500109e-01,\n",
       "       -4.36946043e-01, -1.85853285e-01,  9.62290721e-02,  2.94662467e-01,\n",
       "        1.58198254e-01,  1.10486061e-01,  3.10884856e-03, -5.29265013e-01,\n",
       "        5.23486577e-02,  2.81129202e-01, -1.67425924e-01, -5.49921997e-01,\n",
       "       -2.35303345e-03, -2.76095755e-01,  2.51691049e-02, -1.12446136e-01,\n",
       "        1.63742138e-01,  2.89224046e-01,  1.41060303e-02,  1.68464932e-01,\n",
       "        3.59048170e-01, -2.22140814e-01, -5.17139018e-01,  1.48409894e-01,\n",
       "        2.66585123e-02, -3.13545970e-03,  4.86011492e-02, -1.58268759e+00,\n",
       "       -4.83237933e-01,  2.55991808e-02,  7.51783486e-02,  7.90378007e-01,\n",
       "       -1.28450115e-01,  2.99308494e-01, -8.23214653e-02, -3.25596134e-01,\n",
       "       -1.19218878e-01,  3.28641113e-01, -3.20426389e-01,  8.19554735e-02,\n",
       "        5.40622193e-02, -1.66072039e-01,  1.42470551e-01, -6.75573642e-02,\n",
       "        2.67230821e-01, -1.82438328e-02,  7.93354860e-02,  1.82326968e-02,\n",
       "        1.62479195e-01,  4.03560831e-02,  2.04862924e-01,  9.07763350e-02,\n",
       "        1.45899054e-01,  9.52868449e-02, -4.87781851e-02,  6.37574384e-02,\n",
       "        8.10226155e-02,  2.39727104e-01,  4.70466468e-02, -1.52045959e-01,\n",
       "       -1.14600586e-01, -3.14334436e-03,  1.36739778e-01,  2.61334296e-01,\n",
       "       -7.82742102e-04,  1.37763688e-01,  3.08760191e-01, -1.59749388e-01,\n",
       "        1.01466582e-02, -1.03797587e-01,  6.57026117e-01, -2.26634172e-01,\n",
       "        1.57137301e-01, -6.44650180e-02, -2.64243913e-01, -7.79247091e-04,\n",
       "        7.63668100e-02,  6.65753041e-02, -5.33026227e-02, -9.03124343e-02,\n",
       "       -2.48583696e-01, -3.98412599e-01,  2.48631351e-01, -8.99737902e-02,\n",
       "        1.70712608e-01, -1.79802686e-02, -1.56378279e-02, -3.36265885e-01,\n",
       "       -1.66346267e-01,  1.31255256e-01,  7.84929356e-02, -2.83137255e-01,\n",
       "        2.65850762e-01,  4.39294932e-02,  2.36017345e-01, -2.98825039e-01,\n",
       "        1.07491448e-01,  1.37159159e-01, -1.59669390e-01, -1.77171527e-01,\n",
       "        1.36648499e-01, -2.90177871e-02,  2.31425187e-01,  1.03313871e-01,\n",
       "       -2.42380647e-01, -3.82481111e-01, -2.04563336e-01, -9.81551561e-02,\n",
       "       -5.44526913e-02, -7.44197431e-01,  2.72067715e-01,  1.33284674e-01,\n",
       "       -1.44199534e-01, -3.85616351e-01,  2.15060615e-01, -3.00438736e-01,\n",
       "        1.31539087e-01,  1.80728167e-01, -1.64507669e-01, -3.73339277e-01,\n",
       "        2.48493856e-01, -6.37628024e-01,  1.76472947e-02,  2.51830584e-01,\n",
       "       -1.31998944e-01, -1.73027011e-01,  9.95024876e-02, -1.68344770e-02,\n",
       "       -8.09794505e-02, -1.12339715e-01, -6.66763066e-02,  2.09004896e-02,\n",
       "        1.20554551e-01,  1.80614088e-01,  7.61217949e-02, -2.00168141e-01,\n",
       "        4.41253159e-02, -1.84442662e-01, -1.23724592e-01, -2.16384054e-01,\n",
       "        1.70096818e-01, -7.64538299e-02, -5.71828967e-01, -1.23933805e-01,\n",
       "        8.01054339e+00, -3.31138260e-01,  5.00241080e-01, -5.07496252e-01,\n",
       "        7.57216157e-01,  8.12843982e-01, -6.68323258e-01, -8.58760100e-02,\n",
       "        6.80124665e-02,  1.45641945e-01, -3.67677220e-01,  5.98838254e-03,\n",
       "       -2.68712575e-01,  3.08463611e-01, -2.02765391e-01,  5.32309699e-01,\n",
       "        3.24406560e-01, -9.21754902e-02, -4.91064121e-02, -1.08682706e-01,\n",
       "       -2.36232208e-01,  4.26523646e-01,  1.19008658e-02,  6.69344043e-03,\n",
       "        1.71786806e-01,  2.59836674e-02,  1.44728541e-01, -3.49811013e-01,\n",
       "       -1.36845706e-01,  5.55580380e-01,  2.21448674e-01, -1.74402708e-01,\n",
       "        2.34670536e-01, -1.31462334e-01,  1.53821124e-01,  2.28900539e-01,\n",
       "       -7.66170620e-02,  1.79155976e-01, -1.35267407e+00, -7.16944815e-01,\n",
       "        6.77787797e-01,  3.11982207e-01, -8.63095238e-02, -1.73512853e-01,\n",
       "       -5.89327942e-02, -4.25462037e-01, -2.18887273e-01, -1.57012997e-01,\n",
       "        5.47776164e-01, -3.74170277e-01, -1.51732530e-01,  3.53577528e-02,\n",
       "       -3.56460661e-01,  7.54716981e-04,  1.45659278e-01,  1.41679352e-01,\n",
       "       -2.40815159e-02, -1.37749341e-01,  2.48743094e-02,  2.51695554e-01,\n",
       "        1.94687072e-01,  1.12534042e-02, -1.11021094e-01, -2.28296786e-01,\n",
       "        1.10646113e-01, -7.81937250e-02,  3.20544173e-01, -4.05025314e-02,\n",
       "        5.92777123e-02, -2.88713911e-01, -2.25623284e-02, -3.46033776e-02,\n",
       "        1.88879441e-01,  2.95929097e-01,  2.17922027e-01, -1.63646553e-01,\n",
       "       -2.29031630e-01,  1.18529632e+00])"
      ]
     },
     "execution_count": 152,
     "metadata": {},
     "output_type": "execute_result"
    }
   ],
   "source": [
    "returns"
   ]
  },
  {
   "cell_type": "code",
   "execution_count": 153,
   "metadata": {},
   "outputs": [
    {
     "data": {
      "text/plain": [
       "array([-2.70404699e+00, -1.68859267e+00, -1.58268759e+00, -1.40150278e+00,\n",
       "       -1.39957140e+00, -1.35267407e+00, -1.24674003e+00, -1.22379812e+00,\n",
       "       -1.04711611e+00, -9.46891725e-01, -9.10000552e-01, -7.51318930e-01,\n",
       "       -7.44197431e-01, -7.40187182e-01, -7.16944815e-01, -7.14038564e-01,\n",
       "       -7.09278215e-01, -6.97719965e-01, -6.73793276e-01, -6.68323258e-01,\n",
       "       -6.64078867e-01, -6.59714064e-01, -6.55084022e-01, -6.37628024e-01,\n",
       "       -6.18675289e-01, -5.97676924e-01, -5.87222750e-01, -5.71828967e-01,\n",
       "       -5.57955364e-01, -5.56150824e-01, -5.55268797e-01, -5.49921997e-01,\n",
       "       -5.44106582e-01, -5.29265013e-01, -5.23508167e-01, -5.22385616e-01,\n",
       "       -5.20902661e-01, -5.18382265e-01, -5.17974488e-01, -5.17139018e-01,\n",
       "       -5.07496252e-01, -5.05022781e-01, -5.02249578e-01, -4.97156297e-01,\n",
       "       -4.96688742e-01, -4.89023591e-01, -4.86233897e-01, -4.83237933e-01,\n",
       "       -4.67340676e-01, -4.64062163e-01, -4.61581176e-01, -4.61117136e-01,\n",
       "       -4.60115498e-01, -4.41188712e-01, -4.38264939e-01, -4.36946043e-01,\n",
       "       -4.32478830e-01, -4.27113075e-01, -4.25462037e-01, -4.25359362e-01,\n",
       "       -4.23898264e-01, -4.23104732e-01, -4.19039146e-01, -4.12977951e-01,\n",
       "       -4.12939324e-01, -4.12556054e-01, -4.10252143e-01, -4.06130953e-01,\n",
       "       -4.02893657e-01, -3.98412599e-01, -3.85616351e-01, -3.83278686e-01,\n",
       "       -3.82481111e-01, -3.76160495e-01, -3.74170277e-01, -3.73339277e-01,\n",
       "       -3.72016461e-01, -3.71130146e-01, -3.67677220e-01, -3.66272985e-01,\n",
       "       -3.64052086e-01, -3.63023144e-01, -3.62456045e-01, -3.56460661e-01,\n",
       "       -3.53970858e-01, -3.52462637e-01, -3.49811013e-01, -3.47279255e-01,\n",
       "       -3.45239071e-01, -3.36352108e-01, -3.36265885e-01, -3.35871228e-01,\n",
       "       -3.35478741e-01, -3.35433071e-01, -3.35383398e-01, -3.34789853e-01,\n",
       "       -3.31138260e-01, -3.30578512e-01, -3.29956006e-01, -3.28383900e-01,\n",
       "       -3.25596134e-01, -3.21412588e-01, -3.20426389e-01, -3.19700573e-01,\n",
       "       -3.19272126e-01, -3.13283208e-01, -3.12603648e-01, -3.02327677e-01,\n",
       "       -3.00438736e-01, -2.99818841e-01, -2.98885111e-01, -2.98825039e-01,\n",
       "       -2.98509845e-01, -2.96049896e-01, -2.95027834e-01, -2.93435523e-01,\n",
       "       -2.92418236e-01, -2.89916792e-01, -2.88713911e-01, -2.86380226e-01,\n",
       "       -2.84399565e-01, -2.83137255e-01, -2.80542986e-01, -2.78775440e-01,\n",
       "       -2.76095755e-01, -2.75321208e-01, -2.74974012e-01, -2.74099653e-01,\n",
       "       -2.72878536e-01, -2.69844432e-01, -2.68712575e-01, -2.67550515e-01,\n",
       "       -2.64243913e-01, -2.64184397e-01, -2.63613768e-01, -2.61525880e-01,\n",
       "       -2.60230542e-01, -2.58346896e-01, -2.56399687e-01, -2.56260434e-01,\n",
       "       -2.55294406e-01, -2.52166558e-01, -2.48583696e-01, -2.48178689e-01,\n",
       "       -2.46023026e-01, -2.44816231e-01, -2.43144424e-01, -2.42380647e-01,\n",
       "       -2.42262884e-01, -2.40205417e-01, -2.36232208e-01, -2.34158690e-01,\n",
       "       -2.33669125e-01, -2.33561334e-01, -2.30103107e-01, -2.29733342e-01,\n",
       "       -2.29031630e-01, -2.28358661e-01, -2.28296786e-01, -2.26634172e-01,\n",
       "       -2.24805441e-01, -2.23611122e-01, -2.22791486e-01, -2.22690579e-01,\n",
       "       -2.22140814e-01, -2.21070411e-01, -2.18887273e-01, -2.16837340e-01,\n",
       "       -2.16434730e-01, -2.16384054e-01, -2.12944802e-01, -2.11210653e-01,\n",
       "       -2.08609605e-01, -2.07448138e-01, -2.04563336e-01, -2.04125307e-01,\n",
       "       -2.03670756e-01, -2.02765391e-01, -2.00168141e-01, -1.95585860e-01,\n",
       "       -1.95045138e-01, -1.92340772e-01, -1.91938580e-01, -1.90405135e-01,\n",
       "       -1.89511077e-01, -1.88658481e-01, -1.88180288e-01, -1.85853285e-01,\n",
       "       -1.85426213e-01, -1.84879335e-01, -1.84442662e-01, -1.82117213e-01,\n",
       "       -1.80577515e-01, -1.77171527e-01, -1.76570763e-01, -1.76506610e-01,\n",
       "       -1.75946269e-01, -1.75732815e-01, -1.74476570e-01, -1.74402708e-01,\n",
       "       -1.73512853e-01, -1.73245012e-01, -1.73027011e-01, -1.72118615e-01,\n",
       "       -1.71396084e-01, -1.70877354e-01, -1.70174653e-01, -1.68507471e-01,\n",
       "       -1.67648089e-01, -1.67425924e-01, -1.67367274e-01, -1.67263475e-01,\n",
       "       -1.66346267e-01, -1.66072039e-01, -1.64507669e-01, -1.63646553e-01,\n",
       "       -1.62516948e-01, -1.61899622e-01, -1.60850759e-01, -1.60419778e-01,\n",
       "       -1.59749388e-01, -1.59669390e-01, -1.59574468e-01, -1.57701545e-01,\n",
       "       -1.57012997e-01, -1.55918724e-01, -1.54326591e-01, -1.52045959e-01,\n",
       "       -1.51732530e-01, -1.48434764e-01, -1.47547322e-01, -1.46149726e-01,\n",
       "       -1.44780772e-01, -1.44452159e-01, -1.44199534e-01, -1.41313383e-01,\n",
       "       -1.39146205e-01, -1.37749341e-01, -1.36845706e-01, -1.36165151e-01,\n",
       "       -1.34781861e-01, -1.34154997e-01, -1.34136546e-01, -1.32460774e-01,\n",
       "       -1.31998944e-01, -1.31462334e-01, -1.28450115e-01, -1.27175368e-01,\n",
       "       -1.24081575e-01, -1.23933805e-01, -1.23792822e-01, -1.23724592e-01,\n",
       "       -1.23434138e-01, -1.22445290e-01, -1.20014002e-01, -1.19218878e-01,\n",
       "       -1.18819777e-01, -1.14600586e-01, -1.13794017e-01, -1.12931058e-01,\n",
       "       -1.12923017e-01, -1.12446136e-01, -1.12339715e-01, -1.11021094e-01,\n",
       "       -1.08682706e-01, -1.07274293e-01, -1.07011780e-01, -1.06063137e-01,\n",
       "       -1.05503182e-01, -1.03797587e-01, -1.02680502e-01, -1.02624827e-01,\n",
       "       -1.02256727e-01, -1.02099823e-01, -9.93781104e-02, -9.92227551e-02,\n",
       "       -9.91912783e-02, -9.82017299e-02, -9.81551561e-02, -9.66521688e-02,\n",
       "       -9.61271102e-02, -9.44287063e-02, -9.34773577e-02, -9.21754902e-02,\n",
       "       -9.03652261e-02, -9.03124343e-02, -8.99737902e-02, -8.96846228e-02,\n",
       "       -8.66653536e-02, -8.63095238e-02, -8.58760100e-02, -8.46084608e-02,\n",
       "       -8.41049897e-02, -8.34623083e-02, -8.29235051e-02, -8.24402308e-02,\n",
       "       -8.23214653e-02, -8.20133096e-02, -8.13211560e-02, -8.09794505e-02,\n",
       "       -7.81937250e-02, -7.66170620e-02, -7.64538299e-02, -7.58410934e-02,\n",
       "       -7.35693951e-02, -7.18276137e-02, -7.02192401e-02, -6.75573642e-02,\n",
       "       -6.72727273e-02, -6.66763066e-02, -6.57440584e-02, -6.56337170e-02,\n",
       "       -6.49061207e-02, -6.47407606e-02, -6.44650180e-02, -6.34491280e-02,\n",
       "       -6.29301555e-02, -5.89327942e-02, -5.78378164e-02, -5.57298218e-02,\n",
       "       -5.44526913e-02, -5.33026227e-02, -5.12981748e-02, -5.07959332e-02,\n",
       "       -4.96158771e-02, -4.91064121e-02, -4.87781851e-02, -4.68810573e-02,\n",
       "       -4.68321402e-02, -4.50496732e-02, -4.42573943e-02, -4.41562026e-02,\n",
       "       -4.39170713e-02, -4.35753097e-02, -4.34140110e-02, -4.33067456e-02,\n",
       "       -4.30552681e-02, -4.30456449e-02, -4.29278344e-02, -4.27080038e-02,\n",
       "       -4.05420015e-02, -4.05025314e-02, -3.96253602e-02, -3.91775842e-02,\n",
       "       -3.81765627e-02, -3.68005888e-02, -3.59668124e-02, -3.47702398e-02,\n",
       "       -3.46033776e-02, -3.45754294e-02, -3.44496074e-02, -3.33611343e-02,\n",
       "       -3.29347187e-02, -3.26300626e-02, -3.15636639e-02, -3.14991959e-02,\n",
       "       -3.11988144e-02, -3.09817877e-02, -3.09345490e-02, -2.91763593e-02,\n",
       "       -2.90177871e-02, -2.62573700e-02, -2.53195573e-02, -2.40815159e-02,\n",
       "       -2.35118931e-02, -2.25623284e-02, -2.25442834e-02, -1.82438328e-02,\n",
       "       -1.79802686e-02, -1.68344770e-02, -1.65631470e-02, -1.59591446e-02,\n",
       "       -1.56378279e-02, -1.39881878e-02, -1.26756483e-02, -1.24608651e-02,\n",
       "       -1.22831009e-02, -8.06805856e-03, -7.81805815e-03, -5.53591623e-03,\n",
       "       -3.34927028e-03, -3.14334436e-03, -3.13545970e-03, -2.35303345e-03,\n",
       "       -7.88960860e-04, -7.82742102e-04, -7.79247091e-04,  0.00000000e+00,\n",
       "        7.54716981e-04,  3.10884856e-03,  4.97867468e-03,  5.98838254e-03,\n",
       "        6.26419231e-03,  6.31597943e-03,  6.69344043e-03,  7.88668412e-03,\n",
       "        9.88158567e-03,  1.01466582e-02,  1.12534042e-02,  1.17351609e-02,\n",
       "        1.19008658e-02,  1.30612245e-02,  1.33462347e-02,  1.41060303e-02,\n",
       "        1.43914659e-02,  1.47403246e-02,  1.61010430e-02,  1.76472947e-02,\n",
       "        1.82326968e-02,  1.97569890e-02,  2.09004896e-02,  2.30328260e-02,\n",
       "        2.31837978e-02,  2.38350614e-02,  2.48743094e-02,  2.51691049e-02,\n",
       "        2.55991808e-02,  2.57113473e-02,  2.59836674e-02,  2.66585123e-02,\n",
       "        2.67637732e-02,  2.70711701e-02,  3.02557016e-02,  3.20199235e-02,\n",
       "        3.40807175e-02,  3.48335581e-02,  3.53577528e-02,  3.71013863e-02,\n",
       "        3.72732544e-02,  3.98649282e-02,  4.03560831e-02,  4.17961295e-02,\n",
       "        4.39294932e-02,  4.41253159e-02,  4.44506639e-02,  4.54239875e-02,\n",
       "        4.58494399e-02,  4.70466468e-02,  4.86011492e-02,  4.87064836e-02,\n",
       "        4.98678502e-02,  4.99391367e-02,  5.07937681e-02,  5.18130647e-02,\n",
       "        5.20628851e-02,  5.23486577e-02,  5.26315789e-02,  5.40622193e-02,\n",
       "        5.41878903e-02,  5.45787689e-02,  5.64967318e-02,  5.83595952e-02,\n",
       "        5.86845276e-02,  5.92417062e-02,  5.92777123e-02,  6.24673023e-02,\n",
       "        6.37574384e-02,  6.38804159e-02,  6.45043913e-02,  6.46241031e-02,\n",
       "        6.46953009e-02,  6.58119658e-02,  6.59974296e-02,  6.65753041e-02,\n",
       "        6.72468664e-02,  6.79262961e-02,  6.80124665e-02,  7.02223708e-02,\n",
       "        7.10676616e-02,  7.19072002e-02,  7.20588000e-02,  7.37475775e-02,\n",
       "        7.51289714e-02,  7.51783486e-02,  7.60205961e-02,  7.61217949e-02,\n",
       "        7.63668100e-02,  7.65657261e-02,  7.84929356e-02,  7.93354860e-02,\n",
       "        8.00101831e-02,  8.00307318e-02,  8.10226155e-02,  8.19554735e-02,\n",
       "        8.25991189e-02,  8.32112299e-02,  8.42782117e-02,  8.76998861e-02,\n",
       "        8.78548512e-02,  8.79072578e-02,  8.80877102e-02,  8.81410256e-02,\n",
       "        8.82675700e-02,  9.07763350e-02,  9.15962503e-02,  9.27250153e-02,\n",
       "        9.27712939e-02,  9.35992512e-02,  9.40317066e-02,  9.45498195e-02,\n",
       "        9.46652369e-02,  9.52868449e-02,  9.54903339e-02,  9.62290721e-02,\n",
       "        9.85221675e-02,  9.88216771e-02,  9.95024876e-02,  1.00414209e-01,\n",
       "        1.02105430e-01,  1.03313871e-01,  1.06029657e-01,  1.06116760e-01,\n",
       "        1.06604794e-01,  1.06897229e-01,  1.07491448e-01,  1.09205799e-01,\n",
       "        1.10242456e-01,  1.10486061e-01,  1.10646113e-01,  1.12389105e-01,\n",
       "        1.12741414e-01,  1.16372392e-01,  1.18628917e-01,  1.19392185e-01,\n",
       "        1.20554551e-01,  1.20812046e-01,  1.21774427e-01,  1.22379049e-01,\n",
       "        1.23936352e-01,  1.24546573e-01,  1.25558393e-01,  1.27789857e-01,\n",
       "        1.28367670e-01,  1.31255256e-01,  1.31539087e-01,  1.32132132e-01,\n",
       "        1.32974538e-01,  1.33284674e-01,  1.34250435e-01,  1.35539430e-01,\n",
       "        1.35885666e-01,  1.36648499e-01,  1.36739778e-01,  1.36891971e-01,\n",
       "        1.37159159e-01,  1.37340374e-01,  1.37380826e-01,  1.37646823e-01,\n",
       "        1.37763688e-01,  1.39568474e-01,  1.39614037e-01,  1.39867833e-01,\n",
       "        1.40813518e-01,  1.41679352e-01,  1.42470551e-01,  1.42601043e-01,\n",
       "        1.43861893e-01,  1.44007156e-01,  1.44055521e-01,  1.44728541e-01,\n",
       "        1.45423576e-01,  1.45641945e-01,  1.45659278e-01,  1.45899054e-01,\n",
       "        1.46435815e-01,  1.46996880e-01,  1.48210883e-01,  1.48409894e-01,\n",
       "        1.49500109e-01,  1.49584156e-01,  1.49651336e-01,  1.51790655e-01,\n",
       "        1.52319492e-01,  1.52508529e-01,  1.52819978e-01,  1.52995271e-01,\n",
       "        1.53821124e-01,  1.54506438e-01,  1.57137301e-01,  1.57872421e-01,\n",
       "        1.58198254e-01,  1.59650753e-01,  1.59698997e-01,  1.62169785e-01,\n",
       "        1.62310802e-01,  1.62479195e-01,  1.62663775e-01,  1.63742138e-01,\n",
       "        1.65432099e-01,  1.65969857e-01,  1.67310774e-01,  1.67974431e-01,\n",
       "        1.68242269e-01,  1.68371263e-01,  1.68464932e-01,  1.68998216e-01,\n",
       "        1.69447882e-01,  1.69767108e-01,  1.70096818e-01,  1.70712608e-01,\n",
       "        1.70804276e-01,  1.71786806e-01,  1.72597468e-01,  1.73108206e-01,\n",
       "        1.74748456e-01,  1.79155976e-01,  1.80163618e-01,  1.80614088e-01,\n",
       "        1.80728167e-01,  1.80899352e-01,  1.82714571e-01,  1.83378450e-01,\n",
       "        1.84428272e-01,  1.85195315e-01,  1.85587168e-01,  1.87980918e-01,\n",
       "        1.88879441e-01,  1.89844881e-01,  1.90954051e-01,  1.91522763e-01,\n",
       "        1.92897852e-01,  1.93777407e-01,  1.94687072e-01,  1.96515028e-01,\n",
       "        1.97388897e-01,  1.98307335e-01,  1.99267691e-01,  1.99298532e-01,\n",
       "        2.01779111e-01,  2.03096126e-01,  2.04862924e-01,  2.05740231e-01,\n",
       "        2.09231665e-01,  2.12560386e-01,  2.13211259e-01,  2.14211451e-01,\n",
       "        2.14837931e-01,  2.15060615e-01,  2.16027073e-01,  2.17429577e-01,\n",
       "        2.17753620e-01,  2.17922027e-01,  2.18403851e-01,  2.20437726e-01,\n",
       "        2.21448674e-01,  2.23724147e-01,  2.24365962e-01,  2.25541734e-01,\n",
       "        2.28900539e-01,  2.31425187e-01,  2.32176676e-01,  2.34670536e-01,\n",
       "        2.35476682e-01,  2.35884070e-01,  2.36017345e-01,  2.36394895e-01,\n",
       "        2.39727104e-01,  2.41471067e-01,  2.44213887e-01,  2.44846873e-01,\n",
       "        2.45526425e-01,  2.45860034e-01,  2.46534115e-01,  2.47524752e-01,\n",
       "        2.47738134e-01,  2.48479136e-01,  2.48493856e-01,  2.48631351e-01,\n",
       "        2.48756219e-01,  2.49339742e-01,  2.49357326e-01,  2.49631432e-01,\n",
       "        2.50790357e-01,  2.51480152e-01,  2.51695554e-01,  2.51830584e-01,\n",
       "        2.53253204e-01,  2.58512379e-01,  2.61334296e-01,  2.61504556e-01,\n",
       "        2.61586011e-01,  2.63631418e-01,  2.64024328e-01,  2.64052779e-01,\n",
       "        2.64455255e-01,  2.64885956e-01,  2.65071012e-01,  2.65850762e-01,\n",
       "        2.67230821e-01,  2.69556916e-01,  2.72067715e-01,  2.73693697e-01,\n",
       "        2.74229381e-01,  2.74419577e-01,  2.75151559e-01,  2.79049351e-01,\n",
       "        2.81129202e-01,  2.85160619e-01,  2.87841466e-01,  2.88323321e-01,\n",
       "        2.89224046e-01,  2.89346436e-01,  2.89400799e-01,  2.89521330e-01,\n",
       "        2.92534818e-01,  2.94054535e-01,  2.94662467e-01,  2.95929097e-01,\n",
       "        2.96033644e-01,  2.99308494e-01,  3.00525328e-01,  3.01327102e-01,\n",
       "        3.05518127e-01,  3.05530850e-01,  3.07084536e-01,  3.08371148e-01,\n",
       "        3.08463611e-01,  3.08760191e-01,  3.10241262e-01,  3.11982207e-01,\n",
       "        3.17895705e-01,  3.20544173e-01,  3.23104374e-01,  3.24018788e-01,\n",
       "        3.24406560e-01,  3.24518401e-01,  3.25395652e-01,  3.26455382e-01,\n",
       "        3.27137297e-01,  3.28641113e-01,  3.29305018e-01,  3.32608098e-01,\n",
       "        3.33317611e-01,  3.34932417e-01,  3.35783646e-01,  3.39738650e-01,\n",
       "        3.45504830e-01,  3.45559260e-01,  3.46953902e-01,  3.49330587e-01,\n",
       "        3.51158905e-01,  3.53252870e-01,  3.56542765e-01,  3.59008403e-01,\n",
       "        3.59048170e-01,  3.60714286e-01,  3.66253396e-01,  3.66271451e-01,\n",
       "        3.67218466e-01,  3.69624713e-01,  3.73156036e-01,  3.82181766e-01,\n",
       "        3.84846182e-01,  3.85203406e-01,  3.87537476e-01,  3.88068925e-01,\n",
       "        3.89492754e-01,  3.94697293e-01,  4.00998336e-01,  4.10365056e-01,\n",
       "        4.15581247e-01,  4.16871629e-01,  4.26523646e-01,  4.28921080e-01,\n",
       "        4.33026455e-01,  4.40517545e-01,  4.42602569e-01,  4.56238288e-01,\n",
       "        4.65770424e-01,  4.67665021e-01,  4.69921652e-01,  5.00241080e-01,\n",
       "        5.01637840e-01,  5.10166427e-01,  5.12475452e-01,  5.29155179e-01,\n",
       "        5.30705680e-01,  5.32309699e-01,  5.47776164e-01,  5.51986246e-01,\n",
       "        5.55580380e-01,  5.57766125e-01,  5.62376901e-01,  5.62628337e-01,\n",
       "        5.62872203e-01,  5.70605754e-01,  5.82080556e-01,  5.83172008e-01,\n",
       "        6.22756930e-01,  6.37725446e-01,  6.46792985e-01,  6.57026117e-01,\n",
       "        6.65953528e-01,  6.77787797e-01,  6.83947869e-01,  7.53010775e-01,\n",
       "        7.57216157e-01,  7.70085086e-01,  7.76922884e-01,  7.84366456e-01,\n",
       "        7.90378007e-01,  8.12843982e-01,  8.18850876e-01,  8.22441294e-01,\n",
       "        8.43740863e-01,  8.75042914e-01,  9.24524047e-01,  9.68370955e-01,\n",
       "        1.01925255e+00,  1.15871370e+00,  1.18529632e+00,  1.32719485e+00,\n",
       "        1.65932708e+00,  1.92079058e+00,  1.97128055e+00,  3.02703681e+00,\n",
       "        3.71078806e+00,  8.01054339e+00])"
      ]
     },
     "execution_count": 153,
     "metadata": {},
     "output_type": "execute_result"
    }
   ],
   "source": [
    "\n",
    "(np.sort(returns))"
   ]
  },
  {
   "cell_type": "code",
   "execution_count": 133,
   "metadata": {},
   "outputs": [
    {
     "data": {
      "text/plain": [
       "[164, 164, 164, 163, 163]"
      ]
     },
     "execution_count": 133,
     "metadata": {},
     "output_type": "execute_result"
    }
   ],
   "source": [
    "[len(np.array_split(returns,5)[i]) for i in np.arange(5)]"
   ]
  },
  {
   "cell_type": "code",
   "execution_count": 164,
   "metadata": {},
   "outputs": [
    {
     "data": {
      "text/plain": [
       "[-2.7040469912049447,\n",
       " -0.2221408138927794,\n",
       " -0.046832140228803,\n",
       " 0.08826757001765273,\n",
       " 0.2363948951927597]"
      ]
     },
     "execution_count": 164,
     "metadata": {},
     "output_type": "execute_result"
    }
   ],
   "source": [
    "[np.array_split(np.sort(returns),classes)[i].min() for i in np.arange(classes)]"
   ]
  },
  {
   "cell_type": "code",
   "execution_count": 160,
   "metadata": {},
   "outputs": [
    {
     "data": {
      "text/plain": [
       "[-0.22269057939316994,\n",
       " -0.04688105734815817,\n",
       " 0.08814102564100867,\n",
       " 0.2360173445304259,\n",
       " 8.010543390105429]"
      ]
     },
     "execution_count": 160,
     "metadata": {},
     "output_type": "execute_result"
    }
   ],
   "source": [
    "[np.array_split(np.sort(returns),classes)[i].max() for i in np.arange(classes)]"
   ]
  },
  {
   "cell_type": "code",
   "execution_count": 161,
   "metadata": {},
   "outputs": [
    {
     "name": "stdout",
     "output_type": "stream",
     "text": [
      "[-0.2221408138927794, -0.046832140228803, 0.08826757001765273]\n"
     ]
    }
   ],
   "source": [
    "classes = 5\n",
    "labels = np.zeros(returns.shape[0])#-featureWindow\n",
    "thresholdsMin = [np.array_split(np.sort(returns),classes)[i].min() for i in np.arange(classes)]\n",
    "thresholdsMax = [np.array_split(np.sort(returns),classes)[i].max() for i in np.arange(classes)]\n",
    "print(thresholds)\n"
   ]
  },
  {
   "cell_type": "code",
   "execution_count": 171,
   "metadata": {},
   "outputs": [],
   "source": [
    "for i in np.arange(classes):\n",
    "    \n",
    "    if i == 0:\n",
    "        \n",
    "        labels[(returns <= thresholdsMax[i])] = i\n",
    "    \n",
    "    elif i == (classes-1):\n",
    "        \n",
    "        labels[(returns >= thresholdsMin[i])] = i\n",
    "    \n",
    "    else:\n",
    "        \n",
    "        labels[(returns >= thresholdsMin[i])&(returns<=thresholdsMax[i])] = i"
   ]
  },
  {
   "cell_type": "code",
   "execution_count": 172,
   "metadata": {},
   "outputs": [
    {
     "data": {
      "text/plain": [
       "array([0., 0., 4., 2., 1., 4., 0., 3., 3., 1., 0., 1., 1., 2., 1., 1., 1.,\n",
       "       0., 1., 4., 3., 1., 3., 3., 0., 4., 2., 0., 2., 3., 1., 0., 2., 1.,\n",
       "       0., 0., 4., 1., 2., 0., 4., 4., 2., 0., 4., 0., 4., 1., 3., 1., 4.,\n",
       "       4., 3., 2., 4., 0., 3., 4., 2., 0., 0., 0., 2., 2., 3., 0., 0., 4.,\n",
       "       3., 0., 4., 2., 3., 1., 1., 3., 4., 1., 1., 1., 2., 0., 2., 0., 3.,\n",
       "       2., 2., 0., 1., 4., 0., 3., 1., 1., 1., 3., 1., 2., 2., 0., 0., 0.,\n",
       "       0., 1., 0., 2., 4., 1., 0., 3., 0., 4., 2., 0., 4., 4., 4., 0., 3.,\n",
       "       4., 4., 1., 4., 0., 3., 3., 2., 4., 0., 3., 1., 2., 4., 4., 2., 3.,\n",
       "       3., 2., 4., 2., 3., 2., 4., 0., 0., 2., 4., 3., 2., 3., 0., 4., 1.,\n",
       "       4., 4., 4., 4., 2., 0., 1., 0., 3., 0., 4., 4., 1., 3., 4., 1., 1.,\n",
       "       4., 3., 1., 0., 4., 2., 1., 0., 4., 1., 4., 1., 0., 1., 3., 1., 1.,\n",
       "       1., 4., 0., 0., 4., 4., 0., 4., 0., 0., 0., 4., 1., 3., 4., 4., 0.,\n",
       "       3., 4., 4., 2., 1., 3., 3., 0., 4., 2., 2., 2., 2., 2., 0., 2., 0.,\n",
       "       4., 3., 4., 3., 1., 4., 3., 1., 2., 0., 3., 1., 4., 1., 4., 0., 0.,\n",
       "       4., 3., 3., 2., 0., 0., 3., 3., 4., 0., 4., 3., 0., 4., 4., 3., 3.,\n",
       "       2., 2., 0., 1., 3., 0., 3., 3., 3., 0., 2., 4., 0., 2., 3., 0., 4.,\n",
       "       4., 0., 0., 2., 0., 2., 0., 2., 2., 0., 4., 4., 1., 4., 1., 2., 1.,\n",
       "       1., 2., 3., 0., 2., 1., 3., 4., 2., 3., 3., 1., 1., 2., 2., 2., 0.,\n",
       "       4., 4., 3., 4., 4., 4., 2., 4., 2., 4., 1., 1., 3., 0., 0., 1., 4.,\n",
       "       4., 3., 2., 3., 4., 3., 3., 4., 2., 2., 1., 3., 3., 3., 3., 0., 3.,\n",
       "       3., 1., 1., 3., 0., 2., 3., 3., 1., 0., 0., 0., 3., 3., 1., 4., 2.,\n",
       "       4., 2., 0., 2., 2., 1., 1., 2., 3., 1., 4., 4., 3., 3., 1., 4., 1.,\n",
       "       1., 4., 1., 3., 4., 3., 3., 2., 4., 0., 2., 0., 3., 0., 0., 4., 3.,\n",
       "       0., 0., 2., 4., 1., 4., 2., 0., 4., 4., 1., 2., 4., 0., 0., 0., 0.,\n",
       "       4., 2., 1., 3., 1., 0., 3., 1., 2., 0., 3., 4., 0., 3., 0., 1., 4.,\n",
       "       3., 1., 4., 4., 4., 3., 4., 0., 2., 0., 0., 4., 4., 1., 1., 4., 4.,\n",
       "       1., 0., 4., 1., 2., 3., 2., 1., 2., 0., 4., 2., 1., 1., 2., 1., 0.,\n",
       "       4., 3., 2., 3., 2., 2., 2., 2., 0., 3., 1., 2., 3., 2., 2., 3., 2.,\n",
       "       3., 1., 3., 4., 2., 3., 2., 0., 2., 2., 2., 1., 1., 1., 2., 4., 3.,\n",
       "       3., 2., 0., 0., 4., 3., 0., 3., 1., 3., 2., 2., 1., 0., 3., 1., 4.,\n",
       "       0., 2., 0., 0., 0., 2., 1., 4., 1., 4., 3., 2., 2., 0., 0., 1., 4.,\n",
       "       4., 3., 4., 3., 0., 2., 4., 2., 4., 0., 0., 2., 0., 4., 2., 3., 0.,\n",
       "       1., 4., 1., 4., 0., 3., 4., 4., 2., 1., 2., 2., 0., 3., 0., 1., 1.,\n",
       "       3., 2., 4., 3., 2., 2., 4., 3., 2., 3., 2., 3., 1., 3., 4., 3., 2.,\n",
       "       0., 1., 3., 0., 1., 0., 4., 2., 1., 2., 4., 3., 3., 1., 3., 1., 1.,\n",
       "       3., 0., 1., 3., 4., 3., 3., 2., 0., 2., 4., 1., 0., 2., 0., 2., 1.,\n",
       "       3., 4., 2., 3., 4., 1., 0., 3., 2., 2., 2., 0., 0., 2., 2., 4., 1.,\n",
       "       4., 1., 0., 1., 4., 0., 2., 2., 1., 3., 1., 4., 2., 2., 2., 3., 2.,\n",
       "       3., 3., 3., 3., 1., 2., 2., 4., 2., 1., 1., 2., 3., 4., 2., 3., 4.,\n",
       "       1., 2., 1., 4., 0., 3., 1., 0., 2., 2., 2., 1., 1., 0., 0., 4., 1.,\n",
       "       3., 2., 2., 0., 1., 3., 2., 0., 4., 2., 3., 0., 3., 3., 1., 1., 3.,\n",
       "       2., 3., 3., 0., 0., 1., 1., 1., 0., 4., 3., 1., 0., 3., 0., 3., 3.,\n",
       "       1., 0., 4., 0., 2., 4., 1., 1., 3., 2., 1., 1., 1., 2., 3., 3., 2.,\n",
       "       1., 2., 1., 1., 1., 3., 1., 0., 1., 4., 0., 4., 0., 4., 4., 0., 1.,\n",
       "       2., 3., 0., 2., 0., 4., 1., 4., 4., 1., 1., 1., 0., 4., 2., 2., 3.,\n",
       "       2., 3., 0., 1., 4., 3., 1., 3., 1., 3., 3., 1., 3., 0., 0., 4., 4.,\n",
       "       1., 1., 1., 0., 1., 1., 4., 0., 1., 2., 0., 2., 3., 3., 2., 1., 2.,\n",
       "       4., 3., 2., 1., 0., 3., 1., 4., 2., 2., 0., 2., 2., 3., 4., 3., 1.,\n",
       "       0., 4.])"
      ]
     },
     "execution_count": 172,
     "metadata": {},
     "output_type": "execute_result"
    }
   ],
   "source": [
    "labels"
   ]
  },
  {
   "cell_type": "code",
   "execution_count": 173,
   "metadata": {},
   "outputs": [
    {
     "data": {
      "text/plain": [
       "(array([0., 1., 2., 3., 4.]), array([164, 164, 164, 163, 163], dtype=int64))"
      ]
     },
     "execution_count": 173,
     "metadata": {},
     "output_type": "execute_result"
    }
   ],
   "source": [
    "np.unique(labels,return_counts=True)"
   ]
  },
  {
   "cell_type": "code",
   "execution_count": 195,
   "metadata": {},
   "outputs": [
    {
     "data": {
      "text/plain": [
       "(815, 20)"
      ]
     },
     "execution_count": 195,
     "metadata": {},
     "output_type": "execute_result"
    }
   ],
   "source": [
    "npFeatures.shape"
   ]
  },
  {
   "cell_type": "code",
   "execution_count": 176,
   "metadata": {},
   "outputs": [
    {
     "data": {
      "text/plain": [
       "(818,)"
      ]
     },
     "execution_count": 176,
     "metadata": {},
     "output_type": "execute_result"
    }
   ],
   "source": [
    "labels.shape"
   ]
  },
  {
   "cell_type": "code",
   "execution_count": 196,
   "metadata": {},
   "outputs": [
    {
     "data": {
      "text/plain": [
       "(813,)"
      ]
     },
     "execution_count": 196,
     "metadata": {},
     "output_type": "execute_result"
    }
   ],
   "source": [
    "labels[5:].shape"
   ]
  },
  {
   "cell_type": "code",
   "execution_count": 198,
   "metadata": {},
   "outputs": [
    {
     "data": {
      "text/plain": [
       "array([[1122.26 , 1128.7  , 1114.79 , 1124.52 , 1124.72 , 1127.85 ,\n",
       "        1118.26 , 1120.29 , 1120.13 , 1121.68 , 1115.18 , 1115.55 ,\n",
       "        1115.35 , 1126.   , 1114.3  , 1124.3  , 1124.33 , 1129.31 ,\n",
       "        1123.   , 1124.66 ],\n",
       "       [1124.72 , 1127.85 , 1118.26 , 1120.29 , 1120.13 , 1121.68 ,\n",
       "        1115.18 , 1115.55 , 1115.35 , 1126.   , 1114.3  , 1124.3  ,\n",
       "        1124.33 , 1129.31 , 1123.   , 1124.66 , 1124.81 , 1127.755,\n",
       "        1121.52 , 1123.39 ]])"
      ]
     },
     "execution_count": 198,
     "metadata": {},
     "output_type": "execute_result"
    }
   ],
   "source": [
    "npFeatures[0:2]"
   ]
  },
  {
   "cell_type": "code",
   "execution_count": 199,
   "metadata": {},
   "outputs": [
    {
     "data": {
      "text/plain": [
       "(813, 20)"
      ]
     },
     "execution_count": 199,
     "metadata": {},
     "output_type": "execute_result"
    }
   ],
   "source": [
    "npFeatures[2:].shape"
   ]
  },
  {
   "cell_type": "code",
   "execution_count": 204,
   "metadata": {},
   "outputs": [
    {
     "data": {
      "text/plain": [
       "array([[1122.26 , 1128.7  , 1114.79 , 1124.52 ],\n",
       "       [1124.72 , 1127.85 , 1118.26 , 1120.29 ],\n",
       "       [1120.13 , 1121.68 , 1115.18 , 1115.55 ],\n",
       "       [1115.35 , 1126.   , 1114.3  , 1124.3  ],\n",
       "       [1124.33 , 1129.31 , 1123.   , 1124.66 ],\n",
       "       [1124.81 , 1127.755, 1121.52 , 1123.39 ],\n",
       "       [1122.58 , 1129.87 , 1121.17 , 1128.   ]])"
      ]
     },
     "execution_count": 204,
     "metadata": {},
     "output_type": "execute_result"
    }
   ],
   "source": [
    "candleNP[0:7]"
   ]
  },
  {
   "cell_type": "code",
   "execution_count": 206,
   "metadata": {},
   "outputs": [
    {
     "data": {
      "text/plain": [
       "1.0"
      ]
     },
     "execution_count": 206,
     "metadata": {},
     "output_type": "execute_result"
    }
   ],
   "source": [
    "labels[4]"
   ]
  },
  {
   "cell_type": "code",
   "execution_count": 208,
   "metadata": {},
   "outputs": [
    {
     "data": {
      "text/plain": [
       "array([-0.11292302,  0.41036506])"
      ]
     },
     "execution_count": 208,
     "metadata": {},
     "output_type": "execute_result"
    }
   ],
   "source": [
    "returns[4:6]"
   ]
  },
  {
   "cell_type": "code",
   "execution_count": 209,
   "metadata": {},
   "outputs": [
    {
     "data": {
      "text/plain": [
       "(814,)"
      ]
     },
     "execution_count": 209,
     "metadata": {},
     "output_type": "execute_result"
    }
   ],
   "source": [
    "returns[4:].shape"
   ]
  },
  {
   "cell_type": "code",
   "execution_count": 210,
   "metadata": {},
   "outputs": [
    {
     "data": {
      "text/plain": [
       "array([-0.3761605 , -0.42310473,  0.78436646,  0.03201992])"
      ]
     },
     "execution_count": 210,
     "metadata": {},
     "output_type": "execute_result"
    }
   ],
   "source": [
    "returns[0:4]"
   ]
  },
  {
   "cell_type": "code",
   "execution_count": 212,
   "metadata": {},
   "outputs": [
    {
     "data": {
      "text/plain": [
       "(818,)"
      ]
     },
     "execution_count": 212,
     "metadata": {},
     "output_type": "execute_result"
    }
   ],
   "source": [
    "labels.shape"
   ]
  },
  {
   "cell_type": "code",
   "execution_count": null,
   "metadata": {},
   "outputs": [],
   "source": []
  }
 ],
 "metadata": {
  "kernelspec": {
   "display_name": "Python 3",
   "language": "python",
   "name": "python3"
  },
  "language_info": {
   "codemirror_mode": {
    "name": "ipython",
    "version": 3
   },
   "file_extension": ".py",
   "mimetype": "text/x-python",
   "name": "python",
   "nbconvert_exporter": "python",
   "pygments_lexer": "ipython3",
   "version": "3.7.6"
  }
 },
 "nbformat": 4,
 "nbformat_minor": 4
}
